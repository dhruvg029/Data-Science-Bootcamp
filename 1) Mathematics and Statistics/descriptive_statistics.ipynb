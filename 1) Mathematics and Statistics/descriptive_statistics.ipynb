{
 "cells": [
  {
   "cell_type": "markdown",
   "metadata": {},
   "source": [
    "# Descriptive Statistics"
   ]
  },
  {
   "cell_type": "markdown",
   "metadata": {},
   "source": [
    "- **Statistics**: It is defined as a way to get information from data. It is the science that deals with the collection, classification, analysis, and interpretation of numerical facts or data, and that, by use of mathematical theories of probability, imposes order and regularity on aggregates of more or less disparate elements.\n",
    "\n",
    "- **Descriptive Statistics**: It deals with methods of organizing, summarizing, and presenting data in a convenient and informative way.\n",
    "\n",
    "- **Measures of Central Tendency:**\n",
    "    - **Mean:** $\\mu=\\frac{\\sum\\limits _{i=1} ^{N}x_{i}}{N}$\n",
    "    - **Median:** The median is calculated by placing all the observations in ascending or descending order.\n",
    "        - If n is odd, then the observation that falls in the middle is the median. $(\\frac{n+1}{2})^{th}$ item.\n",
    "        - If n is even, then the median is determined by averaging the two observations in the middle, $\\frac{(\\frac{n}{2}) ^{th} +(\\frac{n}{2}+1) ^{th} }{2}$ item.\n",
    "    - **Mode:** Observations that has the highest frequency."
   ]
  },
  {
   "cell_type": "markdown",
   "metadata": {},
   "source": [
    "## Calculating the measures of central tendency "
   ]
  },
  {
   "cell_type": "code",
   "execution_count": 1,
   "metadata": {},
   "outputs": [],
   "source": [
    "# Importing necessary libraries\n",
    "import pandas as pd\n",
    "import numpy as np\n",
    "\n",
    "import warnings\n",
    "warnings.filterwarnings('ignore')"
   ]
  },
  {
   "cell_type": "code",
   "execution_count": 2,
   "metadata": {},
   "outputs": [
    {
     "data": {
      "text/plain": [
       "0     2\n",
       "1     1\n",
       "2     0\n",
       "3     4\n",
       "4     3\n",
       "5    15\n",
       "dtype: int64"
      ]
     },
     "execution_count": 2,
     "metadata": {},
     "output_type": "execute_result"
    }
   ],
   "source": [
    "# Create a dataframe\n",
    "s1 = pd.Series([2,1,0,4,3,15])\n",
    "s1"
   ]
  },
  {
   "cell_type": "markdown",
   "metadata": {},
   "source": [
    "### Calculating Mean"
   ]
  },
  {
   "cell_type": "code",
   "execution_count": 3,
   "metadata": {},
   "outputs": [
    {
     "data": {
      "text/plain": [
       "4.17"
      ]
     },
     "execution_count": 3,
     "metadata": {},
     "output_type": "execute_result"
    }
   ],
   "source": [
    "# Compute arithmetic mean\n",
    "s1.mean().round(2)"
   ]
  },
  {
   "cell_type": "code",
   "execution_count": 4,
   "metadata": {},
   "outputs": [
    {
     "data": {
      "text/plain": [
       "2.5"
      ]
     },
     "execution_count": 4,
     "metadata": {},
     "output_type": "execute_result"
    }
   ],
   "source": [
    "import scipy\n",
    "from scipy import stats\n",
    "\n",
    "# Compute Trimmed Mean: Smallest 30% and largest 30% of values have been removed from the dataset.\n",
    "stats.trim_mean(s1, 0.3).round(2)"
   ]
  },
  {
   "cell_type": "code",
   "execution_count": 5,
   "metadata": {},
   "outputs": [],
   "source": [
    "# Compute Weighted Mean\n",
    "def weighted_average(df, value, weight):\n",
    "    val = df[value]\n",
    "    wt = df[weight]\n",
    "    return (val * wt).sum() / wt.sum()"
   ]
  },
  {
   "cell_type": "code",
   "execution_count": 6,
   "metadata": {},
   "outputs": [
    {
     "data": {
      "text/plain": [
       "0    2\n",
       "1    1\n",
       "2    3\n",
       "3    5\n",
       "4    0\n",
       "dtype: int64"
      ]
     },
     "execution_count": 6,
     "metadata": {},
     "output_type": "execute_result"
    }
   ],
   "source": [
    "s2 = pd.Series([2,1,3,5,0])\n",
    "s2"
   ]
  },
  {
   "cell_type": "code",
   "execution_count": 7,
   "metadata": {},
   "outputs": [
    {
     "data": {
      "text/plain": [
       "4    0\n",
       "1    1\n",
       "0    2\n",
       "2    3\n",
       "3    5\n",
       "dtype: int64"
      ]
     },
     "execution_count": 7,
     "metadata": {},
     "output_type": "execute_result"
    }
   ],
   "source": [
    "s2.sort_values()"
   ]
  },
  {
   "cell_type": "markdown",
   "metadata": {},
   "source": [
    "### Calculating Median"
   ]
  },
  {
   "cell_type": "code",
   "execution_count": 8,
   "metadata": {},
   "outputs": [
    {
     "data": {
      "text/plain": [
       "2.0"
      ]
     },
     "execution_count": 8,
     "metadata": {},
     "output_type": "execute_result"
    }
   ],
   "source": [
    "# Compute median\n",
    "s2.median()"
   ]
  },
  {
   "cell_type": "code",
   "execution_count": 9,
   "metadata": {},
   "outputs": [],
   "source": [
    "s3 = pd.Series([3,0,2,3,4,1])"
   ]
  },
  {
   "cell_type": "code",
   "execution_count": 10,
   "metadata": {},
   "outputs": [
    {
     "data": {
      "text/plain": [
       "0    1\n",
       "2    1\n",
       "4    1\n",
       "1    1\n",
       "3    2\n",
       "Name: count, dtype: int64"
      ]
     },
     "execution_count": 10,
     "metadata": {},
     "output_type": "execute_result"
    }
   ],
   "source": [
    "# Use value_counts() and then choose the top one - because value_counts() gives descending ordered list\n",
    "s3.value_counts(ascending = True)   "
   ]
  },
  {
   "cell_type": "markdown",
   "metadata": {},
   "source": [
    "### Calculating Mode"
   ]
  },
  {
   "cell_type": "code",
   "execution_count": 12,
   "metadata": {},
   "outputs": [
    {
     "data": {
      "text/plain": [
       "0    3\n",
       "dtype: int64"
      ]
     },
     "execution_count": 12,
     "metadata": {},
     "output_type": "execute_result"
    }
   ],
   "source": [
    "# Use the .mode() function\n",
    "s3.mode()"
   ]
  },
  {
   "cell_type": "code",
   "execution_count": 13,
   "metadata": {},
   "outputs": [
    {
     "data": {
      "text/plain": [
       "0    3\n",
       "1    5\n",
       "dtype: int64"
      ]
     },
     "execution_count": 13,
     "metadata": {},
     "output_type": "execute_result"
    }
   ],
   "source": [
    "s4 = pd.Series([3, 0, 2, 3, 4, 1, 5, 10, 5, 6])\n",
    "s4.mode()"
   ]
  },
  {
   "cell_type": "markdown",
   "metadata": {},
   "source": [
    "### Importing data and perform operations"
   ]
  },
  {
   "cell_type": "code",
   "execution_count": 15,
   "metadata": {},
   "outputs": [
    {
     "name": "stdout",
     "output_type": "stream",
     "text": [
      "Collecting openpyxl\n",
      "  Downloading openpyxl-3.1.3-py2.py3-none-any.whl.metadata (2.5 kB)\n",
      "Collecting et-xmlfile (from openpyxl)\n",
      "  Downloading et_xmlfile-1.1.0-py3-none-any.whl.metadata (1.8 kB)\n",
      "Downloading openpyxl-3.1.3-py2.py3-none-any.whl (251 kB)\n",
      "   ---------------------------------------- 0.0/251.3 kB ? eta -:--:--\n",
      "   - -------------------------------------- 10.2/251.3 kB ? eta -:--:--\n",
      "   ---------------------------------------  245.8/251.3 kB 5.0 MB/s eta 0:00:01\n",
      "   ---------------------------------------- 251.3/251.3 kB 3.9 MB/s eta 0:00:00\n",
      "Downloading et_xmlfile-1.1.0-py3-none-any.whl (4.7 kB)\n",
      "Installing collected packages: et-xmlfile, openpyxl\n",
      "Successfully installed et-xmlfile-1.1.0 openpyxl-3.1.3\n"
     ]
    }
   ],
   "source": [
    "!pip install openpyxl"
   ]
  },
  {
   "cell_type": "code",
   "execution_count": 16,
   "metadata": {},
   "outputs": [
    {
     "data": {
      "text/html": [
       "<div>\n",
       "<style scoped>\n",
       "    .dataframe tbody tr th:only-of-type {\n",
       "        vertical-align: middle;\n",
       "    }\n",
       "\n",
       "    .dataframe tbody tr th {\n",
       "        vertical-align: top;\n",
       "    }\n",
       "\n",
       "    .dataframe thead th {\n",
       "        text-align: right;\n",
       "    }\n",
       "</style>\n",
       "<table border=\"1\" class=\"dataframe\">\n",
       "  <thead>\n",
       "    <tr style=\"text-align: right;\">\n",
       "      <th></th>\n",
       "      <th>E.No</th>\n",
       "      <th>Department</th>\n",
       "      <th>Gender</th>\n",
       "      <th>Age</th>\n",
       "      <th>DistanceFromHome</th>\n",
       "      <th>Education</th>\n",
       "      <th>EnvironmentSatisfaction</th>\n",
       "      <th>JobInvolvement</th>\n",
       "      <th>JobLevel</th>\n",
       "      <th>JobSatisfaction</th>\n",
       "      <th>MonthlyIncome</th>\n",
       "      <th>NumCompaniesWorked</th>\n",
       "      <th>OverTime</th>\n",
       "      <th>Attrition</th>\n",
       "    </tr>\n",
       "  </thead>\n",
       "  <tbody>\n",
       "    <tr>\n",
       "      <th>0</th>\n",
       "      <td>1</td>\n",
       "      <td>Sales</td>\n",
       "      <td>Female</td>\n",
       "      <td>41</td>\n",
       "      <td>1</td>\n",
       "      <td>2</td>\n",
       "      <td>2</td>\n",
       "      <td>3</td>\n",
       "      <td>2</td>\n",
       "      <td>4</td>\n",
       "      <td>5993</td>\n",
       "      <td>8</td>\n",
       "      <td>Yes</td>\n",
       "      <td>Yes</td>\n",
       "    </tr>\n",
       "    <tr>\n",
       "      <th>1</th>\n",
       "      <td>2</td>\n",
       "      <td>Research &amp; Development</td>\n",
       "      <td>Male</td>\n",
       "      <td>49</td>\n",
       "      <td>8</td>\n",
       "      <td>1</td>\n",
       "      <td>3</td>\n",
       "      <td>2</td>\n",
       "      <td>2</td>\n",
       "      <td>2</td>\n",
       "      <td>5130</td>\n",
       "      <td>1</td>\n",
       "      <td>No</td>\n",
       "      <td>No</td>\n",
       "    </tr>\n",
       "    <tr>\n",
       "      <th>2</th>\n",
       "      <td>3</td>\n",
       "      <td>Research &amp; Development</td>\n",
       "      <td>Male</td>\n",
       "      <td>37</td>\n",
       "      <td>2</td>\n",
       "      <td>2</td>\n",
       "      <td>4</td>\n",
       "      <td>2</td>\n",
       "      <td>1</td>\n",
       "      <td>3</td>\n",
       "      <td>2090</td>\n",
       "      <td>6</td>\n",
       "      <td>Yes</td>\n",
       "      <td>Yes</td>\n",
       "    </tr>\n",
       "    <tr>\n",
       "      <th>3</th>\n",
       "      <td>4</td>\n",
       "      <td>Research &amp; Development</td>\n",
       "      <td>Female</td>\n",
       "      <td>33</td>\n",
       "      <td>3</td>\n",
       "      <td>4</td>\n",
       "      <td>4</td>\n",
       "      <td>3</td>\n",
       "      <td>1</td>\n",
       "      <td>3</td>\n",
       "      <td>2909</td>\n",
       "      <td>1</td>\n",
       "      <td>Yes</td>\n",
       "      <td>No</td>\n",
       "    </tr>\n",
       "    <tr>\n",
       "      <th>4</th>\n",
       "      <td>5</td>\n",
       "      <td>Research &amp; Development</td>\n",
       "      <td>Male</td>\n",
       "      <td>27</td>\n",
       "      <td>2</td>\n",
       "      <td>1</td>\n",
       "      <td>1</td>\n",
       "      <td>3</td>\n",
       "      <td>1</td>\n",
       "      <td>2</td>\n",
       "      <td>3468</td>\n",
       "      <td>9</td>\n",
       "      <td>No</td>\n",
       "      <td>No</td>\n",
       "    </tr>\n",
       "  </tbody>\n",
       "</table>\n",
       "</div>"
      ],
      "text/plain": [
       "   E.No              Department  Gender  Age  DistanceFromHome  Education  \\\n",
       "0     1                   Sales  Female   41                 1          2   \n",
       "1     2  Research & Development    Male   49                 8          1   \n",
       "2     3  Research & Development    Male   37                 2          2   \n",
       "3     4  Research & Development  Female   33                 3          4   \n",
       "4     5  Research & Development    Male   27                 2          1   \n",
       "\n",
       "   EnvironmentSatisfaction  JobInvolvement  JobLevel  JobSatisfaction  \\\n",
       "0                        2               3         2                4   \n",
       "1                        3               2         2                2   \n",
       "2                        4               2         1                3   \n",
       "3                        4               3         1                3   \n",
       "4                        1               3         1                2   \n",
       "\n",
       "   MonthlyIncome  NumCompaniesWorked OverTime Attrition  \n",
       "0           5993                   8      Yes       Yes  \n",
       "1           5130                   1       No        No  \n",
       "2           2090                   6      Yes       Yes  \n",
       "3           2909                   1      Yes        No  \n",
       "4           3468                   9       No        No  "
      ]
     },
     "execution_count": 16,
     "metadata": {},
     "output_type": "execute_result"
    }
   ],
   "source": [
    "# Importing and Reading data\n",
    "df = pd.read_excel('ABC attrition data.xlsx', sheet_name='Employee data class training')\n",
    "df.head()"
   ]
  },
  {
   "cell_type": "code",
   "execution_count": 17,
   "metadata": {},
   "outputs": [
    {
     "name": "stdout",
     "output_type": "stream",
     "text": [
      "Shape: (500, 14)\n"
     ]
    }
   ],
   "source": [
    "# Print the shape (Rows and Columns)\n",
    "print('Shape:', df.shape)"
   ]
  },
  {
   "cell_type": "code",
   "execution_count": 18,
   "metadata": {},
   "outputs": [
    {
     "name": "stdout",
     "output_type": "stream",
     "text": [
      "Index(['E.No', 'Department', 'Gender', 'Age', 'DistanceFromHome', 'Education',\n",
      "       'EnvironmentSatisfaction', 'JobInvolvement', 'JobLevel',\n",
      "       'JobSatisfaction', 'MonthlyIncome', 'NumCompaniesWorked', 'OverTime',\n",
      "       'Attrition'],\n",
      "      dtype='object')\n"
     ]
    }
   ],
   "source": [
    "# Column names\n",
    "print(df.columns)"
   ]
  },
  {
   "cell_type": "code",
   "execution_count": 19,
   "metadata": {},
   "outputs": [
    {
     "name": "stdout",
     "output_type": "stream",
     "text": [
      "Average Distance: 9.12\n"
     ]
    }
   ],
   "source": [
    "# Calculate average distance from home\n",
    "avg_distance = df['DistanceFromHome'].mean()\n",
    "print('Average Distance:', avg_distance)"
   ]
  },
  {
   "cell_type": "code",
   "execution_count": 20,
   "metadata": {},
   "outputs": [
    {
     "name": "stdout",
     "output_type": "stream",
     "text": [
      "Median Distance: 6.0\n"
     ]
    }
   ],
   "source": [
    "# Calculate median distance from home\n",
    "med_distance = df['DistanceFromHome'].median()\n",
    "print('Median Distance:', med_distance)"
   ]
  },
  {
   "cell_type": "code",
   "execution_count": 21,
   "metadata": {},
   "outputs": [
    {
     "data": {
      "text/plain": [
       "Department\n",
       "Research & Development    333\n",
       "Sales                     153\n",
       "Human Resources            14\n",
       "Name: count, dtype: int64"
      ]
     },
     "execution_count": 21,
     "metadata": {},
     "output_type": "execute_result"
    }
   ],
   "source": [
    "# Calculate the highest number of members in the department\n",
    "df['Department'].value_counts()"
   ]
  },
  {
   "cell_type": "code",
   "execution_count": 22,
   "metadata": {},
   "outputs": [
    {
     "data": {
      "text/plain": [
       "0    Research & Development\n",
       "Name: Department, dtype: object"
      ]
     },
     "execution_count": 22,
     "metadata": {},
     "output_type": "execute_result"
    }
   ],
   "source": [
    "df['Department'].mode()"
   ]
  },
  {
   "cell_type": "code",
   "execution_count": 28,
   "metadata": {},
   "outputs": [
    {
     "data": {
      "text/html": [
       "<div>\n",
       "<style scoped>\n",
       "    .dataframe tbody tr th:only-of-type {\n",
       "        vertical-align: middle;\n",
       "    }\n",
       "\n",
       "    .dataframe tbody tr th {\n",
       "        vertical-align: top;\n",
       "    }\n",
       "\n",
       "    .dataframe thead th {\n",
       "        text-align: right;\n",
       "    }\n",
       "</style>\n",
       "<table border=\"1\" class=\"dataframe\">\n",
       "  <thead>\n",
       "    <tr style=\"text-align: right;\">\n",
       "      <th></th>\n",
       "      <th>E.No</th>\n",
       "      <th>Age</th>\n",
       "      <th>DistanceFromHome</th>\n",
       "      <th>Education</th>\n",
       "      <th>EnvironmentSatisfaction</th>\n",
       "      <th>JobInvolvement</th>\n",
       "      <th>JobLevel</th>\n",
       "      <th>JobSatisfaction</th>\n",
       "      <th>MonthlyIncome</th>\n",
       "      <th>NumCompaniesWorked</th>\n",
       "    </tr>\n",
       "  </thead>\n",
       "  <tbody>\n",
       "    <tr>\n",
       "      <th>count</th>\n",
       "      <td>500.00</td>\n",
       "      <td>500.00</td>\n",
       "      <td>500.00</td>\n",
       "      <td>500.00</td>\n",
       "      <td>500.00</td>\n",
       "      <td>500.00</td>\n",
       "      <td>500.00</td>\n",
       "      <td>500.00</td>\n",
       "      <td>500.00</td>\n",
       "      <td>500.00</td>\n",
       "    </tr>\n",
       "    <tr>\n",
       "      <th>mean</th>\n",
       "      <td>250.50</td>\n",
       "      <td>36.90</td>\n",
       "      <td>9.12</td>\n",
       "      <td>2.89</td>\n",
       "      <td>2.68</td>\n",
       "      <td>2.73</td>\n",
       "      <td>2.10</td>\n",
       "      <td>2.80</td>\n",
       "      <td>6598.64</td>\n",
       "      <td>2.69</td>\n",
       "    </tr>\n",
       "    <tr>\n",
       "      <th>std</th>\n",
       "      <td>144.48</td>\n",
       "      <td>9.36</td>\n",
       "      <td>8.26</td>\n",
       "      <td>1.04</td>\n",
       "      <td>1.07</td>\n",
       "      <td>0.68</td>\n",
       "      <td>1.13</td>\n",
       "      <td>1.08</td>\n",
       "      <td>4814.58</td>\n",
       "      <td>2.51</td>\n",
       "    </tr>\n",
       "    <tr>\n",
       "      <th>min</th>\n",
       "      <td>1.00</td>\n",
       "      <td>18.00</td>\n",
       "      <td>1.00</td>\n",
       "      <td>1.00</td>\n",
       "      <td>1.00</td>\n",
       "      <td>1.00</td>\n",
       "      <td>1.00</td>\n",
       "      <td>1.00</td>\n",
       "      <td>1102.00</td>\n",
       "      <td>0.00</td>\n",
       "    </tr>\n",
       "    <tr>\n",
       "      <th>25%</th>\n",
       "      <td>125.75</td>\n",
       "      <td>30.00</td>\n",
       "      <td>2.00</td>\n",
       "      <td>2.00</td>\n",
       "      <td>2.00</td>\n",
       "      <td>2.00</td>\n",
       "      <td>1.00</td>\n",
       "      <td>2.00</td>\n",
       "      <td>2900.25</td>\n",
       "      <td>1.00</td>\n",
       "    </tr>\n",
       "    <tr>\n",
       "      <th>50%</th>\n",
       "      <td>250.50</td>\n",
       "      <td>36.00</td>\n",
       "      <td>6.00</td>\n",
       "      <td>3.00</td>\n",
       "      <td>3.00</td>\n",
       "      <td>3.00</td>\n",
       "      <td>2.00</td>\n",
       "      <td>3.00</td>\n",
       "      <td>4952.00</td>\n",
       "      <td>2.00</td>\n",
       "    </tr>\n",
       "    <tr>\n",
       "      <th>75%</th>\n",
       "      <td>375.25</td>\n",
       "      <td>43.00</td>\n",
       "      <td>14.00</td>\n",
       "      <td>4.00</td>\n",
       "      <td>4.00</td>\n",
       "      <td>3.00</td>\n",
       "      <td>3.00</td>\n",
       "      <td>4.00</td>\n",
       "      <td>8741.75</td>\n",
       "      <td>4.00</td>\n",
       "    </tr>\n",
       "    <tr>\n",
       "      <th>max</th>\n",
       "      <td>500.00</td>\n",
       "      <td>60.00</td>\n",
       "      <td>29.00</td>\n",
       "      <td>5.00</td>\n",
       "      <td>4.00</td>\n",
       "      <td>4.00</td>\n",
       "      <td>5.00</td>\n",
       "      <td>4.00</td>\n",
       "      <td>19999.00</td>\n",
       "      <td>9.00</td>\n",
       "    </tr>\n",
       "  </tbody>\n",
       "</table>\n",
       "</div>"
      ],
      "text/plain": [
       "         E.No     Age  DistanceFromHome  Education  EnvironmentSatisfaction  \\\n",
       "count  500.00  500.00            500.00     500.00                   500.00   \n",
       "mean   250.50   36.90              9.12       2.89                     2.68   \n",
       "std    144.48    9.36              8.26       1.04                     1.07   \n",
       "min      1.00   18.00              1.00       1.00                     1.00   \n",
       "25%    125.75   30.00              2.00       2.00                     2.00   \n",
       "50%    250.50   36.00              6.00       3.00                     3.00   \n",
       "75%    375.25   43.00             14.00       4.00                     4.00   \n",
       "max    500.00   60.00             29.00       5.00                     4.00   \n",
       "\n",
       "       JobInvolvement  JobLevel  JobSatisfaction  MonthlyIncome  \\\n",
       "count          500.00    500.00           500.00         500.00   \n",
       "mean             2.73      2.10             2.80        6598.64   \n",
       "std              0.68      1.13             1.08        4814.58   \n",
       "min              1.00      1.00             1.00        1102.00   \n",
       "25%              2.00      1.00             2.00        2900.25   \n",
       "50%              3.00      2.00             3.00        4952.00   \n",
       "75%              3.00      3.00             4.00        8741.75   \n",
       "max              4.00      5.00             4.00       19999.00   \n",
       "\n",
       "       NumCompaniesWorked  \n",
       "count              500.00  \n",
       "mean                 2.69  \n",
       "std                  2.51  \n",
       "min                  0.00  \n",
       "25%                  1.00  \n",
       "50%                  2.00  \n",
       "75%                  4.00  \n",
       "max                  9.00  "
      ]
     },
     "execution_count": 28,
     "metadata": {},
     "output_type": "execute_result"
    }
   ],
   "source": [
    "# Desciption of the data\n",
    "df.describe().round(2)  #statistical parameters for the numerical columns in the data"
   ]
  },
  {
   "cell_type": "markdown",
   "metadata": {},
   "source": [
    "## Measures of Variability / Dispersion"
   ]
  },
  {
   "cell_type": "markdown",
   "metadata": {},
   "source": [
    "- **Range**: Range is defined as the difference between the largest observation and the smallest observation in the data\n",
    "- **Variance**: How far each observation is from mean. These differences from the mean are called deviations. The average squared deviation from the mean is called the variance.\n",
    "Variance is calculated by: $\\sigma ^{2}=\\frac{\\sum\\limits _{i=1} ^{N}(x_{i}-\\mu) ^{2}}{N}$ \n",
    "\n",
    "- **Standard Deviation**: Square root of variance is called as Standard Deviation"
   ]
  },
  {
   "cell_type": "code",
   "execution_count": 24,
   "metadata": {},
   "outputs": [
    {
     "name": "stdout",
     "output_type": "stream",
     "text": [
      "Mean: 6598.64\n",
      "Median: 4952.0\n",
      "Minimum: 1102\n",
      "Maximum: 19999\n",
      "Range: 18897\n",
      "Variance: 23180200.71\n",
      "Standard Deviation: 4814.58\n"
     ]
    }
   ],
   "source": [
    "# Get the average, median, min, max, range, var and sd for the monthly income\n",
    "print('Mean:', df['MonthlyIncome'].mean().round(2))\n",
    "print('Median:', df['MonthlyIncome'].median())\n",
    "print('Minimum:', df['MonthlyIncome'].min())\n",
    "print('Maximum:', df['MonthlyIncome'].max())\n",
    "print('Range:', df['MonthlyIncome'].max() - df['MonthlyIncome'].min())\n",
    "print('Variance:', df['MonthlyIncome'].var().round(2))\n",
    "print('Standard Deviation:', df['MonthlyIncome'].std().round(2))"
   ]
  },
  {
   "attachments": {
    "8f3b5d62-39f7-4731-8b3a-7aa0f4714ac3.png": {
     "image/png": "[encoded data removed]"
    }
   },
   "cell_type": "markdown",
   "metadata": {
    "jp-MarkdownHeadingCollapsed": true
   },
   "source": [
    "### Chebyshev’s Inequality\n",
    "\n",
    "<centre>![image.png](attachment:8f3b5d62-39f7-4731-8b3a-7aa0f4714ac3.png)</centre>\n",
    "\n",
    "For any data set, it can be proved mathematically that:\n",
    "- Atleast 75% of all data points will lie within 2 standard deviations of the mean, \n",
    "- Atleast 89% within 3 standard deviations\n",
    "\n",
    "#### Example: \n",
    "Suppose we have a data series, with a min of 200, a max of 1500, a mean of 600, and a standard deviation of 80. Then: \n",
    "- Atleast 75% of all the data points in the series will be within the range: $ (600 – 2*80, 600 + 2*80) =  (440, 760) $\n",
    "- Atleast 89% of all data points will be within the range: $(600 – 3*80, 600 + 3*80) = (360, 840) $"
   ]
  },
  {
   "attachments": {},
   "cell_type": "markdown",
   "metadata": {},
   "source": [
    "## Quantiles, Quartiles and Percentiles of data\n",
    "\n",
    "<center><img src=\"quan.png\"></center>\n",
    "\n",
    "- **Quantile** is a certain portion of the given data.\n",
    "  \n",
    "- **Quartile** is one portion among four equal divisions of the data. That is, we need to divide the data in to 4 equal parts. **1st Quartile (Q1)** includes first 25% of the data (lowest value onwards). **2nd Quartile (Q2)** defines 50% of the data (this also equal to median). **3rd Quartile (Q3)** defines 75% of the data.\n",
    "    \n",
    "- **Percentile** is one portion among 100 equal divisions of the data. We can have P1 to P99. P25 is equal to Q1. P50 is equal to Q2, which is same as median. P75 is equal to Q3. and Interquartile change = Q3 - Q1"
   ]
  },
  {
   "cell_type": "code",
   "execution_count": 25,
   "metadata": {},
   "outputs": [
    {
     "name": "stdout",
     "output_type": "stream",
     "text": [
      "30.0\n",
      "36.0\n",
      "43.0\n"
     ]
    }
   ],
   "source": [
    "# This is Q1\n",
    "print(df['Age'].quantile(0.25))\n",
    "\n",
    "# This is Q2 and Median\n",
    "print(df['Age'].quantile(0.5))\n",
    "\n",
    "# This is Q3\n",
    "print(df['Age'].quantile(0.75)) "
   ]
  },
  {
   "cell_type": "markdown",
   "metadata": {},
   "source": [
    "#### Inferences:\n",
    "- There are 500 employees in the dataset. 25% (Q1) of the employees (which means, 25% of 500 =125 employees) are below (or equal) the age of 30.\n",
    "- 50% of the employees = 250 employees are within 36 years.\n",
    "- 75% of the employees = 375 employees are within 43 years of age.\n",
    "- ***This clearly indicates that the organization has a young pool of employees***"
   ]
  },
  {
   "cell_type": "code",
   "execution_count": 28,
   "metadata": {},
   "outputs": [
    {
     "name": "stdout",
     "output_type": "stream",
     "text": [
      "IQR of income: 5841.5\n"
     ]
    }
   ],
   "source": [
    "# IQR of Income\n",
    "print('IQR of income:', df['MonthlyIncome'].quantile(0.75) - df['MonthlyIncome'].quantile(0.25))"
   ]
  },
  {
   "cell_type": "code",
   "execution_count": 30,
   "metadata": {},
   "outputs": [
    {
     "name": "stdout",
     "output_type": "stream",
     "text": [
      "Q1 of income: 2900.25\n",
      "Q3 of income: 8741.75\n"
     ]
    }
   ],
   "source": [
    "print('Q1 of income:', df['MonthlyIncome'].quantile(0.25))\n",
    "print('Q3 of income:', df['MonthlyIncome'].quantile(0.75))"
   ]
  },
  {
   "cell_type": "markdown",
   "metadata": {},
   "source": [
    "50% of the employees (between Q1 and Q3 there is 50% of the data): 250 people have salary in the range of Rs. 2900/- to Rs. 8742/- (assuming the income is in rupees)"
   ]
  },
  {
   "cell_type": "markdown",
   "metadata": {},
   "source": [
    "## Shape measures\n",
    "### 1. Skewness\n",
    "- Skewness is a measure of symmetry, or more precisely, the lack of symmetry. A distribution, or data set, is symmetric if it looks like a bell-shaped curve or it follows a normal / gaussian distribution.\n",
    "\n",
    "<center><img src=\"skew.png\" height = \"600\" width = \"700\"></center>\n",
    "\n",
    "- If the skewness is between \n",
    "    - **-0.5 and 0.5**, the data are nearly symmetrical.\n",
    "    - **-1 and -0.5**, then the distribution is slightly negatively skewed.\n",
    "    - **0.5 and 1**, the distribution is slightly positive skewed.\n",
    "- If the skewness is lower than -1  or greater than 1, the data are extremely skewed."
   ]
  },
  {
   "cell_type": "code",
   "execution_count": 32,
   "metadata": {},
   "outputs": [
    {
     "data": {
      "text/plain": [
       "0.44"
      ]
     },
     "execution_count": 32,
     "metadata": {},
     "output_type": "execute_result"
    }
   ],
   "source": [
    "# Calculate the skewness in age\n",
    "df['Age'].skew().round(2)"
   ]
  },
  {
   "cell_type": "code",
   "execution_count": 33,
   "metadata": {},
   "outputs": [
    {
     "data": {
      "text/plain": [
       "1.33"
      ]
     },
     "execution_count": 33,
     "metadata": {},
     "output_type": "execute_result"
    }
   ],
   "source": [
    "# Calculate the skewness in monthly income\n",
    "df['MonthlyIncome'].skew().round(2)"
   ]
  },
  {
   "cell_type": "markdown",
   "metadata": {},
   "source": [
    "### 2. Kurtosis\n",
    "- Kurtosis is a measure of whether the data are heavy-tailed or light-tailed relative to a normal distribution. That is, data sets with high kurtosis tend to have heavy tails, or outliers. Data sets with low kurtosis tend to have light tails, or lack of outliers.\n",
    "\n",
    "<center><img src=\"kurt.png\" height = \"400\" width = \"500\"></center>\n",
    "\n",
    "- Kurtosis for normal distribution (to be more specific, standard normal distribution) is 3.\n",
    "- **Leptokurtic distributions** have kurtosis > 3 and **Platykurtic distributions** have kurtosis < 3"
   ]
  },
  {
   "cell_type": "code",
   "execution_count": 35,
   "metadata": {},
   "outputs": [
    {
     "name": "stdout",
     "output_type": "stream",
     "text": [
      "-0.38\n",
      "0.82\n"
     ]
    }
   ],
   "source": [
    "# Skewness and Kurtosis of Age and Monthly Income\n",
    "print(df['Age'].kurtosis().round(2))\n",
    "print(df['MonthlyIncome'].kurtosis().round(2))"
   ]
  },
  {
   "cell_type": "markdown",
   "metadata": {},
   "source": [
    "#### Inferences:\n",
    "- Age is slightly positively skewed.\n",
    "- Monthly Income is Highly positively skewed - There are few people with very high salary compared to others.\n",
    "- Both Age and Monthly Income are platykurtic. Which means, both are highly deviated fromt the mean, i.e. high standard deviation."
   ]
  },
  {
   "cell_type": "markdown",
   "metadata": {},
   "source": [
    "## Covariance And Correlation\n",
    "- Covariance and correlation both primarily assess the relationship between variables.\n",
    "    - Using covariance, we can only gauge the direction of the relationship (whether the variables tend to move in tandem or show an inverse relationship). However, it does not indicate the strength of the relationship, nor the dependency between the variables.\n",
    "    - Correlation measures the strength of the relationship between variables. Correlation is the scaled measure of covariance. It is dimensionless. In other words, the correlation coefficient is always a pure value and not measured in any units.\n",
    "\n",
    "<center><img src=\"cov.png\"></center>"
   ]
  },
  {
   "attachments": {
    "image.png": {
     "image/png": "[encoded data removed]"
    }
   },
   "cell_type": "markdown",
   "metadata": {},
   "source": [
    "- We can also write the correlation coefficient ($r$ or $\\rho$) as -\n",
    "![image.png](attachment:image.png)"
   ]
  },
  {
   "attachments": {
    "image.png": {
     "image/png": "[encoded data removed]"
    }
   },
   "cell_type": "markdown",
   "metadata": {},
   "source": [
    "- The value of correlation coefficient ranges from **-1 to +1**.\n",
    "\n",
    "![image.png](attachment:image.png)"
   ]
  },
  {
   "cell_type": "markdown",
   "metadata": {},
   "source": [
    "#### Example:\n",
    "Consider the data related to age of the people and their glucose level. Find the correlation coefficient between these two variables. "
   ]
  },
  {
   "cell_type": "code",
   "execution_count": 36,
   "metadata": {},
   "outputs": [],
   "source": [
    "import numpy as np\n",
    "\n",
    "Age = np.array([43, 21, 25, 42, 57, 59])\n",
    "GlucoseLevel = np.array([99, 65, 79, 75, 87, 81])"
   ]
  },
  {
   "cell_type": "code",
   "execution_count": 37,
   "metadata": {},
   "outputs": [
    {
     "name": "stdout",
     "output_type": "stream",
     "text": [
      "[[1.        0.5298089]\n",
      " [0.5298089 1.       ]]\n"
     ]
    }
   ],
   "source": [
    "# Calculate the correlation coefficient with Age and GlucoseLevel\n",
    "R = np.corrcoef(Age, GlucoseLevel)\n",
    "print(R)"
   ]
  },
  {
   "cell_type": "code",
   "execution_count": 39,
   "metadata": {},
   "outputs": [
    {
     "name": "stdout",
     "output_type": "stream",
     "text": [
      "Correlation coefficient between Age and Glucose level:  0.53\n"
     ]
    }
   ],
   "source": [
    "print('Correlation coefficient between Age and Glucose level: ', R[0][1].round(2))"
   ]
  },
  {
   "cell_type": "code",
   "execution_count": 40,
   "metadata": {},
   "outputs": [
    {
     "data": {
      "text/plain": [
       "0.49"
      ]
     },
     "execution_count": 40,
     "metadata": {},
     "output_type": "execute_result"
    }
   ],
   "source": [
    "# Correlation between Age and MonthlyIncome in the employee dataset\n",
    "df['MonthlyIncome'].corr(df['Age']).round(2)"
   ]
  },
  {
   "cell_type": "markdown",
   "metadata": {},
   "source": [
    "**Inference:** Age and Monthly Income are positively correlated. However, we cannot say that as the age increases, the income also increases. Because, there is no strong bond between them.\n",
    "If corr coeff was say, around 0.9, then we would have concluded that as the age increases, income increases.\n",
    "However, in our data, there are chances that young people having more salary and vice-versa."
   ]
  }
 ],
 "metadata": {
  "kernelspec": {
   "display_name": "Python 3 (ipykernel)",
   "language": "python",
   "name": "python3"
  },
  "language_info": {
   "codemirror_mode": {
    "name": "ipython",
    "version": 3
   },
   "file_extension": ".py",
   "mimetype": "text/x-python",
   "name": "python",
   "nbconvert_exporter": "python",
   "pygments_lexer": "ipython3",
   "version": "3.12.2"
  }
 },
 "nbformat": 4,
 "nbformat_minor": 4
}
