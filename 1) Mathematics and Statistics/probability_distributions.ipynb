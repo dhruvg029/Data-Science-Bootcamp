{
 "cells": [
  {
   "cell_type": "markdown",
   "metadata": {},
   "source": [
    "# Probability Distributions\n",
    "\n",
    "There are 2 types of probability distributions:\n",
    "- **Discrete Distributions:** Random variable takes discrete values. \n",
    "    - Bernoulli Distribution\n",
    "    - Binomial Distribution\n",
    "    - Poisson Distributon\n",
    "- **Continous Distributions:** Random variable takes continuous values in a range.\n",
    "    - Normal Distribution\n",
    "    - Uniform Distribution\n",
    "    - Exponential Distribution etc."
   ]
  },
  {
   "cell_type": "markdown",
   "metadata": {},
   "source": [
    "## Binomial distribution\n",
    "- The binomial distribution is frequently used to model the number of successes in a sample of size n drawn with replacement from a population of size N. The distribution with parameters $n$ and $p$ is the discrete probability distribution of the number of successes $(x)$ in a sequence of n independent experiments, each asking a yes–no question, and each with its own **boolean-valued outcome: success (with probability p) or failure (with probability $q = 1 − p$)**. \n",
    "- A single success/failure experiment is also called a Bernoulli trial or Bernoulli experiment. That is, when n = 1, the binomial distribution is a Bernoulli distribution.\n",
    "- The probability mass function is given by $P(X = x) = \\binom{n}{x} p^x (q)^{n-x}$. The mean of Binomial distribution is $np$ and the variance is $npq$. "
   ]
  },
  {
   "cell_type": "code",
   "execution_count": 8,
   "metadata": {},
   "outputs": [],
   "source": [
    "# Binomial distribution\n",
    "from scipy.stats import binom\n",
    "import math"
   ]
  },
  {
   "cell_type": "markdown",
   "metadata": {},
   "source": [
    "### Example 1:\n",
    "Consider a random experiment of tossing a coin 6 times. Find the following:\n",
    "- What is the probability of getting exactly 0 heads ?\n",
    "- What is the proability of getting 2 or less number of heads?\n",
    "\n",
    "***Solution***: Here, $n= 6$, $p=q=\\frac{1}{2}$ and $x=0$\n",
    "- We need to find $P(X=0)$ and  $P(X\\le 2)$"
   ]
  },
  {
   "cell_type": "code",
   "execution_count": 3,
   "metadata": {},
   "outputs": [
    {
     "data": {
      "text/plain": [
       "0.016"
      ]
     },
     "execution_count": 3,
     "metadata": {},
     "output_type": "execute_result"
    }
   ],
   "source": [
    "# P(X = 0) => binom.pmf has a syntax as: pmf(x,n,p)\n",
    "binom.pmf(0, 6, 0.5).round(3)"
   ]
  },
  {
   "cell_type": "code",
   "execution_count": 7,
   "metadata": {},
   "outputs": [
    {
     "name": "stdout",
     "output_type": "stream",
     "text": [
      "Probability: 0.344\n"
     ]
    }
   ],
   "source": [
    "# Find the probability of seeing less or equal to 2 heads = P(X = 0) + P(X = 1) + P(X = 2)\n",
    "print('Probability:', (binom.pmf(0, 6, 0.5) + binom.pmf(1, 6, 0.5) + binom.pmf(2, 6, 0.5)).round(3))"
   ]
  },
  {
   "cell_type": "code",
   "execution_count": 6,
   "metadata": {},
   "outputs": [
    {
     "name": "stdout",
     "output_type": "stream",
     "text": [
      "Cummulative Probability: 0.344\n"
     ]
    }
   ],
   "source": [
    "# Alternatively, we can use Cumulative probability. Syntax = cdf(x,n,p)\n",
    "print('Cummulative Probability:', binom.cdf(2, 6, 0.5).round(3))"
   ]
  },
  {
   "cell_type": "markdown",
   "metadata": {},
   "source": [
    "### Example 2:\n",
    "Assume that there is a road junction and several vehicles passes by everyday. Some drivers will ask for the direction at that junction. The probability of a driver seeking for direction is 0.45.  On a given day, you observe 200 vehicles passing through the junction. Then, what is the probability that\n",
    "- exactly 100 drivers will stop and ask for direction?\n",
    "- atleast 50 drivers will ask for direction?\n",
    "- at the most 20 drivers will ask for direction?"
   ]
  },
  {
   "cell_type": "code",
   "execution_count": 10,
   "metadata": {},
   "outputs": [
    {
     "name": "stdout",
     "output_type": "stream",
     "text": [
      "Probability: 0.021\n"
     ]
    }
   ],
   "source": [
    "# exactly 100 drivers will stop and ask for direction\n",
    "print('Probability:', binom.pmf(100, 200, 0.45).round(3))"
   ]
  },
  {
   "cell_type": "code",
   "execution_count": 11,
   "metadata": {},
   "outputs": [
    {
     "name": "stdout",
     "output_type": "stream",
     "text": [
      "Probability: 1.0\n"
     ]
    }
   ],
   "source": [
    "# atleast 50 stop and ask direction \n",
    "print('Probability:', 1 - binom.cdf(50, 200, 0.45).round(3))"
   ]
  },
  {
   "cell_type": "code",
   "execution_count": 13,
   "metadata": {},
   "outputs": [
    {
     "name": "stdout",
     "output_type": "stream",
     "text": [
      "Probability: 0.0\n"
     ]
    }
   ],
   "source": [
    "# At the most 20 drivers stop and ask direction \n",
    "print('Probability:', binom.cdf(20, 200, 0.45).round(3))"
   ]
  },
  {
   "cell_type": "markdown",
   "metadata": {},
   "source": [
    "### Working on real data"
   ]
  },
  {
   "cell_type": "markdown",
   "metadata": {},
   "source": [
    "#### Importing libraries and data"
   ]
  },
  {
   "cell_type": "code",
   "execution_count": 2,
   "metadata": {},
   "outputs": [],
   "source": [
    "# Importing libraries\n",
    "import pandas as pd"
   ]
  },
  {
   "cell_type": "code",
   "execution_count": 3,
   "metadata": {},
   "outputs": [
    {
     "data": {
      "text/html": [
       "<div>\n",
       "<style scoped>\n",
       "    .dataframe tbody tr th:only-of-type {\n",
       "        vertical-align: middle;\n",
       "    }\n",
       "\n",
       "    .dataframe tbody tr th {\n",
       "        vertical-align: top;\n",
       "    }\n",
       "\n",
       "    .dataframe thead th {\n",
       "        text-align: right;\n",
       "    }\n",
       "</style>\n",
       "<table border=\"1\" class=\"dataframe\">\n",
       "  <thead>\n",
       "    <tr style=\"text-align: right;\">\n",
       "      <th></th>\n",
       "      <th>Card_ID</th>\n",
       "      <th>Campaign_Responce</th>\n",
       "      <th>Registration_Date</th>\n",
       "      <th>Gender</th>\n",
       "      <th>Birth_Date</th>\n",
       "    </tr>\n",
       "  </thead>\n",
       "  <tbody>\n",
       "    <tr>\n",
       "      <th>0</th>\n",
       "      <td>100005950</td>\n",
       "      <td>False</td>\n",
       "      <td>1998-11-18</td>\n",
       "      <td>M</td>\n",
       "      <td>1984-02-06</td>\n",
       "    </tr>\n",
       "    <tr>\n",
       "      <th>1</th>\n",
       "      <td>100022191</td>\n",
       "      <td>True</td>\n",
       "      <td>1999-09-15</td>\n",
       "      <td>F</td>\n",
       "      <td>1959-09-11</td>\n",
       "    </tr>\n",
       "    <tr>\n",
       "      <th>2</th>\n",
       "      <td>100025442</td>\n",
       "      <td>False</td>\n",
       "      <td>1998-05-12</td>\n",
       "      <td>M</td>\n",
       "      <td>1970-08-25</td>\n",
       "    </tr>\n",
       "    <tr>\n",
       "      <th>3</th>\n",
       "      <td>100026513</td>\n",
       "      <td>False</td>\n",
       "      <td>1999-02-12</td>\n",
       "      <td>M</td>\n",
       "      <td>1951-03-12</td>\n",
       "    </tr>\n",
       "    <tr>\n",
       "      <th>4</th>\n",
       "      <td>100039145</td>\n",
       "      <td>False</td>\n",
       "      <td>2000-08-12</td>\n",
       "      <td>M</td>\n",
       "      <td>1949-06-08</td>\n",
       "    </tr>\n",
       "  </tbody>\n",
       "</table>\n",
       "</div>"
      ],
      "text/plain": [
       "     Card_ID  Campaign_Responce Registration_Date Gender Birth_Date\n",
       "0  100005950              False        1998-11-18      M 1984-02-06\n",
       "1  100022191               True        1999-09-15      F 1959-09-11\n",
       "2  100025442              False        1998-05-12      M 1970-08-25\n",
       "3  100026513              False        1999-02-12      M 1951-03-12\n",
       "4  100039145              False        2000-08-12      M 1949-06-08"
      ]
     },
     "execution_count": 3,
     "metadata": {},
     "output_type": "execute_result"
    }
   ],
   "source": [
    "# Loading data\n",
    "data = pd.read_excel('datasets/ProbDist_Data.xlsx', sheet_name='binom')\n",
    "data.head()"
   ]
  },
  {
   "cell_type": "code",
   "execution_count": 4,
   "metadata": {},
   "outputs": [
    {
     "name": "stdout",
     "output_type": "stream",
     "text": [
      "Shape: (297, 5)\n"
     ]
    }
   ],
   "source": [
    "print('Shape:', data.shape)"
   ]
  },
  {
   "cell_type": "code",
   "execution_count": 5,
   "metadata": {},
   "outputs": [
    {
     "data": {
      "text/plain": [
       "Campaign_Responce\n",
       "False    248\n",
       "True      49\n",
       "Name: count, dtype: int64"
      ]
     },
     "execution_count": 5,
     "metadata": {},
     "output_type": "execute_result"
    }
   ],
   "source": [
    "data['Campaign_Responce'].value_counts()"
   ]
  },
  {
   "cell_type": "code",
   "execution_count": 6,
   "metadata": {},
   "outputs": [
    {
     "data": {
      "text/plain": [
       "Campaign_Responce\n",
       "False    0.835017\n",
       "True     0.164983\n",
       "Name: proportion, dtype: float64"
      ]
     },
     "execution_count": 6,
     "metadata": {},
     "output_type": "execute_result"
    }
   ],
   "source": [
    "# Check the probability of 'True' and 'False' by dividing respective counts by total number of records.\n",
    "data['Campaign_Responce'].value_counts(normalize=True)"
   ]
  },
  {
   "cell_type": "code",
   "execution_count": 10,
   "metadata": {
    "scrolled": true
   },
   "outputs": [
    {
     "data": {
      "text/plain": [
       "0.017"
      ]
     },
     "execution_count": 10,
     "metadata": {},
     "output_type": "execute_result"
    }
   ],
   "source": [
    "# What is the probability that upto 15 customers will respond to campaign out of 150 randomly selected customers?\n",
    "binom.cdf(15, 150, 0.165).round(3)"
   ]
  },
  {
   "cell_type": "code",
   "execution_count": 11,
   "metadata": {},
   "outputs": [
    {
     "name": "stdout",
     "output_type": "stream",
     "text": [
      "The probability: 0.167\n"
     ]
    }
   ],
   "source": [
    "# What is the probability that between 15 and 20 customers will respond to campaign out of 150 randomly selected customers?\n",
    "i = 15\n",
    "s = 0\n",
    "for i in range(15, 21):\n",
    "    s += binom.pmf(i, 150, 0.165)\n",
    "print('The probability:', s.round(3))"
   ]
  },
  {
   "cell_type": "markdown",
   "metadata": {},
   "source": [
    "## Poisson distribution\n",
    "- It is a discrete probability distribution that expresses the probability of a given number of events occurring in a fixed interval of time or space if these events occur with a known constant mean rate and independently of the time since the last event. When the number of successes $(p)$ are very small compared to the number of trials $(n)$, then we go for Poisson distribution. \n",
    "- Examples:\n",
    "    - A call center receives an average of 180 calls per hour, 24 hours a day. The calls are independent; receiving one does not change the probability of when the next one will arrive. The number of calls received during any minute has a Poisson probability distribution: the most likely numbers are 2 and 3 but 1 and 4 are also likely. \n",
    "    - The number of decay events that occur from a radioactive source during a defined observation period.\n",
    "    - The number of road accidents in a given day at a particular road junction. Imagine number of vehicles passing by the junction per day. It is quite a huge number (like 1000, 10000 etc). But, the number of accidents observed per day will be 1-2 or at the max 10. So, this number is very small compared to actual number of vehicles that have passed the junction. Thus, this is a poisson distribution. \n",
    "- If X follows poisson distribution with parameter $\\lambda$ then probability mass function is given by: $P(X=x)=\\frac{e^{-\\lambda}\\lambda^{x}}{x!}$ for all $x=0,1,2,3,4,...$\n",
    "- Mean = variance = $\\lambda$"
   ]
  },
  {
   "cell_type": "code",
   "execution_count": 12,
   "metadata": {},
   "outputs": [],
   "source": [
    "from scipy.stats import poisson\n",
    "import pandas as pd"
   ]
  },
  {
   "cell_type": "markdown",
   "metadata": {},
   "source": [
    "##### Example:\n",
    "- Find the Probability of exactly 4 accidents in a month, given that average is 5 accidents/ month.\n",
    "- Solution: Here, $\\lambda = 5$. We need to compute $P(X=4)$"
   ]
  },
  {
   "cell_type": "code",
   "execution_count": 19,
   "metadata": {},
   "outputs": [
    {
     "name": "stdout",
     "output_type": "stream",
     "text": [
      "Probability: 0.175\n"
     ]
    }
   ],
   "source": [
    "# The syntax of poisson.pmf is pmf(x, lambda)\n",
    "print('Probability:', poisson.pmf(4,5).round(3))"
   ]
  },
  {
   "cell_type": "markdown",
   "metadata": {},
   "source": [
    "- What is the probability of 3 or lesser accidents in a month?"
   ]
  },
  {
   "cell_type": "code",
   "execution_count": 18,
   "metadata": {},
   "outputs": [
    {
     "name": "stdout",
     "output_type": "stream",
     "text": [
      "Probability: 0.265\n"
     ]
    }
   ],
   "source": [
    "# use cumulative probability\n",
    "print('Probability:', poisson.cdf(3,5).round(3))"
   ]
  },
  {
   "cell_type": "markdown",
   "metadata": {},
   "source": [
    "- What is the probability that 5  or more accidents in a month?"
   ]
  },
  {
   "cell_type": "code",
   "execution_count": 17,
   "metadata": {},
   "outputs": [
    {
     "name": "stdout",
     "output_type": "stream",
     "text": [
      "Probability: 0.56\n"
     ]
    }
   ],
   "source": [
    "print('Probability:', 1 - poisson.cdf(4, 5).round(3))"
   ]
  },
  {
   "cell_type": "markdown",
   "metadata": {},
   "source": [
    "### Working on real data\n",
    "\n",
    "#### Loading data"
   ]
  },
  {
   "cell_type": "code",
   "execution_count": 20,
   "metadata": {},
   "outputs": [
    {
     "data": {
      "text/html": [
       "<div>\n",
       "<style scoped>\n",
       "    .dataframe tbody tr th:only-of-type {\n",
       "        vertical-align: middle;\n",
       "    }\n",
       "\n",
       "    .dataframe tbody tr th {\n",
       "        vertical-align: top;\n",
       "    }\n",
       "\n",
       "    .dataframe thead th {\n",
       "        text-align: right;\n",
       "    }\n",
       "</style>\n",
       "<table border=\"1\" class=\"dataframe\">\n",
       "  <thead>\n",
       "    <tr style=\"text-align: right;\">\n",
       "      <th></th>\n",
       "      <th>Cart Addition</th>\n",
       "    </tr>\n",
       "  </thead>\n",
       "  <tbody>\n",
       "    <tr>\n",
       "      <th>0</th>\n",
       "      <td>1</td>\n",
       "    </tr>\n",
       "    <tr>\n",
       "      <th>1</th>\n",
       "      <td>1</td>\n",
       "    </tr>\n",
       "    <tr>\n",
       "      <th>2</th>\n",
       "      <td>9</td>\n",
       "    </tr>\n",
       "    <tr>\n",
       "      <th>3</th>\n",
       "      <td>1</td>\n",
       "    </tr>\n",
       "    <tr>\n",
       "      <th>4</th>\n",
       "      <td>1</td>\n",
       "    </tr>\n",
       "  </tbody>\n",
       "</table>\n",
       "</div>"
      ],
      "text/plain": [
       "   Cart Addition\n",
       "0              1\n",
       "1              1\n",
       "2              9\n",
       "3              1\n",
       "4              1"
      ]
     },
     "execution_count": 20,
     "metadata": {},
     "output_type": "execute_result"
    }
   ],
   "source": [
    "data = pd.read_excel('datasets/ProbDist_Data.xlsx',sheet_name='poisson', usecols = [0])\n",
    "data.head()"
   ]
  },
  {
   "cell_type": "code",
   "execution_count": 21,
   "metadata": {},
   "outputs": [
    {
     "name": "stdout",
     "output_type": "stream",
     "text": [
      "Shape: (49, 1)\n"
     ]
    }
   ],
   "source": [
    "print('Shape:', data.shape)"
   ]
  },
  {
   "cell_type": "code",
   "execution_count": 24,
   "metadata": {},
   "outputs": [
    {
     "name": "stdout",
     "output_type": "stream",
     "text": [
      "Mean: Cart Addition    1.449\n",
      "dtype: float64\n"
     ]
    }
   ],
   "source": [
    "print('Mean:', data.mean().round(3)) "
   ]
  },
  {
   "cell_type": "markdown",
   "metadata": {},
   "source": [
    "- What is the probability of seeing atleast 2 items in the cart?\n",
    "- Solution: Compute $P(X>=2)$"
   ]
  },
  {
   "cell_type": "code",
   "execution_count": 28,
   "metadata": {},
   "outputs": [
    {
     "name": "stdout",
     "output_type": "stream",
     "text": [
      "Probability: 0.425\n"
     ]
    }
   ],
   "source": [
    "print('Probability:', (1 - poisson.cdf(1, 1.449)).round(3))"
   ]
  },
  {
   "cell_type": "markdown",
   "metadata": {},
   "source": [
    "- What is the probability of seeing 6 to 9 items in the cart?\n",
    "- Solution: Compute $P(6 \\le X \\le 9)$\n",
    "- If we use cumulative distribution function, then \n",
    "$P(6 \\le X \\le 9) = P(X\\le 9) - P(X\\le 6)$"
   ]
  },
  {
   "cell_type": "code",
   "execution_count": 29,
   "metadata": {},
   "outputs": [
    {
     "data": {
      "text/plain": [
       "0.001"
      ]
     },
     "execution_count": 29,
     "metadata": {},
     "output_type": "execute_result"
    }
   ],
   "source": [
    "(poisson.cdf(9, 1.449) - poisson.cdf(6, 1.449)).round(3)"
   ]
  },
  {
   "cell_type": "markdown",
   "metadata": {},
   "source": [
    "## Normal distribution:\n",
    "- It is a continuous probability distribution for a real-valued random variable.\n",
    "- The probability density function of Normal distribution with parameters $\\mu$ and $\\sigma$ is given by: $f(x) = \\frac{1}{\\sqrt{2\\pi\\sigma^2}} e^{-\\frac{(x - \\mu)^2}{2\\sigma^2}}$\n",
    "\n",
    "**Examples:**\n",
    "- Marks scored by students in an exam\n",
    "- Sales of car in an year"
   ]
  },
  {
   "attachments": {
    "6436bb99-5cf6-485e-8db2-90c28feb7e0e.png": {
     "image/png": "[encoded data removed]"
    }
   },
   "cell_type": "markdown",
   "metadata": {},
   "source": [
    "### Empirical Rules\n",
    "\n",
    "![Screenshot 2024-06-12 215108.png](attachment:6436bb99-5cf6-485e-8db2-90c28feb7e0e.png)\n",
    "\n",
    "- Approximately 68% of all observations fall within one standard deviation of the mean.\n",
    "- Approximately 95% of all observations fall within two standard deviations of the mean.\n",
    "- Approximately 99.7% of all observations fall within three standard deviations of the mean.\n"
   ]
  },
  {
   "cell_type": "markdown",
   "metadata": {},
   "source": [
    "### Example 1:\n",
    "- Let the average sales of a particular product is 10000 and standard deviation is 2400. Then what is the probability of getting more than 12000 sales?\n",
    "- Solution: Given that $\\mu=10000$ and $\\sigma=2400$. We need to compute $P(X>=12000)$"
   ]
  },
  {
   "cell_type": "code",
   "execution_count": 31,
   "metadata": {},
   "outputs": [
    {
     "data": {
      "text/plain": [
       "0.202"
      ]
     },
     "execution_count": 31,
     "metadata": {},
     "output_type": "execute_result"
    }
   ],
   "source": [
    "from scipy.stats import norm\n",
    "# The syntax: norm.cdf(p, μ, σ) \n",
    "(1 - norm.cdf(12000,10000,2400)).round(3)"
   ]
  },
  {
   "cell_type": "markdown",
   "metadata": {},
   "source": [
    "##### Business Inference:\n",
    "- When we know that average sales is 10000 with a standard deviation of 2400, then the chances of having more than 12000 sales is around 20.23%"
   ]
  },
  {
   "cell_type": "code",
   "execution_count": 32,
   "metadata": {},
   "outputs": [
    {
     "data": {
      "text/plain": [
       "0.369"
      ]
     },
     "execution_count": 32,
     "metadata": {},
     "output_type": "execute_result"
    }
   ],
   "source": [
    "# What is the probability of getting fewer than 9200 sales?\n",
    "norm.cdf(9200,10000,2400).round(3)"
   ]
  },
  {
   "cell_type": "code",
   "execution_count": 33,
   "metadata": {},
   "outputs": [
    {
     "data": {
      "text/plain": [
       "0.459"
      ]
     },
     "execution_count": 33,
     "metadata": {},
     "output_type": "execute_result"
    }
   ],
   "source": [
    "# What is the probability of getting between 9000 to 12000 sales?\n",
    "(norm.cdf(12000,10000,2400)-norm.cdf(9000,10000,2400)).round(3)"
   ]
  },
  {
   "cell_type": "markdown",
   "metadata": {},
   "source": [
    "##### Risk measurement using Normal distribution\n",
    "- Consider a stock with returns $\\mu=10$, $\\sigma=5$. What are the chances that the returns will be < 0?"
   ]
  },
  {
   "cell_type": "code",
   "execution_count": 34,
   "metadata": {},
   "outputs": [
    {
     "data": {
      "text/plain": [
       "0.023"
      ]
     },
     "execution_count": 34,
     "metadata": {},
     "output_type": "execute_result"
    }
   ],
   "source": [
    "norm.cdf(0,10,5).round(3)"
   ]
  },
  {
   "cell_type": "markdown",
   "metadata": {},
   "source": [
    "##### Business Inference:\n",
    "- Given that, as per the past performance, the returns on the stock is 10% with the standard of deviation of 5% What is the chance of you loosing the money (returns is less than 0%).\n",
    "- The chance of you loosing your money is 0.023. That is, it is around 2.3%"
   ]
  },
  {
   "cell_type": "markdown",
   "metadata": {},
   "source": [
    "- What are the chances of losing money when std=10%?"
   ]
  },
  {
   "cell_type": "code",
   "execution_count": 30,
   "metadata": {},
   "outputs": [
    {
     "data": {
      "text/plain": [
       "0.15865525393145707"
      ]
     },
     "execution_count": 30,
     "metadata": {},
     "output_type": "execute_result"
    }
   ],
   "source": [
    "norm.cdf(0,10,10)"
   ]
  },
  {
   "cell_type": "markdown",
   "metadata": {},
   "source": [
    "As standard deviation of the distribution increases the risk of losing money increases."
   ]
  },
  {
   "cell_type": "markdown",
   "metadata": {},
   "source": [
    "### Example 2:\n",
    "A monthly balance in the bank account of credit card holders is assumed to be normally distributed with mean 500USD and variance 100USD. \n",
    "- What is the probability that the balance can be more than  513.5USD?\n",
    "- If there are 1000 customers, \n",
    "    - how many customers will have account balance more than 513.5 USD?\n",
    "    - How many people will have less than 520 USD as their account balance?\n",
    "\n"
   ]
  },
  {
   "cell_type": "code",
   "execution_count": 36,
   "metadata": {},
   "outputs": [],
   "source": [
    "mu= 500\n",
    "var= 100\n",
    "sd= 10"
   ]
  },
  {
   "cell_type": "code",
   "execution_count": 37,
   "metadata": {},
   "outputs": [
    {
     "data": {
      "text/plain": [
       "0.089"
      ]
     },
     "execution_count": 37,
     "metadata": {},
     "output_type": "execute_result"
    }
   ],
   "source": [
    "(1-norm.cdf(513.5, mu, sd)).round(3)"
   ]
  },
  {
   "cell_type": "code",
   "execution_count": 38,
   "metadata": {},
   "outputs": [
    {
     "data": {
      "text/plain": [
       "88.508"
      ]
     },
     "execution_count": 38,
     "metadata": {},
     "output_type": "execute_result"
    }
   ],
   "source": [
    "((1-norm.cdf(513.5, 500, 10))*1000).round(3)"
   ]
  },
  {
   "cell_type": "code",
   "execution_count": 39,
   "metadata": {},
   "outputs": [
    {
     "data": {
      "text/plain": [
       "977.25"
      ]
     },
     "execution_count": 39,
     "metadata": {},
     "output_type": "execute_result"
    }
   ],
   "source": [
    "(norm.cdf(520, 500, 10)*1000).round(3)"
   ]
  }
 ],
 "metadata": {
  "kernelspec": {
   "display_name": "Python 3 (ipykernel)",
   "language": "python",
   "name": "python3"
  },
  "language_info": {
   "codemirror_mode": {
    "name": "ipython",
    "version": 3
   },
   "file_extension": ".py",
   "mimetype": "text/x-python",
   "name": "python",
   "nbconvert_exporter": "python",
   "pygments_lexer": "ipython3",
   "version": "3.12.2"
  }
 },
 "nbformat": 4,
 "nbformat_minor": 4
}
