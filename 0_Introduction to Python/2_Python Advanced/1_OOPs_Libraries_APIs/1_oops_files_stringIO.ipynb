{
 "cells": [
  {
   "attachments": {},
   "cell_type": "markdown",
   "metadata": {},
   "source": [
    "# Object Oriented Programming and Managing Files"
   ]
  },
  {
   "cell_type": "markdown",
   "metadata": {},
   "source": [
    "- __Object Oriented Programming (OOP)__ is a programming paradigm that allows abstraction through the concept of interacting entities.\n",
    "- More formally objects are entities that represent **instances** of a general abstract concept called **class**.\n",
    "- This programming works contradictory to conventional model and is procedural "
   ]
  },
  {
   "cell_type": "markdown",
   "metadata": {},
   "source": [
    "## Define classes"
   ]
  },
  {
   "cell_type": "markdown",
   "metadata": {},
   "source": [
    "### Creating classes"
   ]
  },
  {
   "cell_type": "markdown",
   "metadata": {},
   "source": [
    "A class in python is defined below:\n",
    "\n",
    "    class ClassName(base_classes):\n",
    "        statements\n",
    "\n",
    "        "
   ]
  },
  {
   "cell_type": "code",
   "execution_count": 2,
   "metadata": {},
   "outputs": [],
   "source": [
    "# Creating a sample class\n",
    "class Persona:\n",
    "    \"\"\"\n",
    "    This is a demo class: in which we are defining attributes as well as methods.\n",
    "    \"\"\"\n",
    "    # Attributes\n",
    "    name = 'Dhruv'\n",
    "    age = 22\n",
    "    \n",
    "    complexion = 'Fair'\n",
    "\n",
    "    # Methods:\n",
    "    def get_age():\n",
    "        return age\n",
    "    def get_name():\n",
    "        return name\n",
    "    def get_complexion():\n",
    "        return complexion"
   ]
  },
  {
   "cell_type": "code",
   "execution_count": 3,
   "metadata": {},
   "outputs": [
    {
     "name": "stdout",
     "output_type": "stream",
     "text": [
      "<__main__.Persona object at 0x0000013F61BB7B90>\n",
      "Dhruv is 22 years old and has a Fair complexion!\n"
     ]
    }
   ],
   "source": [
    "# A empty class can be created by defining attributes outside of the class too through the object\n",
    "class Persona:\n",
    "    pass\n",
    "\n",
    "obj = Persona()\n",
    "obj.name = 'Dhruv'\n",
    "obj.age = 22\n",
    "obj.complexion = 'Fair'\n",
    "\n",
    "# This will create an object under the class Persona\n",
    "print(obj)\n",
    "\n",
    "# Calling the attributes\n",
    "print('%s is %d years old and has a %s complexion!' %\n",
    "      (obj.name, obj.age, obj.complexion))"
   ]
  },
  {
   "cell_type": "markdown",
   "metadata": {},
   "source": [
    "- An empty class called _Persona_ is created with an instance called _obj_ and adds three attributes to _obj_.\n",
    "- We see that we can access objects attributes using the dot operator.\n",
    "\n",
    "#### `__init__()` function"
   ]
  },
  {
   "cell_type": "code",
   "execution_count": 4,
   "metadata": {},
   "outputs": [],
   "source": [
    "# A proper way to define a class is by using __init__() function\n",
    "class Persona:\n",
    "    def __init__(self, name, age, complexion):\n",
    "        self.name = name\n",
    "        self.age = age\n",
    "        self.complexion = complexion"
   ]
  },
  {
   "cell_type": "markdown",
   "metadata": {},
   "source": [
    "`__init__(self, ...)` is a special method that is automatically called after an object construction. Its purpose is to initialize every object state. The first argument (by convention) __self__ is automatically passed either and refers to the object itself."
   ]
  },
  {
   "cell_type": "code",
   "execution_count": 5,
   "metadata": {},
   "outputs": [
    {
     "name": "stdout",
     "output_type": "stream",
     "text": [
      "<__main__.Persona object at 0x0000013F61BB7020>\n",
      "Dhruv 22 Fair\n"
     ]
    }
   ],
   "source": [
    "# Creating an instance of the class\n",
    "obj2 = Persona('Dhruv', 22, 'Fair')\n",
    "\n",
    "# Print the object\n",
    "print(obj2)\n",
    "\n",
    "# Prints the values of the attributes\n",
    "print(obj2.name, obj2.age, obj2.complexion)"
   ]
  },
  {
   "cell_type": "markdown",
   "metadata": {},
   "source": [
    "### Methods"
   ]
  },
  {
   "cell_type": "code",
   "execution_count": 13,
   "metadata": {},
   "outputs": [
    {
     "name": "stdout",
     "output_type": "stream",
     "text": [
      "Dhruv 22\n",
      "2001\n"
     ]
    }
   ],
   "source": [
    "class Persona:\n",
    "    def __init__(self, name, age, complexion, birthyear):\n",
    "        self.name = name\n",
    "        self.age = age\n",
    "        self.complexion = complexion\n",
    "        self.birthyear = birthyear\n",
    "        \n",
    "    def get_birthyear(self, current_year):\n",
    "        return current_year - self.age\n",
    "    \n",
    "    def __str__(self):\n",
    "        return print('%s is %d years old, born in %d and has a %s complexion!' %(self.name, self.age, self.birthyear, self.complexion))\n",
    "\n",
    "# Creating an object\n",
    "dhruv = Persona('Dhruv', 22, 'Fair', 2001)\n",
    "\n",
    "# Calling an attribute\n",
    "print(dhruv.name, dhruv.age)\n",
    "\n",
    "# Calling a method\n",
    "print(dhruv.get_birthyear(2023))"
   ]
  },
  {
   "cell_type": "markdown",
   "metadata": {},
   "source": [
    "- `__str__(self)` a special method that is called by Python when the object has to be represented as a string (e.g. when has to be printed).\n",
    "- If the `__str__` method isn't defined the **print** command shows the type of object and its address in memory."
   ]
  },
  {
   "cell_type": "markdown",
   "metadata": {},
   "source": [
    "##### It is possible to create a class without the `__init__` method, but this is not a recommended style because classes should describe homogeneous entities."
   ]
  },
  {
   "cell_type": "markdown",
   "metadata": {},
   "source": [
    "### Abstraction Protection\n",
    "\n",
    "- Putting two underscores before a variable or method name makes them **private** variables or methods. ex: __private()\n",
    "- Putting one underscore before a variable or method name makes them **protected** variables or methods. ex: _protected()\n",
    "\n",
    "#### Example of using protected variables"
   ]
  },
  {
   "cell_type": "code",
   "execution_count": 14,
   "metadata": {},
   "outputs": [
    {
     "name": "stdout",
     "output_type": "stream",
     "text": [
      "Dhruv 22\n",
      "2001\n"
     ]
    }
   ],
   "source": [
    "class Persona:\n",
    "    def __init__(self, name, age, complexion, birthyear):\n",
    "        # Creating protected \n",
    "        self._name = name\n",
    "        self._age = age\n",
    "        self._complexion = complexion\n",
    "        self._birthyear = birthyear\n",
    "        \n",
    "    def get_birthyear(self, current_year):\n",
    "        return current_year - self._age\n",
    "    \n",
    "    def __str__(self):\n",
    "        return print('%s is %d years old, born in %d and has a %s complexion!' %(self._name, self._age, self._birthyear, self._complexion))\n",
    "\n",
    "# Creating an object\n",
    "dhruv = Persona('Dhruv', 22, 'Fair', 2001)\n",
    "\n",
    "# Calling an attribute\n",
    "print(dhruv._name, dhruv._age)\n",
    "\n",
    "# Calling a method\n",
    "print(dhruv.get_birthyear(2023))"
   ]
  },
  {
   "cell_type": "markdown",
   "metadata": {},
   "source": [
    "#### Example of using private variables"
   ]
  },
  {
   "cell_type": "code",
   "execution_count": 17,
   "metadata": {},
   "outputs": [
    {
     "name": "stdout",
     "output_type": "stream",
     "text": [
      "dict_keys(['_Persona__name', '_Persona__age', '_Persona__complexion', '_Persona__birthyear'])\n"
     ]
    }
   ],
   "source": [
    "class Persona:\n",
    "    def __init__(self, name, age, complexion, birthyear):\n",
    "        # Creating private variables \n",
    "        self.__name = name\n",
    "        self.__age = age\n",
    "        self.__complexion = complexion\n",
    "        self.__birthyear = birthyear\n",
    "        \n",
    "    def get_birthyear(self, current_year):\n",
    "        return current_year - self.__age\n",
    "    \n",
    "    def __str__(self):\n",
    "        return print('%s is %d years old, born in %d and has a %s complexion!' %(self.__name, self.__age, self.__birthyear, self.__complexion))\n",
    "\n",
    "# Creating an object\n",
    "dhruv = Persona('Dhruv', 22, 'Fair', 2001)\n",
    "\n",
    "# Calling an attribute will give an error\n",
    "# print(dhruv.__name, dhruv.__age)\n",
    "\n",
    "# Print keys\n",
    "print(dhruv.__dict__.keys())"
   ]
  },
  {
   "cell_type": "markdown",
   "metadata": {},
   "source": [
    "- `__dict__` is a special attribute is a dictionary containing each attribute of an object.\n",
    "- We can see that prepending two underscores every key has `_ClassName__` prepended."
   ]
  },
  {
   "cell_type": "markdown",
   "metadata": {},
   "source": [
    "## Inheritance"
   ]
  },
  {
   "cell_type": "markdown",
   "metadata": {},
   "source": [
    "Once a class is defined it models a concept. It is useful to extend a class behavior to model a less general concept."
   ]
  },
  {
   "cell_type": "code",
   "execution_count": 39,
   "metadata": {},
   "outputs": [
    {
     "name": "stdout",
     "output_type": "stream",
     "text": [
      "Buddy is a Golden Retriever dog\n",
      "Woof!\n",
      "Whiskers is a black cat\n",
      "Meow!\n"
     ]
    }
   ],
   "source": [
    "# Creating a base class \n",
    "class Animal:\n",
    "    def __init__(self, name, species):\n",
    "        self.name = name\n",
    "        self.species = species\n",
    "    \n",
    "    def make_sound(self):\n",
    "        pass\n",
    "\n",
    "    def info(self):\n",
    "        return f\"{self.name} is a {self.species}\"\n",
    "\n",
    "# Creating a Derived class \n",
    "class Dog(Animal):\n",
    "    def __init__(self, name, breed):\n",
    "        super().__init__(name, \"Dog\")  # Call the constructor of the base class\n",
    "        self.breed = breed\n",
    "    \n",
    "    def make_sound(self):\n",
    "        return \"Woof!\"\n",
    "\n",
    "    def info(self):\n",
    "        return f\"{self.name} is a {self.breed} dog\"\n",
    "\n",
    "# Another derived class (child class)\n",
    "class Cat(Animal):\n",
    "    def __init__(self, name, color):\n",
    "        super().__init__(name, \"Cat\")  # Call the constructor of the base class\n",
    "        self.color = color\n",
    "    \n",
    "    def make_sound(self):\n",
    "        return \"Meow!\"\n",
    "\n",
    "    def info(self):\n",
    "        return f\"{self.name} is a {self.color} cat\"\n",
    "\n",
    "# Creating instances of the derived classes\n",
    "dog = Dog(name=\"Buddy\", breed=\"Golden Retriever\")\n",
    "cat = Cat(name=\"Whiskers\", color=\"black\")\n",
    "\n",
    "# Accessing methods and attributes\n",
    "print(dog.info())    \n",
    "print(dog.make_sound()) \n",
    "print(cat.info())       \n",
    "print(cat.make_sound()) "
   ]
  },
  {
   "cell_type": "markdown",
   "metadata": {},
   "source": [
    "- Be aware that a subclass knows about its superclasses but the converse isn't true.\n",
    "- A sub class doesn't only inherits from its base classes, but from its base classes too, forming an inheritance tree that starts from a object (every class base class).\n",
    "- `super(Class, intance)` is a function that returns a proxy-object that delegates method calls to a parent or sibling class of type."
   ]
  },
  {
   "cell_type": "markdown",
   "metadata": {},
   "source": [
    "#### Overriding methods\n",
    "\n",
    "- Inheritance allows to add new methods to a subclass but often is useful to change the behavior of a method defined in the superclass.\n",
    "- To override a method just define it again."
   ]
  },
  {
   "cell_type": "markdown",
   "metadata": {},
   "source": [
    "## Encapsulation"
   ]
  },
  {
   "cell_type": "markdown",
   "metadata": {},
   "source": [
    "- Encapsulation is an another powerful way to extend a class which consists on wrapping an object with a second one.\n",
    "- There are two main reasons to use encapsulation: **Composition** and **Dynamic Extension**."
   ]
  },
  {
   "cell_type": "markdown",
   "metadata": {},
   "source": [
    "### Composition\n",
    "- The abstraction process relies on creating a simplified model that remove useless details from a concept.\n",
    "- In order to be simplified, a model should be described in terms of other simpler concepts."
   ]
  },
  {
   "cell_type": "code",
   "execution_count": 41,
   "metadata": {},
   "outputs": [
    {
     "name": "stdout",
     "output_type": "stream",
     "text": [
      "Tyres: \n",
      " \tBranch: Pirelli\n",
      " \tBelted-bias: True\n",
      " \tOptimal pressure: 2.0\n",
      "Engine: \n",
      " \tFuel type: Diesel\n",
      " \tNoise level:3\n",
      "Body:\n",
      " \tSize: Medium\n"
     ]
    }
   ],
   "source": [
    "# Class for Tyres\n",
    "class Tyres:\n",
    "    def __init__(self, branch, belted_bias, opt_pressure):\n",
    "        self.branch = branch\n",
    "        self.belted_bias = belted_bias\n",
    "        self.opt_pressure = opt_pressure\n",
    "        \n",
    "    def __str__(self):\n",
    "        return (\"Tyres: \\n \\tBranch: \" + self.branch + \"\\n \\tBelted-bias: \" + str(self.belted_bias) +  \n",
    "                \"\\n \\tOptimal pressure: \" + str(self.opt_pressure))\n",
    "\n",
    "# Class for Engine\n",
    "class Engine:\n",
    "    def __init__(self, fuel_type, noise_level):\n",
    "        self.fuel_type = fuel_type\n",
    "        self.noise_level = noise_level\n",
    "        \n",
    "    def __str__(self):\n",
    "        return (\"Engine: \\n \\tFuel type: \" + self.fuel_type +\n",
    "                \"\\n \\tNoise level:\" + str(self.noise_level))\n",
    "\n",
    "# Class for Body\n",
    "class Body:\n",
    "    def __init__(self, size):\n",
    "        self.size = size\n",
    "        \n",
    "    def __str__(self):\n",
    "        return \"Body:\\n \\tSize: \" + self.size\n",
    "\n",
    "# Class for Car\n",
    "class Car:\n",
    "    def __init__(self, tyres, engine, body):\n",
    "        self.tyres = tyres\n",
    "        self.engine = engine\n",
    "        self.body = body\n",
    "        \n",
    "    def __str__(self):\n",
    "        return str(self.tyres) + \"\\n\" + str(self.engine) + \"\\n\" + str(self.body)\n",
    "\n",
    "t = Tyres('Pirelli', True, 2.0)\n",
    "e = Engine('Diesel', 3)\n",
    "b = Body('Medium')\n",
    "c = Car(t, e, b)\n",
    "print(c)"
   ]
  },
  {
   "cell_type": "markdown",
   "metadata": {},
   "source": [
    "### Dynamic Extension\n",
    "\n",
    "Sometimes it's necessary to model a concept that may be a subclass of another one, but it isn't possible to know which class should be its superclass until runtime."
   ]
  },
  {
   "cell_type": "code",
   "execution_count": 47,
   "metadata": {},
   "outputs": [
    {
     "name": "stdout",
     "output_type": "stream",
     "text": [
      "Cherry is a Laika born in 1954.\n"
     ]
    }
   ],
   "source": [
    "# Creating a class named Dog\n",
    "class Dog:\n",
    "    def __init__(self, name, year_of_birth, breed):\n",
    "        self._name = name\n",
    "        self._year_of_birth = year_of_birth\n",
    "        self._breed = breed\n",
    "\n",
    "    def __str__(self):\n",
    "        return \"%s is a %s born in %d.\" % (self._name, self._breed, self._year_of_birth)\n",
    "\n",
    "# An object\n",
    "obj = Dog(\"Cherry\", 1954, \"Laika\")\n",
    "print(obj)"
   ]
  },
  {
   "cell_type": "code",
   "execution_count": 50,
   "metadata": {},
   "outputs": [
    {
     "name": "stdout",
     "output_type": "stream",
     "text": [
      "Cherry is a Laika born in 1954. Student ID: 1\n"
     ]
    }
   ],
   "source": [
    "class Student:\n",
    "    def __init__(self, anagraphic, student_id):\n",
    "        self._anagraphic = anagraphic\n",
    "        self._student_id = student_id\n",
    "        \n",
    "    def __str__(self):\n",
    "        return str(self._anagraphic) + ' Student ID: %d' % self._student_id\n",
    "\n",
    "# Using the obj created\n",
    "student = Student(obj, 1)\n",
    "print(student)"
   ]
  },
  {
   "cell_type": "markdown",
   "metadata": {},
   "source": [
    "## Polymorphism"
   ]
  },
  {
   "cell_type": "markdown",
   "metadata": {},
   "source": [
    "Polymorphism is the ability to use the same syntax for objects of different types:"
   ]
  },
  {
   "cell_type": "code",
   "execution_count": 54,
   "metadata": {},
   "outputs": [
    {
     "name": "stdout",
     "output_type": "stream",
     "text": [
      "2\n",
      "[1, 3, 5, 6, 'e', '$$']\n",
      "DhruvGupta\n"
     ]
    }
   ],
   "source": [
    "def addition(a, b):\n",
    "    return a + b\n",
    "\n",
    "# int and int\n",
    "print(addition(1, 1))\n",
    "\n",
    "# list and list\n",
    "print(addition([1, 3, 5, 6], ['e', '$$']))\n",
    "\n",
    "# string and string\n",
    "print(addition('Dhruv', 'Gupta'))"
   ]
  },
  {
   "cell_type": "markdown",
   "metadata": {},
   "source": [
    "## Files\n",
    "\n",
    "Python uses file objects to interact with the external files on your computer. These file objects can be of any file format on your computer i.e. can be an audio file, a text file, emails, Excel documents, etc. Note that you will probably need to install certain libraries or modules to interact with those various file types, but they are easily available.\n",
    "\n",
    "\n",
    "### iPython writing a file"
   ]
  },
  {
   "cell_type": "code",
   "execution_count": 62,
   "metadata": {},
   "outputs": [
    {
     "name": "stdout",
     "output_type": "stream",
     "text": [
      "Overwriting example.txt\n"
     ]
    }
   ],
   "source": [
    "%%writefile example.txt\n",
    "This is the first line. This is the second line. This is the third line."
   ]
  },
  {
   "cell_type": "markdown",
   "metadata": {},
   "source": [
    "### Python opening a file\n",
    "\n",
    "We can open a file with the open() function. This function also takes in arguments (also called parameters). Let's see how this is used:"
   ]
  },
  {
   "cell_type": "code",
   "execution_count": 63,
   "metadata": {},
   "outputs": [
    {
     "data": {
      "text/plain": [
       "'This is the first line. This is the second line. This is the third line.\\n'"
      ]
     },
     "execution_count": 63,
     "metadata": {},
     "output_type": "execute_result"
    }
   ],
   "source": [
    "# Open the example.txt and read files we created\n",
    "file = open('example.txt')\n",
    "file.read()"
   ]
  },
  {
   "cell_type": "code",
   "execution_count": 64,
   "metadata": {},
   "outputs": [
    {
     "data": {
      "text/plain": [
       "''"
      ]
     },
     "execution_count": 64,
     "metadata": {},
     "output_type": "execute_result"
    }
   ],
   "source": [
    "# But what happens if we try to read it again?\n",
    "file.read()"
   ]
  },
  {
   "cell_type": "markdown",
   "metadata": {},
   "source": [
    "This happens because you can imagine the reading \"cursor\" is at the end of the file after having read it. So there is nothing left to read. We can reset the 'cursor' like this:"
   ]
  },
  {
   "cell_type": "code",
   "execution_count": 65,
   "metadata": {},
   "outputs": [
    {
     "data": {
      "text/plain": [
       "'This is the first line. This is the second line. This is the third line.\\n'"
      ]
     },
     "execution_count": 65,
     "metadata": {},
     "output_type": "execute_result"
    }
   ],
   "source": [
    "# Seek to the start of file (index 0)\n",
    "file.seek(0)\n",
    "\n",
    "# Now read again\n",
    "file.read()"
   ]
  },
  {
   "cell_type": "code",
   "execution_count": 68,
   "metadata": {},
   "outputs": [
    {
     "data": {
      "text/plain": [
       "['This is the first line. This is the second line. This is the third line.\\n']"
      ]
     },
     "execution_count": 68,
     "metadata": {},
     "output_type": "execute_result"
    }
   ],
   "source": [
    "# Seek to the start of file (index 0)\n",
    "file.seek(0)\n",
    "\n",
    "# Readlines returns a list of the lines in the file.\n",
    "file.readlines()"
   ]
  },
  {
   "cell_type": "markdown",
   "metadata": {},
   "source": [
    "### Python writing to a file\n",
    "\n",
    "By default, using the open() function will only allow us to read the file, we need to pass the argument 'w' to write over the file. For example:"
   ]
  },
  {
   "cell_type": "code",
   "execution_count": 69,
   "metadata": {},
   "outputs": [
    {
     "data": {
      "text/plain": [
       "''"
      ]
     },
     "execution_count": 69,
     "metadata": {},
     "output_type": "execute_result"
    }
   ],
   "source": [
    "# Add the second argument to the function, 'w' which stands for write\n",
    "file = open('example.txt','w+')\n",
    "file.read()"
   ]
  },
  {
   "cell_type": "code",
   "execution_count": 70,
   "metadata": {},
   "outputs": [
    {
     "data": {
      "text/plain": [
       "'This is a new line'"
      ]
     },
     "execution_count": 70,
     "metadata": {},
     "output_type": "execute_result"
    }
   ],
   "source": [
    "# Write to the file\n",
    "file.write('This is a new line')\n",
    "\n",
    "# Seek to the start of file (index 0)\n",
    "file.seek(0)\n",
    "\n",
    "# Read the file\n",
    "file.read()"
   ]
  },
  {
   "cell_type": "markdown",
   "metadata": {},
   "source": [
    "### Python iterating through a file"
   ]
  },
  {
   "cell_type": "code",
   "execution_count": 71,
   "metadata": {},
   "outputs": [
    {
     "name": "stdout",
     "output_type": "stream",
     "text": [
      "Overwriting example.txt\n"
     ]
    }
   ],
   "source": [
    "%%writefile example.txt\n",
    "First Line\n",
    "Second Line\n",
    "Third Line"
   ]
  },
  {
   "cell_type": "code",
   "execution_count": 72,
   "metadata": {},
   "outputs": [
    {
     "name": "stdout",
     "output_type": "stream",
     "text": [
      "First Line\n",
      "\n",
      "Second Line\n",
      "\n",
      "Third Line\n",
      "\n"
     ]
    }
   ],
   "source": [
    "# Iterating through the file\n",
    "for line in open('example.txt'):\n",
    "    print(line)"
   ]
  },
  {
   "cell_type": "code",
   "execution_count": 56,
   "metadata": {},
   "outputs": [
    {
     "name": "stdout",
     "output_type": "stream",
     "text": [
      "First Line\n",
      "\n",
      "Second Line\n",
      "\n"
     ]
    }
   ],
   "source": [
    "# Pertaining to the first point above\n",
    "for asdf in open('test.txt'):\n",
    "    print(asdf)"
   ]
  },
  {
   "cell_type": "markdown",
   "metadata": {},
   "source": [
    "## StringIO \n",
    "\n",
    "The StringIO module implements an in-memory file like object. This object can then be used as input or output to most functions that would expect a standard file object."
   ]
  },
  {
   "cell_type": "code",
   "execution_count": 73,
   "metadata": {},
   "outputs": [
    {
     "name": "stdout",
     "output_type": "stream",
     "text": [
      "Hi! my name is Dhruv Gupta.\n"
     ]
    }
   ],
   "source": [
    "from io import StringIO\n",
    "\n",
    "# Arbitrary String\n",
    "message = 'Hi! my name is Dhruv Gupta.'\n",
    "print(message)"
   ]
  },
  {
   "cell_type": "code",
   "execution_count": 74,
   "metadata": {},
   "outputs": [
    {
     "data": {
      "text/plain": [
       "'Hi! my name is Dhruv Gupta.'"
      ]
     },
     "execution_count": 74,
     "metadata": {},
     "output_type": "execute_result"
    }
   ],
   "source": [
    "# Use StringIO method to set as file object\n",
    "file = StringIO(message)\n",
    "\n",
    "# Read the file\n",
    "file.read()"
   ]
  },
  {
   "cell_type": "code",
   "execution_count": 75,
   "metadata": {},
   "outputs": [
    {
     "data": {
      "text/plain": [
       "18"
      ]
     },
     "execution_count": 75,
     "metadata": {},
     "output_type": "execute_result"
    }
   ],
   "source": [
    "# Writing to the file\n",
    "file.write('I am 22 years old!')"
   ]
  },
  {
   "cell_type": "code",
   "execution_count": 76,
   "metadata": {},
   "outputs": [
    {
     "data": {
      "text/plain": [
       "'Hi! my name is Dhruv Gupta.I am 22 years old!'"
      ]
     },
     "execution_count": 76,
     "metadata": {},
     "output_type": "execute_result"
    }
   ],
   "source": [
    "# Reset cursor just like you would a file\n",
    "file.seek(0)\n",
    "\n",
    "# Read again\n",
    "file.read()"
   ]
  }
 ],
 "metadata": {
  "kernelspec": {
   "display_name": "Python 3 (ipykernel)",
   "language": "python",
   "name": "python3"
  },
  "language_info": {
   "codemirror_mode": {
    "name": "ipython",
    "version": 3
   },
   "file_extension": ".py",
   "mimetype": "text/x-python",
   "name": "python",
   "nbconvert_exporter": "python",
   "pygments_lexer": "ipython3",
   "version": "3.12.1"
  }
 },
 "nbformat": 4,
 "nbformat_minor": 4
}
