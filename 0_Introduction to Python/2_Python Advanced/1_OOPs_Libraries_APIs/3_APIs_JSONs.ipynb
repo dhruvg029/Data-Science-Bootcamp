{
 "cells": [
  {
   "cell_type": "markdown",
   "id": "considerable-evolution",
   "metadata": {
    "tags": []
   },
   "source": [
    "# API and JSON handling in Python \n",
    "1. Setting up Virtual Environment\n",
    "2. Data Ingestion through API calls\n",
    "3. Processing Advanced json structures which are result of API calls\n",
    "4. Importance of Environment variables and Argparse\n",
    "5. Using Debug modes in IDE and importance of Debugging\n",
    "6. Creating requirements.txt, setup.py and config.json files\n",
    "7. Versioning with Github\n"
   ]
  },
  {
   "cell_type": "markdown",
   "id": "entitled-ordinance",
   "metadata": {
    "tags": []
   },
   "source": [
    "## Setting up virtual environment"
   ]
  },
  {
   "cell_type": "markdown",
   "id": "advance-database",
   "metadata": {
    "tags": []
   },
   "source": [
    "### \\_ \\_builtins_ _\n",
    "    \n",
    "- The builtins module is loaded by default at the time when Python Interpreter is started.\n",
    "- `builtins` module provides direct access to all ‘built-in’ identifiers of Python."
   ]
  },
  {
   "cell_type": "code",
   "execution_count": 1,
   "id": "convenient-environment",
   "metadata": {},
   "outputs": [
    {
     "name": "stdout",
     "output_type": "stream",
     "text": [
      "['ArithmeticError', 'AssertionError', 'AttributeError', 'BaseException', 'BaseExceptionGroup', 'BlockingIOError', 'BrokenPipeError', 'BufferError', 'BytesWarning', 'ChildProcessError', 'ConnectionAbortedError', 'ConnectionError', 'ConnectionRefusedError', 'ConnectionResetError', 'DeprecationWarning', 'EOFError', 'Ellipsis', 'EncodingWarning', 'EnvironmentError', 'Exception', 'ExceptionGroup', 'False', 'FileExistsError', 'FileNotFoundError', 'FloatingPointError', 'FutureWarning', 'GeneratorExit', 'IOError', 'ImportError', 'ImportWarning', 'IndentationError', 'IndexError', 'InterruptedError', 'IsADirectoryError', 'KeyError', 'KeyboardInterrupt', 'LookupError', 'MemoryError', 'ModuleNotFoundError', 'NameError', 'None', 'NotADirectoryError', 'NotImplemented', 'NotImplementedError', 'OSError', 'OverflowError', 'PendingDeprecationWarning', 'PermissionError', 'ProcessLookupError', 'RecursionError', 'ReferenceError', 'ResourceWarning', 'RuntimeError', 'RuntimeWarning', 'StopAsyncIteration', 'StopIteration', 'SyntaxError', 'SyntaxWarning', 'SystemError', 'SystemExit', 'TabError', 'TimeoutError', 'True', 'TypeError', 'UnboundLocalError', 'UnicodeDecodeError', 'UnicodeEncodeError', 'UnicodeError', 'UnicodeTranslateError', 'UnicodeWarning', 'UserWarning', 'ValueError', 'Warning', 'WindowsError', 'ZeroDivisionError', '__IPYTHON__', '__build_class__', '__debug__', '__doc__', '__import__', '__loader__', '__name__', '__package__', '__spec__', 'abs', 'aiter', 'all', 'anext', 'any', 'ascii', 'bin', 'bool', 'breakpoint', 'bytearray', 'bytes', 'callable', 'chr', 'classmethod', 'compile', 'complex', 'copyright', 'credits', 'delattr', 'dict', 'dir', 'display', 'divmod', 'enumerate', 'eval', 'exec', 'execfile', 'filter', 'float', 'format', 'frozenset', 'get_ipython', 'getattr', 'globals', 'hasattr', 'hash', 'help', 'hex', 'id', 'input', 'int', 'isinstance', 'issubclass', 'iter', 'len', 'license', 'list', 'locals', 'map', 'max', 'memoryview', 'min', 'next', 'object', 'oct', 'open', 'ord', 'pow', 'print', 'property', 'range', 'repr', 'reversed', 'round', 'runfile', 'set', 'setattr', 'slice', 'sorted', 'staticmethod', 'str', 'sum', 'super', 'tuple', 'type', 'vars', 'zip']\n"
     ]
    }
   ],
   "source": [
    "from builtins import *\n",
    "\n",
    "print(dir(__builtins__))"
   ]
  },
  {
   "cell_type": "markdown",
   "id": "excessive-subdivision",
   "metadata": {},
   "source": [
    "### pip and pip3\n",
    "    \n",
    "- pip is the package manager for python and it simply install the packages with the required versions for python   \n",
    "- pip and pip3 are used for installation of packages in python: `pip3 install <package_name>`"
   ]
  },
  {
   "cell_type": "code",
   "execution_count": 2,
   "id": "exceptional-light",
   "metadata": {},
   "outputs": [
    {
     "name": "stdout",
     "output_type": "stream",
     "text": [
      "Requirement already satisfied: opencv-python in c:\\users\\dhruv\\appdata\\local\\programs\\python\\python312\\lib\\site-packages (4.8.1.78)\n",
      "Requirement already satisfied: numpy>=1.21.2 in c:\\users\\dhruv\\appdata\\local\\programs\\python\\python312\\lib\\site-packages (from opencv-python) (1.26.1)\n"
     ]
    },
    {
     "name": "stderr",
     "output_type": "stream",
     "text": [
      "\n",
      "[notice] A new release of pip is available: 24.0 -> 24.1\n",
      "[notice] To update, run: python.exe -m pip install --upgrade pip\n"
     ]
    },
    {
     "name": "stdout",
     "output_type": "stream",
     "text": [
      "Requirement already satisfied: pandas in c:\\users\\dhruv\\appdata\\local\\programs\\python\\python312\\lib\\site-packages (2.1.1)\n",
      "Requirement already satisfied: numpy in c:\\users\\dhruv\\appdata\\local\\programs\\python\\python312\\lib\\site-packages (1.26.1)\n",
      "Requirement already satisfied: python-dateutil>=2.8.2 in c:\\users\\dhruv\\appdata\\local\\programs\\python\\python312\\lib\\site-packages (from pandas) (2.8.2)\n",
      "Requirement already satisfied: pytz>=2020.1 in c:\\users\\dhruv\\appdata\\local\\programs\\python\\python312\\lib\\site-packages (from pandas) (2023.3.post1)\n",
      "Requirement already satisfied: tzdata>=2022.1 in c:\\users\\dhruv\\appdata\\local\\programs\\python\\python312\\lib\\site-packages (from pandas) (2023.3)\n",
      "Requirement already satisfied: six>=1.5 in c:\\users\\dhruv\\appdata\\local\\programs\\python\\python312\\lib\\site-packages (from python-dateutil>=2.8.2->pandas) (1.16.0)\n"
     ]
    },
    {
     "name": "stderr",
     "output_type": "stream",
     "text": [
      "\n",
      "[notice] A new release of pip is available: 24.0 -> 24.1\n",
      "[notice] To update, run: python.exe -m pip install --upgrade pip\n"
     ]
    }
   ],
   "source": [
    "!pip install opencv-python\n",
    "!pip install pandas numpy"
   ]
  },
  {
   "cell_type": "markdown",
   "id": "offshore-discovery",
   "metadata": {
    "tags": []
   },
   "source": [
    "### Python Virtual Environment\n",
    "    \n",
    "- Python Virtual Environment is a tool to have multiple Python Environments in the same machine / server.\n",
    "- It is typically created on top of a Base Python Environment.\n",
    "- It is created to separated out dependencies of multiple projects."
   ]
  },
  {
   "cell_type": "markdown",
   "id": "recognized-steam",
   "metadata": {},
   "source": [
    "#### Create requirements.txt file\n",
    "\n",
    "- **`requirements.txt`** file is a vital tool for managing dependencies, ensuring consistent environments, collaborating with others, deploying applications, and maintaining the integrity of your Python projects. The primary purpose of the requirements.txt file is to document and manage the dependencies of your project.\n",
    "- It lists all the external packages and libraries that your project relies on to function correctly. This ensures that anyone else working on your project can easily recreate the same development environment with the required packages.\n",
    "- To dynamically generate a requirements.txt: \n",
    "    - Open a terminal or command prompt. Navigate to your project directory where you want to create the requirements.txt file.\n",
    "    - **`pip freeze > requirements.txt`**\n",
    "- You can create the requirements.txt manually also.\n",
    "    - Open any notepad editor save the file as requirements.txt in requied folder. Add the libraries manually like this:\n",
    "\n",
    "            beautifulsoup4==4.9.3\n",
    "            requests==2.26.0\n",
    "            pandas==1.3.3\n",
    "            pydantic==1.8.2\n",
    "            python-dotenv==0.19.0\n",
    "\n",
    "    - To install the packages you need to run: **`pip install -r requirements.txt`**\n"
   ]
  },
  {
   "cell_type": "markdown",
   "id": "fifth-employee",
   "metadata": {},
   "source": [
    "#### conda create virtual environment\n",
    "With conda, you can create, export, list, remove, and update environments that have different versions of Python and/or packages installed in them:  \n",
    "https://conda.io/projects/conda/en/latest/user-guide/tasks/manage-environments.html"
   ]
  },
  {
   "cell_type": "markdown",
   "id": "120e7aa6",
   "metadata": {
    "tags": []
   },
   "source": [
    "## Data ingestion through API calls"
   ]
  },
  {
   "cell_type": "markdown",
   "id": "three-classics",
   "metadata": {},
   "source": [
    "### API definition\n",
    "API stands for Application Programming Interface. API programming is mostly used to serve a request, i.e. send data from Server to Client when a request is raised by the Client. When we want to fetch data from an API, we have to make a `request`. Example: **HTTP Request**:\n",
    "\n",
    "- You type the URL of a webpage in Browser.\n",
    "- The request is sent over the internet to the Web Server.\n",
    "- Based on the request and its correctness, the Web Server sends back the Response Code and Response Data.\n",
    "\n",
    "### requests package in Python\n",
    "- In Python, the most common library for making requests and working with APIs is the `requests` library\n",
    "- The requests module allows you to send HTTP requests using Python. \n",
    "- The HTTP request returns a Response Object with all the response data (status, content, encoding,  etc)"
   ]
  },
  {
   "cell_type": "code",
   "execution_count": 3,
   "id": "493ee82b",
   "metadata": {},
   "outputs": [
    {
     "name": "stdout",
     "output_type": "stream",
     "text": [
      "200\n",
      "{\"results\":[{\"gender\":\"male\",\"name\":{\"title\":\"Monsieur\",\"first\":\"Milo\",\"last\":\"Bertrand\"},\"location\":{\"street\":{\"number\":5042,\"name\":\"Quai Charles-De-Gaulle\"},\"city\":\"Corippo\",\"state\":\"Jura\",\"country\":\"Switzerland\",\"postcode\":6135,\"coordinates\":{\"latitude\":\"-63.2933\",\"longitude\":\"-145.5991\"},\"timezone\":{\"offset\":\"+5:45\",\"description\":\"Kathmandu\"}},\"email\":\"milo.bertrand@example.com\",\"login\":{\"uuid\":\"a1c8536b-9695-46b9-8c22-914b93b1266b\",\"username\":\"blackcat629\",\"password\":\"roger\",\"salt\":\"LAMwAUKt\",\"md5\":\"533192c48a0c0c5b95aa315a80dd2d58\",\"sha1\":\"4a5cc192957b9cb50e0cafdb03bec29d04289e5f\",\"sha256\":\"30e40c9acbe41da2f1b1a03366f17be0a3cf135efb546917a0922a38fa366267\"},\"dob\":{\"date\":\"1949-06-27T04:43:13.816Z\",\"age\":74},\"registered\":{\"date\":\"2008-02-18T18:30:49.848Z\",\"age\":16},\"phone\":\"076 701 44 74\",\"cell\":\"077 785 45 69\",\"id\":{\"name\":\"AVS\",\"value\":\"756.0144.2139.30\"},\"picture\":{\"large\":\"https://randomuser.me/api/portraits/men/72.jpg\",\"medium\":\"https://randomuser.me/api/portraits/med/men/72.jpg\",\"thumbnail\":\"https://randomuser.me/api/portraits/thumb/men/72.jpg\"},\"nat\":\"CH\"}],\"info\":{\"seed\":\"c1c70e7f38994f7b\",\"results\":1,\"page\":1,\"version\":\"1.4\"}}\n"
     ]
    }
   ],
   "source": [
    "# Import requests\n",
    "import requests\n",
    "import pandas as pd\n",
    "\n",
    "response = requests.get('https://randomuser.me/api')\n",
    "\n",
    "print(response.status_code) # 200 is OK, 404 is not found\n",
    "print(response.text)"
   ]
  },
  {
   "cell_type": "code",
   "execution_count": 6,
   "id": "proper-plant",
   "metadata": {},
   "outputs": [
    {
     "name": "stdout",
     "output_type": "stream",
     "text": [
      "{'results': [{'gender': 'male', 'name': {'title': 'Monsieur', 'first': 'Milo', 'last': 'Bertrand'}, 'location': {'street': {'number': 5042, 'name': 'Quai Charles-De-Gaulle'}, 'city': 'Corippo', 'state': 'Jura', 'country': 'Switzerland', 'postcode': 6135, 'coordinates': {'latitude': '-63.2933', 'longitude': '-145.5991'}, 'timezone': {'offset': '+5:45', 'description': 'Kathmandu'}}, 'email': 'milo.bertrand@example.com', 'login': {'uuid': 'a1c8536b-9695-46b9-8c22-914b93b1266b', 'username': 'blackcat629', 'password': 'roger', 'salt': 'LAMwAUKt', 'md5': '533192c48a0c0c5b95aa315a80dd2d58', 'sha1': '4a5cc192957b9cb50e0cafdb03bec29d04289e5f', 'sha256': '30e40c9acbe41da2f1b1a03366f17be0a3cf135efb546917a0922a38fa366267'}, 'dob': {'date': '1949-06-27T04:43:13.816Z', 'age': 74}, 'registered': {'date': '2008-02-18T18:30:49.848Z', 'age': 16}, 'phone': '076 701 44 74', 'cell': '077 785 45 69', 'id': {'name': 'AVS', 'value': '756.0144.2139.30'}, 'picture': {'large': 'https://randomuser.me/api/portraits/men/72.jpg', 'medium': 'https://randomuser.me/api/portraits/med/men/72.jpg', 'thumbnail': 'https://randomuser.me/api/portraits/thumb/men/72.jpg'}, 'nat': 'CH'}], 'info': {'seed': 'c1c70e7f38994f7b', 'results': 1, 'page': 1, 'version': '1.4'}} <class 'dict'>\n"
     ]
    }
   ],
   "source": [
    "# To convert into JSON format\n",
    "response_json = response.json()\n",
    "\n",
    "print(response_json, type(response_json))"
   ]
  },
  {
   "cell_type": "code",
   "execution_count": 7,
   "id": "metropolitan-secret",
   "metadata": {},
   "outputs": [
    {
     "name": "stdout",
     "output_type": "stream",
     "text": [
      "['results', 'info']\n"
     ]
    }
   ],
   "source": [
    "print(list(response_json))"
   ]
  },
  {
   "cell_type": "markdown",
   "id": "fallen-asthma",
   "metadata": {},
   "source": [
    "### Blindly taking every thing from results and converting to dataframe"
   ]
  },
  {
   "cell_type": "code",
   "execution_count": 8,
   "id": "economic-basement",
   "metadata": {},
   "outputs": [
    {
     "name": "stdout",
     "output_type": "stream",
     "text": [
      "[{'gender': 'male', 'name': {'title': 'Monsieur', 'first': 'Milo', 'last': 'Bertrand'}, 'location': {'street': {'number': 5042, 'name': 'Quai Charles-De-Gaulle'}, 'city': 'Corippo', 'state': 'Jura', 'country': 'Switzerland', 'postcode': 6135, 'coordinates': {'latitude': '-63.2933', 'longitude': '-145.5991'}, 'timezone': {'offset': '+5:45', 'description': 'Kathmandu'}}, 'email': 'milo.bertrand@example.com', 'login': {'uuid': 'a1c8536b-9695-46b9-8c22-914b93b1266b', 'username': 'blackcat629', 'password': 'roger', 'salt': 'LAMwAUKt', 'md5': '533192c48a0c0c5b95aa315a80dd2d58', 'sha1': '4a5cc192957b9cb50e0cafdb03bec29d04289e5f', 'sha256': '30e40c9acbe41da2f1b1a03366f17be0a3cf135efb546917a0922a38fa366267'}, 'dob': {'date': '1949-06-27T04:43:13.816Z', 'age': 74}, 'registered': {'date': '2008-02-18T18:30:49.848Z', 'age': 16}, 'phone': '076 701 44 74', 'cell': '077 785 45 69', 'id': {'name': 'AVS', 'value': '756.0144.2139.30'}, 'picture': {'large': 'https://randomuser.me/api/portraits/men/72.jpg', 'medium': 'https://randomuser.me/api/portraits/med/men/72.jpg', 'thumbnail': 'https://randomuser.me/api/portraits/thumb/men/72.jpg'}, 'nat': 'CH'}]\n"
     ]
    }
   ],
   "source": [
    "data = []\n",
    "for i in response_json['results']:\n",
    "    data.append(i)\n",
    "\n",
    "print(data)"
   ]
  },
  {
   "cell_type": "code",
   "execution_count": 10,
   "id": "ordinary-tuition",
   "metadata": {},
   "outputs": [
    {
     "data": {
      "text/html": [
       "<div>\n",
       "<style scoped>\n",
       "    .dataframe tbody tr th:only-of-type {\n",
       "        vertical-align: middle;\n",
       "    }\n",
       "\n",
       "    .dataframe tbody tr th {\n",
       "        vertical-align: top;\n",
       "    }\n",
       "\n",
       "    .dataframe thead th {\n",
       "        text-align: right;\n",
       "    }\n",
       "</style>\n",
       "<table border=\"1\" class=\"dataframe\">\n",
       "  <thead>\n",
       "    <tr style=\"text-align: right;\">\n",
       "      <th></th>\n",
       "      <th>gender</th>\n",
       "      <th>name</th>\n",
       "      <th>location</th>\n",
       "      <th>email</th>\n",
       "      <th>login</th>\n",
       "      <th>dob</th>\n",
       "      <th>registered</th>\n",
       "      <th>phone</th>\n",
       "      <th>cell</th>\n",
       "      <th>id</th>\n",
       "      <th>picture</th>\n",
       "      <th>nat</th>\n",
       "    </tr>\n",
       "  </thead>\n",
       "  <tbody>\n",
       "    <tr>\n",
       "      <th>0</th>\n",
       "      <td>male</td>\n",
       "      <td>{'title': 'Monsieur', 'first': 'Milo', 'last':...</td>\n",
       "      <td>{'street': {'number': 5042, 'name': 'Quai Char...</td>\n",
       "      <td>milo.bertrand@example.com</td>\n",
       "      <td>{'uuid': 'a1c8536b-9695-46b9-8c22-914b93b1266b...</td>\n",
       "      <td>{'date': '1949-06-27T04:43:13.816Z', 'age': 74}</td>\n",
       "      <td>{'date': '2008-02-18T18:30:49.848Z', 'age': 16}</td>\n",
       "      <td>076 701 44 74</td>\n",
       "      <td>077 785 45 69</td>\n",
       "      <td>{'name': 'AVS', 'value': '756.0144.2139.30'}</td>\n",
       "      <td>{'large': 'https://randomuser.me/api/portraits...</td>\n",
       "      <td>CH</td>\n",
       "    </tr>\n",
       "  </tbody>\n",
       "</table>\n",
       "</div>"
      ],
      "text/plain": [
       "  gender                                               name  \\\n",
       "0   male  {'title': 'Monsieur', 'first': 'Milo', 'last':...   \n",
       "\n",
       "                                            location  \\\n",
       "0  {'street': {'number': 5042, 'name': 'Quai Char...   \n",
       "\n",
       "                       email  \\\n",
       "0  milo.bertrand@example.com   \n",
       "\n",
       "                                               login  \\\n",
       "0  {'uuid': 'a1c8536b-9695-46b9-8c22-914b93b1266b...   \n",
       "\n",
       "                                               dob  \\\n",
       "0  {'date': '1949-06-27T04:43:13.816Z', 'age': 74}   \n",
       "\n",
       "                                        registered          phone  \\\n",
       "0  {'date': '2008-02-18T18:30:49.848Z', 'age': 16}  076 701 44 74   \n",
       "\n",
       "            cell                                            id  \\\n",
       "0  077 785 45 69  {'name': 'AVS', 'value': '756.0144.2139.30'}   \n",
       "\n",
       "                                             picture nat  \n",
       "0  {'large': 'https://randomuser.me/api/portraits...  CH  "
      ]
     },
     "execution_count": 10,
     "metadata": {},
     "output_type": "execute_result"
    }
   ],
   "source": [
    "df = pd.DataFrame(data)\n",
    "df.head()"
   ]
  },
  {
   "cell_type": "code",
   "execution_count": 12,
   "id": "progressive-lobby",
   "metadata": {},
   "outputs": [
    {
     "name": "stdout",
     "output_type": "stream",
     "text": [
      "<class 'list'>\n"
     ]
    }
   ],
   "source": [
    "results_json = response_json['results']\n",
    "results_json\n",
    "\n",
    "print(type(results_json))"
   ]
  },
  {
   "cell_type": "markdown",
   "id": "504d20ba",
   "metadata": {},
   "source": [
    "## Importance of Environment variables and Argparse"
   ]
  },
  {
   "cell_type": "markdown",
   "id": "included-minnesota",
   "metadata": {},
   "source": [
    "### Environment Variables\n",
    "- Environment Variables are Key - Value pairs that are declared as part of User's / System's Configuration. These variables can be accessed in your code\n",
    "- You may use environment variables to store sensitive information like API keys, passwords, or any other configuration details that you want to keep separate from your code. This can help enhance security and make it easier to manage configurations across different environments without hardcoding them directly into your code.\n"
   ]
  },
  {
   "cell_type": "markdown",
   "id": "6ae16ddc",
   "metadata": {},
   "source": [
    "### Setting Environment variables\n",
    "\n",
    "<b> You can set environment variables on your system or within your development environment.</b>\n"
   ]
  },
  {
   "cell_type": "code",
   "execution_count": 13,
   "id": "892beef7",
   "metadata": {},
   "outputs": [
    {
     "data": {
      "text/plain": [
       "'Windows_NT'"
      ]
     },
     "execution_count": 13,
     "metadata": {},
     "output_type": "execute_result"
    }
   ],
   "source": [
    "# Using windows a default enviroment variable is TEMP path.\n",
    "import os \n",
    "os.environ.get('OS')"
   ]
  },
  {
   "cell_type": "markdown",
   "id": "7ef6039c",
   "metadata": {},
   "source": [
    "### Environment Variable for a particular development environment\n",
    "\n",
    "- We can set enviroment variable by creating '.env' file\n",
    "- Open any notepad editor, copy paste some key-value pairs data points in the file and save it in the development directory using the name '.env' "
   ]
  },
  {
   "cell_type": "code",
   "execution_count": null,
   "id": "coupled-entity",
   "metadata": {},
   "outputs": [],
   "source": [
    "import os\n",
    "\n",
    "# to load .env file we need  use dotenv package\n",
    "# from dotenv import load_dotenv\n",
    "# load_dotenv()   # It will load the enviroment file \n",
    "\n",
    "# API_KEY = os.environ.get('API_KEY')\n",
    "# print(f\"API KEY loaded from .env file is {API_KEY}\" )\n",
    "# A_VAL = os.environ.get('A')\n",
    "# print(f\"A = {A_VAL}\" )"
   ]
  },
  {
   "cell_type": "markdown",
   "id": "relevant-single",
   "metadata": {},
   "source": [
    "### Argparse\n",
    "Argparse is the recommended command-line parsing module in the Python standard library."
   ]
  }
 ],
 "metadata": {
  "kernelspec": {
   "display_name": "Python 3 (ipykernel)",
   "language": "python",
   "name": "python3"
  },
  "language_info": {
   "codemirror_mode": {
    "name": "ipython",
    "version": 3
   },
   "file_extension": ".py",
   "mimetype": "text/x-python",
   "name": "python",
   "nbconvert_exporter": "python",
   "pygments_lexer": "ipython3",
   "version": "3.12.2"
  }
 },
 "nbformat": 4,
 "nbformat_minor": 5
}
