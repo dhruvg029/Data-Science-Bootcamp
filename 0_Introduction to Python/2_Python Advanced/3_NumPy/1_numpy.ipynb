{
 "cells": [
  {
   "cell_type": "markdown",
   "id": "c5db83b8-8c64-454b-906d-f3afa17439d8",
   "metadata": {},
   "source": [
    "# NumPy\n",
    "\n",
    "- NumPy (short for **Num**erical **Py**thon) is an open source Python library for doing scientific computing with Python.\n",
    "- NumPy is the foundation of the python scientific stack.\n",
    "\n",
    "## Installing numpy with pip\n",
    "\n",
    "Use the **`!pip install numpy`** to install numpy library."
   ]
  },
  {
   "cell_type": "code",
   "execution_count": 1,
   "id": "35d61b5e-03e5-4572-b631-6fbe0a1d0df8",
   "metadata": {},
   "outputs": [
    {
     "name": "stdout",
     "output_type": "stream",
     "text": [
      "Requirement already satisfied: numpy in c:\\users\\dhruv\\appdata\\local\\programs\\python\\python312\\lib\\site-packages (1.26.1)\n"
     ]
    }
   ],
   "source": [
    "# Install using pip \n",
    "!pip install numpy"
   ]
  },
  {
   "cell_type": "markdown",
   "id": "17bdd767-ed41-4f8e-b9cf-bd5bd5341d9f",
   "metadata": {},
   "source": [
    "## Importing libraries"
   ]
  },
  {
   "cell_type": "code",
   "execution_count": 2,
   "id": "6624a7ad-5f40-4a46-8c51-e51ce9f5ea7b",
   "metadata": {},
   "outputs": [
    {
     "name": "stdout",
     "output_type": "stream",
     "text": [
      "1.26.1\n"
     ]
    }
   ],
   "source": [
    "import numpy as np\n",
    "import random\n",
    "\n",
    "import warnings\n",
    "warnings.filterwarnings('ignore')\n",
    "\n",
    "print(np.__version__)"
   ]
  },
  {
   "cell_type": "markdown",
   "id": "9771a433-b603-41e4-ba7b-1b90ad40c2e1",
   "metadata": {},
   "source": [
    "## List v Numpy Array"
   ]
  },
  {
   "cell_type": "code",
   "execution_count": 8,
   "id": "1bf50b8d-c8e3-46e0-9d80-723cc9ffdb20",
   "metadata": {},
   "outputs": [],
   "source": [
    "# Creating a list\n",
    "lst = [i*random.randint(0,9) for i in range(100000)]"
   ]
  },
  {
   "cell_type": "code",
   "execution_count": 9,
   "id": "85855bfa-900b-4142-9685-7d88edb88e86",
   "metadata": {},
   "outputs": [
    {
     "name": "stdout",
     "output_type": "stream",
     "text": [
      "CPU times: total: 31.2 ms\n",
      "Wall time: 22.7 ms\n"
     ]
    }
   ],
   "source": [
    "%%time\n",
    "lst.sort()"
   ]
  },
  {
   "cell_type": "code",
   "execution_count": 10,
   "id": "5fae7595-8201-460a-97ef-64113f2dc86e",
   "metadata": {},
   "outputs": [],
   "source": [
    "# Converting the list into a numpy array\n",
    "np_array = np.array(lst)"
   ]
  },
  {
   "cell_type": "code",
   "execution_count": 12,
   "id": "268dbfef-8c96-47d6-a69c-6f47eb0264a8",
   "metadata": {},
   "outputs": [
    {
     "name": "stdout",
     "output_type": "stream",
     "text": [
      "CPU times: total: 15.6 ms\n",
      "Wall time: 6.86 ms\n"
     ]
    }
   ],
   "source": [
    "%%time\n",
    "np_array.sort()"
   ]
  },
  {
   "cell_type": "markdown",
   "id": "33e55bbd-1dd3-4fb9-a764-1972c19b3447",
   "metadata": {},
   "source": [
    "## Array creation"
   ]
  },
  {
   "cell_type": "code",
   "execution_count": 13,
   "id": "a8a9a8e0-0da9-412f-aae6-0cbb6f22f779",
   "metadata": {},
   "outputs": [
    {
     "name": "stdout",
     "output_type": "stream",
     "text": [
      "<class 'list'>\n",
      "<class 'numpy.ndarray'>\n"
     ]
    }
   ],
   "source": [
    "# Converting Python sequences to NumPy Arrays\n",
    "a = [1, 2, 3]\n",
    "print(type(a))\n",
    "\n",
    "np_a = np.array(a)\n",
    "print(type(np_a))"
   ]
  },
  {
   "cell_type": "code",
   "execution_count": 15,
   "id": "abd6a812-c357-41a9-a3b8-9f402204071d",
   "metadata": {},
   "outputs": [
    {
     "name": "stdout",
     "output_type": "stream",
     "text": [
      "[10.1  2.   1. ]\n"
     ]
    }
   ],
   "source": [
    "# 1d-array\n",
    "my_list = [10.1, 2, 1]\n",
    "\n",
    "array1d = np.array(my_list)\n",
    "print(array1d)"
   ]
  },
  {
   "cell_type": "code",
   "execution_count": 16,
   "id": "5097bebe-9811-4d72-b87c-a4fe6326f404",
   "metadata": {},
   "outputs": [
    {
     "name": "stdout",
     "output_type": "stream",
     "text": [
      "[[1.5 2.5 3.5 4. ]\n",
      " [4.5 5.5 6.5 1. ]\n",
      " [7.5 8.5 9.5 6. ]]\n"
     ]
    }
   ],
   "source": [
    "my_sublist = [\n",
    "    [1.5, 2.5, 3.5, 4],\n",
    "    [4.5, 5.5, 6.5, 1],\n",
    "    [7.5, 8.5, 9.5, 6]\n",
    "] # list of three by four list\n",
    "\n",
    "array2d = np.array(my_sublist)\n",
    "print(array2d)"
   ]
  },
  {
   "cell_type": "code",
   "execution_count": 17,
   "id": "ecf40e85-154f-4df3-b41b-fe6ae177f61a",
   "metadata": {},
   "outputs": [
    {
     "name": "stdout",
     "output_type": "stream",
     "text": [
      "[[['R' 'G' 'B']\n",
      "  ['R' 'G' 'B']]\n",
      "\n",
      " [['R' 'G' 'B']\n",
      "  ['R' 'G' 'B']]]\n"
     ]
    }
   ],
   "source": [
    "array3d = np.array([\n",
    "    [['R', 'G', 'B'], ['R', 'G', 'B']], \n",
    "    [['R', 'G', 'B'], ['R', 'G', 'B']]\n",
    "])\n",
    "print(array3d)"
   ]
  },
  {
   "cell_type": "markdown",
   "id": "2b3e040e-2f7b-495a-9795-8a71afddfcb8",
   "metadata": {},
   "source": [
    "### Some Default Attributes"
   ]
  },
  {
   "cell_type": "code",
   "execution_count": 20,
   "id": "583331aa-4230-40e5-b85b-84dcb25432f2",
   "metadata": {},
   "outputs": [
    {
     "name": "stdout",
     "output_type": "stream",
     "text": [
      "(3,) , (3, 4) , (2, 2, 3)\n"
     ]
    }
   ],
   "source": [
    "# shape: specifies the number of elements for each dimension of the array.\n",
    "print(array1d.shape, ',', array2d.shape, ',', array3d.shape)"
   ]
  },
  {
   "cell_type": "code",
   "execution_count": 21,
   "id": "7042edc6-c5ee-45ae-a1bc-22340771ba2c",
   "metadata": {},
   "outputs": [
    {
     "name": "stdout",
     "output_type": "stream",
     "text": [
      "3 , 12 , 12\n"
     ]
    }
   ],
   "source": [
    "# size: total number elements in the array\n",
    "print(array1d.size, ',', array2d.size, ',', array3d.size)"
   ]
  },
  {
   "cell_type": "code",
   "execution_count": 23,
   "id": "fe239ead-a34d-4910-94e2-37c6e6bfff53",
   "metadata": {},
   "outputs": [
    {
     "name": "stdout",
     "output_type": "stream",
     "text": [
      "1 , 2 , 3\n"
     ]
    }
   ],
   "source": [
    "# ndim: Determines the dimension an array\n",
    "print(array1d.ndim, ',', array2d.ndim, ',', array3d.ndim)"
   ]
  },
  {
   "cell_type": "code",
   "execution_count": 24,
   "id": "ca2552be-275e-442a-8870-e079cca82226",
   "metadata": {},
   "outputs": [
    {
     "name": "stdout",
     "output_type": "stream",
     "text": [
      "24 , 96 , 48\n"
     ]
    }
   ],
   "source": [
    "# nbytes: Number of bytes used to store the data\n",
    "print(array1d.nbytes, ',', array2d.nbytes, ',', array3d.nbytes)"
   ]
  },
  {
   "cell_type": "code",
   "execution_count": 25,
   "id": "f3e6ba1e-8e0d-4e20-a5b0-fd51746df689",
   "metadata": {},
   "outputs": [
    {
     "name": "stdout",
     "output_type": "stream",
     "text": [
      "float64 , float64 , <U1\n"
     ]
    }
   ],
   "source": [
    "# dtype: Determines the datatype of elements stored in array\n",
    "print(array1d.dtype, ',', array2d.dtype, ',', array3d.dtype)"
   ]
  },
  {
   "cell_type": "markdown",
   "id": "1e11bb88-a351-4c9b-8cb0-21bfe4cbd77c",
   "metadata": {},
   "source": [
    "\n",
    "### Reshape an array\n",
    "\n",
    "The **`reshape()`** method modifies existing shape but original array remains unchanged."
   ]
  },
  {
   "cell_type": "code",
   "execution_count": 27,
   "id": "5d2b8578-589e-4c52-a2a9-5a1242681f2c",
   "metadata": {},
   "outputs": [
    {
     "name": "stdout",
     "output_type": "stream",
     "text": [
      "[1 2 3]\n"
     ]
    },
    {
     "data": {
      "text/plain": [
       "array([[1],\n",
       "       [2],\n",
       "       [3]])"
      ]
     },
     "execution_count": 27,
     "metadata": {},
     "output_type": "execute_result"
    }
   ],
   "source": [
    "# Reshape the array\n",
    "print(np_a)\n",
    "\n",
    "# This will reshape into 3 rows and 1 column\n",
    "np_a.reshape(3,1)"
   ]
  },
  {
   "cell_type": "code",
   "execution_count": 33,
   "id": "467e283d-f86b-4949-9636-4cb74049d658",
   "metadata": {},
   "outputs": [
    {
     "name": "stdout",
     "output_type": "stream",
     "text": [
      "[[1 2 3 4]\n",
      " [5 6 7 8]]\n",
      "---\n",
      "[[1 2]\n",
      " [3 4]\n",
      " [5 6]\n",
      " [7 8]]\n"
     ]
    }
   ],
   "source": [
    "# Reshape arrays\n",
    "arr = np.array([1, 2, 3, 4, 5, 6, 7, 8])\n",
    "print(arr.reshape(2, 4))\n",
    "print('---')\n",
    "print(arr.reshape(4, 2))"
   ]
  },
  {
   "cell_type": "markdown",
   "id": "846c21f7-cb6c-4592-91c6-160ce4af3ec7",
   "metadata": {},
   "source": [
    "\n",
    "### Resize an array\n",
    "\n",
    "The **`resize()`** method modifies existing shape and array itself."
   ]
  },
  {
   "cell_type": "code",
   "execution_count": 37,
   "id": "855f7bd3-6770-4f84-ae88-98e8275f73a6",
   "metadata": {},
   "outputs": [
    {
     "name": "stdout",
     "output_type": "stream",
     "text": [
      "[[1 2 3 4]\n",
      " [5 6 7 8]]\n",
      "---\n",
      "[[1 2]\n",
      " [3 4]\n",
      " [5 6]\n",
      " [7 8]]\n"
     ]
    }
   ],
   "source": [
    "# Resize arrays\n",
    "arr = np.array([1, 2, 3, 4, 5, 6, 7, 8])\n",
    "arr.resize(2, 4)\n",
    "print(arr)\n",
    "\n",
    "print('---')\n",
    "\n",
    "arr.resize(4, 2)\n",
    "print(arr)"
   ]
  },
  {
   "cell_type": "markdown",
   "id": "372dde2b-8d31-440c-a617-96cd32c35bd1",
   "metadata": {},
   "source": [
    "## Some Built-in Methods for creating arrays\n",
    "\n",
    "### arange()\n",
    "Returns an array with evenly spaced elements as per the interval."
   ]
  },
  {
   "cell_type": "code",
   "execution_count": 40,
   "id": "c26fa158-56b9-42e5-b59b-1a799e5aa2cb",
   "metadata": {},
   "outputs": [
    {
     "name": "stdout",
     "output_type": "stream",
     "text": [
      "[10 11 12 13 14 15 16 17 18 19]\n",
      "[10 13 16 19 22 25 28]\n",
      "[[0 1]\n",
      " [2 3]]\n"
     ]
    }
   ],
   "source": [
    "# arange() function\n",
    "print(np.arange(10, 20))\n",
    "print(np.arange(10, 30, 3))\n",
    "print(np.arange(4).reshape(2,2))"
   ]
  },
  {
   "cell_type": "markdown",
   "id": "75709922-2a86-4b5d-a6cb-df9572a7e1c1",
   "metadata": {},
   "source": [
    "### linspace()\n",
    "\n",
    "Returns an array of evenly spaced values within the specified interval."
   ]
  },
  {
   "cell_type": "code",
   "execution_count": 41,
   "id": "927965c8-3e06-4167-b585-6c9f39b0a987",
   "metadata": {},
   "outputs": [
    {
     "name": "stdout",
     "output_type": "stream",
     "text": [
      "[ 0.  5. 10.]\n",
      "[1.  1.2 1.4 1.6 1.8 2. ]\n"
     ]
    }
   ],
   "source": [
    "# linspace()\n",
    "print(np.linspace(0, 10, 3))\n",
    "print(np.linspace(1, 2, 6))"
   ]
  },
  {
   "cell_type": "markdown",
   "id": "bd69a845-b888-4d3b-b676-25fa05efa754",
   "metadata": {},
   "source": [
    "### random.randn()\n",
    "\n",
    "Creates an array of specified shape and fills it with random values as per standard normal distribution."
   ]
  },
  {
   "cell_type": "code",
   "execution_count": 45,
   "id": "ba30bff8-89bd-463a-86ee-a776bf737b2e",
   "metadata": {},
   "outputs": [
    {
     "name": "stdout",
     "output_type": "stream",
     "text": [
      "[ 1.04595355 -2.52040477  0.74086621 ...  0.05399727  0.14676568\n",
      "  0.22238181]\n",
      "mean:  0.004303156919260284\n",
      "std. dev.: 0.9958596324259342\n"
     ]
    }
   ],
   "source": [
    "# Standard Normal Distribution Random Number Generator\n",
    "normal = np.random.randn(10000)\n",
    "print(normal)\n",
    "\n",
    "print('mean: ', np.mean(normal))\n",
    "print('std. dev.:', np.std(normal))"
   ]
  },
  {
   "cell_type": "markdown",
   "id": "a8a5cbc4-12f8-4a81-a88c-78e8dea9bfa1",
   "metadata": {},
   "source": [
    "### random.randint()\n",
    "\n",
    "Creates an array of random integers in a specified intervals in a given shape. "
   ]
  },
  {
   "cell_type": "code",
   "execution_count": 47,
   "id": "8f02560d-03a8-4bb0-8261-4a39a445c05e",
   "metadata": {},
   "outputs": [
    {
     "name": "stdout",
     "output_type": "stream",
     "text": [
      "[[3 9 8]\n",
      " [0 1 0]\n",
      " [5 9 2]]\n"
     ]
    }
   ],
   "source": [
    "# Create a 3 x 3 array of random integers in the interval [0, 10)\n",
    "print(np.random.randint(0, 10, (3, 3)))"
   ]
  },
  {
   "cell_type": "code",
   "execution_count": 48,
   "id": "a0d0814f-be7c-411c-85c2-4e57dac93b4e",
   "metadata": {},
   "outputs": [
    {
     "name": "stdout",
     "output_type": "stream",
     "text": [
      "[[ 1 10  1]\n",
      " [ 9  4  7]\n",
      " [ 0  0  1]]\n"
     ]
    }
   ],
   "source": [
    "# create another matrix\n",
    "print(np.random.randint(0, 11, (3, 3)))"
   ]
  },
  {
   "cell_type": "markdown",
   "id": "46f6b0f2-02dc-4295-a4e9-3acf62fe261a",
   "metadata": {},
   "source": [
    "We got a different matrix when we generated another random matrix: We can get the same matrix again by fixing the seed."
   ]
  },
  {
   "cell_type": "code",
   "execution_count": 69,
   "id": "249f0752-55e4-412d-ac3c-4434bc832a2b",
   "metadata": {},
   "outputs": [
    {
     "name": "stdout",
     "output_type": "stream",
     "text": [
      "[[5 0 3]\n",
      " [3 7 9]\n",
      " [3 5 2]]\n"
     ]
    }
   ],
   "source": [
    "# fixing the random seed\n",
    "np.random.seed(0)\n",
    "print(np.random.randint(0, 11, (3, 3)))"
   ]
  },
  {
   "cell_type": "code",
   "execution_count": 70,
   "id": "38ca70a9-3c4c-40a7-91a9-627255d5c340",
   "metadata": {},
   "outputs": [
    {
     "name": "stdout",
     "output_type": "stream",
     "text": [
      "[[5 0 3]\n",
      " [3 7 9]\n",
      " [3 5 2]]\n"
     ]
    }
   ],
   "source": [
    "# fixing the random seed\n",
    "np.random.seed(0)\n",
    "print(np.random.randint(0, 11, (3, 3)))"
   ]
  },
  {
   "cell_type": "markdown",
   "id": "d7628742-d538-44a3-ab25-8a083e7d8a8e",
   "metadata": {},
   "source": [
    "### zeros() and ones()\n",
    "\n",
    "- **zeros():** Creates an array of a given shape filled with zeroes.\n",
    "- **ones():** Creates an array of a given shape filled with ones."
   ]
  },
  {
   "cell_type": "code",
   "execution_count": 56,
   "id": "88a7f890-a13d-4097-bed8-134a89c82c7c",
   "metadata": {},
   "outputs": [
    {
     "name": "stdout",
     "output_type": "stream",
     "text": [
      "[[0 0 0 0 0 0 0 0 0 0]\n",
      " [0 0 0 0 0 0 0 0 0 0]]\n",
      "----\n",
      "[[0 0 0 0 0]\n",
      " [0 0 0 0 0]\n",
      " [0 0 0 0 0]\n",
      " [0 0 0 0 0]]\n"
     ]
    }
   ],
   "source": [
    "# Create a 2 X 10 integer array filled with zeros\n",
    "print(np.zeros((2, 10), dtype = int))\n",
    "print('----')\n",
    "print(np.zeros((4, 5), dtype = int))"
   ]
  },
  {
   "cell_type": "code",
   "execution_count": 57,
   "id": "a0c262b3-c8c5-4c91-9b6e-e025ed240577",
   "metadata": {},
   "outputs": [
    {
     "name": "stdout",
     "output_type": "stream",
     "text": [
      "[[1 1 1 1 1 1 1 1 1 1]\n",
      " [1 1 1 1 1 1 1 1 1 1]]\n",
      "----\n",
      "[[1 1 1 1 1]\n",
      " [1 1 1 1 1]\n",
      " [1 1 1 1 1]\n",
      " [1 1 1 1 1]]\n"
     ]
    }
   ],
   "source": [
    "# Create a 2 X 10 integer array filled with zeros\n",
    "print(np.ones((2, 10), dtype = int))\n",
    "print('----')\n",
    "print(np.ones((4, 5), dtype = int))"
   ]
  },
  {
   "cell_type": "markdown",
   "id": "d6103f4c-d44a-40bf-8cf6-7ffe82d70a84",
   "metadata": {},
   "source": [
    "### identity()\n",
    "\n",
    "Creates an identitity matrix of a given shape."
   ]
  },
  {
   "cell_type": "code",
   "execution_count": 60,
   "id": "51ce94e6-13b9-424f-b763-ed6987f744ba",
   "metadata": {},
   "outputs": [
    {
     "name": "stdout",
     "output_type": "stream",
     "text": [
      "[[1 0 0 0 0]\n",
      " [0 1 0 0 0]\n",
      " [0 0 1 0 0]\n",
      " [0 0 0 1 0]\n",
      " [0 0 0 0 1]]\n"
     ]
    }
   ],
   "source": [
    "# Create a 5 x 5 identity matrix\n",
    "print(np.identity(5, dtype = int))"
   ]
  },
  {
   "cell_type": "markdown",
   "id": "eb843020-07c5-4c71-9274-a5cb3766bf3f",
   "metadata": {},
   "source": [
    "### full()\n",
    "\n",
    "Creates a matrix by filling with any specific number of specific dimension."
   ]
  },
  {
   "cell_type": "code",
   "execution_count": 61,
   "id": "f6d7fa85-3fc3-42b5-9f09-dfc7bc551c4e",
   "metadata": {},
   "outputs": [
    {
     "name": "stdout",
     "output_type": "stream",
     "text": [
      "[[2.14 2.14 2.14 2.14 2.14]\n",
      " [2.14 2.14 2.14 2.14 2.14]\n",
      " [2.14 2.14 2.14 2.14 2.14]]\n"
     ]
    }
   ],
   "source": [
    "# Create a 3 x 5 array filled with 2.14\n",
    "print(np.full((3, 5), 2.14))"
   ]
  },
  {
   "cell_type": "code",
   "execution_count": 62,
   "id": "95b3f589-2220-413f-8f16-e728227e3a34",
   "metadata": {},
   "outputs": [
    {
     "name": "stdout",
     "output_type": "stream",
     "text": [
      "[[7 7 7 7]\n",
      " [7 7 7 7]]\n"
     ]
    }
   ],
   "source": [
    "# Create a 2 x 4 array filled with 7\n",
    "print(np.full((2, 4), 7))"
   ]
  },
  {
   "cell_type": "markdown",
   "id": "238d1910-f07a-468b-a7fb-3f1c0caaf23d",
   "metadata": {},
   "source": [
    "### eye()\n",
    "\n",
    "Returns a 2-D array with  1’s as the diagonal and  0’s elsewhere. The diagonal can be main, upper, or lower depending on the optional parameter k."
   ]
  },
  {
   "cell_type": "code",
   "execution_count": 63,
   "id": "adf0c5e2-d84d-4b36-9d25-78fa4479f758",
   "metadata": {},
   "outputs": [
    {
     "name": "stdout",
     "output_type": "stream",
     "text": [
      "[[1 0]\n",
      " [0 1]]\n"
     ]
    }
   ],
   "source": [
    "# Create a 2 x 2 matrix with k = 0 (default)\n",
    "print(np.eye(2, dtype = int))"
   ]
  },
  {
   "cell_type": "code",
   "execution_count": 65,
   "id": "c154a1c4-caae-4bb8-a08d-a4f7f5664c30",
   "metadata": {},
   "outputs": [
    {
     "name": "stdout",
     "output_type": "stream",
     "text": [
      "[[0. 0. 1. 0. 0. 0.]\n",
      " [0. 0. 0. 1. 0. 0.]\n",
      " [0. 0. 0. 0. 1. 0.]\n",
      " [0. 0. 0. 0. 0. 1.]\n",
      " [0. 0. 0. 0. 0. 0.]]\n"
     ]
    }
   ],
   "source": [
    "# Create a 5 x 6 matrix with k = 2, which means 1s in the 2nd diagonal from the middle one\n",
    "print(np.eye(5, 6, k = 2))"
   ]
  },
  {
   "cell_type": "markdown",
   "id": "bfa04ebf-42f6-4ae6-a3e4-01332a09fed7",
   "metadata": {},
   "source": [
    "## Array Indexing and Concatenation"
   ]
  },
  {
   "cell_type": "code",
   "execution_count": 49,
   "id": "739140b8-489c-4edd-9d81-110f802cf466",
   "metadata": {},
   "outputs": [
    {
     "name": "stdout",
     "output_type": "stream",
     "text": [
      "[[9 4 2]\n",
      " [1 1 0]\n",
      " [2 2 7]]\n"
     ]
    }
   ],
   "source": [
    "# Create a random matrix\n",
    "matrix = np.random.randint(0, 10, (3, 3))\n",
    "print(matrix)"
   ]
  },
  {
   "cell_type": "code",
   "execution_count": 53,
   "id": "069faf1c-8365-490f-8c98-21bf0c575479",
   "metadata": {},
   "outputs": [
    {
     "name": "stdout",
     "output_type": "stream",
     "text": [
      "1 7 4\n"
     ]
    }
   ],
   "source": [
    "# Printing elements based on indexes\n",
    "print(matrix[1][1], matrix[2][2], matrix[0][1])"
   ]
  },
  {
   "cell_type": "code",
   "execution_count": 78,
   "id": "23f8e40b-5ea9-49b8-a256-c094a26cf87f",
   "metadata": {},
   "outputs": [
    {
     "name": "stdout",
     "output_type": "stream",
     "text": [
      "[[1 2 3]\n",
      " [4 5 6]]\n",
      "[[ 7  8  9]\n",
      " [10 11 12]]\n"
     ]
    }
   ],
   "source": [
    "# Creating 2 matrices\n",
    "matrix1 = np.array([[1, 2, 3], [4, 5, 6]])\n",
    "matrix2 = np.array([[7, 8, 9], [10, 11, 12]])\n",
    "\n",
    "print(matrix1)\n",
    "print(matrix2)"
   ]
  },
  {
   "cell_type": "code",
   "execution_count": 73,
   "id": "c4295f73-c8c1-4bc1-8123-94a8b4d7f563",
   "metadata": {},
   "outputs": [
    {
     "name": "stdout",
     "output_type": "stream",
     "text": [
      "[[ 1  2  3]\n",
      " [ 4  5  6]\n",
      " [ 7  8  9]\n",
      " [10 11 12]]\n"
     ]
    }
   ],
   "source": [
    "# Concatenate along the row\n",
    "matrix_row = np.concatenate([matrix1, matrix2], axis = 0)\n",
    "print(matrix_row)"
   ]
  },
  {
   "cell_type": "code",
   "execution_count": 74,
   "id": "cbbe4454-9747-4e37-ae60-8dd50f0d4cb3",
   "metadata": {},
   "outputs": [
    {
     "name": "stdout",
     "output_type": "stream",
     "text": [
      "[[ 1  2  3  7  8  9]\n",
      " [ 4  5  6 10 11 12]]\n"
     ]
    }
   ],
   "source": [
    "# Concatenate along the column\n",
    "matrix_col = np.concatenate([matrix1, matrix2], axis = 1)\n",
    "print(matrix_col)"
   ]
  },
  {
   "cell_type": "markdown",
   "id": "5c782984-aab1-4013-93c7-7aad171785c0",
   "metadata": {},
   "source": [
    "## Conditional Selection"
   ]
  },
  {
   "cell_type": "code",
   "execution_count": 85,
   "id": "455b2415-4981-4aa4-8b4d-d61e6f7d708c",
   "metadata": {},
   "outputs": [
    {
     "name": "stdout",
     "output_type": "stream",
     "text": [
      "[[8 1 5]\n",
      " [9 8 9]\n",
      " [4 3 0]]\n"
     ]
    }
   ],
   "source": [
    "# Create a random matrix\n",
    "matrix = np.random.randint(0, 10, (3, 3))\n",
    "print(matrix)"
   ]
  },
  {
   "cell_type": "code",
   "execution_count": 87,
   "id": "62e603c2-0308-40a2-af5e-931aa83ce091",
   "metadata": {},
   "outputs": [
    {
     "name": "stdout",
     "output_type": "stream",
     "text": [
      "[[ True False  True]\n",
      " [ True  True  True]\n",
      " [False False False]]\n"
     ]
    }
   ],
   "source": [
    "# Returns a boolean matrix of true and false\n",
    "print(matrix > 4) "
   ]
  },
  {
   "cell_type": "code",
   "execution_count": 88,
   "id": "7fc618de-439c-49cb-a6a5-ed1c9e6bb60e",
   "metadata": {},
   "outputs": [
    {
     "name": "stdout",
     "output_type": "stream",
     "text": [
      "[[ True False  True]\n",
      " [ True  True  True]\n",
      " [False False False]]\n"
     ]
    }
   ],
   "source": [
    "# Creating a bool matrix on a condition\n",
    "bool_matrix = matrix > 4\n",
    "print(bool_matrix)"
   ]
  },
  {
   "cell_type": "code",
   "execution_count": 89,
   "id": "70329a89-35d8-4ad8-89c3-78e46ef14945",
   "metadata": {},
   "outputs": [
    {
     "data": {
      "text/plain": [
       "array([8, 5, 9, 8, 9])"
      ]
     },
     "execution_count": 89,
     "metadata": {},
     "output_type": "execute_result"
    }
   ],
   "source": [
    "# Showcase the elements\n",
    "matrix[bool_matrix]"
   ]
  },
  {
   "cell_type": "code",
   "execution_count": 90,
   "id": "f92e7703-6976-405a-9ffb-6c6612f0bc47",
   "metadata": {},
   "outputs": [
    {
     "name": "stdout",
     "output_type": "stream",
     "text": [
      "[[50  1 50]\n",
      " [50 50 50]\n",
      " [ 4  3  0]]\n"
     ]
    }
   ],
   "source": [
    "# Values can be updated as well\n",
    "matrix[matrix > 4] = 50\n",
    "print(matrix)"
   ]
  },
  {
   "cell_type": "markdown",
   "id": "0e682faa-2681-4f62-9f07-eafdd38dae7f",
   "metadata": {},
   "source": [
    "## Array Broadcasting"
   ]
  },
  {
   "cell_type": "code",
   "execution_count": 79,
   "id": "46cc8977-ea8a-459d-afe1-ae58d5478535",
   "metadata": {},
   "outputs": [
    {
     "name": "stdout",
     "output_type": "stream",
     "text": [
      "[[4 7 6]\n",
      " [8 8 1]\n",
      " [6 7 7]]\n"
     ]
    }
   ],
   "source": [
    "# Create a random matrix\n",
    "matrix = np.random.randint(0, 10, (3, 3))\n",
    "print(matrix)"
   ]
  },
  {
   "cell_type": "code",
   "execution_count": 80,
   "id": "d205489a-abd5-4db2-87a1-66e673ac1266",
   "metadata": {},
   "outputs": [
    {
     "name": "stdout",
     "output_type": "stream",
     "text": [
      "[[12 21 18]\n",
      " [24 24  3]\n",
      " [18 21 21]]\n"
     ]
    }
   ],
   "source": [
    "# Multiplying by 3\n",
    "matrix_2 = matrix * 3\n",
    "print(matrix_2)"
   ]
  },
  {
   "cell_type": "code",
   "execution_count": 82,
   "id": "4f317c48-7eed-42d1-8401-4dd5ce73d27a",
   "metadata": {},
   "outputs": [
    {
     "name": "stdout",
     "output_type": "stream",
     "text": [
      "[[16 28 24]\n",
      " [32 32  4]\n",
      " [24 28 28]]\n"
     ]
    }
   ],
   "source": [
    "# Adding the two matrices\n",
    "print(matrix + matrix_2)"
   ]
  },
  {
   "cell_type": "markdown",
   "id": "1820c18d-dbf9-49bf-b2ea-44edc50a3268",
   "metadata": {},
   "source": [
    "### Difference between list and numpy array"
   ]
  },
  {
   "cell_type": "code",
   "execution_count": 83,
   "id": "da9c9fa2-d42d-43de-b093-10b28bb4e4a0",
   "metadata": {},
   "outputs": [
    {
     "name": "stdout",
     "output_type": "stream",
     "text": [
      "[1, 2, 3, 4, 5, 6, 1, 2, 3, 4, 5, 6]\n"
     ]
    }
   ],
   "source": [
    "# Create a sample list\n",
    "sample_list = [1, 2, 3, 4, 5, 6]\n",
    "print(sample_list * 2)"
   ]
  },
  {
   "cell_type": "code",
   "execution_count": 84,
   "id": "8d294ce6-f121-4942-935a-9a43816e9012",
   "metadata": {},
   "outputs": [
    {
     "name": "stdout",
     "output_type": "stream",
     "text": [
      "[ 2  4  6  8 10 12]\n"
     ]
    }
   ],
   "source": [
    "# Create a sample numpy array\n",
    "np_array = np.array(sample_list)\n",
    "print(np_array * 2)"
   ]
  },
  {
   "cell_type": "markdown",
   "id": "28426db5-8829-42ad-82ae-0dc099ebfdf5",
   "metadata": {},
   "source": [
    "We can see that in case of list the elements are duplicated and appended to the list, whereas in case of numpy array we got an array where all elements are multiplied by 2. "
   ]
  }
 ],
 "metadata": {
  "kernelspec": {
   "display_name": "Python 3 (ipykernel)",
   "language": "python",
   "name": "python3"
  },
  "language_info": {
   "codemirror_mode": {
    "name": "ipython",
    "version": 3
   },
   "file_extension": ".py",
   "mimetype": "text/x-python",
   "name": "python",
   "nbconvert_exporter": "python",
   "pygments_lexer": "ipython3",
   "version": "3.12.2"
  }
 },
 "nbformat": 4,
 "nbformat_minor": 5
}
