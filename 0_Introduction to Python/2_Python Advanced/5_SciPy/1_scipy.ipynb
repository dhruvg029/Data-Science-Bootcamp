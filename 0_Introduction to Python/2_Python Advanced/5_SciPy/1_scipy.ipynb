{
 "cells": [
  {
   "cell_type": "markdown",
   "metadata": {
    "colab_type": "text",
    "id": "61BL8dcvicf_"
   },
   "source": [
    "# SciPy in Python\n",
    "\n",
    "SciPy is a open source scientific library for python. The SciPy library depends on NumPy, which provides convenient and fast N-dimensional array manipulation.\n",
    "\n",
    "### Setting up and importing SciPy\n",
    "\n",
    "You can install scipy from pip with the help of **`!pip install scipy`**."
   ]
  },
  {
   "cell_type": "code",
   "execution_count": 1,
   "metadata": {},
   "outputs": [
    {
     "name": "stdout",
     "output_type": "stream",
     "text": [
      "Requirement already satisfied: scipy in c:\\users\\dhruv\\appdata\\local\\programs\\python\\python312\\lib\\site-packages (1.13.0)\n",
      "Requirement already satisfied: numpy<2.3,>=1.22.4 in c:\\users\\dhruv\\appdata\\local\\programs\\python\\python312\\lib\\site-packages (from scipy) (1.26.1)\n"
     ]
    }
   ],
   "source": [
    "# Installing scipy\n",
    "!pip install scipy"
   ]
  },
  {
   "cell_type": "code",
   "execution_count": 4,
   "metadata": {
    "colab": {},
    "colab_type": "code",
    "id": "oNhLoX8vicgJ"
   },
   "outputs": [
    {
     "name": "stdout",
     "output_type": "stream",
     "text": [
      "1.13.0\n"
     ]
    }
   ],
   "source": [
    "# import the scipy library\n",
    "import scipy\n",
    "\n",
    "import warnings\n",
    "warnings.filterwarnings('ignore')\n",
    "\n",
    "# check the version of scipy\n",
    "print(scipy.__version__)"
   ]
  },
  {
   "cell_type": "markdown",
   "metadata": {
    "colab_type": "text",
    "id": "kmHln7RwichH"
   },
   "source": [
    "### Compute the nth derivate of a function"
   ]
  },
  {
   "cell_type": "code",
   "execution_count": 8,
   "metadata": {
    "colab": {},
    "colab_type": "code",
    "id": "eAa-m1gCichM"
   },
   "outputs": [
    {
     "name": "stdout",
     "output_type": "stream",
     "text": [
      "First Derivative at x = 2: 27.0\n",
      "Second Derivative at x = 2: 18.0\n"
     ]
    }
   ],
   "source": [
    "# import the derivative from scipy\n",
    "from scipy.misc import derivative\n",
    "\n",
    "# define the function\n",
    "def func(x):\n",
    "    return x**3 + 3*x**2 + 2*x + 1\n",
    "\n",
    "# Calculate the first derivative\n",
    "print('First Derivative at x = 2:', derivative(func = func, x0 = 2))\n",
    "\n",
    "# Calculate the second derivative\n",
    "print('Second Derivative at x = 2:', derivative(func = func, x0 = 2, n = 2))"
   ]
  },
  {
   "cell_type": "markdown",
   "metadata": {
    "colab_type": "text",
    "id": "Gy-Fxizfich4"
   },
   "source": [
    "### Permutation and Combinations"
   ]
  },
  {
   "cell_type": "code",
   "execution_count": 9,
   "metadata": {
    "colab": {},
    "colab_type": "code",
    "id": "M8zXWf9Vich8"
   },
   "outputs": [
    {
     "name": "stdout",
     "output_type": "stream",
     "text": [
      "6.0\n",
      "12.0\n"
     ]
    }
   ],
   "source": [
    "# Combinations\n",
    "from scipy.special import comb, perm\n",
    "\n",
    "# Total number of combinations from 4 different values taken 2 at a time: 4C2\n",
    "print(comb(4, 2))\n",
    "\n",
    "# Total number of permutations: 4P2\n",
    "print(perm(4, 2))"
   ]
  },
  {
   "cell_type": "markdown",
   "metadata": {
    "colab_type": "text",
    "id": "B_W1pIsAiciY"
   },
   "source": [
    "### Linear Algebra"
   ]
  },
  {
   "cell_type": "code",
   "execution_count": 10,
   "metadata": {
    "colab": {},
    "colab_type": "code",
    "id": "0VpDvrcdicib"
   },
   "outputs": [
    {
     "name": "stdout",
     "output_type": "stream",
     "text": [
      "[[3 6 6]\n",
      " [7 2 7]\n",
      " [1 1 5]]\n"
     ]
    }
   ],
   "source": [
    "# import linear algebra module and numpy\n",
    "from scipy import linalg\n",
    "import numpy as np\n",
    "\n",
    "# square matrix\n",
    "matrix = np.random.randint(0, 10, (3, 3))\n",
    "print(matrix)"
   ]
  },
  {
   "cell_type": "code",
   "execution_count": 13,
   "metadata": {
    "colab": {},
    "colab_type": "code",
    "id": "art0Ir25ici-"
   },
   "outputs": [
    {
     "name": "stdout",
     "output_type": "stream",
     "text": [
      "Determinant: -129.0\n",
      "Inverse:\n",
      " [[-0.02325581  0.18604651 -0.23255814]\n",
      " [ 0.21705426 -0.06976744 -0.1627907 ]\n",
      " [-0.03875969 -0.02325581  0.27906977]]\n"
     ]
    }
   ],
   "source": [
    "# pass values to det() function\n",
    "print('Determinant:', linalg.det(matrix))\n",
    "print('Inverse:\\n', linalg.inv(matrix))"
   ]
  }
 ],
 "metadata": {
  "colab": {
   "name": "2. SciPy.ipynb",
   "provenance": []
  },
  "kernelspec": {
   "display_name": "Python 3 (ipykernel)",
   "language": "python",
   "name": "python3"
  },
  "language_info": {
   "codemirror_mode": {
    "name": "ipython",
    "version": 3
   },
   "file_extension": ".py",
   "mimetype": "text/x-python",
   "name": "python",
   "nbconvert_exporter": "python",
   "pygments_lexer": "ipython3",
   "version": "3.12.2"
  }
 },
 "nbformat": 4,
 "nbformat_minor": 4
}
