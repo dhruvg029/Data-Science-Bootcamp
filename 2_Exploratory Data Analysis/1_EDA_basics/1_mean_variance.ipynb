{
 "cells": [
  {
   "cell_type": "markdown",
   "metadata": {},
   "source": [
    "# Mean, Median, SD and Variance\n",
    "\n",
    "Calculate the meaures of central tendency, standard deviation and variance of the dataset **`churn_prediction.csv`**. \n",
    "\n",
    "### Import libraries and load data"
   ]
  },
  {
   "cell_type": "code",
   "execution_count": 3,
   "metadata": {
    "colab": {},
    "colab_type": "code",
    "id": "UtrBkZutQ_nz"
   },
   "outputs": [
    {
     "name": "stdout",
     "output_type": "stream",
     "text": [
      "2.1.1\n",
      "1.26.1\n"
     ]
    }
   ],
   "source": [
    "# Importing libraries\n",
    "import pandas as pd\n",
    "import numpy as np\n",
    "import matplotlib.pyplot as plt\n",
    "\n",
    "import warnings\n",
    "warnings.filterwarnings('ignore')\n",
    "\n",
    "print(pd.__version__)\n",
    "print(np.__version__)"
   ]
  },
  {
   "cell_type": "code",
   "execution_count": 4,
   "metadata": {
    "colab": {},
    "colab_type": "code",
    "id": "BSs0Y24MQ_n6"
   },
   "outputs": [
    {
     "data": {
      "text/html": [
       "<div>\n",
       "<style scoped>\n",
       "    .dataframe tbody tr th:only-of-type {\n",
       "        vertical-align: middle;\n",
       "    }\n",
       "\n",
       "    .dataframe tbody tr th {\n",
       "        vertical-align: top;\n",
       "    }\n",
       "\n",
       "    .dataframe thead th {\n",
       "        text-align: right;\n",
       "    }\n",
       "</style>\n",
       "<table border=\"1\" class=\"dataframe\">\n",
       "  <thead>\n",
       "    <tr style=\"text-align: right;\">\n",
       "      <th></th>\n",
       "      <th>customer_id</th>\n",
       "      <th>vintage</th>\n",
       "      <th>age</th>\n",
       "      <th>gender</th>\n",
       "      <th>dependents</th>\n",
       "      <th>occupation</th>\n",
       "      <th>city</th>\n",
       "      <th>customer_nw_category</th>\n",
       "      <th>branch_code</th>\n",
       "      <th>current_balance</th>\n",
       "      <th>...</th>\n",
       "      <th>average_monthly_balance_prevQ</th>\n",
       "      <th>average_monthly_balance_prevQ2</th>\n",
       "      <th>current_month_credit</th>\n",
       "      <th>previous_month_credit</th>\n",
       "      <th>current_month_debit</th>\n",
       "      <th>previous_month_debit</th>\n",
       "      <th>current_month_balance</th>\n",
       "      <th>previous_month_balance</th>\n",
       "      <th>churn</th>\n",
       "      <th>last_transaction</th>\n",
       "    </tr>\n",
       "  </thead>\n",
       "  <tbody>\n",
       "    <tr>\n",
       "      <th>0</th>\n",
       "      <td>1</td>\n",
       "      <td>2101</td>\n",
       "      <td>66</td>\n",
       "      <td>Male</td>\n",
       "      <td>0.0</td>\n",
       "      <td>self_employed</td>\n",
       "      <td>187.0</td>\n",
       "      <td>2</td>\n",
       "      <td>755</td>\n",
       "      <td>1458.71</td>\n",
       "      <td>...</td>\n",
       "      <td>1458.71</td>\n",
       "      <td>1449.07</td>\n",
       "      <td>0.20</td>\n",
       "      <td>0.20</td>\n",
       "      <td>0.20</td>\n",
       "      <td>0.20</td>\n",
       "      <td>1458.71</td>\n",
       "      <td>1458.71</td>\n",
       "      <td>0</td>\n",
       "      <td>2019-05-21</td>\n",
       "    </tr>\n",
       "    <tr>\n",
       "      <th>1</th>\n",
       "      <td>2</td>\n",
       "      <td>2348</td>\n",
       "      <td>35</td>\n",
       "      <td>Male</td>\n",
       "      <td>0.0</td>\n",
       "      <td>self_employed</td>\n",
       "      <td>NaN</td>\n",
       "      <td>2</td>\n",
       "      <td>3214</td>\n",
       "      <td>5390.37</td>\n",
       "      <td>...</td>\n",
       "      <td>7799.26</td>\n",
       "      <td>12419.41</td>\n",
       "      <td>0.56</td>\n",
       "      <td>0.56</td>\n",
       "      <td>5486.27</td>\n",
       "      <td>100.56</td>\n",
       "      <td>6496.78</td>\n",
       "      <td>8787.61</td>\n",
       "      <td>0</td>\n",
       "      <td>2019-11-01</td>\n",
       "    </tr>\n",
       "    <tr>\n",
       "      <th>2</th>\n",
       "      <td>4</td>\n",
       "      <td>2194</td>\n",
       "      <td>31</td>\n",
       "      <td>Male</td>\n",
       "      <td>0.0</td>\n",
       "      <td>salaried</td>\n",
       "      <td>146.0</td>\n",
       "      <td>2</td>\n",
       "      <td>41</td>\n",
       "      <td>3913.16</td>\n",
       "      <td>...</td>\n",
       "      <td>4910.17</td>\n",
       "      <td>2815.94</td>\n",
       "      <td>0.61</td>\n",
       "      <td>0.61</td>\n",
       "      <td>6046.73</td>\n",
       "      <td>259.23</td>\n",
       "      <td>5006.28</td>\n",
       "      <td>5070.14</td>\n",
       "      <td>0</td>\n",
       "      <td>NaT</td>\n",
       "    </tr>\n",
       "    <tr>\n",
       "      <th>3</th>\n",
       "      <td>5</td>\n",
       "      <td>2329</td>\n",
       "      <td>90</td>\n",
       "      <td>NaN</td>\n",
       "      <td>NaN</td>\n",
       "      <td>self_employed</td>\n",
       "      <td>1020.0</td>\n",
       "      <td>2</td>\n",
       "      <td>582</td>\n",
       "      <td>2291.91</td>\n",
       "      <td>...</td>\n",
       "      <td>2084.54</td>\n",
       "      <td>1006.54</td>\n",
       "      <td>0.47</td>\n",
       "      <td>0.47</td>\n",
       "      <td>0.47</td>\n",
       "      <td>2143.33</td>\n",
       "      <td>2291.91</td>\n",
       "      <td>1669.79</td>\n",
       "      <td>1</td>\n",
       "      <td>2019-08-06</td>\n",
       "    </tr>\n",
       "    <tr>\n",
       "      <th>4</th>\n",
       "      <td>6</td>\n",
       "      <td>1579</td>\n",
       "      <td>42</td>\n",
       "      <td>Male</td>\n",
       "      <td>2.0</td>\n",
       "      <td>self_employed</td>\n",
       "      <td>1494.0</td>\n",
       "      <td>3</td>\n",
       "      <td>388</td>\n",
       "      <td>927.72</td>\n",
       "      <td>...</td>\n",
       "      <td>1643.31</td>\n",
       "      <td>1871.12</td>\n",
       "      <td>0.33</td>\n",
       "      <td>714.61</td>\n",
       "      <td>588.62</td>\n",
       "      <td>1538.06</td>\n",
       "      <td>1157.15</td>\n",
       "      <td>1677.16</td>\n",
       "      <td>1</td>\n",
       "      <td>2019-11-03</td>\n",
       "    </tr>\n",
       "  </tbody>\n",
       "</table>\n",
       "<p>5 rows × 21 columns</p>\n",
       "</div>"
      ],
      "text/plain": [
       "   customer_id  vintage  age gender  dependents     occupation    city  \\\n",
       "0            1     2101   66   Male         0.0  self_employed   187.0   \n",
       "1            2     2348   35   Male         0.0  self_employed     NaN   \n",
       "2            4     2194   31   Male         0.0       salaried   146.0   \n",
       "3            5     2329   90    NaN         NaN  self_employed  1020.0   \n",
       "4            6     1579   42   Male         2.0  self_employed  1494.0   \n",
       "\n",
       "   customer_nw_category  branch_code  current_balance  ...  \\\n",
       "0                     2          755          1458.71  ...   \n",
       "1                     2         3214          5390.37  ...   \n",
       "2                     2           41          3913.16  ...   \n",
       "3                     2          582          2291.91  ...   \n",
       "4                     3          388           927.72  ...   \n",
       "\n",
       "   average_monthly_balance_prevQ  average_monthly_balance_prevQ2  \\\n",
       "0                        1458.71                         1449.07   \n",
       "1                        7799.26                        12419.41   \n",
       "2                        4910.17                         2815.94   \n",
       "3                        2084.54                         1006.54   \n",
       "4                        1643.31                         1871.12   \n",
       "\n",
       "   current_month_credit  previous_month_credit  current_month_debit  \\\n",
       "0                  0.20                   0.20                 0.20   \n",
       "1                  0.56                   0.56              5486.27   \n",
       "2                  0.61                   0.61              6046.73   \n",
       "3                  0.47                   0.47                 0.47   \n",
       "4                  0.33                 714.61               588.62   \n",
       "\n",
       "   previous_month_debit  current_month_balance  previous_month_balance  churn  \\\n",
       "0                  0.20                1458.71                 1458.71      0   \n",
       "1                100.56                6496.78                 8787.61      0   \n",
       "2                259.23                5006.28                 5070.14      0   \n",
       "3               2143.33                2291.91                 1669.79      1   \n",
       "4               1538.06                1157.15                 1677.16      1   \n",
       "\n",
       "   last_transaction  \n",
       "0        2019-05-21  \n",
       "1        2019-11-01  \n",
       "2               NaT  \n",
       "3        2019-08-06  \n",
       "4        2019-11-03  \n",
       "\n",
       "[5 rows x 21 columns]"
      ]
     },
     "execution_count": 4,
     "metadata": {},
     "output_type": "execute_result"
    }
   ],
   "source": [
    "# Loading data\n",
    "data = pd.read_csv('datasets/churn_prediction.csv')\n",
    "\n",
    "# Printing the data\n",
    "data.head()"
   ]
  },
  {
   "cell_type": "code",
   "execution_count": 5,
   "metadata": {
    "colab": {
     "base_uri": "https://localhost:8080/",
     "height": 33
    },
    "colab_type": "code",
    "executionInfo": {
     "elapsed": 1196,
     "status": "ok",
     "timestamp": 1581056282914,
     "user": {
      "displayName": "Sharoon Saxena",
      "photoUrl": "https://lh3.googleusercontent.com/a-/AAuE7mA06b2KEfgpAIC1tQCip2ka2KqXrCY2GfWW9Fww=s64",
      "userId": "01167841530696023488"
     },
     "user_tz": -330
    },
    "id": "VRCymO1kQ_oA",
    "outputId": "1fbba1c9-53da-4e3d-c6fd-edb0a8eed4bf"
   },
   "outputs": [
    {
     "name": "stdout",
     "output_type": "stream",
     "text": [
      "Shape: (28382, 21)\n",
      "Columns: Index(['customer_id', 'vintage', 'age', 'gender', 'dependents', 'occupation',\n",
      "       'city', 'customer_nw_category', 'branch_code', 'current_balance',\n",
      "       'previous_month_end_balance', 'average_monthly_balance_prevQ',\n",
      "       'average_monthly_balance_prevQ2', 'current_month_credit',\n",
      "       'previous_month_credit', 'current_month_debit', 'previous_month_debit',\n",
      "       'current_month_balance', 'previous_month_balance', 'churn',\n",
      "       'last_transaction'],\n",
      "      dtype='object')\n"
     ]
    }
   ],
   "source": [
    "# Shape and columns of the data\n",
    "print('Shape:', data.shape)\n",
    "print('Columns:', data.columns)"
   ]
  },
  {
   "cell_type": "markdown",
   "metadata": {},
   "source": [
    "### Identification of Data types "
   ]
  },
  {
   "cell_type": "code",
   "execution_count": 7,
   "metadata": {
    "colab": {
     "base_uri": "https://localhost:8080/",
     "height": 440
    },
    "colab_type": "code",
    "executionInfo": {
     "elapsed": 964,
     "status": "ok",
     "timestamp": 1581056286919,
     "user": {
      "displayName": "Sharoon Saxena",
      "photoUrl": "https://lh3.googleusercontent.com/a-/AAuE7mA06b2KEfgpAIC1tQCip2ka2KqXrCY2GfWW9Fww=s64",
      "userId": "01167841530696023488"
     },
     "user_tz": -330
    },
    "id": "IoHu82GiQ_oG",
    "outputId": "6fed1d1f-4fc8-42a2-ab9e-88dcc4f67557"
   },
   "outputs": [
    {
     "name": "stdout",
     "output_type": "stream",
     "text": [
      "customer_id      int64\n",
      "vintage          int64\n",
      "age              int64\n",
      "gender          object\n",
      "dependents     float64\n",
      "dtype: object\n"
     ]
    }
   ],
   "source": [
    "# Different data types -> just printing the first few rows\n",
    "print(data.dtypes.head())"
   ]
  },
  {
   "cell_type": "markdown",
   "metadata": {},
   "source": [
    "### Mean Value\n",
    "\n",
    "We can use **mean()** function to calculate the mean of the data. "
   ]
  },
  {
   "cell_type": "code",
   "execution_count": 8,
   "metadata": {
    "colab": {
     "base_uri": "https://localhost:8080/",
     "height": 33
    },
    "colab_type": "code",
    "executionInfo": {
     "elapsed": 1018,
     "status": "ok",
     "timestamp": 1581056294995,
     "user": {
      "displayName": "Sharoon Saxena",
      "photoUrl": "https://lh3.googleusercontent.com/a-/AAuE7mA06b2KEfgpAIC1tQCip2ka2KqXrCY2GfWW9Fww=s64",
      "userId": "01167841530696023488"
     },
     "user_tz": -330
    },
    "id": "5VbQGrVYQ_oJ",
    "outputId": "8ef087dd-dc40-4932-fb78-fa71905f2b85"
   },
   "outputs": [
    {
     "name": "stdout",
     "output_type": "stream",
     "text": [
      "48.21\n",
      "47.46\n"
     ]
    }
   ],
   "source": [
    "# Mean of age using .mean() function and .round(2) for rounding off to 2 decimal places\n",
    "print(data['age'].mean().round(2))\n",
    "\n",
    "# Mean of age who are likely to churn\n",
    "print(data[data['churn'] == 1]['age'].mean().round(2))"
   ]
  },
  {
   "cell_type": "code",
   "execution_count": 9,
   "metadata": {
    "colab": {
     "base_uri": "https://localhost:8080/",
     "height": 33
    },
    "colab_type": "code",
    "executionInfo": {
     "elapsed": 781,
     "status": "ok",
     "timestamp": 1581056297085,
     "user": {
      "displayName": "Sharoon Saxena",
      "photoUrl": "https://lh3.googleusercontent.com/a-/AAuE7mA06b2KEfgpAIC1tQCip2ka2KqXrCY2GfWW9Fww=s64",
      "userId": "01167841530696023488"
     },
     "user_tz": -330
    },
    "id": "WvLj2Fo9Q_oR",
    "outputId": "05b175ec-f135-471c-f91f-d348d2ecd3a7"
   },
   "outputs": [
    {
     "name": "stdout",
     "output_type": "stream",
     "text": [
      "7380.55\n",
      "5220.88\n"
     ]
    }
   ],
   "source": [
    "# Current balance mean\n",
    "print(data['current_balance'].mean().round(2))\n",
    "\n",
    "# Current balance of customers who are likely to churn\n",
    "print(data[data['churn'] == 1]['current_balance'].mean().round(2))"
   ]
  },
  {
   "cell_type": "markdown",
   "metadata": {},
   "source": [
    "### Median\n",
    "\n",
    "We can use **median()** function to calculate the mean of the data. "
   ]
  },
  {
   "cell_type": "code",
   "execution_count": 10,
   "metadata": {
    "colab": {
     "base_uri": "https://localhost:8080/",
     "height": 33
    },
    "colab_type": "code",
    "executionInfo": {
     "elapsed": 659,
     "status": "ok",
     "timestamp": 1581056300650,
     "user": {
      "displayName": "Sharoon Saxena",
      "photoUrl": "https://lh3.googleusercontent.com/a-/AAuE7mA06b2KEfgpAIC1tQCip2ka2KqXrCY2GfWW9Fww=s64",
      "userId": "01167841530696023488"
     },
     "user_tz": -330
    },
    "id": "aHIkif6QQ_oW",
    "outputId": "cbf009f7-8780-425e-b2ec-3c703be9759b"
   },
   "outputs": [
    {
     "name": "stdout",
     "output_type": "stream",
     "text": [
      "46.0\n",
      "3281.255\n"
     ]
    }
   ],
   "source": [
    "# Median of age\n",
    "print(data['age'].median())\n",
    "\n",
    "# Median of current balance\n",
    "print(data['current_balance'].median())"
   ]
  },
  {
   "cell_type": "markdown",
   "metadata": {},
   "source": [
    "### Standard Deviation and Variance\n",
    "\n",
    "We can use **std()** and **var()** functions to calculate the standard deviation and variance of the data respectively. "
   ]
  },
  {
   "cell_type": "code",
   "execution_count": 12,
   "metadata": {
    "colab": {
     "base_uri": "https://localhost:8080/",
     "height": 33
    },
    "colab_type": "code",
    "executionInfo": {
     "elapsed": 1079,
     "status": "ok",
     "timestamp": 1581056392277,
     "user": {
      "displayName": "Sharoon Saxena",
      "photoUrl": "https://lh3.googleusercontent.com/a-/AAuE7mA06b2KEfgpAIC1tQCip2ka2KqXrCY2GfWW9Fww=s64",
      "userId": "01167841530696023488"
     },
     "user_tz": -330
    },
    "id": "_pRqupeJQ_ok",
    "outputId": "309e9107-c905-44ff-8e68-c0705e2907d4"
   },
   "outputs": [
    {
     "name": "stdout",
     "output_type": "stream",
     "text": [
      "Standard Deviation: 42598.71\n",
      "Variance: 1814650257.52\n"
     ]
    }
   ],
   "source": [
    "# Standard deviation of the current balance\n",
    "print('Standard Deviation:', data['current_balance'].std().round(2))\n",
    "\n",
    "# Variance of the current balance\n",
    "print('Variance:', data['current_balance'].var().round(2))"
   ]
  },
  {
   "cell_type": "markdown",
   "metadata": {},
   "source": [
    "### Describe Function"
   ]
  },
  {
   "cell_type": "markdown",
   "metadata": {
    "colab": {
     "base_uri": "https://localhost:8080/",
     "height": 33
    },
    "colab_type": "code",
    "executionInfo": {
     "elapsed": 659,
     "status": "ok",
     "timestamp": 1581056393920,
     "user": {
      "displayName": "Sharoon Saxena",
      "photoUrl": "https://lh3.googleusercontent.com/a-/AAuE7mA06b2KEfgpAIC1tQCip2ka2KqXrCY2GfWW9Fww=s64",
      "userId": "01167841530696023488"
     },
     "user_tz": -330
    },
    "id": "TZ6WONNhQ_oo",
    "outputId": "c73c8bda-6079-4f12-85c1-068f1632537a"
   },
   "source": [
    "**describe()** function is used to view some basic descriptive statistical details like **percentile, mean, std** etc. of a data frame."
   ]
  },
  {
   "cell_type": "code",
   "execution_count": 15,
   "metadata": {
    "colab": {
     "base_uri": "https://localhost:8080/",
     "height": 297
    },
    "colab_type": "code",
    "executionInfo": {
     "elapsed": 1279,
     "status": "ok",
     "timestamp": 1581056402110,
     "user": {
      "displayName": "Sharoon Saxena",
      "photoUrl": "https://lh3.googleusercontent.com/a-/AAuE7mA06b2KEfgpAIC1tQCip2ka2KqXrCY2GfWW9Fww=s64",
      "userId": "01167841530696023488"
     },
     "user_tz": -330
    },
    "id": "G2aklW5KQ_ow",
    "outputId": "3a64f669-809f-41b6-a077-06cf350af978"
   },
   "outputs": [
    {
     "data": {
      "text/html": [
       "<div>\n",
       "<style scoped>\n",
       "    .dataframe tbody tr th:only-of-type {\n",
       "        vertical-align: middle;\n",
       "    }\n",
       "\n",
       "    .dataframe tbody tr th {\n",
       "        vertical-align: top;\n",
       "    }\n",
       "\n",
       "    .dataframe thead th {\n",
       "        text-align: right;\n",
       "    }\n",
       "</style>\n",
       "<table border=\"1\" class=\"dataframe\">\n",
       "  <thead>\n",
       "    <tr style=\"text-align: right;\">\n",
       "      <th></th>\n",
       "      <th>customer_id</th>\n",
       "      <th>vintage</th>\n",
       "      <th>age</th>\n",
       "      <th>dependents</th>\n",
       "      <th>city</th>\n",
       "      <th>customer_nw_category</th>\n",
       "      <th>branch_code</th>\n",
       "      <th>current_balance</th>\n",
       "      <th>previous_month_end_balance</th>\n",
       "      <th>average_monthly_balance_prevQ</th>\n",
       "      <th>average_monthly_balance_prevQ2</th>\n",
       "      <th>current_month_credit</th>\n",
       "      <th>previous_month_credit</th>\n",
       "      <th>current_month_debit</th>\n",
       "      <th>previous_month_debit</th>\n",
       "      <th>current_month_balance</th>\n",
       "      <th>previous_month_balance</th>\n",
       "      <th>churn</th>\n",
       "    </tr>\n",
       "  </thead>\n",
       "  <tbody>\n",
       "    <tr>\n",
       "      <th>count</th>\n",
       "      <td>28382.00</td>\n",
       "      <td>28382.00</td>\n",
       "      <td>28382.00</td>\n",
       "      <td>25919.00</td>\n",
       "      <td>27579.00</td>\n",
       "      <td>28382.00</td>\n",
       "      <td>28382.00</td>\n",
       "      <td>28382.00</td>\n",
       "      <td>28382.00</td>\n",
       "      <td>28382.00</td>\n",
       "      <td>28382.00</td>\n",
       "      <td>28382.00</td>\n",
       "      <td>28382.00</td>\n",
       "      <td>28382.00</td>\n",
       "      <td>28382.00</td>\n",
       "      <td>28382.00</td>\n",
       "      <td>28382.00</td>\n",
       "      <td>28382.00</td>\n",
       "    </tr>\n",
       "    <tr>\n",
       "      <th>mean</th>\n",
       "      <td>15143.51</td>\n",
       "      <td>2091.14</td>\n",
       "      <td>48.21</td>\n",
       "      <td>0.35</td>\n",
       "      <td>796.11</td>\n",
       "      <td>2.23</td>\n",
       "      <td>925.98</td>\n",
       "      <td>7380.55</td>\n",
       "      <td>7495.77</td>\n",
       "      <td>7496.78</td>\n",
       "      <td>7124.21</td>\n",
       "      <td>3433.25</td>\n",
       "      <td>3261.69</td>\n",
       "      <td>3658.74</td>\n",
       "      <td>3339.76</td>\n",
       "      <td>7451.13</td>\n",
       "      <td>7495.18</td>\n",
       "      <td>0.19</td>\n",
       "    </tr>\n",
       "    <tr>\n",
       "      <th>std</th>\n",
       "      <td>8746.45</td>\n",
       "      <td>272.68</td>\n",
       "      <td>17.81</td>\n",
       "      <td>1.00</td>\n",
       "      <td>432.87</td>\n",
       "      <td>0.66</td>\n",
       "      <td>937.80</td>\n",
       "      <td>42598.71</td>\n",
       "      <td>42529.35</td>\n",
       "      <td>41726.22</td>\n",
       "      <td>44575.81</td>\n",
       "      <td>77071.45</td>\n",
       "      <td>29688.89</td>\n",
       "      <td>51985.42</td>\n",
       "      <td>24301.11</td>\n",
       "      <td>42033.94</td>\n",
       "      <td>42431.98</td>\n",
       "      <td>0.39</td>\n",
       "    </tr>\n",
       "    <tr>\n",
       "      <th>min</th>\n",
       "      <td>1.00</td>\n",
       "      <td>73.00</td>\n",
       "      <td>1.00</td>\n",
       "      <td>0.00</td>\n",
       "      <td>0.00</td>\n",
       "      <td>1.00</td>\n",
       "      <td>1.00</td>\n",
       "      <td>-5503.96</td>\n",
       "      <td>-3149.57</td>\n",
       "      <td>1428.69</td>\n",
       "      <td>-16506.10</td>\n",
       "      <td>0.01</td>\n",
       "      <td>0.01</td>\n",
       "      <td>0.01</td>\n",
       "      <td>0.01</td>\n",
       "      <td>-3374.18</td>\n",
       "      <td>-5171.92</td>\n",
       "      <td>0.00</td>\n",
       "    </tr>\n",
       "    <tr>\n",
       "      <th>25%</th>\n",
       "      <td>7557.25</td>\n",
       "      <td>1958.00</td>\n",
       "      <td>36.00</td>\n",
       "      <td>0.00</td>\n",
       "      <td>409.00</td>\n",
       "      <td>2.00</td>\n",
       "      <td>176.00</td>\n",
       "      <td>1784.47</td>\n",
       "      <td>1906.00</td>\n",
       "      <td>2180.95</td>\n",
       "      <td>1832.51</td>\n",
       "      <td>0.31</td>\n",
       "      <td>0.33</td>\n",
       "      <td>0.41</td>\n",
       "      <td>0.41</td>\n",
       "      <td>1996.76</td>\n",
       "      <td>2074.41</td>\n",
       "      <td>0.00</td>\n",
       "    </tr>\n",
       "    <tr>\n",
       "      <th>50%</th>\n",
       "      <td>15150.50</td>\n",
       "      <td>2154.00</td>\n",
       "      <td>46.00</td>\n",
       "      <td>0.00</td>\n",
       "      <td>834.00</td>\n",
       "      <td>2.00</td>\n",
       "      <td>572.00</td>\n",
       "      <td>3281.26</td>\n",
       "      <td>3379.92</td>\n",
       "      <td>3542.86</td>\n",
       "      <td>3359.60</td>\n",
       "      <td>0.61</td>\n",
       "      <td>0.63</td>\n",
       "      <td>91.93</td>\n",
       "      <td>109.96</td>\n",
       "      <td>3448.00</td>\n",
       "      <td>3465.23</td>\n",
       "      <td>0.00</td>\n",
       "    </tr>\n",
       "    <tr>\n",
       "      <th>75%</th>\n",
       "      <td>22706.75</td>\n",
       "      <td>2292.00</td>\n",
       "      <td>60.00</td>\n",
       "      <td>0.00</td>\n",
       "      <td>1096.00</td>\n",
       "      <td>3.00</td>\n",
       "      <td>1440.00</td>\n",
       "      <td>6635.82</td>\n",
       "      <td>6656.54</td>\n",
       "      <td>6666.89</td>\n",
       "      <td>6517.96</td>\n",
       "      <td>707.27</td>\n",
       "      <td>749.24</td>\n",
       "      <td>1360.44</td>\n",
       "      <td>1357.55</td>\n",
       "      <td>6667.96</td>\n",
       "      <td>6654.69</td>\n",
       "      <td>0.00</td>\n",
       "    </tr>\n",
       "    <tr>\n",
       "      <th>max</th>\n",
       "      <td>30301.00</td>\n",
       "      <td>2476.00</td>\n",
       "      <td>90.00</td>\n",
       "      <td>52.00</td>\n",
       "      <td>1649.00</td>\n",
       "      <td>3.00</td>\n",
       "      <td>4782.00</td>\n",
       "      <td>5905904.03</td>\n",
       "      <td>5740438.63</td>\n",
       "      <td>5700289.57</td>\n",
       "      <td>5010170.10</td>\n",
       "      <td>12269845.39</td>\n",
       "      <td>2361808.29</td>\n",
       "      <td>7637857.36</td>\n",
       "      <td>1414168.06</td>\n",
       "      <td>5778184.77</td>\n",
       "      <td>5720144.50</td>\n",
       "      <td>1.00</td>\n",
       "    </tr>\n",
       "  </tbody>\n",
       "</table>\n",
       "</div>"
      ],
      "text/plain": [
       "       customer_id   vintage       age  dependents      city  \\\n",
       "count     28382.00  28382.00  28382.00    25919.00  27579.00   \n",
       "mean      15143.51   2091.14     48.21        0.35    796.11   \n",
       "std        8746.45    272.68     17.81        1.00    432.87   \n",
       "min           1.00     73.00      1.00        0.00      0.00   \n",
       "25%        7557.25   1958.00     36.00        0.00    409.00   \n",
       "50%       15150.50   2154.00     46.00        0.00    834.00   \n",
       "75%       22706.75   2292.00     60.00        0.00   1096.00   \n",
       "max       30301.00   2476.00     90.00       52.00   1649.00   \n",
       "\n",
       "       customer_nw_category  branch_code  current_balance  \\\n",
       "count              28382.00     28382.00         28382.00   \n",
       "mean                   2.23       925.98          7380.55   \n",
       "std                    0.66       937.80         42598.71   \n",
       "min                    1.00         1.00         -5503.96   \n",
       "25%                    2.00       176.00          1784.47   \n",
       "50%                    2.00       572.00          3281.26   \n",
       "75%                    3.00      1440.00          6635.82   \n",
       "max                    3.00      4782.00       5905904.03   \n",
       "\n",
       "       previous_month_end_balance  average_monthly_balance_prevQ  \\\n",
       "count                    28382.00                       28382.00   \n",
       "mean                      7495.77                        7496.78   \n",
       "std                      42529.35                       41726.22   \n",
       "min                      -3149.57                        1428.69   \n",
       "25%                       1906.00                        2180.95   \n",
       "50%                       3379.92                        3542.86   \n",
       "75%                       6656.54                        6666.89   \n",
       "max                    5740438.63                     5700289.57   \n",
       "\n",
       "       average_monthly_balance_prevQ2  current_month_credit  \\\n",
       "count                        28382.00              28382.00   \n",
       "mean                          7124.21               3433.25   \n",
       "std                          44575.81              77071.45   \n",
       "min                         -16506.10                  0.01   \n",
       "25%                           1832.51                  0.31   \n",
       "50%                           3359.60                  0.61   \n",
       "75%                           6517.96                707.27   \n",
       "max                        5010170.10           12269845.39   \n",
       "\n",
       "       previous_month_credit  current_month_debit  previous_month_debit  \\\n",
       "count               28382.00             28382.00              28382.00   \n",
       "mean                 3261.69              3658.74               3339.76   \n",
       "std                 29688.89             51985.42              24301.11   \n",
       "min                     0.01                 0.01                  0.01   \n",
       "25%                     0.33                 0.41                  0.41   \n",
       "50%                     0.63                91.93                109.96   \n",
       "75%                   749.24              1360.44               1357.55   \n",
       "max               2361808.29           7637857.36            1414168.06   \n",
       "\n",
       "       current_month_balance  previous_month_balance     churn  \n",
       "count               28382.00                28382.00  28382.00  \n",
       "mean                 7451.13                 7495.18      0.19  \n",
       "std                 42033.94                42431.98      0.39  \n",
       "min                 -3374.18                -5171.92      0.00  \n",
       "25%                  1996.76                 2074.41      0.00  \n",
       "50%                  3448.00                 3465.23      0.00  \n",
       "75%                  6667.96                 6654.69      0.00  \n",
       "max               5778184.77              5720144.50      1.00  "
      ]
     },
     "execution_count": 15,
     "metadata": {},
     "output_type": "execute_result"
    }
   ],
   "source": [
    "# Describe the function\n",
    "data.describe().round(2)"
   ]
  },
  {
   "cell_type": "code",
   "execution_count": 18,
   "metadata": {
    "colab": {},
    "colab_type": "code",
    "id": "RFier7inQ_o1"
   },
   "outputs": [
    {
     "data": {
      "text/plain": [
       "3     90\n",
       "4     42\n",
       "12    73\n",
       "14    48\n",
       "16    49\n",
       "Name: age, dtype: int64"
      ]
     },
     "execution_count": 18,
     "metadata": {},
     "output_type": "execute_result"
    }
   ],
   "source": [
    "# Printing the age who are churning\n",
    "churn_age = data[data['churn'] == 1]['age']\n",
    "\n",
    "# Printing the churn_age\n",
    "churn_age.head()"
   ]
  },
  {
   "cell_type": "markdown",
   "metadata": {},
   "source": [
    "A __Histogram__ visualises the distribution of data over a continuous interval. Each bar in a histogram represents the tabulated __frequency__ at each __interval/bin__."
   ]
  },
  {
   "cell_type": "code",
   "execution_count": 22,
   "metadata": {
    "colab": {
     "base_uri": "https://localhost:8080/",
     "height": 573
    },
    "colab_type": "code",
    "executionInfo": {
     "elapsed": 1734,
     "status": "ok",
     "timestamp": 1581058880316,
     "user": {
      "displayName": "Sharoon Saxena",
      "photoUrl": "https://lh3.googleusercontent.com/a-/AAuE7mA06b2KEfgpAIC1tQCip2ka2KqXrCY2GfWW9Fww=s64",
      "userId": "01167841530696023488"
     },
     "user_tz": -330
    },
    "id": "gi_dN-BNQ_o7",
    "outputId": "97e6261e-6b33-4050-a41b-74a0ec8852c0"
   },
   "outputs": [
    {
     "data": {
      "text/plain": [
       "<matplotlib.legend.Legend at 0x121772f5580>"
      ]
     },
     "execution_count": 22,
     "metadata": {},
     "output_type": "execute_result"
    },
    {
     "data": {
      "image/png": "[encoded data removed]",
      "text/plain": [
       "<Figure size 1120x560 with 1 Axes>"
      ]
     },
     "metadata": {},
     "output_type": "display_data"
    }
   ],
   "source": [
    "# Setting image resolution\n",
    "plt.figure(figsize = (8,4), dpi = 140)\n",
    "\n",
    "# Plotting histogram and descriptive summary\n",
    "plt.scatter(churn_age.mean(), 0, label = 'mean', color = 'red')\n",
    "plt.scatter(churn_age.median(), 0, label = 'median', color = 'green')\n",
    "plt.hist(churn_age, bins = 25)\n",
    "\n",
    "# axes labels\n",
    "plt.xlabel('churn_age')\n",
    "plt.ylabel('frequency')\n",
    "plt.title('churn_age: mean, median, range')\n",
    "plt.legend()"
   ]
  }
 ],
 "metadata": {
  "colab": {
   "collapsed_sections": [],
   "name": "Mean_Variance.ipynb",
   "provenance": []
  },
  "kernelspec": {
   "display_name": "Python 3 (ipykernel)",
   "language": "python",
   "name": "python3"
  },
  "language_info": {
   "codemirror_mode": {
    "name": "ipython",
    "version": 3
   },
   "file_extension": ".py",
   "mimetype": "text/x-python",
   "name": "python",
   "nbconvert_exporter": "python",
   "pygments_lexer": "ipython3",
   "version": "3.12.2"
  }
 },
 "nbformat": 4,
 "nbformat_minor": 4
}
