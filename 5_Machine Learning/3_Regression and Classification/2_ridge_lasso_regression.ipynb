{
 "cells": [
  {
   "cell_type": "markdown",
   "metadata": {},
   "source": [
    "# Ridge and Lasso Regression\n",
    "\n",
    "Regularization is a set of methods for reducing overfitting in machine learning models. Typically, regularization trades a marginal decrease in training accuracy for an increase in generalizability. Regularization encompasses a range of techniques to correct for overfitting in machine learning models. Ridge and Lasso regression are the regularized models which can be used for training purposes.\n",
    "\n",
    "## Importing and creating random data"
   ]
  },
  {
   "cell_type": "code",
   "execution_count": 1,
   "metadata": {
    "colab": {},
    "colab_type": "code",
    "id": "XiprJxiXIfN9"
   },
   "outputs": [],
   "source": [
    "# Importing libraries\n",
    "import pandas as pd \n",
    "import numpy as np\n",
    "\n",
    "# For plotting graphs\n",
    "import matplotlib.pyplot as plt\n",
    "import seaborn as sns\n",
    "\n",
    "# Importing the train_test_split function\n",
    "from sklearn.model_selection import train_test_split\n",
    "from sklearn.linear_model import LinearRegression, Ridge, Lasso\n",
    "\n",
    "from sklearn.metrics import mean_absolute_error, r2_score\n",
    "\n",
    "import warnings\n",
    "warnings.filterwarnings('ignore')"
   ]
  },
  {
   "cell_type": "code",
   "execution_count": 3,
   "metadata": {
    "colab": {},
    "colab_type": "code",
    "id": "QQWy8t4SIfOA"
   },
   "outputs": [
    {
     "name": "stdout",
     "output_type": "stream",
     "text": [
      "[0.17453293 0.2268928  0.27925268 0.33161256 0.38397244 0.43633231\n",
      " 0.48869219 0.54105207 0.59341195 0.64577182 0.6981317  0.75049158\n",
      " 0.80285146 0.85521133 0.90757121 0.95993109 1.01229097 1.06465084\n",
      " 1.11701072 1.1693706  1.22173048 1.27409035 1.32645023 1.37881011\n",
      " 1.43116999 1.48352986 1.53588974 1.58824962 1.6406095  1.69296937\n",
      " 1.74532925 1.79768913 1.85004901 1.90240888 1.95476876 2.00712864\n",
      " 2.05948852 2.11184839 2.16420827 2.21656815 2.26892803 2.32128791\n",
      " 2.37364778 2.42600766 2.47836754 2.53072742 2.58308729 2.63544717\n",
      " 2.68780705 2.74016693]\n"
     ]
    }
   ],
   "source": [
    "# Defining independent variable as angles from 60deg to 300deg converted to radians\n",
    "x = np.array([i*np.pi/180 for i in range(10, 360, 3)])\n",
    "print(x[:50])"
   ]
  },
  {
   "cell_type": "code",
   "execution_count": 4,
   "metadata": {
    "colab": {},
    "colab_type": "code",
    "id": "CGRXp2TZIfOC"
   },
   "outputs": [
    {
     "data": {
      "text/html": [
       "<div>\n",
       "<style scoped>\n",
       "    .dataframe tbody tr th:only-of-type {\n",
       "        vertical-align: middle;\n",
       "    }\n",
       "\n",
       "    .dataframe tbody tr th {\n",
       "        vertical-align: top;\n",
       "    }\n",
       "\n",
       "    .dataframe thead th {\n",
       "        text-align: right;\n",
       "    }\n",
       "</style>\n",
       "<table border=\"1\" class=\"dataframe\">\n",
       "  <thead>\n",
       "    <tr style=\"text-align: right;\">\n",
       "      <th></th>\n",
       "      <th>X</th>\n",
       "      <th>y</th>\n",
       "    </tr>\n",
       "  </thead>\n",
       "  <tbody>\n",
       "    <tr>\n",
       "      <th>0</th>\n",
       "      <td>0.174533</td>\n",
       "      <td>0.373386</td>\n",
       "    </tr>\n",
       "    <tr>\n",
       "      <th>1</th>\n",
       "      <td>0.226893</td>\n",
       "      <td>0.332243</td>\n",
       "    </tr>\n",
       "    <tr>\n",
       "      <th>2</th>\n",
       "      <td>0.279253</td>\n",
       "      <td>0.043827</td>\n",
       "    </tr>\n",
       "    <tr>\n",
       "      <th>3</th>\n",
       "      <td>0.331613</td>\n",
       "      <td>0.324311</td>\n",
       "    </tr>\n",
       "    <tr>\n",
       "      <th>4</th>\n",
       "      <td>0.383972</td>\n",
       "      <td>0.467807</td>\n",
       "    </tr>\n",
       "  </tbody>\n",
       "</table>\n",
       "</div>"
      ],
      "text/plain": [
       "          X         y\n",
       "0  0.174533  0.373386\n",
       "1  0.226893  0.332243\n",
       "2  0.279253  0.043827\n",
       "3  0.331613  0.324311\n",
       "4  0.383972  0.467807"
      ]
     },
     "execution_count": 4,
     "metadata": {},
     "output_type": "execute_result"
    }
   ],
   "source": [
    "# Setting seed for reproducability\n",
    "np.random.seed(10)  \n",
    "\n",
    "# Defining the target/dependent variable as sine of the independent variable\n",
    "y = np.sin(x) + np.random.normal(0, 0.15, len(x))\n",
    "\n",
    "# Creating the dataframe using independent and dependent variable\n",
    "data = pd.DataFrame(np.column_stack([x, y]), columns = ['X','y'])\n",
    "\n",
    "# Check the data\n",
    "data.head()"
   ]
  },
  {
   "cell_type": "code",
   "execution_count": 6,
   "metadata": {
    "colab": {
     "base_uri": "https://localhost:8080/",
     "height": 503
    },
    "colab_type": "code",
    "executionInfo": {
     "elapsed": 2700,
     "status": "ok",
     "timestamp": 1560001047723,
     "user": {
      "displayName": "Sharoon Saxena",
      "photoUrl": "",
      "userId": "14774175216384036942"
     },
     "user_tz": -330
    },
    "id": "iXKirMENIfOO",
    "outputId": "8d117e9d-2129-4eda-b3c2-d692125bea91"
   },
   "outputs": [
    {
     "data": {
      "text/plain": [
       "[<matplotlib.lines.Line2D at 0x2ba58c8f530>]"
      ]
     },
     "execution_count": 6,
     "metadata": {},
     "output_type": "execute_result"
    },
    {
     "data": {
      "image/png": "[encoded data removed]",
      "text/plain": [
       "<Figure size 1000x600 with 1 Axes>"
      ]
     },
     "metadata": {},
     "output_type": "display_data"
    }
   ],
   "source": [
    "# Plotting the dependent and independent variables\n",
    "plt.figure(figsize = (10, 6))\n",
    "plt.plot(data['X'], data['y'], '.')"
   ]
  },
  {
   "cell_type": "markdown",
   "metadata": {},
   "source": [
    "## Preparing the data"
   ]
  },
  {
   "cell_type": "code",
   "execution_count": 8,
   "metadata": {
    "colab": {
     "base_uri": "https://localhost:8080/",
     "height": 204
    },
    "colab_type": "code",
    "executionInfo": {
     "elapsed": 2687,
     "status": "ok",
     "timestamp": 1560001047725,
     "user": {
      "displayName": "Sharoon Saxena",
      "photoUrl": "",
      "userId": "14774175216384036942"
     },
     "user_tz": -330
    },
    "id": "c0KKNiYHIfOR",
    "outputId": "bc5dd92a-27e9-4a05-f063-fc90259a5c27"
   },
   "outputs": [
    {
     "data": {
      "text/html": [
       "<div>\n",
       "<style scoped>\n",
       "    .dataframe tbody tr th:only-of-type {\n",
       "        vertical-align: middle;\n",
       "    }\n",
       "\n",
       "    .dataframe tbody tr th {\n",
       "        vertical-align: top;\n",
       "    }\n",
       "\n",
       "    .dataframe thead th {\n",
       "        text-align: right;\n",
       "    }\n",
       "</style>\n",
       "<table border=\"1\" class=\"dataframe\">\n",
       "  <thead>\n",
       "    <tr style=\"text-align: right;\">\n",
       "      <th></th>\n",
       "      <th>X</th>\n",
       "      <th>y</th>\n",
       "      <th>X_2</th>\n",
       "      <th>X_3</th>\n",
       "      <th>X_4</th>\n",
       "      <th>X_5</th>\n",
       "      <th>X_6</th>\n",
       "      <th>X_7</th>\n",
       "      <th>X_8</th>\n",
       "      <th>X_9</th>\n",
       "      <th>X_10</th>\n",
       "      <th>X_11</th>\n",
       "      <th>X_12</th>\n",
       "      <th>X_13</th>\n",
       "      <th>X_14</th>\n",
       "      <th>X_15</th>\n",
       "    </tr>\n",
       "  </thead>\n",
       "  <tbody>\n",
       "    <tr>\n",
       "      <th>0</th>\n",
       "      <td>0.174533</td>\n",
       "      <td>0.373386</td>\n",
       "      <td>0.030462</td>\n",
       "      <td>0.005317</td>\n",
       "      <td>0.000928</td>\n",
       "      <td>0.000162</td>\n",
       "      <td>0.000028</td>\n",
       "      <td>0.000005</td>\n",
       "      <td>8.610313e-07</td>\n",
       "      <td>1.502783e-07</td>\n",
       "      <td>2.622851e-08</td>\n",
       "      <td>4.577739e-09</td>\n",
       "      <td>7.989662e-10</td>\n",
       "      <td>1.394459e-10</td>\n",
       "      <td>2.433790e-11</td>\n",
       "      <td>4.247765e-12</td>\n",
       "    </tr>\n",
       "    <tr>\n",
       "      <th>1</th>\n",
       "      <td>0.226893</td>\n",
       "      <td>0.332243</td>\n",
       "      <td>0.051480</td>\n",
       "      <td>0.011681</td>\n",
       "      <td>0.002650</td>\n",
       "      <td>0.000601</td>\n",
       "      <td>0.000136</td>\n",
       "      <td>0.000031</td>\n",
       "      <td>7.023697e-06</td>\n",
       "      <td>1.593626e-06</td>\n",
       "      <td>3.615823e-07</td>\n",
       "      <td>8.204043e-08</td>\n",
       "      <td>1.861438e-08</td>\n",
       "      <td>4.223469e-09</td>\n",
       "      <td>9.582748e-10</td>\n",
       "      <td>2.174257e-10</td>\n",
       "    </tr>\n",
       "    <tr>\n",
       "      <th>2</th>\n",
       "      <td>0.279253</td>\n",
       "      <td>0.043827</td>\n",
       "      <td>0.077982</td>\n",
       "      <td>0.021777</td>\n",
       "      <td>0.006081</td>\n",
       "      <td>0.001698</td>\n",
       "      <td>0.000474</td>\n",
       "      <td>0.000132</td>\n",
       "      <td>3.698101e-05</td>\n",
       "      <td>1.032705e-05</td>\n",
       "      <td>2.883856e-06</td>\n",
       "      <td>8.053244e-07</td>\n",
       "      <td>2.248890e-07</td>\n",
       "      <td>6.280085e-08</td>\n",
       "      <td>1.753731e-08</td>\n",
       "      <td>4.897340e-09</td>\n",
       "    </tr>\n",
       "    <tr>\n",
       "      <th>3</th>\n",
       "      <td>0.331613</td>\n",
       "      <td>0.324311</td>\n",
       "      <td>0.109967</td>\n",
       "      <td>0.036466</td>\n",
       "      <td>0.012093</td>\n",
       "      <td>0.004010</td>\n",
       "      <td>0.001330</td>\n",
       "      <td>0.000441</td>\n",
       "      <td>1.462338e-04</td>\n",
       "      <td>4.849296e-05</td>\n",
       "      <td>1.608088e-05</td>\n",
       "      <td>5.332620e-06</td>\n",
       "      <td>1.768364e-06</td>\n",
       "      <td>5.864117e-07</td>\n",
       "      <td>1.944615e-07</td>\n",
       "      <td>6.448586e-08</td>\n",
       "    </tr>\n",
       "    <tr>\n",
       "      <th>4</th>\n",
       "      <td>0.383972</td>\n",
       "      <td>0.467807</td>\n",
       "      <td>0.147435</td>\n",
       "      <td>0.056611</td>\n",
       "      <td>0.021737</td>\n",
       "      <td>0.008346</td>\n",
       "      <td>0.003205</td>\n",
       "      <td>0.001231</td>\n",
       "      <td>4.724984e-04</td>\n",
       "      <td>1.814264e-04</td>\n",
       "      <td>6.966273e-05</td>\n",
       "      <td>2.674857e-05</td>\n",
       "      <td>1.027071e-05</td>\n",
       "      <td>3.943671e-06</td>\n",
       "      <td>1.514261e-06</td>\n",
       "      <td>5.814344e-07</td>\n",
       "    </tr>\n",
       "  </tbody>\n",
       "</table>\n",
       "</div>"
      ],
      "text/plain": [
       "          X         y       X_2       X_3       X_4       X_5       X_6  \\\n",
       "0  0.174533  0.373386  0.030462  0.005317  0.000928  0.000162  0.000028   \n",
       "1  0.226893  0.332243  0.051480  0.011681  0.002650  0.000601  0.000136   \n",
       "2  0.279253  0.043827  0.077982  0.021777  0.006081  0.001698  0.000474   \n",
       "3  0.331613  0.324311  0.109967  0.036466  0.012093  0.004010  0.001330   \n",
       "4  0.383972  0.467807  0.147435  0.056611  0.021737  0.008346  0.003205   \n",
       "\n",
       "        X_7           X_8           X_9          X_10          X_11  \\\n",
       "0  0.000005  8.610313e-07  1.502783e-07  2.622851e-08  4.577739e-09   \n",
       "1  0.000031  7.023697e-06  1.593626e-06  3.615823e-07  8.204043e-08   \n",
       "2  0.000132  3.698101e-05  1.032705e-05  2.883856e-06  8.053244e-07   \n",
       "3  0.000441  1.462338e-04  4.849296e-05  1.608088e-05  5.332620e-06   \n",
       "4  0.001231  4.724984e-04  1.814264e-04  6.966273e-05  2.674857e-05   \n",
       "\n",
       "           X_12          X_13          X_14          X_15  \n",
       "0  7.989662e-10  1.394459e-10  2.433790e-11  4.247765e-12  \n",
       "1  1.861438e-08  4.223469e-09  9.582748e-10  2.174257e-10  \n",
       "2  2.248890e-07  6.280085e-08  1.753731e-08  4.897340e-09  \n",
       "3  1.768364e-06  5.864117e-07  1.944615e-07  6.448586e-08  \n",
       "4  1.027071e-05  3.943671e-06  1.514261e-06  5.814344e-07  "
      ]
     },
     "execution_count": 8,
     "metadata": {},
     "output_type": "execute_result"
    }
   ],
   "source": [
    "# Polynomial regression with powers of x from 1 to 15\n",
    "# Power of 1 is already there, hence starting with 2\n",
    "for i in range(2, 16):  \n",
    "    col_name = 'X_%d'%i\n",
    "    # new var will be x_power\n",
    "    data[col_name] = data['X']**i\n",
    "\n",
    "# Check the data\n",
    "data.head()"
   ]
  },
  {
   "cell_type": "markdown",
   "metadata": {
    "colab_type": "text",
    "id": "n1nldRkUIsoU"
   },
   "source": [
    "### Creating training and testing set"
   ]
  },
  {
   "cell_type": "code",
   "execution_count": 9,
   "metadata": {
    "colab": {},
    "colab_type": "code",
    "id": "AUQZSAHhIfOT"
   },
   "outputs": [
    {
     "name": "stdout",
     "output_type": "stream",
     "text": [
      "(73, 16) (44, 16)\n"
     ]
    }
   ],
   "source": [
    "data['random_col'] = np.random.randint(1, 6, data.shape[0])\n",
    "\n",
    "train = data[data['random_col'] <=3 ]\n",
    "test = data[data['random_col'] > 3]\n",
    "\n",
    "# Drop the columns\n",
    "train = train.drop('random_col', axis = 1)\n",
    "test = test.drop('random_col', axis = 1)\n",
    "\n",
    "# Check the data\n",
    "print(train.shape, test.shape)"
   ]
  },
  {
   "cell_type": "markdown",
   "metadata": {
    "colab_type": "text",
    "id": "1Z29VxBTIfOV"
   },
   "source": [
    "## Linear Regression"
   ]
  },
  {
   "cell_type": "code",
   "execution_count": 11,
   "metadata": {
    "colab": {},
    "colab_type": "code",
    "id": "VUf2CVczIfOY"
   },
   "outputs": [
    {
     "name": "stdout",
     "output_type": "stream",
     "text": [
      "(73, 15) (73,)\n",
      "(44, 15) (44,)\n"
     ]
    }
   ],
   "source": [
    "#Separating the independent and dependent variables\n",
    "X_train = train.drop('y', axis = 1).values\n",
    "y_train = train['y'].values\n",
    "\n",
    "X_test = test.drop('y', axis=1).values\n",
    "y_test = test['y'].values\n",
    "\n",
    "print(X_train.shape, y_train.shape)\n",
    "print(X_test.shape, y_test.shape)"
   ]
  },
  {
   "cell_type": "code",
   "execution_count": 19,
   "metadata": {
    "colab": {},
    "colab_type": "code",
    "id": "s3Cd83HrIfOk"
   },
   "outputs": [],
   "source": [
    "def linear_regression_model(X_train, y_train, X_test, y_test, features, plot):\n",
    "    \"\"\"\n",
    "    This function will fit the linear regression model, plot the result as well as return the coefficients.\n",
    "    Arguments:\n",
    "    train_x, train_y, test_x, test_y: the training and testing sets\n",
    "    features: features of the data\n",
    "    plot: plot the graph \n",
    "    \"\"\"\n",
    "    # Fit the model\n",
    "    LR = LinearRegression(normalize = True)\n",
    "    LR.fit(X_train, X_train)\n",
    "    train_y_pred = LR.predict(X_train)\n",
    "    test_y_pred = LR.predict(X_test)\n",
    "    \n",
    "    # Check if a plot is to be made for the entered features\n",
    "    if features in plot:\n",
    "        plt.subplot(plot[features])\n",
    "        plt.tight_layout()\n",
    "        \n",
    "        plt.plot(X_train[:,0:1], train_y_pred)\n",
    "        plt.plot(X_train[:,0:1], y_train, '.')\n",
    "        \n",
    "        plt.title('Number of Predictors: %d'%features)\n",
    "    \n",
    "    # Return the result in pre-defined format\n",
    "    rss_train = sum((train_y_pred - y_train)**2) / X_train.shape[0]\n",
    "    ret = [rss_train]\n",
    "    \n",
    "    rss_test = sum((test_y_pred-y_test)**2) / X_test.shape[0]\n",
    "    ret.extend([rss_test])\n",
    "    \n",
    "    ret.extend([LR.intercept_])\n",
    "    ret.extend(LR.coef_)\n",
    "    \n",
    "    return ret"
   ]
  },
  {
   "cell_type": "code",
   "execution_count": 18,
   "metadata": {
    "colab": {
     "base_uri": "https://localhost:8080/",
     "height": 585
    },
    "colab_type": "code",
    "executionInfo": {
     "elapsed": 6015,
     "status": "ok",
     "timestamp": 1560001051123,
     "user": {
      "displayName": "Sharoon Saxena",
      "photoUrl": "",
      "userId": "14774175216384036942"
     },
     "user_tz": -330
    },
    "id": "latyKt6WIfOu",
    "outputId": "d4a6c677-a4ea-4bda-ed2c-3ae83f50704f"
   },
   "outputs": [
    {
     "data": {
      "image/png": "[encoded data removed]",
      "text/plain": [
       "<Figure size 864x576 with 6 Axes>"
      ]
     },
     "metadata": {
      "tags": []
     },
     "output_type": "display_data"
    }
   ],
   "source": [
    "#Initialize a dataframe to store the results:\n",
    "col = ['mrss_train', 'mrss_test', 'intercept'] + ['coef_Var_%d'%i for i in range(1,16)]\n",
    "ind = ['Number_of_variable_%d'%i for i in range(1,16)]\n",
    "\n",
    "# Create a coefficient matrix\n",
    "coef_matrix = pd.DataFrame(index = ind, columns = col)\n",
    "\n",
    "# Define the number of features for which a plot is required\n",
    "plots = {1:231,3:232,6:233,9:234,12:235,15:236}\n",
    "\n",
    "# Iterate through all powers and store the results in a matrix form\n",
    "plt.figure(figsize=(12,8))\n",
    "for i in range(1,16):\n",
    "    train_x = X_train[:,0:i]\n",
    "    train_y = y_train\n",
    "    test_x = X_test[:,0:i]\n",
    "    test_y = y_test\n",
    "    \n",
    "    coef_matrix.iloc[i-1,0:i+3] = linear_regression_model(train_x, train_y, test_x, test_y, i, plots)"
   ]
  },
  {
   "cell_type": "code",
   "execution_count": 19,
   "metadata": {
    "colab": {
     "base_uri": "https://localhost:8080/",
     "height": 534
    },
    "colab_type": "code",
    "executionInfo": {
     "elapsed": 6001,
     "status": "ok",
     "timestamp": 1560001051128,
     "user": {
      "displayName": "Sharoon Saxena",
      "photoUrl": "",
      "userId": "14774175216384036942"
     },
     "user_tz": -330
    },
    "id": "4fQrthy0IfOy",
    "outputId": "36b92a58-c81c-45dc-da44-3d6b3d3a7ad3"
   },
   "outputs": [
    {
     "data": {
      "text/html": [
       "<div>\n",
       "<style scoped>\n",
       "    .dataframe tbody tr th:only-of-type {\n",
       "        vertical-align: middle;\n",
       "    }\n",
       "\n",
       "    .dataframe tbody tr th {\n",
       "        vertical-align: top;\n",
       "    }\n",
       "\n",
       "    .dataframe thead th {\n",
       "        text-align: right;\n",
       "    }\n",
       "</style>\n",
       "<table border=\"1\" class=\"dataframe\">\n",
       "  <thead>\n",
       "    <tr style=\"text-align: right;\">\n",
       "      <th></th>\n",
       "      <th>mrss_train</th>\n",
       "      <th>mrss_test</th>\n",
       "      <th>intercept</th>\n",
       "      <th>coef_Var_1</th>\n",
       "      <th>coef_Var_2</th>\n",
       "      <th>coef_Var_3</th>\n",
       "      <th>coef_Var_4</th>\n",
       "      <th>coef_Var_5</th>\n",
       "      <th>coef_Var_6</th>\n",
       "      <th>coef_Var_7</th>\n",
       "      <th>coef_Var_8</th>\n",
       "      <th>coef_Var_9</th>\n",
       "      <th>coef_Var_10</th>\n",
       "      <th>coef_Var_11</th>\n",
       "      <th>coef_Var_12</th>\n",
       "      <th>coef_Var_13</th>\n",
       "      <th>coef_Var_14</th>\n",
       "      <th>coef_Var_15</th>\n",
       "    </tr>\n",
       "  </thead>\n",
       "  <tbody>\n",
       "    <tr>\n",
       "      <th>Number_of_variable_1</th>\n",
       "      <td>0.21</td>\n",
       "      <td>0.19</td>\n",
       "      <td>1</td>\n",
       "      <td>-0.31</td>\n",
       "      <td>NaN</td>\n",
       "      <td>NaN</td>\n",
       "      <td>NaN</td>\n",
       "      <td>NaN</td>\n",
       "      <td>NaN</td>\n",
       "      <td>NaN</td>\n",
       "      <td>NaN</td>\n",
       "      <td>NaN</td>\n",
       "      <td>NaN</td>\n",
       "      <td>NaN</td>\n",
       "      <td>NaN</td>\n",
       "      <td>NaN</td>\n",
       "      <td>NaN</td>\n",
       "      <td>NaN</td>\n",
       "    </tr>\n",
       "    <tr>\n",
       "      <th>Number_of_variable_2</th>\n",
       "      <td>0.21</td>\n",
       "      <td>0.19</td>\n",
       "      <td>1.1</td>\n",
       "      <td>-0.39</td>\n",
       "      <td>0.012</td>\n",
       "      <td>NaN</td>\n",
       "      <td>NaN</td>\n",
       "      <td>NaN</td>\n",
       "      <td>NaN</td>\n",
       "      <td>NaN</td>\n",
       "      <td>NaN</td>\n",
       "      <td>NaN</td>\n",
       "      <td>NaN</td>\n",
       "      <td>NaN</td>\n",
       "      <td>NaN</td>\n",
       "      <td>NaN</td>\n",
       "      <td>NaN</td>\n",
       "      <td>NaN</td>\n",
       "    </tr>\n",
       "    <tr>\n",
       "      <th>Number_of_variable_3</th>\n",
       "      <td>0.021</td>\n",
       "      <td>0.03</td>\n",
       "      <td>-0.4</td>\n",
       "      <td>2.2</td>\n",
       "      <td>-0.99</td>\n",
       "      <td>0.1</td>\n",
       "      <td>NaN</td>\n",
       "      <td>NaN</td>\n",
       "      <td>NaN</td>\n",
       "      <td>NaN</td>\n",
       "      <td>NaN</td>\n",
       "      <td>NaN</td>\n",
       "      <td>NaN</td>\n",
       "      <td>NaN</td>\n",
       "      <td>NaN</td>\n",
       "      <td>NaN</td>\n",
       "      <td>NaN</td>\n",
       "      <td>NaN</td>\n",
       "    </tr>\n",
       "    <tr>\n",
       "      <th>Number_of_variable_4</th>\n",
       "      <td>0.021</td>\n",
       "      <td>0.03</td>\n",
       "      <td>-0.43</td>\n",
       "      <td>2.3</td>\n",
       "      <td>-1</td>\n",
       "      <td>0.12</td>\n",
       "      <td>-0.001</td>\n",
       "      <td>NaN</td>\n",
       "      <td>NaN</td>\n",
       "      <td>NaN</td>\n",
       "      <td>NaN</td>\n",
       "      <td>NaN</td>\n",
       "      <td>NaN</td>\n",
       "      <td>NaN</td>\n",
       "      <td>NaN</td>\n",
       "      <td>NaN</td>\n",
       "      <td>NaN</td>\n",
       "      <td>NaN</td>\n",
       "    </tr>\n",
       "    <tr>\n",
       "      <th>Number_of_variable_5</th>\n",
       "      <td>0.02</td>\n",
       "      <td>0.023</td>\n",
       "      <td>-0.096</td>\n",
       "      <td>1.2</td>\n",
       "      <td>0.0084</td>\n",
       "      <td>-0.29</td>\n",
       "      <td>0.069</td>\n",
       "      <td>-0.0043</td>\n",
       "      <td>NaN</td>\n",
       "      <td>NaN</td>\n",
       "      <td>NaN</td>\n",
       "      <td>NaN</td>\n",
       "      <td>NaN</td>\n",
       "      <td>NaN</td>\n",
       "      <td>NaN</td>\n",
       "      <td>NaN</td>\n",
       "      <td>NaN</td>\n",
       "      <td>NaN</td>\n",
       "    </tr>\n",
       "    <tr>\n",
       "      <th>Number_of_variable_6</th>\n",
       "      <td>0.019</td>\n",
       "      <td>0.028</td>\n",
       "      <td>-0.4</td>\n",
       "      <td>2.5</td>\n",
       "      <td>-1.6</td>\n",
       "      <td>0.66</td>\n",
       "      <td>-0.2</td>\n",
       "      <td>0.031</td>\n",
       "      <td>-0.0018</td>\n",
       "      <td>NaN</td>\n",
       "      <td>NaN</td>\n",
       "      <td>NaN</td>\n",
       "      <td>NaN</td>\n",
       "      <td>NaN</td>\n",
       "      <td>NaN</td>\n",
       "      <td>NaN</td>\n",
       "      <td>NaN</td>\n",
       "      <td>NaN</td>\n",
       "    </tr>\n",
       "    <tr>\n",
       "      <th>Number_of_variable_7</th>\n",
       "      <td>0.019</td>\n",
       "      <td>0.028</td>\n",
       "      <td>-0.38</td>\n",
       "      <td>2.4</td>\n",
       "      <td>-1.5</td>\n",
       "      <td>0.53</td>\n",
       "      <td>-0.15</td>\n",
       "      <td>0.021</td>\n",
       "      <td>-0.00067</td>\n",
       "      <td>-5.1e-05</td>\n",
       "      <td>NaN</td>\n",
       "      <td>NaN</td>\n",
       "      <td>NaN</td>\n",
       "      <td>NaN</td>\n",
       "      <td>NaN</td>\n",
       "      <td>NaN</td>\n",
       "      <td>NaN</td>\n",
       "      <td>NaN</td>\n",
       "    </tr>\n",
       "    <tr>\n",
       "      <th>Number_of_variable_8</th>\n",
       "      <td>0.019</td>\n",
       "      <td>0.032</td>\n",
       "      <td>-0.85</td>\n",
       "      <td>5.1</td>\n",
       "      <td>-7</td>\n",
       "      <td>6</td>\n",
       "      <td>-3.1</td>\n",
       "      <td>0.92</td>\n",
       "      <td>-0.16</td>\n",
       "      <td>0.015</td>\n",
       "      <td>-0.00058</td>\n",
       "      <td>NaN</td>\n",
       "      <td>NaN</td>\n",
       "      <td>NaN</td>\n",
       "      <td>NaN</td>\n",
       "      <td>NaN</td>\n",
       "      <td>NaN</td>\n",
       "      <td>NaN</td>\n",
       "    </tr>\n",
       "    <tr>\n",
       "      <th>Number_of_variable_9</th>\n",
       "      <td>0.019</td>\n",
       "      <td>0.032</td>\n",
       "      <td>-0.94</td>\n",
       "      <td>5.7</td>\n",
       "      <td>-8.5</td>\n",
       "      <td>7.7</td>\n",
       "      <td>-4.3</td>\n",
       "      <td>1.4</td>\n",
       "      <td>-0.28</td>\n",
       "      <td>0.033</td>\n",
       "      <td>-0.002</td>\n",
       "      <td>5e-05</td>\n",
       "      <td>NaN</td>\n",
       "      <td>NaN</td>\n",
       "      <td>NaN</td>\n",
       "      <td>NaN</td>\n",
       "      <td>NaN</td>\n",
       "      <td>NaN</td>\n",
       "    </tr>\n",
       "    <tr>\n",
       "      <th>Number_of_variable_10</th>\n",
       "      <td>0.018</td>\n",
       "      <td>0.044</td>\n",
       "      <td>-2.4</td>\n",
       "      <td>16</td>\n",
       "      <td>-38</td>\n",
       "      <td>50</td>\n",
       "      <td>-39</td>\n",
       "      <td>19</td>\n",
       "      <td>-6</td>\n",
       "      <td>1.2</td>\n",
       "      <td>-0.15</td>\n",
       "      <td>0.011</td>\n",
       "      <td>-0.00033</td>\n",
       "      <td>NaN</td>\n",
       "      <td>NaN</td>\n",
       "      <td>NaN</td>\n",
       "      <td>NaN</td>\n",
       "      <td>NaN</td>\n",
       "    </tr>\n",
       "    <tr>\n",
       "      <th>Number_of_variable_11</th>\n",
       "      <td>0.018</td>\n",
       "      <td>0.034</td>\n",
       "      <td>-0.34</td>\n",
       "      <td>-0.37</td>\n",
       "      <td>15</td>\n",
       "      <td>-38</td>\n",
       "      <td>47</td>\n",
       "      <td>-34</td>\n",
       "      <td>16</td>\n",
       "      <td>-4.7</td>\n",
       "      <td>0.9</td>\n",
       "      <td>-0.11</td>\n",
       "      <td>0.0073</td>\n",
       "      <td>-0.00021</td>\n",
       "      <td>NaN</td>\n",
       "      <td>NaN</td>\n",
       "      <td>NaN</td>\n",
       "      <td>NaN</td>\n",
       "    </tr>\n",
       "    <tr>\n",
       "      <th>Number_of_variable_12</th>\n",
       "      <td>0.018</td>\n",
       "      <td>0.028</td>\n",
       "      <td>1.6</td>\n",
       "      <td>-18</td>\n",
       "      <td>78</td>\n",
       "      <td>-1.6e+02</td>\n",
       "      <td>1.8e+02</td>\n",
       "      <td>-1.4e+02</td>\n",
       "      <td>67</td>\n",
       "      <td>-22</td>\n",
       "      <td>4.9</td>\n",
       "      <td>-0.74</td>\n",
       "      <td>0.071</td>\n",
       "      <td>-0.0039</td>\n",
       "      <td>9.5e-05</td>\n",
       "      <td>NaN</td>\n",
       "      <td>NaN</td>\n",
       "      <td>NaN</td>\n",
       "    </tr>\n",
       "    <tr>\n",
       "      <th>Number_of_variable_13</th>\n",
       "      <td>0.018</td>\n",
       "      <td>0.029</td>\n",
       "      <td>0.84</td>\n",
       "      <td>-10</td>\n",
       "      <td>47</td>\n",
       "      <td>-92</td>\n",
       "      <td>98</td>\n",
       "      <td>-62</td>\n",
       "      <td>23</td>\n",
       "      <td>-3.9</td>\n",
       "      <td>-0.31</td>\n",
       "      <td>0.32</td>\n",
       "      <td>-0.077</td>\n",
       "      <td>0.0095</td>\n",
       "      <td>-0.00062</td>\n",
       "      <td>1.7e-05</td>\n",
       "      <td>NaN</td>\n",
       "      <td>NaN</td>\n",
       "    </tr>\n",
       "    <tr>\n",
       "      <th>Number_of_variable_14</th>\n",
       "      <td>0.017</td>\n",
       "      <td>0.056</td>\n",
       "      <td>-5.5</td>\n",
       "      <td>57</td>\n",
       "      <td>-2.4e+02</td>\n",
       "      <td>6e+02</td>\n",
       "      <td>-9.3e+02</td>\n",
       "      <td>9.5e+02</td>\n",
       "      <td>-6.7e+02</td>\n",
       "      <td>3.3e+02</td>\n",
       "      <td>-1.2e+02</td>\n",
       "      <td>30</td>\n",
       "      <td>-5.3</td>\n",
       "      <td>0.67</td>\n",
       "      <td>-0.055</td>\n",
       "      <td>0.0027</td>\n",
       "      <td>-5.9e-05</td>\n",
       "      <td>NaN</td>\n",
       "    </tr>\n",
       "    <tr>\n",
       "      <th>Number_of_variable_15</th>\n",
       "      <td>0.016</td>\n",
       "      <td>0.2</td>\n",
       "      <td>-25</td>\n",
       "      <td>2.7e+02</td>\n",
       "      <td>-1.3e+03</td>\n",
       "      <td>3.3e+03</td>\n",
       "      <td>-5.4e+03</td>\n",
       "      <td>5.9e+03</td>\n",
       "      <td>-4.5e+03</td>\n",
       "      <td>2.5e+03</td>\n",
       "      <td>-1e+03</td>\n",
       "      <td>3e+02</td>\n",
       "      <td>-65</td>\n",
       "      <td>10</td>\n",
       "      <td>-1.2</td>\n",
       "      <td>0.086</td>\n",
       "      <td>-0.0039</td>\n",
       "      <td>7.9e-05</td>\n",
       "    </tr>\n",
       "  </tbody>\n",
       "</table>\n",
       "</div>"
      ],
      "text/plain": [
       "                      mrss_train mrss_test  ... coef_Var_14 coef_Var_15\n",
       "Number_of_variable_1        0.21      0.19  ...         NaN         NaN\n",
       "Number_of_variable_2        0.21      0.19  ...         NaN         NaN\n",
       "Number_of_variable_3       0.021      0.03  ...         NaN         NaN\n",
       "Number_of_variable_4       0.021      0.03  ...         NaN         NaN\n",
       "Number_of_variable_5        0.02     0.023  ...         NaN         NaN\n",
       "Number_of_variable_6       0.019     0.028  ...         NaN         NaN\n",
       "Number_of_variable_7       0.019     0.028  ...         NaN         NaN\n",
       "Number_of_variable_8       0.019     0.032  ...         NaN         NaN\n",
       "Number_of_variable_9       0.019     0.032  ...         NaN         NaN\n",
       "Number_of_variable_10      0.018     0.044  ...         NaN         NaN\n",
       "Number_of_variable_11      0.018     0.034  ...         NaN         NaN\n",
       "Number_of_variable_12      0.018     0.028  ...         NaN         NaN\n",
       "Number_of_variable_13      0.018     0.029  ...         NaN         NaN\n",
       "Number_of_variable_14      0.017     0.056  ...    -5.9e-05         NaN\n",
       "Number_of_variable_15      0.016       0.2  ...     -0.0039     7.9e-05\n",
       "\n",
       "[15 rows x 18 columns]"
      ]
     },
     "execution_count": 19,
     "metadata": {
      "tags": []
     },
     "output_type": "execute_result"
    }
   ],
   "source": [
    "# Set the display format to be scientific for ease of analysis\n",
    "pd.options.display.float_format = '{:,.2g}'.format\n",
    "coef_matrix"
   ]
  },
  {
   "cell_type": "code",
   "execution_count": 20,
   "metadata": {
    "colab": {
     "base_uri": "https://localhost:8080/",
     "height": 301
    },
    "colab_type": "code",
    "executionInfo": {
     "elapsed": 5987,
     "status": "ok",
     "timestamp": 1560001051129,
     "user": {
      "displayName": "Sharoon Saxena",
      "photoUrl": "",
      "userId": "14774175216384036942"
     },
     "user_tz": -330
    },
    "id": "WLcisBSWIfO3",
    "outputId": "2aae6f2d-9958-46d7-ffb3-d27e9ec839c5"
   },
   "outputs": [
    {
     "data": {
      "text/plain": [
       "<matplotlib.legend.Legend at 0x7fcb580ba208>"
      ]
     },
     "execution_count": 20,
     "metadata": {
      "tags": []
     },
     "output_type": "execute_result"
    },
    {
     "data": {
      "image/png": "[encoded data removed]",
      "text/plain": [
       "<Figure size 432x288 with 1 Axes>"
      ]
     },
     "metadata": {
      "tags": []
     },
     "output_type": "display_data"
    }
   ],
   "source": [
    "coef_matrix[['mrss_train','mrss_test']].plot()\n",
    "\n",
    "plt.xlabel('Features')\n",
    "plt.ylabel('MRSS')\n",
    "plt.legend(['train', 'test'])"
   ]
  },
  {
   "cell_type": "markdown",
   "metadata": {
    "colab_type": "text",
    "id": "bGDBYdTKIfO8"
   },
   "source": [
    "## Ridge Regression"
   ]
  },
  {
   "cell_type": "code",
   "execution_count": null,
   "metadata": {
    "colab": {},
    "colab_type": "code",
    "id": "0Q0SL-LBIfPB"
   },
   "outputs": [],
   "source": [
    "# Set the different values of alpha to be tested\n",
    "alpha_ridge = [0, 1e-8, 1e-4, 1e-3,1e-2, 1, 5, 10, 20, 25]\n",
    "\n",
    "# defining a function which will fit ridge regression model, plot the results, and return the coefficients\n",
    "def ridge_regression_model(train_x, train_y, test_x, test_y, alpha, plot = {}):\n",
    "    \"\"\"\n",
    "    This function will fit the ridge regression model, plot the result as well as return the coefficients.\n",
    "    Arguments:\n",
    "    train_x, train_y, test_x, test_y: the training and testing sets\n",
    "    features: features of the data\n",
    "    plot: plot the graph \n",
    "    \"\"\"\n",
    "    # Fit the model\n",
    "    RR = Ridge(alpha = alpha, normalize=True)\n",
    "    RR.fit(train_x,train_y)\n",
    "    train_y_pred = RR.predict(train_x)\n",
    "    test_y_pred = RR.predict(test_x)\n",
    "    \n",
    "    #Check if a plot is to be made for the entered alpha\n",
    "    if alpha in plot:\n",
    "        plt.subplot(plot[alpha])\n",
    "        plt.tight_layout()\n",
    "        plt.plot(train_x[:,0:1],train_y_pred)\n",
    "        plt.plot(train_x[:,0:1],train_y,'.')\n",
    "        plt.title('Plot for alpha: %.3g'%alpha)\n",
    "    \n",
    "    # Return the result in pre-defined format\n",
    "    mrss_train = sum((train_y_pred-train_y)**2)/train_x.shape[0]\n",
    "    ret = [mrss_train]\n",
    "    \n",
    "    mrss_test = sum((test_y_pred-test_y)**2)/test_x.shape[0]\n",
    "    ret.extend([mrss_test])\n",
    "    \n",
    "    ret.extend([RR.intercept_])\n",
    "    ret.extend(RR.coef_)\n",
    "    \n",
    "    return ret"
   ]
  },
  {
   "cell_type": "code",
   "execution_count": 26,
   "metadata": {
    "colab": {
     "base_uri": "https://localhost:8080/",
     "height": 585
    },
    "colab_type": "code",
    "executionInfo": {
     "elapsed": 7225,
     "status": "ok",
     "timestamp": 1560001052386,
     "user": {
      "displayName": "Sharoon Saxena",
      "photoUrl": "",
      "userId": "14774175216384036942"
     },
     "user_tz": -330
    },
    "id": "E2AHmalFIfPF",
    "outputId": "fbd14c62-5de3-468d-d1a4-0bc4e37bcea4"
   },
   "outputs": [
    {
     "data": {
      "image/png": "[encoded data removed]",
      "text/plain": [
       "<Figure size 864x576 with 6 Axes>"
      ]
     },
     "metadata": {
      "tags": []
     },
     "output_type": "display_data"
    }
   ],
   "source": [
    "#Initialize the dataframe for storing coefficients.\n",
    "cols = ['mrss_train','mrss_test','intercept'] + ['coef_Var_%d'%i for i in range(1,16)]\n",
    "ind = ['alpha_%.2g'%alpha_ridge[i] for i in range(0,10)]\n",
    "\n",
    "coef_matrix = pd.DataFrame(index = ind, columns = cols)\n",
    "\n",
    "# Define the alpha value for which a plot is required:\n",
    "plots = {0:231, 1e-4:232, 1e-3:233, 1e-2:234, 1:235, 5:236}\n",
    "\n",
    "# Iterate over the alpha values\n",
    "plt.figure(figsize = (12,8))\n",
    "for i in range(10):\n",
    "    coef_matrix.iloc[i,] = ridge_regression_model(train_x, train_y, test_x, test_y, alpha_ridge[i], plots)"
   ]
  },
  {
   "cell_type": "code",
   "execution_count": 27,
   "metadata": {
    "colab": {
     "base_uri": "https://localhost:8080/",
     "height": 379
    },
    "colab_type": "code",
    "executionInfo": {
     "elapsed": 7216,
     "status": "ok",
     "timestamp": 1560001052387,
     "user": {
      "displayName": "Sharoon Saxena",
      "photoUrl": "",
      "userId": "14774175216384036942"
     },
     "user_tz": -330
    },
    "id": "GroQiE_FIfPH",
    "outputId": "b1e17d3e-ebae-41f5-d083-e6b496488c73"
   },
   "outputs": [
    {
     "data": {
      "text/html": [
       "<div>\n",
       "<style scoped>\n",
       "    .dataframe tbody tr th:only-of-type {\n",
       "        vertical-align: middle;\n",
       "    }\n",
       "\n",
       "    .dataframe tbody tr th {\n",
       "        vertical-align: top;\n",
       "    }\n",
       "\n",
       "    .dataframe thead th {\n",
       "        text-align: right;\n",
       "    }\n",
       "</style>\n",
       "<table border=\"1\" class=\"dataframe\">\n",
       "  <thead>\n",
       "    <tr style=\"text-align: right;\">\n",
       "      <th></th>\n",
       "      <th>mrss_train</th>\n",
       "      <th>mrss_test</th>\n",
       "      <th>intercept</th>\n",
       "      <th>coef_Var_1</th>\n",
       "      <th>coef_Var_2</th>\n",
       "      <th>coef_Var_3</th>\n",
       "      <th>coef_Var_4</th>\n",
       "      <th>coef_Var_5</th>\n",
       "      <th>coef_Var_6</th>\n",
       "      <th>coef_Var_7</th>\n",
       "      <th>coef_Var_8</th>\n",
       "      <th>coef_Var_9</th>\n",
       "      <th>coef_Var_10</th>\n",
       "      <th>coef_Var_11</th>\n",
       "      <th>coef_Var_12</th>\n",
       "      <th>coef_Var_13</th>\n",
       "      <th>coef_Var_14</th>\n",
       "      <th>coef_Var_15</th>\n",
       "    </tr>\n",
       "  </thead>\n",
       "  <tbody>\n",
       "    <tr>\n",
       "      <th>alpha_0</th>\n",
       "      <td>0.016</td>\n",
       "      <td>0.2</td>\n",
       "      <td>-25</td>\n",
       "      <td>2.7e+02</td>\n",
       "      <td>-1.3e+03</td>\n",
       "      <td>3.3e+03</td>\n",
       "      <td>-5.4e+03</td>\n",
       "      <td>5.9e+03</td>\n",
       "      <td>-4.5e+03</td>\n",
       "      <td>2.5e+03</td>\n",
       "      <td>-1e+03</td>\n",
       "      <td>3e+02</td>\n",
       "      <td>-65</td>\n",
       "      <td>10</td>\n",
       "      <td>-1.2</td>\n",
       "      <td>0.086</td>\n",
       "      <td>-0.0039</td>\n",
       "      <td>7.9e-05</td>\n",
       "    </tr>\n",
       "    <tr>\n",
       "      <th>alpha_1e-08</th>\n",
       "      <td>0.019</td>\n",
       "      <td>0.028</td>\n",
       "      <td>-0.37</td>\n",
       "      <td>2.3</td>\n",
       "      <td>-1.4</td>\n",
       "      <td>0.39</td>\n",
       "      <td>-0.059</td>\n",
       "      <td>-0.0037</td>\n",
       "      <td>0.00094</td>\n",
       "      <td>0.00022</td>\n",
       "      <td>1.5e-05</td>\n",
       "      <td>-3.2e-06</td>\n",
       "      <td>-1.1e-06</td>\n",
       "      <td>-1.5e-07</td>\n",
       "      <td>3.9e-09</td>\n",
       "      <td>6.1e-09</td>\n",
       "      <td>1.1e-09</td>\n",
       "      <td>-1.9e-10</td>\n",
       "    </tr>\n",
       "    <tr>\n",
       "      <th>alpha_0.0001</th>\n",
       "      <td>0.02</td>\n",
       "      <td>0.026</td>\n",
       "      <td>-0.023</td>\n",
       "      <td>1.2</td>\n",
       "      <td>-0.36</td>\n",
       "      <td>-0.023</td>\n",
       "      <td>0.0016</td>\n",
       "      <td>0.00058</td>\n",
       "      <td>9e-05</td>\n",
       "      <td>9.4e-06</td>\n",
       "      <td>5.5e-07</td>\n",
       "      <td>-4.1e-08</td>\n",
       "      <td>-2e-08</td>\n",
       "      <td>-3.9e-09</td>\n",
       "      <td>-5.6e-10</td>\n",
       "      <td>-5.3e-11</td>\n",
       "      <td>9.2e-14</td>\n",
       "      <td>1.6e-12</td>\n",
       "    </tr>\n",
       "    <tr>\n",
       "      <th>alpha_0.001</th>\n",
       "      <td>0.028</td>\n",
       "      <td>0.034</td>\n",
       "      <td>0.28</td>\n",
       "      <td>0.72</td>\n",
       "      <td>-0.19</td>\n",
       "      <td>-0.021</td>\n",
       "      <td>-0.00068</td>\n",
       "      <td>0.00019</td>\n",
       "      <td>5.2e-05</td>\n",
       "      <td>9e-06</td>\n",
       "      <td>1.2e-06</td>\n",
       "      <td>1.4e-07</td>\n",
       "      <td>1.1e-08</td>\n",
       "      <td>1.8e-10</td>\n",
       "      <td>-2e-10</td>\n",
       "      <td>-6e-11</td>\n",
       "      <td>-1.3e-11</td>\n",
       "      <td>-2.3e-12</td>\n",
       "    </tr>\n",
       "    <tr>\n",
       "      <th>alpha_0.01</th>\n",
       "      <td>0.059</td>\n",
       "      <td>0.058</td>\n",
       "      <td>0.7</td>\n",
       "      <td>0.17</td>\n",
       "      <td>-0.075</td>\n",
       "      <td>-0.011</td>\n",
       "      <td>-0.00085</td>\n",
       "      <td>-1.7e-06</td>\n",
       "      <td>1.6e-05</td>\n",
       "      <td>4e-06</td>\n",
       "      <td>7.4e-07</td>\n",
       "      <td>1.1e-07</td>\n",
       "      <td>1.5e-08</td>\n",
       "      <td>1.7e-09</td>\n",
       "      <td>1e-10</td>\n",
       "      <td>-1.4e-11</td>\n",
       "      <td>-7.6e-12</td>\n",
       "      <td>-2.1e-12</td>\n",
       "    </tr>\n",
       "    <tr>\n",
       "      <th>alpha_1</th>\n",
       "      <td>0.19</td>\n",
       "      <td>0.2</td>\n",
       "      <td>0.59</td>\n",
       "      <td>-0.093</td>\n",
       "      <td>-0.013</td>\n",
       "      <td>-0.0016</td>\n",
       "      <td>-0.00019</td>\n",
       "      <td>-2.1e-05</td>\n",
       "      <td>-1.9e-06</td>\n",
       "      <td>-1e-07</td>\n",
       "      <td>1.1e-08</td>\n",
       "      <td>5.6e-09</td>\n",
       "      <td>1.4e-09</td>\n",
       "      <td>3e-10</td>\n",
       "      <td>5.8e-11</td>\n",
       "      <td>1.1e-11</td>\n",
       "      <td>1.9e-12</td>\n",
       "      <td>3.3e-13</td>\n",
       "    </tr>\n",
       "    <tr>\n",
       "      <th>alpha_5</th>\n",
       "      <td>0.35</td>\n",
       "      <td>0.37</td>\n",
       "      <td>0.29</td>\n",
       "      <td>-0.036</td>\n",
       "      <td>-0.0049</td>\n",
       "      <td>-0.00066</td>\n",
       "      <td>-8.7e-05</td>\n",
       "      <td>-1.1e-05</td>\n",
       "      <td>-1.3e-06</td>\n",
       "      <td>-1.5e-07</td>\n",
       "      <td>-1.6e-08</td>\n",
       "      <td>-1.4e-09</td>\n",
       "      <td>-4.8e-11</td>\n",
       "      <td>1.7e-11</td>\n",
       "      <td>6.3e-12</td>\n",
       "      <td>1.5e-12</td>\n",
       "      <td>3.2e-13</td>\n",
       "      <td>6.2e-14</td>\n",
       "    </tr>\n",
       "    <tr>\n",
       "      <th>alpha_10</th>\n",
       "      <td>0.4</td>\n",
       "      <td>0.42</td>\n",
       "      <td>0.2</td>\n",
       "      <td>-0.022</td>\n",
       "      <td>-0.003</td>\n",
       "      <td>-0.00042</td>\n",
       "      <td>-5.7e-05</td>\n",
       "      <td>-7.6e-06</td>\n",
       "      <td>-1e-06</td>\n",
       "      <td>-1.3e-07</td>\n",
       "      <td>-1.7e-08</td>\n",
       "      <td>-2e-09</td>\n",
       "      <td>-2.4e-10</td>\n",
       "      <td>-2.6e-11</td>\n",
       "      <td>-2.3e-12</td>\n",
       "      <td>-9.4e-14</td>\n",
       "      <td>2.4e-14</td>\n",
       "      <td>9.6e-15</td>\n",
       "    </tr>\n",
       "    <tr>\n",
       "      <th>alpha_20</th>\n",
       "      <td>0.45</td>\n",
       "      <td>0.47</td>\n",
       "      <td>0.13</td>\n",
       "      <td>-0.012</td>\n",
       "      <td>-0.0017</td>\n",
       "      <td>-0.00025</td>\n",
       "      <td>-3.5e-05</td>\n",
       "      <td>-4.9e-06</td>\n",
       "      <td>-6.9e-07</td>\n",
       "      <td>-9.5e-08</td>\n",
       "      <td>-1.3e-08</td>\n",
       "      <td>-1.8e-09</td>\n",
       "      <td>-2.5e-10</td>\n",
       "      <td>-3.4e-11</td>\n",
       "      <td>-4.5e-12</td>\n",
       "      <td>-6e-13</td>\n",
       "      <td>-7.7e-14</td>\n",
       "      <td>-9.6e-15</td>\n",
       "    </tr>\n",
       "    <tr>\n",
       "      <th>alpha_25</th>\n",
       "      <td>0.46</td>\n",
       "      <td>0.48</td>\n",
       "      <td>0.11</td>\n",
       "      <td>-0.01</td>\n",
       "      <td>-0.0015</td>\n",
       "      <td>-0.00021</td>\n",
       "      <td>-3e-05</td>\n",
       "      <td>-4.2e-06</td>\n",
       "      <td>-5.9e-07</td>\n",
       "      <td>-8.4e-08</td>\n",
       "      <td>-1.2e-08</td>\n",
       "      <td>-1.7e-09</td>\n",
       "      <td>-2.3e-10</td>\n",
       "      <td>-3.2e-11</td>\n",
       "      <td>-4.5e-12</td>\n",
       "      <td>-6.2e-13</td>\n",
       "      <td>-8.5e-14</td>\n",
       "      <td>-1.1e-14</td>\n",
       "    </tr>\n",
       "  </tbody>\n",
       "</table>\n",
       "</div>"
      ],
      "text/plain": [
       "             mrss_train mrss_test intercept  ... coef_Var_13 coef_Var_14 coef_Var_15\n",
       "alpha_0           0.016       0.2       -25  ...       0.086     -0.0039     7.9e-05\n",
       "alpha_1e-08       0.019     0.028     -0.37  ...     6.1e-09     1.1e-09    -1.9e-10\n",
       "alpha_0.0001       0.02     0.026    -0.023  ...    -5.3e-11     9.2e-14     1.6e-12\n",
       "alpha_0.001       0.028     0.034      0.28  ...      -6e-11    -1.3e-11    -2.3e-12\n",
       "alpha_0.01        0.059     0.058       0.7  ...    -1.4e-11    -7.6e-12    -2.1e-12\n",
       "alpha_1            0.19       0.2      0.59  ...     1.1e-11     1.9e-12     3.3e-13\n",
       "alpha_5            0.35      0.37      0.29  ...     1.5e-12     3.2e-13     6.2e-14\n",
       "alpha_10            0.4      0.42       0.2  ...    -9.4e-14     2.4e-14     9.6e-15\n",
       "alpha_20           0.45      0.47      0.13  ...      -6e-13    -7.7e-14    -9.6e-15\n",
       "alpha_25           0.46      0.48      0.11  ...    -6.2e-13    -8.5e-14    -1.1e-14\n",
       "\n",
       "[10 rows x 18 columns]"
      ]
     },
     "execution_count": 27,
     "metadata": {
      "tags": []
     },
     "output_type": "execute_result"
    }
   ],
   "source": [
    "#Set the display format to be scientific for ease of analysis\n",
    "pd.options.display.float_format = '{:,.2g}'.format\n",
    "coef_matrix"
   ]
  },
  {
   "cell_type": "code",
   "execution_count": 28,
   "metadata": {
    "colab": {
     "base_uri": "https://localhost:8080/",
     "height": 204
    },
    "colab_type": "code",
    "executionInfo": {
     "elapsed": 7201,
     "status": "ok",
     "timestamp": 1560001052388,
     "user": {
      "displayName": "Sharoon Saxena",
      "photoUrl": "",
      "userId": "14774175216384036942"
     },
     "user_tz": -330
    },
    "id": "r2OInxZcIfPL",
    "outputId": "b85c4e88-7135-420a-af90-1aeb6f8cd350"
   },
   "outputs": [
    {
     "data": {
      "text/plain": [
       "alpha_0        0.016\n",
       "alpha_1e-08    0.019\n",
       "alpha_0.0001    0.02\n",
       "alpha_0.001    0.028\n",
       "alpha_0.01     0.059\n",
       "alpha_1         0.19\n",
       "alpha_5         0.35\n",
       "alpha_10         0.4\n",
       "alpha_20        0.45\n",
       "alpha_25        0.46\n",
       "Name: mrss_train, dtype: object"
      ]
     },
     "execution_count": 28,
     "metadata": {
      "tags": []
     },
     "output_type": "execute_result"
    }
   ],
   "source": [
    "# Print the values\n",
    "coef_matrix['mrss_train']"
   ]
  },
  {
   "cell_type": "code",
   "execution_count": 29,
   "metadata": {
    "colab": {
     "base_uri": "https://localhost:8080/",
     "height": 34
    },
    "colab_type": "code",
    "executionInfo": {
     "elapsed": 7192,
     "status": "ok",
     "timestamp": 1560001052389,
     "user": {
      "displayName": "Sharoon Saxena",
      "photoUrl": "",
      "userId": "14774175216384036942"
     },
     "user_tz": -330
    },
    "id": "BkvWtX9bIfPN",
    "outputId": "fa278550-9ff9-42c5-d209-fac24d733759"
   },
   "outputs": [
    {
     "data": {
      "text/plain": [
       "(10,)"
      ]
     },
     "execution_count": 29,
     "metadata": {
      "tags": []
     },
     "output_type": "execute_result"
    }
   ],
   "source": [
    "# Print the shape\n",
    "coef_matrix['mrss_test'].shape"
   ]
  },
  {
   "cell_type": "code",
   "execution_count": 30,
   "metadata": {
    "colab": {
     "base_uri": "https://localhost:8080/",
     "height": 301
    },
    "colab_type": "code",
    "executionInfo": {
     "elapsed": 8153,
     "status": "ok",
     "timestamp": 1560001053361,
     "user": {
      "displayName": "Sharoon Saxena",
      "photoUrl": "",
      "userId": "14774175216384036942"
     },
     "user_tz": -330
    },
    "id": "Y6l4F43qIfPO",
    "outputId": "3c3b97cc-b21d-40e1-fcc3-032c54e72c7f"
   },
   "outputs": [
    {
     "data": {
      "text/plain": [
       "<matplotlib.legend.Legend at 0x7fcb566662e8>"
      ]
     },
     "execution_count": 30,
     "metadata": {
      "tags": []
     },
     "output_type": "execute_result"
    },
    {
     "data": {
      "image/png": "[encoded data removed]",
      "text/plain": [
       "<Figure size 432x288 with 1 Axes>"
      ]
     },
     "metadata": {
      "tags": []
     },
     "output_type": "display_data"
    }
   ],
   "source": [
    "coef_matrix[['mrss_train','mrss_test']].plot()\n",
    "\n",
    "plt.xlabel('Alpha Values')\n",
    "plt.ylabel('MRSS')\n",
    "plt.legend(['train', 'test'])"
   ]
  },
  {
   "cell_type": "markdown",
   "metadata": {
    "colab_type": "text",
    "id": "HM0V4BHOIfPV"
   },
   "source": [
    "## Lasso Regression"
   ]
  },
  {
   "cell_type": "code",
   "execution_count": null,
   "metadata": {
    "colab": {},
    "colab_type": "code",
    "id": "rw0t5g0zIfPZ"
   },
   "outputs": [],
   "source": [
    "# Define the alpha values to test\n",
    "alpha_lasso = [0, 1e-10, 1e-8, 1e-5,1e-4, 1e-3,1e-2, 1, 5, 10]\n",
    "\n",
    "# defining a function which will fit lasso regression model, plot the results, and return the coefficients\n",
    "def lasso_regression_model(train_x, train_y, test_x, test_y, alpha, plot = {}):\n",
    "    \"\"\"\n",
    "    This function will fit the ridge regression model, plot the result as well as return the coefficients.\n",
    "    Arguments:\n",
    "    train_x, train_y, test_x, test_y: the training and testing sets\n",
    "    features: features of the data\n",
    "    plot: plot the graph \n",
    "    \"\"\"\n",
    "    # Fit the model\n",
    "    if alpha == 0:\n",
    "        LaR = LinearRegression(normalize=True)\n",
    "        LaR.fit(train_x, train_y)\n",
    "        train_y_pred = LaR.predict(train_x)\n",
    "        test_y_pred = LaR.predict(test_x)\n",
    "        \n",
    "    else:\n",
    "        LaR = Lasso(alpha=alpha,normalize=True)\n",
    "        LaR.fit(train_x,train_y)\n",
    "        train_y_pred = LaR.predict(train_x)\n",
    "        test_y_pred = LaR.predict(test_x)\n",
    "    \n",
    "    # Check if a plot is to be made for the entered alpha\n",
    "    if alpha in plot:\n",
    "        plt.subplot(plot[alpha])\n",
    "        plt.tight_layout()\n",
    "        plt.plot(train_x[:,0:1],train_y_pred)\n",
    "        plt.plot(train_x[:,0:1],train_y,'.')\n",
    "        plt.title('Plot for alpha: %.3g'%alpha)\n",
    "    \n",
    "    #Return the result in pre-defined format\n",
    "    mrss_train = sum((train_y_pred-train_y)**2)/train_x.shape[0]\n",
    "    ret = [mrss_train]\n",
    "    \n",
    "    mrss_test = sum((test_y_pred-test_y)**2)/test_x.shape[0]\n",
    "    ret.extend([mrss_test])\n",
    "    \n",
    "    ret.extend([LaR.intercept_])\n",
    "    ret.extend(LaR.coef_)\n",
    "    \n",
    "    return ret"
   ]
  },
  {
   "cell_type": "code",
   "execution_count": 38,
   "metadata": {
    "colab": {
     "base_uri": "https://localhost:8080/",
     "height": 741
    },
    "colab_type": "code",
    "executionInfo": {
     "elapsed": 9403,
     "status": "ok",
     "timestamp": 1560001054651,
     "user": {
      "displayName": "Sharoon Saxena",
      "photoUrl": "",
      "userId": "14774175216384036942"
     },
     "user_tz": -330
    },
    "id": "fHG-nUv6IfPh",
    "outputId": "94c1b370-5289-4b36-dba4-cc52f33272f0"
   },
   "outputs": [
    {
     "name": "stderr",
     "output_type": "stream",
     "text": [
      "/usr/local/lib/python3.6/dist-packages/sklearn/linear_model/coordinate_descent.py:475: ConvergenceWarning: Objective did not converge. You might want to increase the number of iterations. Duality gap: 0.7335671573239119, tolerance: 0.003983065126185542\n",
      "  positive)\n",
      "/usr/local/lib/python3.6/dist-packages/sklearn/linear_model/coordinate_descent.py:475: ConvergenceWarning: Objective did not converge. You might want to increase the number of iterations. Duality gap: 0.7333330322072867, tolerance: 0.003983065126185542\n",
      "  positive)\n",
      "/usr/local/lib/python3.6/dist-packages/sklearn/linear_model/coordinate_descent.py:475: ConvergenceWarning: Objective did not converge. You might want to increase the number of iterations. Duality gap: 0.5377192887699793, tolerance: 0.003983065126185542\n",
      "  positive)\n",
      "/usr/local/lib/python3.6/dist-packages/sklearn/linear_model/coordinate_descent.py:475: ConvergenceWarning: Objective did not converge. You might want to increase the number of iterations. Duality gap: 0.13553489107899752, tolerance: 0.003983065126185542\n",
      "  positive)\n"
     ]
    },
    {
     "data": {
      "image/png": "[encoded data removed]",
      "text/plain": [
       "<Figure size 864x576 with 6 Axes>"
      ]
     },
     "metadata": {
      "tags": []
     },
     "output_type": "display_data"
    }
   ],
   "source": [
    "# Initialize the dataframe to store coefficients\n",
    "col = ['mrss_train','mrss_test','intercept'] + ['coef_Var_%d'%i for i in range(1,16)]\n",
    "ind = ['alpha_%.2g'%alpha_lasso[i] for i in range(0,10)]\n",
    "coef_matrix = pd.DataFrame(index = ind, columns = col)\n",
    "\n",
    "# Define the models to plot\n",
    "plots = {0:231, 1e-5:232,1e-4:233, 1e-3:234, 1e-2:235, 1:236}\n",
    "\n",
    "# Iterate over the 10 alpha values:\n",
    "plt.figure(figsize=(12,8))\n",
    "for i in range(10):\n",
    "    coef_matrix.iloc[i,] = lasso_regression_model(train_x, train_y, test_x, test_y, alpha_lasso[i], plots)"
   ]
  },
  {
   "cell_type": "code",
   "execution_count": 39,
   "metadata": {
    "colab": {
     "base_uri": "https://localhost:8080/",
     "height": 379
    },
    "colab_type": "code",
    "executionInfo": {
     "elapsed": 9382,
     "status": "ok",
     "timestamp": 1560001054652,
     "user": {
      "displayName": "Sharoon Saxena",
      "photoUrl": "",
      "userId": "14774175216384036942"
     },
     "user_tz": -330
    },
    "id": "_kbNXIaoIfPj",
    "outputId": "f312ec9d-a309-41af-953c-f8df2cff28f4"
   },
   "outputs": [
    {
     "data": {
      "text/html": [
       "<div>\n",
       "<style scoped>\n",
       "    .dataframe tbody tr th:only-of-type {\n",
       "        vertical-align: middle;\n",
       "    }\n",
       "\n",
       "    .dataframe tbody tr th {\n",
       "        vertical-align: top;\n",
       "    }\n",
       "\n",
       "    .dataframe thead th {\n",
       "        text-align: right;\n",
       "    }\n",
       "</style>\n",
       "<table border=\"1\" class=\"dataframe\">\n",
       "  <thead>\n",
       "    <tr style=\"text-align: right;\">\n",
       "      <th></th>\n",
       "      <th>mrss_train</th>\n",
       "      <th>mrss_test</th>\n",
       "      <th>intercept</th>\n",
       "      <th>coef_Var_1</th>\n",
       "      <th>coef_Var_2</th>\n",
       "      <th>coef_Var_3</th>\n",
       "      <th>coef_Var_4</th>\n",
       "      <th>coef_Var_5</th>\n",
       "      <th>coef_Var_6</th>\n",
       "      <th>coef_Var_7</th>\n",
       "      <th>coef_Var_8</th>\n",
       "      <th>coef_Var_9</th>\n",
       "      <th>coef_Var_10</th>\n",
       "      <th>coef_Var_11</th>\n",
       "      <th>coef_Var_12</th>\n",
       "      <th>coef_Var_13</th>\n",
       "      <th>coef_Var_14</th>\n",
       "      <th>coef_Var_15</th>\n",
       "    </tr>\n",
       "  </thead>\n",
       "  <tbody>\n",
       "    <tr>\n",
       "      <th>alpha_0</th>\n",
       "      <td>0.016</td>\n",
       "      <td>0.2</td>\n",
       "      <td>-25</td>\n",
       "      <td>2.7e+02</td>\n",
       "      <td>-1.3e+03</td>\n",
       "      <td>3.3e+03</td>\n",
       "      <td>-5.4e+03</td>\n",
       "      <td>5.9e+03</td>\n",
       "      <td>-4.5e+03</td>\n",
       "      <td>2.5e+03</td>\n",
       "      <td>-1e+03</td>\n",
       "      <td>3e+02</td>\n",
       "      <td>-65</td>\n",
       "      <td>10</td>\n",
       "      <td>-1.2</td>\n",
       "      <td>0.086</td>\n",
       "      <td>-0.0039</td>\n",
       "      <td>7.9e-05</td>\n",
       "    </tr>\n",
       "    <tr>\n",
       "      <th>alpha_1e-10</th>\n",
       "      <td>0.02</td>\n",
       "      <td>0.027</td>\n",
       "      <td>-0.054</td>\n",
       "      <td>1.4</td>\n",
       "      <td>-0.44</td>\n",
       "      <td>-0.0036</td>\n",
       "      <td>0.0023</td>\n",
       "      <td>0.00039</td>\n",
       "      <td>4.7e-05</td>\n",
       "      <td>5e-06</td>\n",
       "      <td>4.5e-07</td>\n",
       "      <td>2.9e-08</td>\n",
       "      <td>-4e-10</td>\n",
       "      <td>-6.3e-10</td>\n",
       "      <td>-1.7e-10</td>\n",
       "      <td>-3.4e-11</td>\n",
       "      <td>-6.3e-12</td>\n",
       "      <td>-1.1e-12</td>\n",
       "    </tr>\n",
       "    <tr>\n",
       "      <th>alpha_1e-08</th>\n",
       "      <td>0.02</td>\n",
       "      <td>0.027</td>\n",
       "      <td>-0.054</td>\n",
       "      <td>1.4</td>\n",
       "      <td>-0.44</td>\n",
       "      <td>-0.0036</td>\n",
       "      <td>0.0023</td>\n",
       "      <td>0.00039</td>\n",
       "      <td>4.7e-05</td>\n",
       "      <td>5e-06</td>\n",
       "      <td>4.5e-07</td>\n",
       "      <td>2.9e-08</td>\n",
       "      <td>-4e-10</td>\n",
       "      <td>-6.3e-10</td>\n",
       "      <td>-1.7e-10</td>\n",
       "      <td>-3.4e-11</td>\n",
       "      <td>-6.3e-12</td>\n",
       "      <td>-1.1e-12</td>\n",
       "    </tr>\n",
       "    <tr>\n",
       "      <th>alpha_1e-05</th>\n",
       "      <td>0.02</td>\n",
       "      <td>0.027</td>\n",
       "      <td>-0.041</td>\n",
       "      <td>1.3</td>\n",
       "      <td>-0.44</td>\n",
       "      <td>-0.0032</td>\n",
       "      <td>0.002</td>\n",
       "      <td>0.0004</td>\n",
       "      <td>4.8e-05</td>\n",
       "      <td>5e-06</td>\n",
       "      <td>4.3e-07</td>\n",
       "      <td>2.4e-08</td>\n",
       "      <td>0</td>\n",
       "      <td>-0</td>\n",
       "      <td>-1.4e-10</td>\n",
       "      <td>-3.8e-11</td>\n",
       "      <td>-7e-12</td>\n",
       "      <td>-1.2e-12</td>\n",
       "    </tr>\n",
       "    <tr>\n",
       "      <th>alpha_0.0001</th>\n",
       "      <td>0.022</td>\n",
       "      <td>0.027</td>\n",
       "      <td>0.071</td>\n",
       "      <td>1.1</td>\n",
       "      <td>-0.38</td>\n",
       "      <td>-0</td>\n",
       "      <td>0</td>\n",
       "      <td>0.00042</td>\n",
       "      <td>5.9e-05</td>\n",
       "      <td>5.4e-06</td>\n",
       "      <td>3.1e-07</td>\n",
       "      <td>0</td>\n",
       "      <td>0</td>\n",
       "      <td>0</td>\n",
       "      <td>-0</td>\n",
       "      <td>-0</td>\n",
       "      <td>-2.8e-12</td>\n",
       "      <td>-2.6e-12</td>\n",
       "    </tr>\n",
       "    <tr>\n",
       "      <th>alpha_0.001</th>\n",
       "      <td>0.08</td>\n",
       "      <td>0.072</td>\n",
       "      <td>0.81</td>\n",
       "      <td>0.11</td>\n",
       "      <td>-0.11</td>\n",
       "      <td>-0</td>\n",
       "      <td>-0</td>\n",
       "      <td>0</td>\n",
       "      <td>0</td>\n",
       "      <td>0</td>\n",
       "      <td>9.6e-07</td>\n",
       "      <td>7.1e-08</td>\n",
       "      <td>0</td>\n",
       "      <td>0</td>\n",
       "      <td>0</td>\n",
       "      <td>0</td>\n",
       "      <td>0</td>\n",
       "      <td>0</td>\n",
       "    </tr>\n",
       "    <tr>\n",
       "      <th>alpha_0.01</th>\n",
       "      <td>0.18</td>\n",
       "      <td>0.17</td>\n",
       "      <td>0.89</td>\n",
       "      <td>-0.25</td>\n",
       "      <td>-0.0088</td>\n",
       "      <td>-0</td>\n",
       "      <td>-0</td>\n",
       "      <td>-0</td>\n",
       "      <td>0</td>\n",
       "      <td>0</td>\n",
       "      <td>0</td>\n",
       "      <td>0</td>\n",
       "      <td>0</td>\n",
       "      <td>0</td>\n",
       "      <td>0</td>\n",
       "      <td>0</td>\n",
       "      <td>0</td>\n",
       "      <td>8.1e-13</td>\n",
       "    </tr>\n",
       "    <tr>\n",
       "      <th>alpha_1</th>\n",
       "      <td>0.55</td>\n",
       "      <td>0.56</td>\n",
       "      <td>-0.003</td>\n",
       "      <td>-0</td>\n",
       "      <td>-0</td>\n",
       "      <td>-0</td>\n",
       "      <td>-0</td>\n",
       "      <td>-0</td>\n",
       "      <td>-0</td>\n",
       "      <td>-0</td>\n",
       "      <td>-0</td>\n",
       "      <td>-0</td>\n",
       "      <td>-0</td>\n",
       "      <td>-0</td>\n",
       "      <td>-0</td>\n",
       "      <td>-0</td>\n",
       "      <td>-0</td>\n",
       "      <td>-0</td>\n",
       "    </tr>\n",
       "    <tr>\n",
       "      <th>alpha_5</th>\n",
       "      <td>0.55</td>\n",
       "      <td>0.56</td>\n",
       "      <td>-0.003</td>\n",
       "      <td>-0</td>\n",
       "      <td>-0</td>\n",
       "      <td>-0</td>\n",
       "      <td>-0</td>\n",
       "      <td>-0</td>\n",
       "      <td>-0</td>\n",
       "      <td>-0</td>\n",
       "      <td>-0</td>\n",
       "      <td>-0</td>\n",
       "      <td>-0</td>\n",
       "      <td>-0</td>\n",
       "      <td>-0</td>\n",
       "      <td>-0</td>\n",
       "      <td>-0</td>\n",
       "      <td>-0</td>\n",
       "    </tr>\n",
       "    <tr>\n",
       "      <th>alpha_10</th>\n",
       "      <td>0.55</td>\n",
       "      <td>0.56</td>\n",
       "      <td>-0.003</td>\n",
       "      <td>-0</td>\n",
       "      <td>-0</td>\n",
       "      <td>-0</td>\n",
       "      <td>-0</td>\n",
       "      <td>-0</td>\n",
       "      <td>-0</td>\n",
       "      <td>-0</td>\n",
       "      <td>-0</td>\n",
       "      <td>-0</td>\n",
       "      <td>-0</td>\n",
       "      <td>-0</td>\n",
       "      <td>-0</td>\n",
       "      <td>-0</td>\n",
       "      <td>-0</td>\n",
       "      <td>-0</td>\n",
       "    </tr>\n",
       "  </tbody>\n",
       "</table>\n",
       "</div>"
      ],
      "text/plain": [
       "             mrss_train mrss_test intercept  ... coef_Var_13 coef_Var_14 coef_Var_15\n",
       "alpha_0           0.016       0.2       -25  ...       0.086     -0.0039     7.9e-05\n",
       "alpha_1e-10        0.02     0.027    -0.054  ...    -3.4e-11    -6.3e-12    -1.1e-12\n",
       "alpha_1e-08        0.02     0.027    -0.054  ...    -3.4e-11    -6.3e-12    -1.1e-12\n",
       "alpha_1e-05        0.02     0.027    -0.041  ...    -3.8e-11      -7e-12    -1.2e-12\n",
       "alpha_0.0001      0.022     0.027     0.071  ...          -0    -2.8e-12    -2.6e-12\n",
       "alpha_0.001        0.08     0.072      0.81  ...           0           0           0\n",
       "alpha_0.01         0.18      0.17      0.89  ...           0           0     8.1e-13\n",
       "alpha_1            0.55      0.56    -0.003  ...          -0          -0          -0\n",
       "alpha_5            0.55      0.56    -0.003  ...          -0          -0          -0\n",
       "alpha_10           0.55      0.56    -0.003  ...          -0          -0          -0\n",
       "\n",
       "[10 rows x 18 columns]"
      ]
     },
     "execution_count": 39,
     "metadata": {
      "tags": []
     },
     "output_type": "execute_result"
    }
   ],
   "source": [
    "# Set the display format to be scientific for ease of analysis\n",
    "pd.options.display.float_format = '{:,.2g}'.format\n",
    "coef_matrix"
   ]
  },
  {
   "cell_type": "code",
   "execution_count": 40,
   "metadata": {
    "colab": {
     "base_uri": "https://localhost:8080/",
     "height": 301
    },
    "colab_type": "code",
    "executionInfo": {
     "elapsed": 9374,
     "status": "ok",
     "timestamp": 1560001054653,
     "user": {
      "displayName": "Sharoon Saxena",
      "photoUrl": "",
      "userId": "14774175216384036942"
     },
     "user_tz": -330
    },
    "id": "6heaVHSSIfPl",
    "outputId": "02bb0b1d-2300-4f62-fff7-42586bfa4c00"
   },
   "outputs": [
    {
     "data": {
      "text/plain": [
       "<matplotlib.legend.Legend at 0x7fcb581a5cf8>"
      ]
     },
     "execution_count": 40,
     "metadata": {
      "tags": []
     },
     "output_type": "execute_result"
    },
    {
     "data": {
      "image/png": "[encoded data removed]",
      "text/plain": [
       "<Figure size 432x288 with 1 Axes>"
      ]
     },
     "metadata": {
      "tags": []
     },
     "output_type": "display_data"
    }
   ],
   "source": [
    "coef_matrix[['mrss_train','mrss_test']].plot()\n",
    "\n",
    "plt.xlabel('Alpha Values')\n",
    "plt.ylabel('MRSS')\n",
    "plt.legend(['train', 'test'])"
   ]
  }
 ],
 "metadata": {
  "colab": {
   "name": "Ridge and Lasso Implementation.ipynb",
   "provenance": [],
   "version": "0.3.2"
  },
  "kernelspec": {
   "display_name": "Python 3 (ipykernel)",
   "language": "python",
   "name": "python3"
  },
  "language_info": {
   "codemirror_mode": {
    "name": "ipython",
    "version": 3
   },
   "file_extension": ".py",
   "mimetype": "text/x-python",
   "name": "python",
   "nbconvert_exporter": "python",
   "pygments_lexer": "ipython3",
   "version": "3.12.2"
  }
 },
 "nbformat": 4,
 "nbformat_minor": 4
}
