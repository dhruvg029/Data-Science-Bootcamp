{
 "cells": [
  {
   "cell_type": "markdown",
   "id": "7a4dbfdd-fcb0-4c9e-a44d-1f4c5a336c12",
   "metadata": {},
   "source": [
    "# Logistic Regression\n",
    "\n",
    "Logistic regression is a supervised machine learning algorithm widely used for binary classification tasks, such as identifying whether an email is spam or not and diagnosing diseases by assessing the presence or absence of specific conditions based on patient test results.\n",
    "\n",
    "## Importing and loading data"
   ]
  },
  {
   "cell_type": "code",
   "execution_count": 29,
   "id": "eb8aebec-1996-4228-a512-83f0039f9c0e",
   "metadata": {},
   "outputs": [],
   "source": [
    "# Importing libraries\n",
    "import pandas as pd \n",
    "import numpy as np\n",
    "\n",
    "# For plotting graphs\n",
    "import matplotlib.pyplot as plt\n",
    "import seaborn as sns\n",
    "\n",
    "# Importing the train_test_split function\n",
    "from sklearn.model_selection import train_test_split\n",
    "from sklearn.linear_model import LogisticRegression\n",
    "\n",
    "from sklearn import metrics\n",
    "from sklearn.metrics import f1_score\n",
    "\n",
    "import warnings\n",
    "warnings.filterwarnings('ignore')"
   ]
  },
  {
   "cell_type": "code",
   "execution_count": 30,
   "id": "fe792266",
   "metadata": {},
   "outputs": [
    {
     "data": {
      "text/html": [
       "<div>\n",
       "<style scoped>\n",
       "    .dataframe tbody tr th:only-of-type {\n",
       "        vertical-align: middle;\n",
       "    }\n",
       "\n",
       "    .dataframe tbody tr th {\n",
       "        vertical-align: top;\n",
       "    }\n",
       "\n",
       "    .dataframe thead th {\n",
       "        text-align: right;\n",
       "    }\n",
       "</style>\n",
       "<table border=\"1\" class=\"dataframe\">\n",
       "  <thead>\n",
       "    <tr style=\"text-align: right;\">\n",
       "      <th></th>\n",
       "      <th>Price</th>\n",
       "      <th>KM</th>\n",
       "      <th>HP</th>\n",
       "      <th>MetColor</th>\n",
       "      <th>Automatic</th>\n",
       "      <th>CC</th>\n",
       "      <th>Doors</th>\n",
       "      <th>Weight</th>\n",
       "      <th>FuelType_Diesel</th>\n",
       "      <th>FuelType_Petrol</th>\n",
       "    </tr>\n",
       "  </thead>\n",
       "  <tbody>\n",
       "    <tr>\n",
       "      <th>0</th>\n",
       "      <td>13500</td>\n",
       "      <td>0.193355</td>\n",
       "      <td>0.170732</td>\n",
       "      <td>1</td>\n",
       "      <td>0</td>\n",
       "      <td>1.0</td>\n",
       "      <td>3</td>\n",
       "      <td>0.268293</td>\n",
       "      <td>1</td>\n",
       "      <td>0</td>\n",
       "    </tr>\n",
       "    <tr>\n",
       "      <th>1</th>\n",
       "      <td>13750</td>\n",
       "      <td>0.300149</td>\n",
       "      <td>0.170732</td>\n",
       "      <td>1</td>\n",
       "      <td>0</td>\n",
       "      <td>1.0</td>\n",
       "      <td>3</td>\n",
       "      <td>0.268293</td>\n",
       "      <td>1</td>\n",
       "      <td>0</td>\n",
       "    </tr>\n",
       "    <tr>\n",
       "      <th>2</th>\n",
       "      <td>13950</td>\n",
       "      <td>0.171647</td>\n",
       "      <td>0.170732</td>\n",
       "      <td>1</td>\n",
       "      <td>0</td>\n",
       "      <td>1.0</td>\n",
       "      <td>3</td>\n",
       "      <td>0.268293</td>\n",
       "      <td>1</td>\n",
       "      <td>0</td>\n",
       "    </tr>\n",
       "    <tr>\n",
       "      <th>3</th>\n",
       "      <td>14950</td>\n",
       "      <td>0.197528</td>\n",
       "      <td>0.170732</td>\n",
       "      <td>0</td>\n",
       "      <td>0</td>\n",
       "      <td>1.0</td>\n",
       "      <td>3</td>\n",
       "      <td>0.268293</td>\n",
       "      <td>1</td>\n",
       "      <td>0</td>\n",
       "    </tr>\n",
       "    <tr>\n",
       "      <th>4</th>\n",
       "      <td>13750</td>\n",
       "      <td>0.158433</td>\n",
       "      <td>0.170732</td>\n",
       "      <td>0</td>\n",
       "      <td>0</td>\n",
       "      <td>1.0</td>\n",
       "      <td>3</td>\n",
       "      <td>0.276423</td>\n",
       "      <td>1</td>\n",
       "      <td>0</td>\n",
       "    </tr>\n",
       "  </tbody>\n",
       "</table>\n",
       "</div>"
      ],
      "text/plain": [
       "   Price        KM        HP  MetColor  Automatic   CC  Doors    Weight  \\\n",
       "0  13500  0.193355  0.170732         1          0  1.0      3  0.268293   \n",
       "1  13750  0.300149  0.170732         1          0  1.0      3  0.268293   \n",
       "2  13950  0.171647  0.170732         1          0  1.0      3  0.268293   \n",
       "3  14950  0.197528  0.170732         0          0  1.0      3  0.268293   \n",
       "4  13750  0.158433  0.170732         0          0  1.0      3  0.276423   \n",
       "\n",
       "   FuelType_Diesel  FuelType_Petrol  \n",
       "0                1                0  \n",
       "1                1                0  \n",
       "2                1                0  \n",
       "3                1                0  \n",
       "4                1                0  "
      ]
     },
     "execution_count": 30,
     "metadata": {},
     "output_type": "execute_result"
    }
   ],
   "source": [
    "# Load the data\n",
    "cars_data = pd.read_csv('datasets/preprocessed_UsedCarsPrice.csv')\n",
    "\n",
    "# Check the data\n",
    "cars_data.head()"
   ]
  },
  {
   "cell_type": "code",
   "execution_count": 31,
   "id": "e3c671ad",
   "metadata": {},
   "outputs": [
    {
     "data": {
      "text/plain": [
       "count     1436.000\n",
       "mean     10730.825\n",
       "std       3626.965\n",
       "min       4350.000\n",
       "25%       8450.000\n",
       "50%       9900.000\n",
       "75%      11950.000\n",
       "max      32500.000\n",
       "Name: Price, dtype: float64"
      ]
     },
     "execution_count": 31,
     "metadata": {},
     "output_type": "execute_result"
    }
   ],
   "source": [
    "# Describe the data\n",
    "cars_data['Price'].describe().round(3)"
   ]
  },
  {
   "cell_type": "code",
   "execution_count": 32,
   "id": "457d0d3e",
   "metadata": {},
   "outputs": [
    {
     "name": "stdout",
     "output_type": "stream",
     "text": [
      "[4350, 11950.0, 32500]\n"
     ]
    }
   ],
   "source": [
    "# Binning of price\n",
    "bin_edges = [cars_data['Price'].min(), cars_data['Price'].quantile(0.75), cars_data['Price'].max()]\n",
    "print(bin_edges)"
   ]
  },
  {
   "cell_type": "code",
   "execution_count": 33,
   "id": "2dc2c8a5",
   "metadata": {},
   "outputs": [
    {
     "data": {
      "text/html": [
       "<div>\n",
       "<style scoped>\n",
       "    .dataframe tbody tr th:only-of-type {\n",
       "        vertical-align: middle;\n",
       "    }\n",
       "\n",
       "    .dataframe tbody tr th {\n",
       "        vertical-align: top;\n",
       "    }\n",
       "\n",
       "    .dataframe thead th {\n",
       "        text-align: right;\n",
       "    }\n",
       "</style>\n",
       "<table border=\"1\" class=\"dataframe\">\n",
       "  <thead>\n",
       "    <tr style=\"text-align: right;\">\n",
       "      <th></th>\n",
       "      <th>Price</th>\n",
       "      <th>KM</th>\n",
       "      <th>HP</th>\n",
       "      <th>MetColor</th>\n",
       "      <th>Automatic</th>\n",
       "      <th>CC</th>\n",
       "      <th>Doors</th>\n",
       "      <th>Weight</th>\n",
       "      <th>FuelType_Diesel</th>\n",
       "      <th>FuelType_Petrol</th>\n",
       "      <th>Price_bin</th>\n",
       "    </tr>\n",
       "  </thead>\n",
       "  <tbody>\n",
       "    <tr>\n",
       "      <th>0</th>\n",
       "      <td>13500</td>\n",
       "      <td>0.193355</td>\n",
       "      <td>0.170732</td>\n",
       "      <td>1</td>\n",
       "      <td>0</td>\n",
       "      <td>1.0</td>\n",
       "      <td>3</td>\n",
       "      <td>0.268293</td>\n",
       "      <td>1</td>\n",
       "      <td>0</td>\n",
       "      <td>High</td>\n",
       "    </tr>\n",
       "    <tr>\n",
       "      <th>1</th>\n",
       "      <td>13750</td>\n",
       "      <td>0.300149</td>\n",
       "      <td>0.170732</td>\n",
       "      <td>1</td>\n",
       "      <td>0</td>\n",
       "      <td>1.0</td>\n",
       "      <td>3</td>\n",
       "      <td>0.268293</td>\n",
       "      <td>1</td>\n",
       "      <td>0</td>\n",
       "      <td>High</td>\n",
       "    </tr>\n",
       "    <tr>\n",
       "      <th>2</th>\n",
       "      <td>13950</td>\n",
       "      <td>0.171647</td>\n",
       "      <td>0.170732</td>\n",
       "      <td>1</td>\n",
       "      <td>0</td>\n",
       "      <td>1.0</td>\n",
       "      <td>3</td>\n",
       "      <td>0.268293</td>\n",
       "      <td>1</td>\n",
       "      <td>0</td>\n",
       "      <td>High</td>\n",
       "    </tr>\n",
       "    <tr>\n",
       "      <th>3</th>\n",
       "      <td>14950</td>\n",
       "      <td>0.197528</td>\n",
       "      <td>0.170732</td>\n",
       "      <td>0</td>\n",
       "      <td>0</td>\n",
       "      <td>1.0</td>\n",
       "      <td>3</td>\n",
       "      <td>0.268293</td>\n",
       "      <td>1</td>\n",
       "      <td>0</td>\n",
       "      <td>High</td>\n",
       "    </tr>\n",
       "    <tr>\n",
       "      <th>4</th>\n",
       "      <td>13750</td>\n",
       "      <td>0.158433</td>\n",
       "      <td>0.170732</td>\n",
       "      <td>0</td>\n",
       "      <td>0</td>\n",
       "      <td>1.0</td>\n",
       "      <td>3</td>\n",
       "      <td>0.276423</td>\n",
       "      <td>1</td>\n",
       "      <td>0</td>\n",
       "      <td>High</td>\n",
       "    </tr>\n",
       "  </tbody>\n",
       "</table>\n",
       "</div>"
      ],
      "text/plain": [
       "   Price        KM        HP  MetColor  Automatic   CC  Doors    Weight  \\\n",
       "0  13500  0.193355  0.170732         1          0  1.0      3  0.268293   \n",
       "1  13750  0.300149  0.170732         1          0  1.0      3  0.268293   \n",
       "2  13950  0.171647  0.170732         1          0  1.0      3  0.268293   \n",
       "3  14950  0.197528  0.170732         0          0  1.0      3  0.268293   \n",
       "4  13750  0.158433  0.170732         0          0  1.0      3  0.276423   \n",
       "\n",
       "   FuelType_Diesel  FuelType_Petrol Price_bin  \n",
       "0                1                0      High  \n",
       "1                1                0      High  \n",
       "2                1                0      High  \n",
       "3                1                0      High  \n",
       "4                1                0      High  "
      ]
     },
     "execution_count": 33,
     "metadata": {},
     "output_type": "execute_result"
    }
   ],
   "source": [
    "cars_data['Price_bin'] = pd.cut(cars_data['Price'], bins = bin_edges, labels=['Low', 'High'], include_lowest=True)\n",
    "\n",
    "# Check the data\n",
    "cars_data.head()"
   ]
  },
  {
   "cell_type": "code",
   "execution_count": 34,
   "id": "4fcedbef",
   "metadata": {},
   "outputs": [
    {
     "data": {
      "text/plain": [
       "Price_bin\n",
       "Low     1120\n",
       "High     316\n",
       "Name: count, dtype: int64"
      ]
     },
     "execution_count": 34,
     "metadata": {},
     "output_type": "execute_result"
    }
   ],
   "source": [
    "# Check the frequency of the data\n",
    "cars_data['Price_bin'].value_counts()"
   ]
  },
  {
   "cell_type": "code",
   "execution_count": 35,
   "id": "584b0a93",
   "metadata": {},
   "outputs": [
    {
     "data": {
      "text/html": [
       "<div>\n",
       "<style scoped>\n",
       "    .dataframe tbody tr th:only-of-type {\n",
       "        vertical-align: middle;\n",
       "    }\n",
       "\n",
       "    .dataframe tbody tr th {\n",
       "        vertical-align: top;\n",
       "    }\n",
       "\n",
       "    .dataframe thead th {\n",
       "        text-align: right;\n",
       "    }\n",
       "</style>\n",
       "<table border=\"1\" class=\"dataframe\">\n",
       "  <thead>\n",
       "    <tr style=\"text-align: right;\">\n",
       "      <th></th>\n",
       "      <th>KM</th>\n",
       "      <th>HP</th>\n",
       "      <th>MetColor</th>\n",
       "      <th>Automatic</th>\n",
       "      <th>CC</th>\n",
       "      <th>Doors</th>\n",
       "      <th>Weight</th>\n",
       "      <th>FuelType_Diesel</th>\n",
       "      <th>FuelType_Petrol</th>\n",
       "      <th>Price</th>\n",
       "    </tr>\n",
       "  </thead>\n",
       "  <tbody>\n",
       "    <tr>\n",
       "      <th>0</th>\n",
       "      <td>0.193355</td>\n",
       "      <td>0.170732</td>\n",
       "      <td>1</td>\n",
       "      <td>0</td>\n",
       "      <td>1.0</td>\n",
       "      <td>3</td>\n",
       "      <td>0.268293</td>\n",
       "      <td>1</td>\n",
       "      <td>0</td>\n",
       "      <td>1</td>\n",
       "    </tr>\n",
       "    <tr>\n",
       "      <th>1</th>\n",
       "      <td>0.300149</td>\n",
       "      <td>0.170732</td>\n",
       "      <td>1</td>\n",
       "      <td>0</td>\n",
       "      <td>1.0</td>\n",
       "      <td>3</td>\n",
       "      <td>0.268293</td>\n",
       "      <td>1</td>\n",
       "      <td>0</td>\n",
       "      <td>1</td>\n",
       "    </tr>\n",
       "    <tr>\n",
       "      <th>2</th>\n",
       "      <td>0.171647</td>\n",
       "      <td>0.170732</td>\n",
       "      <td>1</td>\n",
       "      <td>0</td>\n",
       "      <td>1.0</td>\n",
       "      <td>3</td>\n",
       "      <td>0.268293</td>\n",
       "      <td>1</td>\n",
       "      <td>0</td>\n",
       "      <td>1</td>\n",
       "    </tr>\n",
       "    <tr>\n",
       "      <th>3</th>\n",
       "      <td>0.197528</td>\n",
       "      <td>0.170732</td>\n",
       "      <td>0</td>\n",
       "      <td>0</td>\n",
       "      <td>1.0</td>\n",
       "      <td>3</td>\n",
       "      <td>0.268293</td>\n",
       "      <td>1</td>\n",
       "      <td>0</td>\n",
       "      <td>1</td>\n",
       "    </tr>\n",
       "    <tr>\n",
       "      <th>4</th>\n",
       "      <td>0.158433</td>\n",
       "      <td>0.170732</td>\n",
       "      <td>0</td>\n",
       "      <td>0</td>\n",
       "      <td>1.0</td>\n",
       "      <td>3</td>\n",
       "      <td>0.276423</td>\n",
       "      <td>1</td>\n",
       "      <td>0</td>\n",
       "      <td>1</td>\n",
       "    </tr>\n",
       "  </tbody>\n",
       "</table>\n",
       "</div>"
      ],
      "text/plain": [
       "         KM        HP  MetColor  Automatic   CC  Doors    Weight  \\\n",
       "0  0.193355  0.170732         1          0  1.0      3  0.268293   \n",
       "1  0.300149  0.170732         1          0  1.0      3  0.268293   \n",
       "2  0.171647  0.170732         1          0  1.0      3  0.268293   \n",
       "3  0.197528  0.170732         0          0  1.0      3  0.268293   \n",
       "4  0.158433  0.170732         0          0  1.0      3  0.276423   \n",
       "\n",
       "   FuelType_Diesel  FuelType_Petrol Price  \n",
       "0                1                0     1  \n",
       "1                1                0     1  \n",
       "2                1                0     1  \n",
       "3                1                0     1  \n",
       "4                1                0     1  "
      ]
     },
     "execution_count": 35,
     "metadata": {},
     "output_type": "execute_result"
    }
   ],
   "source": [
    "cars_data = cars_data.drop('Price', axis = 1)\n",
    "\n",
    "cars_data['Price_bin'] = cars_data['Price_bin'].replace({'Low':0,'High':1})\n",
    "cars_data = cars_data.rename(columns={'Price_bin':'Price'})\n",
    "\n",
    "cars_data.head()"
   ]
  },
  {
   "cell_type": "markdown",
   "id": "da2d5b0f-b237-4b87-ae2c-20df94d1984b",
   "metadata": {},
   "source": [
    "## Model building\n",
    "\n",
    "### Splitting data"
   ]
  },
  {
   "cell_type": "code",
   "execution_count": 36,
   "id": "7d888671",
   "metadata": {},
   "outputs": [],
   "source": [
    "X = cars_data.drop('Price', axis=1)\n",
    "Y = cars_data['Price']"
   ]
  },
  {
   "cell_type": "code",
   "execution_count": 37,
   "id": "8385a163",
   "metadata": {},
   "outputs": [
    {
     "name": "stdout",
     "output_type": "stream",
     "text": [
      "(1148, 9) (288, 9)\n"
     ]
    }
   ],
   "source": [
    "# Splitting the data into training and testing data\n",
    "x_train, x_test, y_train, y_test = train_test_split(X, Y, test_size = 0.2, random_state=0)\n",
    "\n",
    "print(x_train.shape, x_test.shape)"
   ]
  },
  {
   "cell_type": "markdown",
   "id": "52fe9046-4c40-4e01-b2a6-900c9ea505c8",
   "metadata": {},
   "source": [
    "### Fit the model"
   ]
  },
  {
   "cell_type": "code",
   "execution_count": 38,
   "id": "c1a259a1",
   "metadata": {},
   "outputs": [],
   "source": [
    "# Fit the Logistic Regression model\n",
    "regressor = LogisticRegression()                                                 \n",
    "regressor = regressor.fit(x_train, y_train)  "
   ]
  },
  {
   "cell_type": "code",
   "execution_count": 39,
   "id": "a76b9eda",
   "metadata": {},
   "outputs": [
    {
     "name": "stdout",
     "output_type": "stream",
     "text": [
      "[[-8.57186798  1.13956797  0.75580607 -0.39230736  1.16264645  0.20816971\n",
      "   5.89128186  0.28038783 -0.0655155 ]]\n"
     ]
    }
   ],
   "source": [
    "# Print the coefficients\n",
    "print(regressor.coef_)"
   ]
  },
  {
   "cell_type": "code",
   "execution_count": 40,
   "id": "dd567770",
   "metadata": {},
   "outputs": [
    {
     "name": "stdout",
     "output_type": "stream",
     "text": [
      "[-2.1114964]\n"
     ]
    }
   ],
   "source": [
    "# Print the intercept\n",
    "print(regressor.intercept_)"
   ]
  },
  {
   "cell_type": "code",
   "execution_count": 41,
   "id": "a0c0442b",
   "metadata": {},
   "outputs": [
    {
     "name": "stdout",
     "output_type": "stream",
     "text": [
      "[0 0 0 0 0 0 0 0 0 0]\n"
     ]
    }
   ],
   "source": [
    "y_pred = regressor.predict(x_test)\n",
    "print(y_pred[:10])"
   ]
  },
  {
   "cell_type": "code",
   "execution_count": 42,
   "id": "3c8faf8d",
   "metadata": {},
   "outputs": [
    {
     "name": "stdout",
     "output_type": "stream",
     "text": [
      "Confusion Matrix:\n",
      "[[215   6]\n",
      " [ 39  28]]\n"
     ]
    }
   ],
   "source": [
    "from sklearn.metrics import confusion_matrix\n",
    "cm = confusion_matrix(y_test, y_pred)\n",
    "\n",
    "print('Confusion Matrix:', cm, sep = '\\n') "
   ]
  },
  {
   "cell_type": "code",
   "execution_count": 45,
   "id": "37bca10d",
   "metadata": {},
   "outputs": [
    {
     "data": {
      "image/png": "[encoded data removed]",
      "text/plain": [
       "<Figure size 640x480 with 2 Axes>"
      ]
     },
     "metadata": {},
     "output_type": "display_data"
    }
   ],
   "source": [
    "from sklearn.metrics import confusion_matrix, ConfusionMatrixDisplay\n",
    "\n",
    "# Plot Confusion Matrix\n",
    "disp = ConfusionMatrixDisplay(confusion_matrix = cm, display_labels = regressor.classes_)\n",
    "\n",
    "disp.plot()\n",
    "plt.show()"
   ]
  },
  {
   "cell_type": "code",
   "execution_count": 46,
   "id": "e1674da8",
   "metadata": {},
   "outputs": [
    {
     "name": "stdout",
     "output_type": "stream",
     "text": [
      "Training Accuracy of the model: 0.8815\n",
      "Testing Accuracy of the model: 0.8438\n"
     ]
    }
   ],
   "source": [
    "training_score = regressor.score(x_train,y_train)  \n",
    "print('Training Accuracy of the model:', round(training_score, 4))\n",
    "\n",
    "testing_score = regressor.score(x_test, y_test)  \n",
    "print('Testing Accuracy of the model:',round(testing_score, 4))"
   ]
  },
  {
   "cell_type": "markdown",
   "id": "b7c681ad",
   "metadata": {},
   "source": [
    "As the testing accuracy is slightly lesser than the training accuracy, we can say that there is a slight overfitting in the model. However, as the difference is very less, we can ignore. If the testing accuracy is significantly lesser than that of training data, then we may need to go for improving the model."
   ]
  },
  {
   "cell_type": "markdown",
   "id": "d946a2cb-33e7-4442-a3b0-97972538a802",
   "metadata": {},
   "source": [
    "### Plot the coefficients"
   ]
  },
  {
   "cell_type": "code",
   "execution_count": 47,
   "id": "51e95b90-3369-4b2c-9f53-b96942e57508",
   "metadata": {},
   "outputs": [
    {
     "data": {
      "text/plain": [
       "Text(0.5, 1.0, 'Coefficient plot')"
      ]
     },
     "execution_count": 47,
     "metadata": {},
     "output_type": "execute_result"
    },
    {
     "data": {
      "image/png": "[encoded data removed]",
      "text/plain": [
       "<Figure size 720x480 with 1 Axes>"
      ]
     },
     "metadata": {},
     "output_type": "display_data"
    }
   ],
   "source": [
    "plt.figure(figsize=(6, 4), dpi=120, facecolor='w', edgecolor='b')\n",
    "x = range(len(x_train.columns))\n",
    "c = regressor.coef_.reshape(-1)\n",
    "\n",
    "plt.bar(x, c)\n",
    "plt.xlabel('Variables')\n",
    "plt.ylabel('Coefficients')\n",
    "plt.title('Coefficient plot')"
   ]
  },
  {
   "cell_type": "markdown",
   "id": "b22580c5-2802-47d5-9418-41536c702b9b",
   "metadata": {},
   "source": [
    "### predict_proba() function"
   ]
  },
  {
   "cell_type": "code",
   "execution_count": 48,
   "id": "b7f2ddc7-a273-42fb-b85b-49ba1f5c8245",
   "metadata": {},
   "outputs": [
    {
     "name": "stdout",
     "output_type": "stream",
     "text": [
      "[[0.99342126 0.00657874]\n",
      " [0.65017938 0.34982062]\n",
      " [0.93593987 0.06406013]\n",
      " ...\n",
      " [0.64098685 0.35901315]\n",
      " [0.53406846 0.46593154]\n",
      " [0.95699117 0.04300883]]\n"
     ]
    }
   ],
   "source": [
    "# Predicting over the Train\n",
    "train_predict = regressor.predict_proba(x_train)\n",
    "print(train_predict)"
   ]
  },
  {
   "cell_type": "code",
   "execution_count": 49,
   "id": "4e159e75-3400-4684-b2cd-f737558469e3",
   "metadata": {},
   "outputs": [
    {
     "name": "stdout",
     "output_type": "stream",
     "text": [
      "[0.00657874 0.34982062 0.06406013 ... 0.35901315 0.46593154 0.04300883]\n"
     ]
    }
   ],
   "source": [
    "train_preds = train_predict[:,1]\n",
    "print(train_preds)"
   ]
  },
  {
   "cell_type": "code",
   "execution_count": 52,
   "id": "6c0ddc02-b1c6-4d86-8520-62e10329d2c7",
   "metadata": {},
   "outputs": [
    {
     "name": "stdout",
     "output_type": "stream",
     "text": [
      "Training f1_score: 0.587\n"
     ]
    }
   ],
   "source": [
    "for i in range(0, len(train_preds)):\n",
    "  if(train_preds[i ] > 0.55):\n",
    "    train_preds[i] = 1\n",
    "  else:\n",
    "    train_preds[i] = 0\n",
    "\n",
    "# Calculating f1-score\n",
    "k = f1_score(train_preds, y_train)\n",
    "print('Training f1_score:', k.round(3))"
   ]
  }
 ],
 "metadata": {
  "kernelspec": {
   "display_name": "Python 3 (ipykernel)",
   "language": "python",
   "name": "python3"
  },
  "language_info": {
   "codemirror_mode": {
    "name": "ipython",
    "version": 3
   },
   "file_extension": ".py",
   "mimetype": "text/x-python",
   "name": "python",
   "nbconvert_exporter": "python",
   "pygments_lexer": "ipython3",
   "version": "3.12.2"
  }
 },
 "nbformat": 4,
 "nbformat_minor": 5
}
