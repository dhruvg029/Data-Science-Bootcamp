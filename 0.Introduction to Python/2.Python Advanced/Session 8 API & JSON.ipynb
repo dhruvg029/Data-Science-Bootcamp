{
 "cells": [
  {
   "cell_type": "markdown",
   "id": "fundamental-pressing",
   "metadata": {},
   "source": [
    "<p style=\"text-align: center; font-size: 36px\"> Python Programming</p>\n",
    "\n"
   ]
  },
  {
   "cell_type": "markdown",
   "id": "considerable-evolution",
   "metadata": {
    "jp-MarkdownHeadingCollapsed": true,
    "tags": []
   },
   "source": [
    "# Agenda\n",
    "\n",
    "1. Setting up Virtual Environment\n",
    "2. Data Ingestion through API calls\n",
    "3. Processing Advanced json structures which are result of API calls\n",
    "4. Importance of Environment variables and Argparse\n",
    "5. Using Debug modes in IDE and importance of Debugging\n",
    "6. Creating requirements.txt, setup.py and config.json files\n",
    "7. Versioning with Github\n"
   ]
  },
  {
   "cell_type": "markdown",
   "id": "entitled-ordinance",
   "metadata": {
    "jp-MarkdownHeadingCollapsed": true,
    "tags": []
   },
   "source": [
    "# 2. Setting up Virtual Environment"
   ]
  },
  {
   "cell_type": "markdown",
   "id": "capable-celebration",
   "metadata": {},
   "source": [
    "***\n",
    "PYTHON PACKAGES\n",
    "\n",
    "* __builtins__\n",
    "    \n",
    "* pip install or pip3 install\n",
    "\n",
    "* pipenv\n",
    "\n",
    "* conda install\n",
    "  \n",
    "* mamba\n",
    "  "
   ]
  },
  {
   "cell_type": "markdown",
   "id": "advance-database",
   "metadata": {
    "jp-MarkdownHeadingCollapsed": true,
    "tags": []
   },
   "source": [
    "# \\_ \\_builtins_ _\n",
    "***\n",
    "<font color = #318CE7 size = 3 >\n",
    "    \n",
    "- The builtins module is loaded by default at the time when Python Interpreter is started\n",
    "- As such all the functionality of `builtins` is availabe directly without we having to explicitly load the `builtins` module\n",
    "- `from builtins import *`\n",
    "- `builtins` module provides direct access to all ‘built-in’ identifiers of Python\n",
    "    \n",
    "</font>"
   ]
  },
  {
   "cell_type": "code",
   "execution_count": 1,
   "id": "convenient-environment",
   "metadata": {},
   "outputs": [
    {
     "data": {
      "text/plain": [
       "<module 'builtins' (built-in)>"
      ]
     },
     "execution_count": 1,
     "metadata": {},
     "output_type": "execute_result"
    }
   ],
   "source": [
    "__builtins__"
   ]
  },
  {
   "cell_type": "code",
   "execution_count": 2,
   "id": "hawaiian-idaho",
   "metadata": {},
   "outputs": [
    {
     "data": {
      "text/plain": [
       "0.12"
      ]
     },
     "execution_count": 2,
     "metadata": {},
     "output_type": "execute_result"
    }
   ],
   "source": [
    "round(0.1234,2)"
   ]
  },
  {
   "cell_type": "code",
   "execution_count": 3,
   "id": "smart-constraint",
   "metadata": {},
   "outputs": [
    {
     "data": {
      "text/plain": [
       "['ArithmeticError',\n",
       " 'AssertionError',\n",
       " 'AttributeError',\n",
       " 'BaseException',\n",
       " 'BlockingIOError',\n",
       " 'BrokenPipeError',\n",
       " 'BufferError',\n",
       " 'BytesWarning',\n",
       " 'ChildProcessError',\n",
       " 'ConnectionAbortedError',\n",
       " 'ConnectionError',\n",
       " 'ConnectionRefusedError',\n",
       " 'ConnectionResetError',\n",
       " 'DeprecationWarning',\n",
       " 'EOFError',\n",
       " 'Ellipsis',\n",
       " 'EnvironmentError',\n",
       " 'Exception',\n",
       " 'False',\n",
       " 'FileExistsError',\n",
       " 'FileNotFoundError',\n",
       " 'FloatingPointError',\n",
       " 'FutureWarning',\n",
       " 'GeneratorExit',\n",
       " 'IOError',\n",
       " 'ImportError',\n",
       " 'ImportWarning',\n",
       " 'IndentationError',\n",
       " 'IndexError',\n",
       " 'InterruptedError',\n",
       " 'IsADirectoryError',\n",
       " 'KeyError',\n",
       " 'KeyboardInterrupt',\n",
       " 'LookupError',\n",
       " 'MemoryError',\n",
       " 'ModuleNotFoundError',\n",
       " 'NameError',\n",
       " 'None',\n",
       " 'NotADirectoryError',\n",
       " 'NotImplemented',\n",
       " 'NotImplementedError',\n",
       " 'OSError',\n",
       " 'OverflowError',\n",
       " 'PendingDeprecationWarning',\n",
       " 'PermissionError',\n",
       " 'ProcessLookupError',\n",
       " 'RecursionError',\n",
       " 'ReferenceError',\n",
       " 'ResourceWarning',\n",
       " 'RuntimeError',\n",
       " 'RuntimeWarning',\n",
       " 'StopAsyncIteration',\n",
       " 'StopIteration',\n",
       " 'SyntaxError',\n",
       " 'SyntaxWarning',\n",
       " 'SystemError',\n",
       " 'SystemExit',\n",
       " 'TabError',\n",
       " 'TimeoutError',\n",
       " 'True',\n",
       " 'TypeError',\n",
       " 'UnboundLocalError',\n",
       " 'UnicodeDecodeError',\n",
       " 'UnicodeEncodeError',\n",
       " 'UnicodeError',\n",
       " 'UnicodeTranslateError',\n",
       " 'UnicodeWarning',\n",
       " 'UserWarning',\n",
       " 'ValueError',\n",
       " 'Warning',\n",
       " 'ZeroDivisionError',\n",
       " '__IPYTHON__',\n",
       " '__build_class__',\n",
       " '__debug__',\n",
       " '__doc__',\n",
       " '__import__',\n",
       " '__loader__',\n",
       " '__name__',\n",
       " '__package__',\n",
       " '__spec__',\n",
       " 'abs',\n",
       " 'all',\n",
       " 'any',\n",
       " 'ascii',\n",
       " 'bin',\n",
       " 'bool',\n",
       " 'breakpoint',\n",
       " 'bytearray',\n",
       " 'bytes',\n",
       " 'callable',\n",
       " 'chr',\n",
       " 'classmethod',\n",
       " 'compile',\n",
       " 'complex',\n",
       " 'copyright',\n",
       " 'credits',\n",
       " 'delattr',\n",
       " 'dict',\n",
       " 'dir',\n",
       " 'display',\n",
       " 'divmod',\n",
       " 'enumerate',\n",
       " 'eval',\n",
       " 'exec',\n",
       " 'execfile',\n",
       " 'filter',\n",
       " 'float',\n",
       " 'format',\n",
       " 'frozenset',\n",
       " 'get_ipython',\n",
       " 'getattr',\n",
       " 'globals',\n",
       " 'hasattr',\n",
       " 'hash',\n",
       " 'help',\n",
       " 'hex',\n",
       " 'id',\n",
       " 'input',\n",
       " 'int',\n",
       " 'isinstance',\n",
       " 'issubclass',\n",
       " 'iter',\n",
       " 'len',\n",
       " 'license',\n",
       " 'list',\n",
       " 'locals',\n",
       " 'map',\n",
       " 'max',\n",
       " 'memoryview',\n",
       " 'min',\n",
       " 'next',\n",
       " 'object',\n",
       " 'oct',\n",
       " 'open',\n",
       " 'ord',\n",
       " 'pow',\n",
       " 'print',\n",
       " 'property',\n",
       " 'range',\n",
       " 'repr',\n",
       " 'reversed',\n",
       " 'round',\n",
       " 'runfile',\n",
       " 'set',\n",
       " 'setattr',\n",
       " 'slice',\n",
       " 'sorted',\n",
       " 'staticmethod',\n",
       " 'str',\n",
       " 'sum',\n",
       " 'super',\n",
       " 'tuple',\n",
       " 'type',\n",
       " 'vars',\n",
       " 'zip']"
      ]
     },
     "execution_count": 3,
     "metadata": {},
     "output_type": "execute_result"
    }
   ],
   "source": [
    "dir(__builtins__)"
   ]
  },
  {
   "cell_type": "code",
   "execution_count": 4,
   "id": "connected-gateway",
   "metadata": {},
   "outputs": [],
   "source": [
    "from builtins import *"
   ]
  },
  {
   "cell_type": "markdown",
   "id": "excessive-subdivision",
   "metadata": {},
   "source": [
    "# pip and pip3\n",
    "***\n",
    "<font color = #318CE7 size = 3 >\n",
    "    \n",
    "- pip is the package manager for python and it simply install the packages with the required versions for python\n",
    "- pip3 is the version of pip from Python 3.0 onwards\n",
    "- pip comes pre-installed with with Python 2.7    \n",
    "- pip and pip3 are used for installation of packages in python\n",
    "    - `pip3 install <package_name>`\n",
    "- Prefereable to use pip3 going forward\n",
    "    \n",
    "</font>"
   ]
  },
  {
   "cell_type": "code",
   "execution_count": 5,
   "id": "exceptional-light",
   "metadata": {},
   "outputs": [
    {
     "name": "stdout",
     "output_type": "stream",
     "text": [
      "Requirement already satisfied: opencv-python in d:\\programdata\\anaconda3\\envs\\pyenv37\\lib\\site-packages (4.7.0.68)\n",
      "Requirement already satisfied: numpy>=1.17.0 in d:\\programdata\\anaconda3\\envs\\pyenv37\\lib\\site-packages (from opencv-python) (1.19.5)\n"
     ]
    }
   ],
   "source": [
    "# !pip3 install opencv-python"
   ]
  },
  {
   "cell_type": "markdown",
   "id": "atlantic-preview",
   "metadata": {},
   "source": [
    "### Useful Links\n",
    "https://www.youtube.com/watch?v=zDYL22QNiWk\n"
   ]
  },
  {
   "cell_type": "markdown",
   "id": "offshore-discovery",
   "metadata": {
    "jp-MarkdownHeadingCollapsed": true,
    "tags": []
   },
   "source": [
    "# Python Virtual Environment\n",
    "***\n",
    "<font color = #318CE7 size = 3 >\n",
    "    \n",
    "- Python Virtual Environment is a tool to have multiple Python Environments in the same machine / server\n",
    "- It is typically created on top of a Base Python Environment\n",
    "- It is created to separated out dependencies of multiple project\n",
    "    - e.g. you may have a working application running on Django 2.8 and upgraded version being developed on Django 3.0. You wish to have both on the same server. This scenario can be easily handled using Virtual Environment\n",
    "- Virtual Environment can be created using multiple ways - pipenv, virutalenv, venv, pyenv, conda create -n\n",
    "</font>"
   ]
  },
  {
   "cell_type": "markdown",
   "id": "supported-captain",
   "metadata": {},
   "source": [
    "### Two Key Components of Virtual Environment\n",
    "- Python Environment\n",
    "- Folder in which all third party libraries are installed"
   ]
  },
  {
   "cell_type": "markdown",
   "id": "handled-rapid",
   "metadata": {},
   "source": [
    "# pipenv\n",
    "***\n",
    "https://pypi.org/project/pipenv/\n",
    "<font color = #318CE7 size = 3 >\n",
    "    \n",
    "- Pipenv is a combination of Pip and Virtual Environment    \n",
    "- Pipenv is a tool that provides all necessary means to create a virtual environment for your Python project\n",
    "- It automatically manages project packages through the `Pipfile` file as you install or uninstall packages.    \n",
    "    \n",
    "</font>"
   ]
  },
  {
   "cell_type": "markdown",
   "id": "solved-mexico",
   "metadata": {},
   "source": [
    "#### Install pipenv"
   ]
  },
  {
   "cell_type": "code",
   "execution_count": 6,
   "id": "suitable-chinese",
   "metadata": {},
   "outputs": [],
   "source": [
    "# !pip3 install pipenv"
   ]
  },
  {
   "cell_type": "markdown",
   "id": "enclosed-permit",
   "metadata": {},
   "source": [
    "### Step 1: Create a Python Project Folder\n"
   ]
  },
  {
   "cell_type": "markdown",
   "id": "subtle-standard",
   "metadata": {},
   "source": [
    "### Python Virtual Environment Folder used for training\n"
   ]
  },
  {
   "cell_type": "markdown",
   "id": "funny-census",
   "metadata": {},
   "source": [
    "### Step 2: Navigate to the Folder"
   ]
  },
  {
   "cell_type": "markdown",
   "id": "unique-protest",
   "metadata": {},
   "source": [
    "#### Activate Virtual Environment \n",
    "- This will create a Virtual Environment and a file Pipfile will be created in the folder\n",
    "- The format of Pipfile is TOML \"Tom's Obvious, Minimal Language\"\n",
    "- TOML's syntax primarily consists of key = value pairs, [section names], and # (for comments)."
   ]
  },
  {
   "cell_type": "code",
   "execution_count": 7,
   "id": "lesbian-kruger",
   "metadata": {},
   "outputs": [],
   "source": [
    "# pipenv shell  # Will create the virtual environment using python version in your path\n",
    "# or\n",
    "# pipenv install --python 3.8 <version number>  ## Provided it is installed in your machine\n",
    "# pipenv --python path\\to\\python"
   ]
  },
  {
   "cell_type": "markdown",
   "id": "fundamental-cannon",
   "metadata": {},
   "source": [
    "#### Check versions of Python"
   ]
  },
  {
   "cell_type": "code",
   "execution_count": 8,
   "id": "rolled-vampire",
   "metadata": {},
   "outputs": [],
   "source": [
    "# python --version"
   ]
  },
  {
   "cell_type": "markdown",
   "id": "mexican-typing",
   "metadata": {},
   "source": [
    "#### Activate the Projects Virtual Environment"
   ]
  },
  {
   "cell_type": "code",
   "execution_count": 9,
   "id": "ecological-seventh",
   "metadata": {},
   "outputs": [],
   "source": [
    "# pipenv shell"
   ]
  },
  {
   "cell_type": "markdown",
   "id": "skilled-appointment",
   "metadata": {},
   "source": [
    "#### pipenv virtual environment storage path"
   ]
  },
  {
   "cell_type": "code",
   "execution_count": 10,
   "id": "disturbed-governor",
   "metadata": {},
   "outputs": [],
   "source": [
    "# pipenv --venv"
   ]
  },
  {
   "cell_type": "markdown",
   "id": "technological-cherry",
   "metadata": {},
   "source": [
    "#### Installation path"
   ]
  },
  {
   "cell_type": "code",
   "execution_count": 11,
   "id": "adolescent-beauty",
   "metadata": {},
   "outputs": [],
   "source": [
    "# import sys\n",
    "# sys.executable"
   ]
  },
  {
   "cell_type": "markdown",
   "id": "exceptional-fashion",
   "metadata": {},
   "source": [
    "#### Install/uninstall a package"
   ]
  },
  {
   "cell_type": "code",
   "execution_count": 12,
   "id": "ongoing-album",
   "metadata": {},
   "outputs": [],
   "source": [
    "# pipenv install <package name>\n",
    "# pipenv install requests\n",
    "# pipenv uninstall <package name>\n",
    "# pipenv uninstall requests"
   ]
  },
  {
   "cell_type": "code",
   "execution_count": 13,
   "id": "white-landing",
   "metadata": {},
   "outputs": [],
   "source": [
    "# exit to deactivate a virtual environment"
   ]
  },
  {
   "cell_type": "markdown",
   "id": "indian-retreat",
   "metadata": {},
   "source": [
    "#### run python file from a given environment"
   ]
  },
  {
   "cell_type": "code",
   "execution_count": 1,
   "id": "reasonable-holmes",
   "metadata": {},
   "outputs": [
    {
     "name": "stdout",
     "output_type": "stream",
     "text": [
      "/usr/local/opt/python@3.9/bin/python3.9\n"
     ]
    }
   ],
   "source": [
    "# exit   ## exit from python virtual environment\n",
    "# pipenv run python <python_file.py>\n",
    "# pipenv run python test.py\n",
    "### test.py code\n",
    "import sys\n",
    "print(sys.executable)\n",
    "\n",
    "# python test.py\n",
    "# "
   ]
  },
  {
   "cell_type": "markdown",
   "id": "configured-pacific",
   "metadata": {},
   "source": [
    "### Create requirements.txt file"
   ]
  },
  {
   "cell_type": "markdown",
   "id": "recognized-steam",
   "metadata": {},
   "source": [
    "## requirements.txt\n",
    "\n",
    "requirements.txt file is a vital tool for managing dependencies, ensuring consistent environments, collaborating with others, deploying applications, and maintaining the integrity of your Python projects.\n",
    "\n",
    "The primary purpose of the requirements.txt file is to document and manage the dependencies of your project. It lists all the external packages and libraries that your project relies on to function correctly. This ensures that anyone else working on your project can easily recreate the same development environment with the required packages.\n",
    "\n",
    "1. Environment Replication: Developers working on your project can use the requirements.txt file to recreate the exact same environment you used for development. By running pip install -r requirements.txt, they can install the same package versions you used, reducing the chances of compatibility issues.\n",
    "2. Collaboration: When collaborating with others, sharing the requirements.txt file ensures everyone is on the same page regarding the dependencies. It eliminates confusion and helps maintain consistency across team members' development environments.\n",
    "3. Deployment: When deploying your application to a server or hosting platform, you can use the requirements.txt file to specify the dependencies your application needs. This ensures that the production environment matches the development environment and that your application runs smoothly.\n",
    "4. Version Control: Including the requirements.txt file in your version control system (e.g., Git) helps track changes to dependencies over time. This is crucial for reproducing past versions of your project and diagnosing issues that might arise due to package updates.\n",
    "5. Documentation: The requirements.txt file acts as documentation for your project's dependencies. It provides a clear list of the external libraries used, which can be useful for understanding the project's technological stack.\n",
    "6. Automated Builds: Continuous integration and continuous deployment (CI/CD) systems can use the requirements.txt file to automatically set up the required environment for testing and deploying your application.\n",
    "\n",
    "\n",
    "To dynamically generate a requirements.txt \n",
    "Open a terminal or command prompt. Navigate to your project directory where you want to create the requirements.txt file.\n",
    "\n",
    "pip freeze > requirements.txt\n",
    "\n",
    "You can create the requirements.txt manually also, \n",
    "open any notepad editor save the file as requirements.txt in requied folder. Add the libraries manullaly like this\n",
    "\n",
    "\n",
    "beautifulsoup4==4.9.3 <br>\n",
    "requests==2.26.0 <br>\n",
    "pandas==1.3.3 <br>\n",
    "pydantic==1.8.2 <br>\n",
    "python-dotenv==0.19.0 <br>\n",
    "\n",
    "\n",
    "\n",
    "To install the packages you need to run\n",
    "\n",
    "pip install -r requirements.txt\n"
   ]
  },
  {
   "cell_type": "code",
   "execution_count": null,
   "id": "floppy-accused",
   "metadata": {},
   "outputs": [],
   "source": [
    "# pipenv sync\n",
    "# pipenv run pip freeze\n",
    "# pipenv lock >> requirements.txt"
   ]
  },
  {
   "cell_type": "markdown",
   "id": "excess-convention",
   "metadata": {},
   "source": [
    "#### Install from requirements.txt"
   ]
  },
  {
   "cell_type": "code",
   "execution_count": 16,
   "id": "proud-detector",
   "metadata": {},
   "outputs": [],
   "source": [
    "# pipenv install -r ./requirements.txt\n",
    "# psycopg2==2.9.5\n",
    "# SQLAlchemy==1.4.9"
   ]
  },
  {
   "cell_type": "markdown",
   "id": "devoted-encoding",
   "metadata": {},
   "source": [
    "#### To install a package only for dev environment"
   ]
  },
  {
   "cell_type": "code",
   "execution_count": null,
   "id": "equipped-possession",
   "metadata": {},
   "outputs": [],
   "source": [
    "# pipenv install pytest --dev"
   ]
  },
  {
   "cell_type": "markdown",
   "id": "strange-hudson",
   "metadata": {},
   "source": [
    "#### Update pipenv.lock file"
   ]
  },
  {
   "cell_type": "code",
   "execution_count": 2,
   "id": "cosmetic-symphony",
   "metadata": {},
   "outputs": [],
   "source": [
    "# pipenv update"
   ]
  },
  {
   "cell_type": "markdown",
   "id": "fifth-employee",
   "metadata": {},
   "source": [
    "# conda create virtual environment\n",
    "***\n",
    "<font color = #318CE7 size = 3 >\n",
    "    \n",
    "- With conda, you can create, export, list, remove, and update environments that have different versions of Python and/or packages installed in them  \n",
    "    \n",
    "https://conda.io/projects/conda/en/latest/user-guide/tasks/manage-environments.html\n",
    "\n",
    "    \n",
    "</font>"
   ]
  },
  {
   "cell_type": "code",
   "execution_count": null,
   "id": "distinguished-defendant",
   "metadata": {},
   "outputs": [],
   "source": [
    "# conda create -n PyEnv39 python=3.9\n",
    "# conda activate PyEnv39\n",
    "# conda deactivate\n",
    "# pip3 install camelcase\n",
    "# pip3 freeze > requirements.txt\n",
    "### alternatively\n",
    "# conda list -e > requirements.txt\n",
    "# pip install -r requirements.txt\n",
    "# conda env remove --name PyEnv39"
   ]
  },
  {
   "cell_type": "markdown",
   "id": "120e7aa6",
   "metadata": {
    "tags": []
   },
   "source": [
    "# 3. Data Ingestion through API calls"
   ]
  },
  {
   "cell_type": "markdown",
   "id": "three-classics",
   "metadata": {},
   "source": [
    "## What is an API?\n",
    "- API stands for Application Programming Interface\n",
    "- API programming is mostly used to serve a request, i.e. send data from Server to Client when a request is raised by the Client\n",
    "- When we want to fetch data from an API, we have to make a `request`\n"
   ]
  },
  {
   "cell_type": "markdown",
   "id": "julian-lincoln",
   "metadata": {},
   "source": [
    "## E.x. : HTTP Request\n",
    "- You type the URL of a webpage in Browser\n",
    "- The request is sent over the internet to the Web Server\n",
    "- Based on the request and its correctness, the Web Server sends back the Response Code and Response Data"
   ]
  },
  {
   "cell_type": "markdown",
   "id": "ahead-nation",
   "metadata": {},
   "source": [
    "## `request` package in Python\n",
    "- In Python, the most common library for making requests and working with APIs is the requests library\n",
    "- The requests module allows you to send HTTP requests using Python. \n",
    "- The HTTP request returns a Response Object with all the response data (status, content, encoding,  etc)"
   ]
  },
  {
   "cell_type": "code",
   "execution_count": 3,
   "id": "diagnostic-praise",
   "metadata": {},
   "outputs": [],
   "source": [
    "## Installation of request package\n",
    "#!pip3 install requests\n",
    "#conda install requests"
   ]
  },
  {
   "cell_type": "code",
   "execution_count": 1,
   "id": "493ee82b",
   "metadata": {},
   "outputs": [],
   "source": [
    "import requests\n",
    "import pandas as pd"
   ]
  },
  {
   "cell_type": "markdown",
   "id": "alien-behavior",
   "metadata": {},
   "source": [
    "## Making our first API Call\n"
   ]
  },
  {
   "cell_type": "code",
   "execution_count": 2,
   "id": "encouraging-parliament",
   "metadata": {},
   "outputs": [],
   "source": [
    "response = requests.get(\"https://randomuser.me/api\")"
   ]
  },
  {
   "cell_type": "markdown",
   "id": "english-trader",
   "metadata": {},
   "source": [
    "#### response.status_code: Returns a number that indicates the status (200 is OK, 404 is Not Found)"
   ]
  },
  {
   "cell_type": "code",
   "execution_count": 3,
   "id": "southeast-virus",
   "metadata": {},
   "outputs": [
    {
     "data": {
      "text/plain": [
       "200"
      ]
     },
     "execution_count": 3,
     "metadata": {},
     "output_type": "execute_result"
    }
   ],
   "source": [
    "response.status_code"
   ]
  },
  {
   "cell_type": "code",
   "execution_count": 4,
   "id": "anticipated-retreat",
   "metadata": {},
   "outputs": [
    {
     "data": {
      "text/plain": [
       "'{\"results\":[{\"gender\":\"male\",\"name\":{\"title\":\"Mr\",\"first\":\"Lakshit\",\"last\":\"Nair\"},\"location\":{\"street\":{\"number\":1554,\"name\":\"Chaman Ganj\"},\"city\":\"Rajahmundry\",\"state\":\"Karnataka\",\"country\":\"India\",\"postcode\":91984,\"coordinates\":{\"latitude\":\"7.3231\",\"longitude\":\"-45.7352\"},\"timezone\":{\"offset\":\"-3:30\",\"description\":\"Newfoundland\"}},\"email\":\"lakshit.nair@example.com\",\"login\":{\"uuid\":\"99522c7e-2e0e-4266-98ca-93973d81e2a6\",\"username\":\"smallostrich661\",\"password\":\"laurie\",\"salt\":\"i6b6iAAu\",\"md5\":\"fab03b1f82856ee81f8f3fdecd89e29f\",\"sha1\":\"f95c69b7266d0009109569fca62c54f07e014007\",\"sha256\":\"273a63ed1a5852a1ee01080493343a5ef156ae4f3cab9649c4609e15fa4b1837\"},\"dob\":{\"date\":\"1956-08-02T18:27:58.783Z\",\"age\":67},\"registered\":{\"date\":\"2014-10-16T10:22:29.256Z\",\"age\":8},\"phone\":\"7850816481\",\"cell\":\"9076219434\",\"id\":{\"name\":\"UIDAI\",\"value\":\"914758893596\"},\"picture\":{\"large\":\"https://randomuser.me/api/portraits/men/47.jpg\",\"medium\":\"https://randomuser.me/api/portraits/med/men/47.jpg\",\"thumbnail\":\"https://randomuser.me/api/portraits/thumb/men/47.jpg\"},\"nat\":\"IN\"}],\"info\":{\"seed\":\"8b7fd18b964d1326\",\"results\":1,\"page\":1,\"version\":\"1.4\"}}'"
      ]
     },
     "execution_count": 4,
     "metadata": {},
     "output_type": "execute_result"
    }
   ],
   "source": [
    "response.text"
   ]
  },
  {
   "cell_type": "code",
   "execution_count": 5,
   "id": "proper-plant",
   "metadata": {},
   "outputs": [],
   "source": [
    "response_json = requests.get(\"https://randomuser.me/api/\").json()\n"
   ]
  },
  {
   "cell_type": "code",
   "execution_count": 6,
   "id": "alleged-salem",
   "metadata": {},
   "outputs": [
    {
     "data": {
      "text/plain": [
       "{'results': [{'gender': 'female',\n",
       "   'name': {'title': 'Miss', 'first': 'Roberta', 'last': 'Garrett'},\n",
       "   'location': {'street': {'number': 5009, 'name': 'Lovers Ln'},\n",
       "    'city': 'Irving',\n",
       "    'state': 'Louisiana',\n",
       "    'country': 'United States',\n",
       "    'postcode': 44369,\n",
       "    'coordinates': {'latitude': '83.8566', 'longitude': '149.3697'},\n",
       "    'timezone': {'offset': '+4:00',\n",
       "     'description': 'Abu Dhabi, Muscat, Baku, Tbilisi'}},\n",
       "   'email': 'roberta.garrett@example.com',\n",
       "   'login': {'uuid': 'c4198775-6d2e-41d4-b24c-8c7fd38e73e3',\n",
       "    'username': 'silverleopard790',\n",
       "    'password': 'delta1',\n",
       "    'salt': '2j5hZqlk',\n",
       "    'md5': '20ea49338810f523f060c3873d2c0ec6',\n",
       "    'sha1': 'a784b3161edd7f4aba1ffe28bb561fe2f008d9e1',\n",
       "    'sha256': 'd96139db5bcc4443200250506d710b70f2f5adb22608e4a4fd56764919e677eb'},\n",
       "   'dob': {'date': '1972-10-10T19:21:40.154Z', 'age': 50},\n",
       "   'registered': {'date': '2021-12-24T20:08:15.024Z', 'age': 1},\n",
       "   'phone': '(358) 529-1265',\n",
       "   'cell': '(487) 553-7537',\n",
       "   'id': {'name': 'SSN', 'value': '893-60-4332'},\n",
       "   'picture': {'large': 'https://randomuser.me/api/portraits/women/81.jpg',\n",
       "    'medium': 'https://randomuser.me/api/portraits/med/women/81.jpg',\n",
       "    'thumbnail': 'https://randomuser.me/api/portraits/thumb/women/81.jpg'},\n",
       "   'nat': 'US'}],\n",
       " 'info': {'seed': '4be8668fd22b2783',\n",
       "  'results': 1,\n",
       "  'page': 1,\n",
       "  'version': '1.4'}}"
      ]
     },
     "execution_count": 6,
     "metadata": {},
     "output_type": "execute_result"
    }
   ],
   "source": [
    "response_json"
   ]
  },
  {
   "cell_type": "code",
   "execution_count": 7,
   "id": "settled-migration",
   "metadata": {},
   "outputs": [
    {
     "data": {
      "text/plain": [
       "dict"
      ]
     },
     "execution_count": 7,
     "metadata": {},
     "output_type": "execute_result"
    }
   ],
   "source": [
    "type(response_json)"
   ]
  },
  {
   "cell_type": "markdown",
   "id": "lovely-sixth",
   "metadata": {},
   "source": [
    "## find the outermost keys"
   ]
  },
  {
   "cell_type": "code",
   "execution_count": 8,
   "id": "metropolitan-secret",
   "metadata": {},
   "outputs": [
    {
     "data": {
      "text/plain": [
       "['results', 'info']"
      ]
     },
     "execution_count": 8,
     "metadata": {},
     "output_type": "execute_result"
    }
   ],
   "source": [
    "list(response_json)"
   ]
  },
  {
   "cell_type": "markdown",
   "id": "fallen-asthma",
   "metadata": {},
   "source": [
    "### Blindly taking every thing from results and converting to dataframe"
   ]
  },
  {
   "cell_type": "code",
   "execution_count": 9,
   "id": "economic-basement",
   "metadata": {},
   "outputs": [],
   "source": [
    "dta_ = []\n",
    "for i in response_json['results']:\n",
    "    dta_.append(i)\n"
   ]
  },
  {
   "cell_type": "code",
   "execution_count": 10,
   "id": "continent-russia",
   "metadata": {},
   "outputs": [],
   "source": [
    "# dta_"
   ]
  },
  {
   "cell_type": "code",
   "execution_count": 11,
   "id": "ordinary-tuition",
   "metadata": {},
   "outputs": [
    {
     "data": {
      "text/html": [
       "<div>\n",
       "<style scoped>\n",
       "    .dataframe tbody tr th:only-of-type {\n",
       "        vertical-align: middle;\n",
       "    }\n",
       "\n",
       "    .dataframe tbody tr th {\n",
       "        vertical-align: top;\n",
       "    }\n",
       "\n",
       "    .dataframe thead th {\n",
       "        text-align: right;\n",
       "    }\n",
       "</style>\n",
       "<table border=\"1\" class=\"dataframe\">\n",
       "  <thead>\n",
       "    <tr style=\"text-align: right;\">\n",
       "      <th></th>\n",
       "      <th>gender</th>\n",
       "      <th>name</th>\n",
       "      <th>location</th>\n",
       "      <th>email</th>\n",
       "      <th>login</th>\n",
       "      <th>dob</th>\n",
       "      <th>registered</th>\n",
       "      <th>phone</th>\n",
       "      <th>cell</th>\n",
       "      <th>id</th>\n",
       "      <th>picture</th>\n",
       "      <th>nat</th>\n",
       "    </tr>\n",
       "  </thead>\n",
       "  <tbody>\n",
       "    <tr>\n",
       "      <th>0</th>\n",
       "      <td>female</td>\n",
       "      <td>{'title': 'Miss', 'first': 'Roberta', 'last': ...</td>\n",
       "      <td>{'street': {'number': 5009, 'name': 'Lovers Ln...</td>\n",
       "      <td>roberta.garrett@example.com</td>\n",
       "      <td>{'uuid': 'c4198775-6d2e-41d4-b24c-8c7fd38e73e3...</td>\n",
       "      <td>{'date': '1972-10-10T19:21:40.154Z', 'age': 50}</td>\n",
       "      <td>{'date': '2021-12-24T20:08:15.024Z', 'age': 1}</td>\n",
       "      <td>(358) 529-1265</td>\n",
       "      <td>(487) 553-7537</td>\n",
       "      <td>{'name': 'SSN', 'value': '893-60-4332'}</td>\n",
       "      <td>{'large': 'https://randomuser.me/api/portraits...</td>\n",
       "      <td>US</td>\n",
       "    </tr>\n",
       "  </tbody>\n",
       "</table>\n",
       "</div>"
      ],
      "text/plain": [
       "   gender                                               name  \\\n",
       "0  female  {'title': 'Miss', 'first': 'Roberta', 'last': ...   \n",
       "\n",
       "                                            location  \\\n",
       "0  {'street': {'number': 5009, 'name': 'Lovers Ln...   \n",
       "\n",
       "                         email  \\\n",
       "0  roberta.garrett@example.com   \n",
       "\n",
       "                                               login  \\\n",
       "0  {'uuid': 'c4198775-6d2e-41d4-b24c-8c7fd38e73e3...   \n",
       "\n",
       "                                               dob  \\\n",
       "0  {'date': '1972-10-10T19:21:40.154Z', 'age': 50}   \n",
       "\n",
       "                                       registered           phone  \\\n",
       "0  {'date': '2021-12-24T20:08:15.024Z', 'age': 1}  (358) 529-1265   \n",
       "\n",
       "             cell                                       id  \\\n",
       "0  (487) 553-7537  {'name': 'SSN', 'value': '893-60-4332'}   \n",
       "\n",
       "                                             picture nat  \n",
       "0  {'large': 'https://randomuser.me/api/portraits...  US  "
      ]
     },
     "execution_count": 11,
     "metadata": {},
     "output_type": "execute_result"
    }
   ],
   "source": [
    "df = pd.DataFrame(dta_)\n",
    "df.head()"
   ]
  },
  {
   "cell_type": "markdown",
   "id": "lovely-posting",
   "metadata": {},
   "source": [
    "### What if I had a clue of the fileds which I wish to have"
   ]
  },
  {
   "cell_type": "code",
   "execution_count": 14,
   "id": "passing-radio",
   "metadata": {},
   "outputs": [],
   "source": [
    "my_data = {'title':[], 'first':[], 'last':[], 'gender':[], 'email':[], 'phone':[]}"
   ]
  },
  {
   "cell_type": "markdown",
   "id": "excessive-choir",
   "metadata": {},
   "source": [
    "### parse the json and take what we want specifically"
   ]
  },
  {
   "cell_type": "code",
   "execution_count": 15,
   "id": "progressive-lobby",
   "metadata": {},
   "outputs": [],
   "source": [
    "results_json = response_json['results']\n",
    "# results_json"
   ]
  },
  {
   "cell_type": "code",
   "execution_count": 16,
   "id": "negative-consortium",
   "metadata": {},
   "outputs": [],
   "source": [
    "for cust_data in results_json:\n",
    "    if 'name' in cust_data:\n",
    "        d_dict = cust_data['name']\n",
    "        my_data['title'].append(d_dict['title'])\n",
    "        my_data['first'].append(d_dict['first'])\n",
    "        my_data['last'].append(d_dict['last'])\n",
    "    else: \n",
    "        my_data['title'].append(None)\n",
    "        my_data['first'].append(None)\n",
    "        my_data['last'].append(None)\n",
    "        \n",
    "    if 'gender' in cust_data:\n",
    "        my_data['gender'].append(cust_data['gender'])\n",
    "    else: \n",
    "        my_data['gender'].append(None)\n",
    "        \n",
    "    if 'email' in cust_data:\n",
    "        my_data['email'].append(cust_data['email'])\n",
    "    else: \n",
    "        my_data['email'].append(None)\n",
    "        \n",
    "    if 'phone' in cust_data:\n",
    "        my_data['phone'].append(cust_data['phone'])\n",
    "    else: \n",
    "        my_data['phone'].append(None)"
   ]
  },
  {
   "cell_type": "code",
   "execution_count": 17,
   "id": "innovative-category",
   "metadata": {},
   "outputs": [
    {
     "data": {
      "text/plain": [
       "{'title': ['Miss'],\n",
       " 'first': ['Roberta'],\n",
       " 'last': ['Garrett'],\n",
       " 'gender': ['female'],\n",
       " 'email': ['roberta.garrett@example.com'],\n",
       " 'phone': ['(358) 529-1265']}"
      ]
     },
     "execution_count": 17,
     "metadata": {},
     "output_type": "execute_result"
    }
   ],
   "source": [
    "my_data"
   ]
  },
  {
   "cell_type": "code",
   "execution_count": 18,
   "id": "general-bridges",
   "metadata": {},
   "outputs": [
    {
     "data": {
      "text/html": [
       "<div>\n",
       "<style scoped>\n",
       "    .dataframe tbody tr th:only-of-type {\n",
       "        vertical-align: middle;\n",
       "    }\n",
       "\n",
       "    .dataframe tbody tr th {\n",
       "        vertical-align: top;\n",
       "    }\n",
       "\n",
       "    .dataframe thead th {\n",
       "        text-align: right;\n",
       "    }\n",
       "</style>\n",
       "<table border=\"1\" class=\"dataframe\">\n",
       "  <thead>\n",
       "    <tr style=\"text-align: right;\">\n",
       "      <th></th>\n",
       "      <th>title</th>\n",
       "      <th>first</th>\n",
       "      <th>last</th>\n",
       "      <th>gender</th>\n",
       "      <th>email</th>\n",
       "      <th>phone</th>\n",
       "    </tr>\n",
       "  </thead>\n",
       "  <tbody>\n",
       "    <tr>\n",
       "      <th>0</th>\n",
       "      <td>Miss</td>\n",
       "      <td>Roberta</td>\n",
       "      <td>Garrett</td>\n",
       "      <td>female</td>\n",
       "      <td>roberta.garrett@example.com</td>\n",
       "      <td>(358) 529-1265</td>\n",
       "    </tr>\n",
       "  </tbody>\n",
       "</table>\n",
       "</div>"
      ],
      "text/plain": [
       "  title    first     last  gender                        email           phone\n",
       "0  Miss  Roberta  Garrett  female  roberta.garrett@example.com  (358) 529-1265"
      ]
     },
     "execution_count": 18,
     "metadata": {},
     "output_type": "execute_result"
    }
   ],
   "source": [
    "pd.DataFrame(my_data)"
   ]
  },
  {
   "cell_type": "markdown",
   "id": "sunrise-humidity",
   "metadata": {},
   "source": [
    "### Json Schema Validation"
   ]
  },
  {
   "cell_type": "markdown",
   "id": "exciting-immunology",
   "metadata": {
    "jp-MarkdownHeadingCollapsed": true,
    "tags": []
   },
   "source": [
    "### create schema using chatGPT -\n",
    "1. copy paste the json in chatGPT and type 'I want to create a schema validation in python for this json. add required part also in this validation' \n",
    "2. Do the needful changes and paste below."
   ]
  },
  {
   "cell_type": "code",
   "execution_count": 17,
   "id": "mature-snowboard",
   "metadata": {},
   "outputs": [
    {
     "data": {
      "text/plain": [
       "dict"
      ]
     },
     "execution_count": 17,
     "metadata": {},
     "output_type": "execute_result"
    }
   ],
   "source": [
    "type(response_json)"
   ]
  },
  {
   "cell_type": "code",
   "execution_count": 19,
   "id": "flexible-status",
   "metadata": {},
   "outputs": [],
   "source": [
    "import jsonschema\n",
    "from jsonschema import validate\n",
    "\n",
    "# Define the JSON schema\n",
    "schema = {\n",
    "    \"type\": \"object\",\n",
    "    \"properties\": {\n",
    "        \"results\": {\n",
    "            \"type\": \"array\",\n",
    "            \"items\": {\n",
    "                \"type\": \"object\",\n",
    "                \"properties\": {\n",
    "                    \"gender\": {\"type\": \"string\"},\n",
    "                    \"name\": {\n",
    "                        \"type\": \"object\",\n",
    "                        \"properties\": {\n",
    "                            \"title\": {\"type\": \"string\"},\n",
    "                            \"first\": {\"type\": \"string\"},\n",
    "                            \"last\": {\"type\": \"string\"}\n",
    "                        },\n",
    "                        \"required\": [\"title\", \"first\", \"last\"]\n",
    "                    },\n",
    "                    \"location\": {\n",
    "                        \"type\": \"object\",\n",
    "                        \"properties\": {\n",
    "                            \"street\": {\n",
    "                                \"type\": \"object\",\n",
    "                                \"properties\": {\n",
    "                                    \"number\": {\"type\": \"integer\"},\n",
    "                                    \"name\": {\"type\": \"string\"}\n",
    "                                }\n",
    "                            },\n",
    "                            \"city\": {\"type\": \"string\"},\n",
    "                            \"state\": {\"type\": \"string\"},\n",
    "                            \"country\": {\"type\": \"string\"},\n",
    "                            \"postcode\": {\"type\": \"string\"},\n",
    "                            \"coordinates\": {\n",
    "                                \"type\": \"object\",\n",
    "                                \"properties\": {\n",
    "                                    \"latitude\": {\"type\": \"string\"},\n",
    "                                    \"longitude\": {\"type\": \"string\"}\n",
    "                                }\n",
    "                            },\n",
    "                            \"timezone\": {\n",
    "                                \"type\": \"object\",\n",
    "                                \"properties\": {\n",
    "                                    \"offset\": {\"type\": \"string\"},\n",
    "                                    \"description\": {\"type\": \"string\"}\n",
    "                                }\n",
    "                            }\n",
    "                        }\n",
    "                    },\n",
    "                    \"email\": {\"type\": \"string\"},\n",
    "                    \"login\": {\n",
    "                        \"type\": \"object\",\n",
    "                        \"properties\": {\n",
    "                            \"uuid\": {\"type\": \"string\"},\n",
    "                            \"username\": {\"type\": \"string\"},\n",
    "                            \"password\": {\"type\": \"string\"},\n",
    "                            \"salt\": {\"type\": \"string\"},\n",
    "                            \"md5\": {\"type\": \"string\"},\n",
    "                            \"sha1\": {\"type\": \"string\"},\n",
    "                            \"sha256\": {\"type\": \"string\"}\n",
    "                        }\n",
    "                    },\n",
    "                    \"dob\": {\n",
    "                        \"type\": \"object\",\n",
    "                        \"properties\": {\n",
    "                            \"date\": {\"type\": \"string\"},\n",
    "                            \"age\": {\"type\": \"integer\"}\n",
    "                        }\n",
    "                    },\n",
    "                    \"registered\": {\n",
    "                        \"type\": \"object\",\n",
    "                        \"properties\": {\n",
    "                            \"date\": {\"type\": \"string\"},\n",
    "                            \"age\": {\"type\": \"integer\"}\n",
    "                        }\n",
    "                    },\n",
    "                    \"phone\": {\"type\": \"string\"},\n",
    "                    \"cell\": {\"type\": \"string\"},\n",
    "                    \"id\": {\n",
    "                        \"type\": \"object\",\n",
    "                        \"properties\": {\n",
    "                            \"name\": {\"type\": \"string\"},\n",
    "                            \"value\": {\"type\": \"string\"}\n",
    "                        }\n",
    "                    },\n",
    "                    \"picture\": {\n",
    "                        \"type\": \"object\",\n",
    "                        \"properties\": {\n",
    "                            \"large\": {\"type\": \"string\"},\n",
    "                            \"medium\": {\"type\": \"string\"},\n",
    "                            \"thumbnail\": {\"type\": \"string\"}\n",
    "                        }\n",
    "                    },\n",
    "                    \"nat\": {\"type\": \"string\"}\n",
    "                },\n",
    "                \"required\": [\"gender\", \"name\", \"location\", \"email\", \"login\", \"dob\", \"registered\", \"phone\", \"cell\", \"id\", \"picture\", \"nat\"]\n",
    "            }\n",
    "        },\n",
    "        \"info\": {\n",
    "            \"type\": \"object\",\n",
    "            \"properties\": {\n",
    "                \"seed\": {\"type\": \"string\"},\n",
    "                \"results\": {\"type\": \"integer\"},\n",
    "                \"page\": {\"type\": \"integer\"},\n",
    "                \"version\": {\"type\": \"string\"}\n",
    "            },\n",
    "            \"required\": [\"seed\", \"results\", \"page\", \"version\"]\n",
    "        }\n",
    "    },\n",
    "    \"required\": [\"results\", \"info\"]\n",
    "}\n"
   ]
  },
  {
   "cell_type": "code",
   "execution_count": 21,
   "id": "friendly-pioneer",
   "metadata": {},
   "outputs": [
    {
     "name": "stdout",
     "output_type": "stream",
     "text": [
      "JSON is not valid: 44369 is not of type 'string'\n",
      "\n",
      "Failed validating 'type' in schema['properties']['results']['items']['properties']['location']['properties']['postcode']:\n",
      "    {'type': 'string'}\n",
      "\n",
      "On instance['results'][0]['location']['postcode']:\n",
      "    44369\n"
     ]
    }
   ],
   "source": [
    "# Validate the JSON data against the schema\n",
    "try:\n",
    "    validate(response_json, schema)\n",
    "    print(\"JSON is valid.\")\n",
    "except jsonschema.exceptions.ValidationError as e:\n",
    "    print(\"JSON is not valid:\", e)"
   ]
  },
  {
   "cell_type": "markdown",
   "id": "olive-israel",
   "metadata": {
    "tags": []
   },
   "source": [
    "## Endpoints and Resources\n",
    "- Base URL: The first piece of information necessary for consuming an API is the API URL, typically called the base URL\n",
    "<p></p>\n",
    "\n",
    "- For example, here are the base URLs for a few well-known API players:\n",
    "\n",
    "    - https://api.twitter.com\n",
    "    - https://api.github.com\n",
    "    - https://api.stripe.com\n",
    "<p></p>    \n",
    "- If you try opening any of the above links, then you’ll notice that most of them will return an error or ask for credentials\n",
    "<p></p>\n",
    "\n",
    "### Endpoints - An endpoint is a part of the URL that specifies what resource you want to fetch"
   ]
  },
  {
   "cell_type": "markdown",
   "id": "identical-anchor",
   "metadata": {},
   "source": [
    "## Python is an Object Oriented Programming (OOP) Language\n",
    "- Almost everything in Python is an Object, with its properties and methods.\n",
    "\n",
    "## Class\n",
    "- A Class is a user-defined blueprint or prototype from which objects are created.\n",
    "- A Class is like an object constructor, or a \"blueprint\" for creating objects."
   ]
  },
  {
   "cell_type": "markdown",
   "id": "spoken-symbol",
   "metadata": {},
   "source": [
    "### Creating a Class\n",
    "Keyword: class"
   ]
  },
  {
   "cell_type": "code",
   "execution_count": 31,
   "id": "ordered-burns",
   "metadata": {},
   "outputs": [],
   "source": [
    "class MyFirstClass: ## PEP8 CamelCase\n",
    "    percentage = 60"
   ]
  },
  {
   "cell_type": "code",
   "execution_count": 32,
   "id": "technological-solomon",
   "metadata": {},
   "outputs": [
    {
     "data": {
      "text/plain": [
       "60"
      ]
     },
     "execution_count": 32,
     "metadata": {},
     "output_type": "execute_result"
    }
   ],
   "source": [
    "MyFirstClass.percentage"
   ]
  },
  {
   "cell_type": "markdown",
   "id": "better-pointer",
   "metadata": {},
   "source": [
    "### Instantiate an object of class"
   ]
  },
  {
   "cell_type": "code",
   "execution_count": 33,
   "id": "severe-orleans",
   "metadata": {},
   "outputs": [
    {
     "data": {
      "text/plain": [
       "60"
      ]
     },
     "execution_count": 33,
     "metadata": {},
     "output_type": "execute_result"
    }
   ],
   "source": [
    "cls_object = MyFirstClass()  ## constructor\n",
    "cls_object.percentage"
   ]
  },
  {
   "cell_type": "code",
   "execution_count": null,
   "id": "official-hungary",
   "metadata": {},
   "outputs": [],
   "source": []
  },
  {
   "cell_type": "code",
   "execution_count": 34,
   "id": "adequate-consideration",
   "metadata": {},
   "outputs": [],
   "source": [
    "class MySecondClass: ## PEP8 CamelCase\n",
    "    def __init__(self, pct):\n",
    "        self.percentage = pct"
   ]
  },
  {
   "cell_type": "code",
   "execution_count": 35,
   "id": "separate-cathedral",
   "metadata": {},
   "outputs": [
    {
     "data": {
      "text/plain": [
       "50"
      ]
     },
     "execution_count": 35,
     "metadata": {},
     "output_type": "execute_result"
    }
   ],
   "source": [
    "cls_object2 = MySecondClass(50)  ## constructor\n",
    "cls_object2.percentage"
   ]
  },
  {
   "cell_type": "markdown",
   "id": "sublime-davis",
   "metadata": {},
   "source": [
    "###  \\_\\_init\\_\\_() function\n",
    "\n",
    "- All classes have a function called \\_\\_init\\_\\_(), which is always executed when the class is being initiated.\n",
    "- \\_\\_init\\_\\_() function is used for initialization of default properties or other operations when the class object is being created"
   ]
  },
  {
   "cell_type": "code",
   "execution_count": 36,
   "id": "searching-intersection",
   "metadata": {},
   "outputs": [
    {
     "name": "stdout",
     "output_type": "stream",
     "text": [
      "10\n",
      "8\n",
      "36\n",
      "80\n"
     ]
    }
   ],
   "source": [
    "class Rectangle:\n",
    "    def __init__(self, length, breadth):\n",
    "        self.l = length\n",
    "        self.b = breadth\n",
    "        self.perimeter = 2 * (self.l + self.b)\n",
    "        self.area = self.l * self.b\n",
    "\n",
    "r1= Rectangle(10, 8)\n",
    "\n",
    "print(r1.l)\n",
    "print(r1.b)\n",
    "print(r1.perimeter)\n",
    "print(r1.area)"
   ]
  },
  {
   "cell_type": "markdown",
   "id": "adverse-buyer",
   "metadata": {},
   "source": [
    "###  self\n",
    "\n",
    "- The self parameter is a reference to the current instance of the class, and is used to access variables that belongs to the class.\n",
    "- It does not have to be necessarily named as self , you can call it whatever you like, but it has to be the first parameter of any function in the class\n",
    "- Customer to use the word `self` for the `class instance object itself`, however you can assign any other name, for e.g. `myself`"
   ]
  },
  {
   "cell_type": "code",
   "execution_count": 4,
   "id": "senior-choice",
   "metadata": {},
   "outputs": [
    {
     "name": "stdout",
     "output_type": "stream",
     "text": [
      "10\n",
      "40\n",
      "100\n"
     ]
    }
   ],
   "source": [
    "class Square:\n",
    "    def __init__(myself, side):\n",
    "        myself.s = side\n",
    "        myself.perimeter = 4 * myself.s\n",
    "        myself.area = myself.s * myself.s\n",
    "\n",
    "s1 = Square(10)\n",
    "\n",
    "print(s1.s)\n",
    "print(s1.perimeter)\n",
    "print(s1.area)"
   ]
  },
  {
   "cell_type": "markdown",
   "id": "colonial-mouth",
   "metadata": {},
   "source": [
    "### Class and Instance Attributes"
   ]
  },
  {
   "cell_type": "code",
   "execution_count": 42,
   "id": "wooden-essence",
   "metadata": {},
   "outputs": [
    {
     "name": "stdout",
     "output_type": "stream",
     "text": [
      "Class Attribute through Class Name 1000\n",
      "1000\n",
      "50\n"
     ]
    }
   ],
   "source": [
    "class CIAttr: \n",
    "    \"\"\"Docstring for class ciattr\"\"\"\n",
    "    class_attr = 1000 ## Global\n",
    "    \n",
    "    def __init__(self, i_attr):\n",
    "        self.inst_attr = i_attr\n",
    "        \n",
    "print(f\"Class Attribute through Class Name {CIAttr.class_attr}\"  )\n",
    "# CIAttr.inst_attr   -- This syntax will give error\n",
    "\n",
    "cia_obj = CIAttr(50)\n",
    "print(cia_obj.class_attr)\n",
    "print(cia_obj.inst_attr)\n"
   ]
  },
  {
   "cell_type": "code",
   "execution_count": 5,
   "id": "compatible-present",
   "metadata": {},
   "outputs": [
    {
     "name": "stdout",
     "output_type": "stream",
     "text": [
      "obj.class_attr: 1000\n",
      "obj.inst_attr 10\n"
     ]
    }
   ],
   "source": [
    "class CIAttr: \n",
    "    \"\"\"Docstring for class ciattr\"\"\"\n",
    "    class_attr = 1000 ## Global\n",
    "    \n",
    "    def __init__ (self, in_var_1):\n",
    "        \"\"\"function documentation\"\"\"\n",
    "        # ltv which is declared inside the function is call LOCAL VARIABLE\n",
    "# calc_ltv which is declared outside is called GLOBAL VARIABLE\n",
    "\n",
    "\n",
    "def fn_LTV (prop_value, loan_amt):\n",
    "    try:\n",
    "        print(\"I am in try block\")\n",
    "        ltv = loan_amt  / prop_value\n",
    "#         return ltv\n",
    "    except:\n",
    "        print(\"I am in except block\")\n",
    "        ltv = 0.01\n",
    "#         return ltv\n",
    "    else:\n",
    "        print(\"I am in else block\")\n",
    "        ltv = 0.02\n",
    "#         return ltv\n",
    "    finally:\n",
    "        print(\"I am in finally block\")\n",
    "        ltv = 0.03\n",
    "#         return ltv\n",
    "    print(\" I am outside the try-except-else-finally block\")\n",
    "#     ltv = 0.04\n",
    "    return ltv\n",
    "\n",
    "calc_ltv = fn_LTV(0, 8500000)\n",
    "print(calc_ltv)\n",
    "        class_attr = in_var_1 ## Local\n",
    "        self.inst_attr = in_var_1\n",
    "        \n",
    "    def get_inst_attr(self):\n",
    "        return self.inst_attr\n",
    "\n",
    "obj = CIAttr(10)\n",
    "print(\"obj.class_attr:\", obj.class_attr)\n",
    "print(\"obj.inst_attr\", obj.inst_attr)"
   ]
  },
  {
   "cell_type": "code",
   "execution_count": 6,
   "id": "intended-suite",
   "metadata": {},
   "outputs": [
    {
     "name": "stdout",
     "output_type": "stream",
     "text": [
      "{'inst_attr': 10, 'inst_attr2': 'Added New Attribute to an Instance'}\n"
     ]
    }
   ],
   "source": [
    "obj.inst_attr2 = \"Added New Attribute to an Instance\"\n",
    "print(obj.__dict__)"
   ]
  },
  {
   "cell_type": "code",
   "execution_count": 7,
   "id": "dangerous-collins",
   "metadata": {},
   "outputs": [
    {
     "data": {
      "text/plain": [
       "10"
      ]
     },
     "execution_count": 7,
     "metadata": {},
     "output_type": "execute_result"
    }
   ],
   "source": [
    "obj.get_inst_attr()"
   ]
  },
  {
   "cell_type": "code",
   "execution_count": 8,
   "id": "miniature-limit",
   "metadata": {},
   "outputs": [
    {
     "data": {
      "text/plain": [
       "1000"
      ]
     },
     "execution_count": 8,
     "metadata": {},
     "output_type": "execute_result"
    }
   ],
   "source": [
    "CIAttr.class_attr"
   ]
  },
  {
   "cell_type": "code",
   "execution_count": 9,
   "id": "supported-basket",
   "metadata": {},
   "outputs": [
    {
     "ename": "AttributeError",
     "evalue": "type object 'CIAttr' has no attribute 'inst_attr'",
     "output_type": "error",
     "traceback": [
      "\u001b[1;31m---------------------------------------------------------------------------\u001b[0m",
      "\u001b[1;31mAttributeError\u001b[0m                            Traceback (most recent call last)",
      "\u001b[1;32m<ipython-input-9-d6d9614b8153>\u001b[0m in \u001b[0;36m<module>\u001b[1;34m()\u001b[0m\n\u001b[1;32m----> 1\u001b[1;33m \u001b[0mCIAttr\u001b[0m\u001b[1;33m.\u001b[0m\u001b[0minst_attr\u001b[0m\u001b[1;33m\u001b[0m\u001b[1;33m\u001b[0m\u001b[0m\n\u001b[0m",
      "\u001b[1;31mAttributeError\u001b[0m: type object 'CIAttr' has no attribute 'inst_attr'"
     ]
    }
   ],
   "source": [
    "CIAttr.inst_attr"
   ]
  },
  {
   "cell_type": "code",
   "execution_count": 10,
   "id": "tender-tennessee",
   "metadata": {},
   "outputs": [
    {
     "ename": "TypeError",
     "evalue": "get_inst_attr() missing 1 required positional argument: 'self'",
     "output_type": "error",
     "traceback": [
      "\u001b[1;31m---------------------------------------------------------------------------\u001b[0m",
      "\u001b[1;31mTypeError\u001b[0m                                 Traceback (most recent call last)",
      "\u001b[1;32m<ipython-input-10-6addc22bad11>\u001b[0m in \u001b[0;36m<module>\u001b[1;34m()\u001b[0m\n\u001b[1;32m----> 1\u001b[1;33m \u001b[0mCIAttr\u001b[0m\u001b[1;33m.\u001b[0m\u001b[0mget_inst_attr\u001b[0m\u001b[1;33m(\u001b[0m\u001b[1;33m)\u001b[0m\u001b[1;33m\u001b[0m\u001b[1;33m\u001b[0m\u001b[0m\n\u001b[0m",
      "\u001b[1;31mTypeError\u001b[0m: get_inst_attr() missing 1 required positional argument: 'self'"
     ]
    }
   ],
   "source": [
    "CIAttr.get_inst_attr()"
   ]
  },
  {
   "cell_type": "markdown",
   "id": "raised-shipping",
   "metadata": {},
   "source": [
    "## Inheritance\n",
    "- The process of inheriting methods, attributes, and properties from one class (Parent Class) by another (Child Class)\n",
    "- e.g. Apple, Grapes, Orange inherits certain properties belonging to the main parent class Fruits\n"
   ]
  },
  {
   "cell_type": "code",
   "execution_count": 55,
   "id": "knowing-mercury",
   "metadata": {},
   "outputs": [],
   "source": [
    "# https://overiq.com/python-101/inheritance-and-polymorphism-in-python/\n",
    "import math\n",
    "\n",
    "class Shape:\n",
    "    def __init__(self, color='black', filled=False):\n",
    "        self.color = color\n",
    "        self.filled = filled\n",
    "    def get_color(self):\n",
    "        return self.color\n",
    "    def set_color(self, color):\n",
    "        self.color = color\n",
    "    def get_filled(self):\n",
    "        return self.filled\n",
    "    def set_filled(self, filled):\n",
    "        self.filled = filled\n",
    "\n",
    "\n",
    "class Rectangle(Shape):\n",
    "    def __init__(self, length, breadth):\n",
    "        super().__init__()\n",
    "        self.length = length\n",
    "        self.breadth = breadth\n",
    "\n",
    "    def set_color(self, color):\n",
    "        self.color = \"Green\"\n",
    "\n",
    "\n",
    "\n",
    "class Circle(Shape):\n",
    "    def __init__(self, radius):\n",
    "        super().__init__()\n",
    "        self.radius = radius\n",
    "\n",
    "\n",
    "    "
   ]
  },
  {
   "cell_type": "code",
   "execution_count": 57,
   "id": "geographic-association",
   "metadata": {},
   "outputs": [],
   "source": [
    "rct_obj = Rectangle(10,2)\n",
    "rct_obj.set_color(\"Red\")\n"
   ]
  },
  {
   "cell_type": "code",
   "execution_count": 48,
   "id": "endangered-fetish",
   "metadata": {},
   "outputs": [
    {
     "data": {
      "text/plain": [
       "'Red'"
      ]
     },
     "execution_count": 48,
     "metadata": {},
     "output_type": "execute_result"
    }
   ],
   "source": [
    "ccl_obj = Circle(10)\n",
    "ccl_obj.set_color(\"Red\")\n",
    "ccl_obj.get_color()\n"
   ]
  },
  {
   "cell_type": "markdown",
   "id": "governmental-birthday",
   "metadata": {},
   "source": [
    "## Polymorphism\n",
    "### Simple English Meaning --- MANY FORMS (बहुरूपता)\n",
    "***\n",
    "\n",
    "### Types of Polymorphism in Programming\n",
    "- Method Overloading, i.e. same function with different number of parameters.\n",
    "    * add(a, b) and add(a, b, c).\n",
    "    * It is a compile time polymorphism\n",
    "    * PYTHON does not support Method Overloading Polymorphism\n",
    "<br></br>\n",
    "<p></p>\n",
    "- Method Overriding, i.e. same function being overridden in Inheritance Child Class\n",
    "    * Allowed in Python\n"
   ]
  },
  {
   "cell_type": "code",
   "execution_count": 58,
   "id": "perceived-press",
   "metadata": {},
   "outputs": [
    {
     "data": {
      "text/plain": [
       "5"
      ]
     },
     "execution_count": 58,
     "metadata": {},
     "output_type": "execute_result"
    }
   ],
   "source": [
    "def add(a,b):\n",
    "    return a + b\n",
    "\n",
    "add(2,3)"
   ]
  },
  {
   "cell_type": "code",
   "execution_count": 59,
   "id": "aquatic-honduras",
   "metadata": {},
   "outputs": [
    {
     "ename": "TypeError",
     "evalue": "add() missing 1 required positional argument: 'c'",
     "output_type": "error",
     "traceback": [
      "\u001b[1;31m---------------------------------------------------------------------------\u001b[0m",
      "\u001b[1;31mTypeError\u001b[0m                                 Traceback (most recent call last)",
      "\u001b[1;32m<ipython-input-59-dfb5b61b1317>\u001b[0m in \u001b[0;36m<module>\u001b[1;34m()\u001b[0m\n\u001b[0;32m      2\u001b[0m     \u001b[1;32mreturn\u001b[0m \u001b[0ma\u001b[0m \u001b[1;33m+\u001b[0m \u001b[0mb\u001b[0m \u001b[1;33m+\u001b[0m \u001b[0mc\u001b[0m\u001b[1;33m\u001b[0m\u001b[1;33m\u001b[0m\u001b[0m\n\u001b[0;32m      3\u001b[0m \u001b[1;33m\u001b[0m\u001b[0m\n\u001b[1;32m----> 4\u001b[1;33m \u001b[0madd\u001b[0m\u001b[1;33m(\u001b[0m\u001b[1;36m2\u001b[0m\u001b[1;33m,\u001b[0m\u001b[1;36m3\u001b[0m\u001b[1;33m)\u001b[0m\u001b[1;33m\u001b[0m\u001b[1;33m\u001b[0m\u001b[0m\n\u001b[0m",
      "\u001b[1;31mTypeError\u001b[0m: add() missing 1 required positional argument: 'c'"
     ]
    }
   ],
   "source": [
    "def add(a,b,c):\n",
    "    return a + b + c\n",
    "\n",
    "add(2,3)"
   ]
  },
  {
   "cell_type": "code",
   "execution_count": 60,
   "id": "popular-reader",
   "metadata": {},
   "outputs": [
    {
     "data": {
      "text/plain": [
       "4"
      ]
     },
     "execution_count": 60,
     "metadata": {},
     "output_type": "execute_result"
    }
   ],
   "source": [
    "int(4.5)"
   ]
  },
  {
   "cell_type": "code",
   "execution_count": 61,
   "id": "shaped-optimization",
   "metadata": {},
   "outputs": [
    {
     "ename": "ValueError",
     "evalue": "invalid literal for int() with base 10: '4.5'",
     "output_type": "error",
     "traceback": [
      "\u001b[1;31m---------------------------------------------------------------------------\u001b[0m",
      "\u001b[1;31mValueError\u001b[0m                                Traceback (most recent call last)",
      "\u001b[1;32m<ipython-input-61-8c9892f002ca>\u001b[0m in \u001b[0;36m<module>\u001b[1;34m()\u001b[0m\n\u001b[1;32m----> 1\u001b[1;33m \u001b[0mint\u001b[0m\u001b[1;33m(\u001b[0m\u001b[1;34m\"4.5\"\u001b[0m\u001b[1;33m)\u001b[0m\u001b[1;33m\u001b[0m\u001b[1;33m\u001b[0m\u001b[0m\n\u001b[0m",
      "\u001b[1;31mValueError\u001b[0m: invalid literal for int() with base 10: '4.5'"
     ]
    }
   ],
   "source": [
    "int(\"4.5\")"
   ]
  },
  {
   "cell_type": "markdown",
   "id": "504d20ba",
   "metadata": {},
   "source": [
    "## 6. Importance of Environment variables and Argparse"
   ]
  },
  {
   "cell_type": "markdown",
   "id": "included-minnesota",
   "metadata": {},
   "source": [
    "### What are Environment Variables\n",
    "- Environment Variables are Key - Value pairs that are declared as part of User's / System's Configuration. These variables can be accessed in your code\n",
    "- You may use environment variables to store sensitive information like API keys, passwords, or any other configuration details that you want to keep separate from your code. This can help enhance security and make it easier to manage configurations across different environments without hardcoding them directly into your code.\n"
   ]
  },
  {
   "cell_type": "markdown",
   "id": "6ae16ddc",
   "metadata": {},
   "source": [
    "### Setting Environment variables\n",
    "\n",
    "<b> You can set environment variables on your system or within your development environment.</b>\n"
   ]
  },
  {
   "cell_type": "markdown",
   "id": "86ed31b5",
   "metadata": {},
   "source": [
    "Configuring an environment variable at the system level offers the advantage of universality across various development environments. By setting variables at this level, they can be accessed and utilized consistently across multiple programming environments."
   ]
  },
  {
   "cell_type": "markdown",
   "id": "f810c20b",
   "metadata": {},
   "source": [
    "Adding enviroment variable at system level\n",
    "\n",
    "In  Unix/Linux/macOS: export variable_name=\"your_value\"\n",
    "\n",
    "In Windows search enviroment variable and view/add/edit variable. (you can set the same through cmd also.  using cmd : set variable_name=your_value)"
   ]
  },
  {
   "cell_type": "code",
   "execution_count": 63,
   "id": "892beef7",
   "metadata": {},
   "outputs": [
    {
     "data": {
      "text/plain": [
       "'Windows_NT'"
      ]
     },
     "execution_count": 63,
     "metadata": {},
     "output_type": "execute_result"
    }
   ],
   "source": [
    "# Using windows a default enviroment variable is TEMP path.\n",
    "import os \n",
    "os.environ.get('OS')"
   ]
  },
  {
   "cell_type": "markdown",
   "id": "7ef6039c",
   "metadata": {},
   "source": [
    "### Environment Variable for a particular development environment\n",
    "\n",
    "- we can set enviroment variable by creating '.env' file\n",
    "- open any notepad editor, copy paste some key=value pairs data points in the file and save it in the development directory using the name '.env' \n",
    "\n",
    "API_KEY=myapikey\n",
    "<p></p>\n",
    "IMDB_URL=https://www.imdb.com/chart/top/"
   ]
  },
  {
   "cell_type": "code",
   "execution_count": null,
   "id": "coupled-entity",
   "metadata": {},
   "outputs": [],
   "source": [
    "# conda install -c conda-forge python-dotenv"
   ]
  },
  {
   "cell_type": "code",
   "execution_count": 64,
   "id": "746bbf9c",
   "metadata": {},
   "outputs": [
    {
     "name": "stdout",
     "output_type": "stream",
     "text": [
      "API KEY loaded from .env file is myapikey\n",
      "A = 10\n"
     ]
    }
   ],
   "source": [
    "import os\n",
    "\n",
    "# to load .env file we need  use dotenv package\n",
    "from dotenv import load_dotenv\n",
    "load_dotenv()   # It will load the enviroment file \n",
    "\n",
    "API_KEY = os.environ.get('API_KEY')\n",
    "print(f\"API KEY loaded from .env file is {API_KEY}\" )  # It is for demonstration, do not print the confidential details in code\n",
    "A_VAL = os.environ.get('A')\n",
    "print(f\"A = {A_VAL}\" )"
   ]
  },
  {
   "cell_type": "markdown",
   "id": "relevant-single",
   "metadata": {},
   "source": [
    "## Argparse\n",
    "- argparse is the recommended command-line parsing module in the Python standard library.\n",
    "- Example of argparse is in the code file arg_parse_ex1.py"
   ]
  },
  {
   "cell_type": "code",
   "execution_count": null,
   "id": "liberal-colorado",
   "metadata": {},
   "outputs": [],
   "source": []
  },
  {
   "cell_type": "markdown",
   "id": "apparent-cisco",
   "metadata": {
    "tags": []
   },
   "source": [
    "# 4. Using Debug modes in IDE and importance of Debugging"
   ]
  },
  {
   "cell_type": "markdown",
   "id": "integral-terror",
   "metadata": {},
   "source": [
    "#### Debugging some key points\n",
    "##### in IDEs:\n",
    "Integrated Development Environments (IDEs) like Visual Studio Code, PyCharm, and others provide comprehensive debugging tools to help you step through your code and understand its behavior.\n",
    "\n",
    "<li> Setting Breakpoints: You can set breakpoints in your code, which pause the execution of your program when reached. This allows you to inspect variables and the program's state at that point.\n",
    "\n",
    "<li> Stepping Through Code: Once a breakpoint is hit, you can step through your code line by line, observing variable values and evaluating expressions.\n",
    "\n",
    "<li> Variable Inspection: Debuggers in IDEs allow you to inspect variable values, their types, and their contents while the program is paused.\n",
    "\n",
    "<li> Watches and Expressions: You can define custom expressions or watches to track specific variables and their values as you debug.\n",
    "\n",
    "<li> Call Stack: IDEs often display the call stack, showing the hierarchy of function calls leading to the current point in the code.\n",
    "\n",
    "<li> Conditional Breakpoints: You can set breakpoints that only trigger when specific conditions are met.\n",
    "\n",
    "##### Jupyter Notebook:\n",
    "<li> Jupyter Notebook offers built-in debugging capabilities through the use of magic commands and the %debug magic.\n",
    "\n",
    "<li> %debug Magic Command: When an exception occurs, running %debug in a Jupyter cell starts an interactive debugger, allowing you to explore the stack trace and examine variable values.\n",
    "\n",
    "<li> %pdb Magic Command: Enabling %pdb sets Jupyter Notebook to automatically start the debugger when an exception occurs.\n",
    "\n",
    "<li> Line Magic: You can use %pdb on and %pdb off line magics to enable and disable automatic debugging.\n",
    "\n",
    "<li> %%debug Cell Magic: When an exception occurs, running %%debug at the beginning of a cell allows you to debug the entire cell.\n",
    "\n",
    "Both IDEs and Jupyter Notebook provide features to control the execution flow, analyze variables, and diagnose errors. The choice between the two depends on your preferred coding environment and the nature of your project."
   ]
  },
  {
   "cell_type": "code",
   "execution_count": 29,
   "id": "congressional-machinery",
   "metadata": {},
   "outputs": [
    {
     "ename": "NameError",
     "evalue": "name 'z' is not defined",
     "output_type": "error",
     "traceback": [
      "\u001b[0;31m---------------------------------------------------------------------------\u001b[0m",
      "\u001b[0;31mNameError\u001b[0m                                 Traceback (most recent call last)",
      "Cell \u001b[0;32mIn[29], line 2\u001b[0m\n\u001b[1;32m      1\u001b[0m \u001b[38;5;66;03m# %%debug\u001b[39;00m\n\u001b[0;32m----> 2\u001b[0m \u001b[43mz\u001b[49m\n",
      "\u001b[0;31mNameError\u001b[0m: name 'z' is not defined"
     ]
    }
   ],
   "source": [
    "# %%debug\n",
    "z"
   ]
  },
  {
   "cell_type": "code",
   "execution_count": 30,
   "id": "original-heating",
   "metadata": {},
   "outputs": [
    {
     "name": "stdout",
     "output_type": "stream",
     "text": [
      "Automatic pdb calling has been turned OFF\n"
     ]
    }
   ],
   "source": [
    "%pdb off"
   ]
  },
  {
   "cell_type": "markdown",
   "id": "competent-instrumentation",
   "metadata": {
    "jp-MarkdownHeadingCollapsed": true,
    "tags": []
   },
   "source": [
    "# Thank You"
   ]
  },
  {
   "cell_type": "code",
   "execution_count": null,
   "id": "piano-synthetic",
   "metadata": {},
   "outputs": [],
   "source": []
  },
  {
   "cell_type": "code",
   "execution_count": null,
   "id": "historical-survivor",
   "metadata": {},
   "outputs": [],
   "source": []
  },
  {
   "cell_type": "code",
   "execution_count": null,
   "id": "cosmetic-allocation",
   "metadata": {},
   "outputs": [],
   "source": []
  },
  {
   "cell_type": "code",
   "execution_count": null,
   "id": "unauthorized-attention",
   "metadata": {},
   "outputs": [],
   "source": []
  },
  {
   "cell_type": "code",
   "execution_count": null,
   "id": "knowing-macintosh",
   "metadata": {},
   "outputs": [],
   "source": []
  },
  {
   "cell_type": "code",
   "execution_count": null,
   "id": "excellent-kitty",
   "metadata": {},
   "outputs": [],
   "source": []
  },
  {
   "cell_type": "code",
   "execution_count": null,
   "id": "synthetic-columbia",
   "metadata": {},
   "outputs": [],
   "source": []
  },
  {
   "cell_type": "code",
   "execution_count": null,
   "id": "polished-chemical",
   "metadata": {},
   "outputs": [],
   "source": []
  },
  {
   "cell_type": "code",
   "execution_count": null,
   "id": "suffering-brunei",
   "metadata": {},
   "outputs": [],
   "source": []
  },
  {
   "cell_type": "code",
   "execution_count": null,
   "id": "considerable-mandate",
   "metadata": {},
   "outputs": [],
   "source": []
  },
  {
   "cell_type": "code",
   "execution_count": null,
   "id": "distinguished-causing",
   "metadata": {},
   "outputs": [],
   "source": []
  },
  {
   "cell_type": "markdown",
   "id": "74c5df41",
   "metadata": {
    "jp-MarkdownHeadingCollapsed": true,
    "tags": []
   },
   "source": [
    "# GitHub for versioning:\n",
    "\n",
    "Create a GitHub Repository:\n",
    "If you don't already have a GitHub account, create one. Then, create a new repository on GitHub. This repository will serve as the central location for your code, and it's where you'll manage version control.\n",
    "\n",
    "Clone the Repository:\n",
    "Clone the GitHub repository to your local machine using git clone <repository_url>. This will create a local copy of your repository on your computer.\n",
    "\n",
    "Versioning Workflow:\n",
    "Start working on your code and make changes locally. Commit your changes regularly with descriptive commit messages using git commit -m \"Your commit message\".\n",
    "\n",
    "Push Changes:\n",
    "When you're ready to save your changes to the remote repository on GitHub, use git push origin <branch_name>. This sends your commits to the GitHub repository.\n",
    "\n",
    "Branches:\n",
    "Create branches for different features, bug fixes, or experiments. You can use git branch to list branches and git checkout <branch_name> to switch between them.\n",
    "\n",
    "Pull Requests:\n",
    "When you're ready to integrate your changes into the main codebase (usually the main or master branch), create a pull request (PR) on GitHub. Others can review your code, provide feedback, and approve the changes.\n",
    "\n",
    "Merging Pull Requests:\n",
    "Once a pull request is reviewed and approved, you can merge it into the main branch. This incorporates your changes into the main codebase.\n",
    "\n",
    "Releases and Tags:\n",
    "Use GitHub's release and tagging features to mark specific points in your project's history as significant releases. This allows you to track which version of your code is associated with each release.\n",
    "\n",
    "Collaboration:\n",
    "Collaborators can clone, push, and pull from the repository. They can also fork the repository to work on their own copies and submit pull requests for changes they want to contribute.\n",
    "\n",
    "Remember to regularly fetch changes from the remote repository using git pull to keep your local repository up-to-date with the latest changes."
   ]
  },
  {
   "cell_type": "code",
   "execution_count": null,
   "id": "2a502170",
   "metadata": {},
   "outputs": [],
   "source": []
  }
 ],
 "metadata": {
  "kernelspec": {
   "display_name": "Python 3 (ipykernel)",
   "language": "python",
   "name": "python3"
  },
  "language_info": {
   "codemirror_mode": {
    "name": "ipython",
    "version": 3
   },
   "file_extension": ".py",
   "mimetype": "text/x-python",
   "name": "python",
   "nbconvert_exporter": "python",
   "pygments_lexer": "ipython3",
   "version": "3.9.18"
  }
 },
 "nbformat": 4,
 "nbformat_minor": 5
}
