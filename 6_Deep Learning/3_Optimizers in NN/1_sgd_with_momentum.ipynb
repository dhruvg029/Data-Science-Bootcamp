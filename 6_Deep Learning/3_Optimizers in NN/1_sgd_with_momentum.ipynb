{
 "cells": [
  {
   "attachments": {},
   "cell_type": "markdown",
   "metadata": {},
   "source": [
    "# SGD with Momentum\n",
    "\n",
    "SGD with Momentum is one of the optimizers which is used to improve the performance of the neural network. \n",
    "\n",
    "Advantages of SGD with Momentum:\n",
    "- Momentum is faster than stochastic gradient descent the training will be faster than SGD.\n",
    "- Local minima can be an escape and reach global minima due to the momentum involved.\n",
    "\n",
    "For more information related to the mathematics behind the SGD with momentum, you can refer the article: [Stochastic Gradient Descent with momentum](https://towardsdatascience.com/stochastic-gradient-descent-with-momentum-a84097641a5d).\n",
    "\n",
    "## Import libraries"
   ]
  },
  {
   "cell_type": "code",
   "execution_count": 1,
   "metadata": {
    "colab": {},
    "colab_type": "code",
    "id": "-U6QxT9SKnIo"
   },
   "outputs": [
    {
     "name": "stdout",
     "output_type": "stream",
     "text": [
      "Version of pandas: 2.1.1\n",
      "Version of numpy: 1.26.1\n"
     ]
    }
   ],
   "source": [
    "# importing the required libraries\n",
    "import pandas as pd\n",
    "import numpy as np\n",
    "import sklearn\n",
    "\n",
    "from sklearn.model_selection import train_test_split\n",
    "from sklearn.metrics import accuracy_score\n",
    "\n",
    "import matplotlib.pyplot as plt\n",
    "%matplotlib inline\n",
    "\n",
    "import warnings\n",
    "warnings.filterwarnings('ignore')\n",
    "\n",
    "# check version on pandas\n",
    "print('Version of pandas:', pd.__version__)\n",
    "print('Version of numpy:', np.__version__)"
   ]
  },
  {
   "cell_type": "markdown",
   "metadata": {},
   "source": [
    "## Create the input and output data"
   ]
  },
  {
   "cell_type": "code",
   "execution_count": 3,
   "metadata": {
    "colab": {
     "base_uri": "https://localhost:8080/",
     "height": 156
    },
    "colab_type": "code",
    "id": "Q_tNkgt4Ks97",
    "outputId": "e985a9fd-9bad-4c69-8ac7-a3310666e6c9"
   },
   "outputs": [
    {
     "name": "stdout",
     "output_type": "stream",
     "text": [
      "Input:\n",
      " [[1 1 0]\n",
      " [0 0 1]\n",
      " [1 1 0]\n",
      " [0 1 1]]\n",
      "Shape: (4, 3)\n"
     ]
    }
   ],
   "source": [
    "# creating the input array\n",
    "X = np.array([[1, 0, 1, 0], [1, 0, 1, 1], [0, 1, 0, 1]])\n",
    "\n",
    "# converting the input in matrix form\n",
    "X = X.T\n",
    "print('Input:\\n', X)\n",
    "\n",
    "# shape of input array\n",
    "print('Shape:', X.shape)"
   ]
  },
  {
   "cell_type": "code",
   "execution_count": 4,
   "metadata": {
    "colab": {
     "base_uri": "https://localhost:8080/",
     "height": 104
    },
    "colab_type": "code",
    "id": "6Aq3qt5-Ku8P",
    "outputId": "ec188c64-0ec3-48ad-f9bf-2f61f5510553"
   },
   "outputs": [
    {
     "name": "stdout",
     "output_type": "stream",
     "text": [
      "Actual output:\n",
      " [[1 1 0]]\n",
      "Shape: (1, 3)\n"
     ]
    }
   ],
   "source": [
    "# creating the output array\n",
    "y = np.array([[1], [1], [0]])\n",
    "\n",
    "# output in matrix form\n",
    "y = y.T\n",
    "\n",
    "print('Actual output:\\n', y)\n",
    "\n",
    "# shape of output array\n",
    "print('Shape:', y.shape)"
   ]
  },
  {
   "cell_type": "code",
   "execution_count": 5,
   "metadata": {
    "colab": {},
    "colab_type": "code",
    "id": "yxWmLt_xKwTv"
   },
   "outputs": [],
   "source": [
    "# defining the Sigmoid Function\n",
    "def sigmoid (x):\n",
    "    return 1/(1 + np.exp(-x))\n",
    "\n",
    "# defining the hyperparameters of the model\n",
    "lr = 0.01 # learning rate\n",
    "inputlayer_neurons = X.shape[0] # number of features in data set\n",
    "hiddenlayer_neurons = 3 # number of hidden layers neurons\n",
    "output_neurons = 1 # number of neurons at output layer\n",
    "epochs = 10000 # number of epochs\n",
    "\n",
    "# initializing weight\n",
    "w_ih = np.random.uniform(size=(inputlayer_neurons, hiddenlayer_neurons))\n",
    "w_ho = np.random.uniform(size=(hiddenlayer_neurons, output_neurons))\n",
    "\n",
    "# defining the momentum parameters\n",
    "beta = 0.9\n",
    "v_ho = 0\n",
    "v_ih = 0"
   ]
  },
  {
   "cell_type": "code",
   "execution_count": 7,
   "metadata": {
    "colab": {},
    "colab_type": "code",
    "id": "pYnsl_1CK7aj"
   },
   "outputs": [
    {
     "name": "stdout",
     "output_type": "stream",
     "text": [
      "[0.10660621355021406, 0.10660502486793666, 0.10660276651073974, 0.10659954569949943, 0.10659545902534441, 0.10659059349479467, 0.10658502747370187, 0.10657883153948987, 0.10657206925036407, 0.10656479783938394]\n"
     ]
    }
   ],
   "source": [
    "error_momentum = []\n",
    "\n",
    "for i in range(epochs):\n",
    "    \n",
    "    # Forward Propogation    \n",
    "    # hidden layer activations\n",
    "    hidden_layer_input = np.dot(w_ih.T, X)\n",
    "    hiddenlayer_activations = sigmoid(hidden_layer_input)\n",
    "    \n",
    "    # calculating the output\n",
    "    output_layer_input = np.dot(w_ho.T, hiddenlayer_activations)\n",
    "    output = sigmoid(output_layer_input)\n",
    "    \n",
    "    # Backward Propagation\n",
    "    # calculating error\n",
    "    error = np.square(y - output)/2\n",
    "    error_wrt_output = -(y-output)\n",
    "    output_wrt_Z2 = np.multiply(output,(1 - output))\n",
    "    Z2_wrt_who = hiddenlayer_activations\n",
    "    \n",
    "    # rate of change of error w.r.t weight between output and hidden layer\n",
    "    error_wrt_who = np.dot(Z2_wrt_who,(error_wrt_output * output_wrt_Z2).T)\n",
    "    Z2_wrt_h1 = w_ho\n",
    "    h1_wrt_Z1 = np.multiply(hiddenlayer_activations,(1-hiddenlayer_activations))\n",
    "    Z1_wrt_wih = X\n",
    "    \n",
    "    # rate of change of error w.r.t weights between input and hidden layer\n",
    "    error_wrt_wih = np.dot(Z1_wrt_wih,(h1_wrt_Z1 * np.dot(Z2_wrt_h1, (error_wrt_output * output_wrt_Z2))).T)\n",
    "\n",
    "    # weighted gradient\n",
    "    v_ho = beta * v_ho + (1 - beta)*error_wrt_who\n",
    "    w_ho = w_ho - lr * v_ho\n",
    "    v_ih = beta * v_ih + (1 - beta)*error_wrt_wih\n",
    "    w_ih = w_ih - lr * v_ih\n",
    "    \n",
    "    # appending the error of each epoch\n",
    "    error_momentum.append(np.average(error))\n",
    "\n",
    "print(error_momentum[:10])"
   ]
  },
  {
   "cell_type": "markdown",
   "metadata": {},
   "source": [
    "## Plot the graph"
   ]
  },
  {
   "cell_type": "code",
   "execution_count": 8,
   "metadata": {
    "colab": {
     "base_uri": "https://localhost:8080/",
     "height": 282
    },
    "colab_type": "code",
    "id": "iP7QX42ZK9Ko",
    "outputId": "209a1fd4-15c4-459e-fd27-6fa1eb447bd3"
   },
   "outputs": [
    {
     "data": {
      "text/plain": [
       "[<matplotlib.lines.Line2D at 0x22832cfb440>]"
      ]
     },
     "execution_count": 8,
     "metadata": {},
     "output_type": "execute_result"
    },
    {
     "data": {
      "image/png": "[encoded data removed]",
      "text/plain": [
       "<Figure size 640x480 with 1 Axes>"
      ]
     },
     "metadata": {},
     "output_type": "display_data"
    }
   ],
   "source": [
    "# visualizing the error after each epoch\n",
    "plt.plot(np.arange(1, epochs + 1), np.array(error_momentum))"
   ]
  }
 ],
 "metadata": {
  "colab": {
   "collapsed_sections": [],
   "name": "SGD with Momentum from scratch.ipynb",
   "provenance": []
  },
  "kernelspec": {
   "display_name": "Python 3 (ipykernel)",
   "language": "python",
   "name": "python3"
  },
  "language_info": {
   "codemirror_mode": {
    "name": "ipython",
    "version": 3
   },
   "file_extension": ".py",
   "mimetype": "text/x-python",
   "name": "python",
   "nbconvert_exporter": "python",
   "pygments_lexer": "ipython3",
   "version": "3.12.2"
  }
 },
 "nbformat": 4,
 "nbformat_minor": 4
}
