{
 "cells": [
  {
   "attachments": {},
   "cell_type": "markdown",
   "metadata": {},
   "source": [
    "# RMSProp\n",
    "\n",
    "RMSProp, which stands for Root Mean Square Propagation, is an adaptive learning rate optimization algorithm designed to address some of the issues encountered with the stochastic gradient descent (SGD) method in training deep neural networks. Advantages of RMSProp: \n",
    "- **Adaptive Learning Rates:** By adjusting the learning rate for each parameter, RMSProp can handle different scales of data and varying curvatures of loss functions.\n",
    "- **Convergence Speed:** RMSProp can converge faster than SGD with momentum, especially in scenarios with noisy or sparse gradients.\n",
    "- **Stability:** The method avoids the diminishing learning rates found in Adagrad, which can stall the training process in the later stages.\n",
    "\n",
    "For more information related to the mathematics behind the RMSProp optimizer, you can refer the article: [Understanding RMSprop — faster neural network learning](https://towardsdatascience.com/understanding-rmsprop-faster-neural-network-learning-62e116fcf29a).\n",
    "\n",
    "## Import libraries"
   ]
  },
  {
   "cell_type": "code",
   "execution_count": 1,
   "metadata": {
    "colab": {},
    "colab_type": "code",
    "id": "7coMe-xWmEEs"
   },
   "outputs": [
    {
     "name": "stdout",
     "output_type": "stream",
     "text": [
      "Version of pandas: 2.1.1\n",
      "Version of numpy: 1.26.1\n"
     ]
    }
   ],
   "source": [
    "# importing the required libraries\n",
    "import pandas as pd\n",
    "import numpy as np\n",
    "import sklearn\n",
    "\n",
    "from sklearn.model_selection import train_test_split\n",
    "from sklearn.metrics import accuracy_score\n",
    "\n",
    "import matplotlib.pyplot as plt\n",
    "%matplotlib inline\n",
    "\n",
    "import warnings\n",
    "warnings.filterwarnings('ignore')\n",
    "\n",
    "# check version on pandas\n",
    "print('Version of pandas:', pd.__version__)\n",
    "print('Version of numpy:', np.__version__)"
   ]
  },
  {
   "cell_type": "markdown",
   "metadata": {},
   "source": [
    "## Create the input and output data"
   ]
  },
  {
   "cell_type": "code",
   "execution_count": 2,
   "metadata": {
    "colab": {
     "base_uri": "https://localhost:8080/",
     "height": 156
    },
    "colab_type": "code",
    "id": "Nabp4pM1mIjE",
    "outputId": "aca109c2-8a7f-465e-d485-39a66ac72fd7"
   },
   "outputs": [
    {
     "name": "stdout",
     "output_type": "stream",
     "text": [
      "Input:\n",
      " [[1 1 0]\n",
      " [0 0 1]\n",
      " [1 1 0]\n",
      " [0 1 1]]\n",
      "Shape: (4, 3)\n"
     ]
    }
   ],
   "source": [
    "# creating the input array\n",
    "X = np.array([[1, 0, 1, 0], [1, 0, 1, 1], [0, 1, 0, 1]])\n",
    "\n",
    "# converting the input in matrix form\n",
    "X = X.T\n",
    "print('Input:\\n', X)\n",
    "\n",
    "# shape of input array\n",
    "print('Shape:', X.shape)"
   ]
  },
  {
   "cell_type": "code",
   "execution_count": 3,
   "metadata": {
    "colab": {
     "base_uri": "https://localhost:8080/",
     "height": 104
    },
    "colab_type": "code",
    "id": "xQSUtg9-mKR8",
    "outputId": "4de4032f-59aa-4223-e0fb-9e0fc65c59d6"
   },
   "outputs": [
    {
     "name": "stdout",
     "output_type": "stream",
     "text": [
      "Actual output:\n",
      " [[1 1 0]]\n",
      "Shape: (1, 3)\n"
     ]
    }
   ],
   "source": [
    "# creating the output array\n",
    "y = np.array([[1], [1], [0]])\n",
    "\n",
    "# output in matrix form\n",
    "y = y.T\n",
    "\n",
    "print('Actual output:\\n', y)\n",
    "\n",
    "# shape of output array\n",
    "print('Shape:', y.shape)"
   ]
  },
  {
   "cell_type": "code",
   "execution_count": 6,
   "metadata": {
    "colab": {},
    "colab_type": "code",
    "id": "G8bCOB1WmLqS"
   },
   "outputs": [],
   "source": [
    "# defining the Sigmoid Function\n",
    "def sigmoid (x):\n",
    "    return 1/(1 + np.exp(-x))\n",
    "\n",
    "# defining the hyperparameters of the model\n",
    "lr = 0.01 # learning rate\n",
    "inputlayer_neurons = X.shape[0] # number of features in data set\n",
    "hiddenlayer_neurons = 3 # number of hidden layers neurons\n",
    "output_neurons = 1 # number of neurons at output layer\n",
    "epochs = 10000 # number of epochs\n",
    "\n",
    "# initializing weight\n",
    "w_ih = np.random.uniform(size=(inputlayer_neurons, hiddenlayer_neurons))\n",
    "w_ho = np.random.uniform(size=(hiddenlayer_neurons, output_neurons))\n",
    "\n",
    "# defining the RMSProp parameters\n",
    "beta = 0.9\n",
    "u_ih = 0\n",
    "u_ho = 0\n",
    "\n",
    "lr_hidden = []\n",
    "lr_output = []"
   ]
  },
  {
   "cell_type": "code",
   "execution_count": 7,
   "metadata": {
    "colab": {},
    "colab_type": "code",
    "id": "Ljz7IMK9mPn2"
   },
   "outputs": [
    {
     "name": "stdout",
     "output_type": "stream",
     "text": [
      "[0.11135538335132063, 0.1101272730918615, 0.10927532453890183, 0.10858612603719542, 0.10799242433125229, 0.10746307160650857, 0.10698069996921027, 0.10653447595159271, 0.10611710749635893, 0.10572340487228608]\n"
     ]
    }
   ],
   "source": [
    "error_rmsprop = []\n",
    "\n",
    "for i in range(epochs):\n",
    "    \n",
    "    # Forward Propogation\n",
    "    # hidden layer activations\n",
    "    hidden_layer_input = np.dot(w_ih.T,X)\n",
    "    hiddenlayer_activations = sigmoid(hidden_layer_input)    \n",
    "    \n",
    "    # calculating the output\n",
    "    output_layer_input = np.dot(w_ho.T, hiddenlayer_activations)\n",
    "    output = sigmoid(output_layer_input)\n",
    "    \n",
    "    # Backward Propagation\n",
    "    # calculating error\n",
    "    error = np.square(y - output)/2\n",
    "    error_wrt_output = -(y - output)\n",
    "    output_wrt_Z2 = np.multiply(output, (1-output))\n",
    "    Z2_wrt_who = hiddenlayer_activations\n",
    "    \n",
    "    # rate of change of error w.r.t weight between output and hidden layer\n",
    "    error_wrt_who = np.dot(Z2_wrt_who,(error_wrt_output*output_wrt_Z2).T)\n",
    "    Z2_wrt_h1 = w_ho\n",
    "    h1_wrt_Z1 = np.multiply(hiddenlayer_activations,(1-hiddenlayer_activations))\n",
    "    Z1_wrt_wih = X\n",
    "    \n",
    "    # rate of change of error w.r.t weights between input and hidden layer\n",
    "    error_wrt_wih = np.dot(Z1_wrt_wih,(h1_wrt_Z1 * np.dot(Z2_wrt_h1, (error_wrt_output * output_wrt_Z2))).T)\n",
    "    \n",
    "    # weighted squared gradients\n",
    "    u_ih = beta * u_ih + (1-beta) * np.square(error_wrt_wih)\n",
    "    u_ho = beta * u_ho + (1-beta) * np.square(error_wrt_who)\n",
    "    \n",
    "    # new learning rates\n",
    "    new_lr_o = lr / np.sqrt(u_ho.sum())\n",
    "    new_lr_h = lr / np.sqrt(u_ih.sum())\n",
    "\n",
    "    # updating the parameters\n",
    "    w_ho = w_ho - new_lr_o * error_wrt_who\n",
    "    w_ih = w_ih - new_lr_h * error_wrt_wih\n",
    "    \n",
    "    lr_hidden.append(new_lr_h)\n",
    "    lr_output.append(new_lr_o)\n",
    "    error_rmsprop.append(np.average(error))\n",
    "\n",
    "print(error_rmsprop[:10])"
   ]
  },
  {
   "cell_type": "code",
   "execution_count": 9,
   "metadata": {
    "colab": {
     "base_uri": "https://localhost:8080/",
     "height": 282
    },
    "colab_type": "code",
    "id": "LOtyru1emSF3",
    "outputId": "317f2d47-1905-4e15-b8ee-8050c799b80d"
   },
   "outputs": [
    {
     "data": {
      "text/plain": [
       "[<matplotlib.lines.Line2D at 0x1f4dd084890>]"
      ]
     },
     "execution_count": 9,
     "metadata": {},
     "output_type": "execute_result"
    },
    {
     "data": {
      "image/png": "[encoded data removed]",
      "text/plain": [
       "<Figure size 640x480 with 1 Axes>"
      ]
     },
     "metadata": {},
     "output_type": "display_data"
    }
   ],
   "source": [
    "# Visualizing the error after each epoch\n",
    "plt.plot(np.arange(1,epochs + 1), np.array(error_rmsprop))"
   ]
  },
  {
   "cell_type": "code",
   "execution_count": 10,
   "metadata": {
    "colab": {
     "base_uri": "https://localhost:8080/",
     "height": 286
    },
    "colab_type": "code",
    "id": "A8kCZNsCmt4P",
    "outputId": "5b444fca-7b9d-49a8-af3f-a62e5263e97d"
   },
   "outputs": [
    {
     "data": {
      "text/plain": [
       "[<matplotlib.lines.Line2D at 0x1f4dd094860>]"
      ]
     },
     "execution_count": 10,
     "metadata": {},
     "output_type": "execute_result"
    },
    {
     "data": {
      "image/png": "[encoded data removed]",
      "text/plain": [
       "<Figure size 640x480 with 1 Axes>"
      ]
     },
     "metadata": {},
     "output_type": "display_data"
    }
   ],
   "source": [
    "# learning rate after each epochs\n",
    "plt.plot(np.arange(1,epochs+1), np.array(lr_hidden))"
   ]
  },
  {
   "cell_type": "code",
   "execution_count": 11,
   "metadata": {
    "colab": {
     "base_uri": "https://localhost:8080/",
     "height": 282
    },
    "colab_type": "code",
    "id": "8Sl7IPQpm0sa",
    "outputId": "c48698af-e0ed-4897-ae59-4c57826fb8b4"
   },
   "outputs": [
    {
     "data": {
      "text/plain": [
       "[<matplotlib.lines.Line2D at 0x1f4dd133d40>]"
      ]
     },
     "execution_count": 11,
     "metadata": {},
     "output_type": "execute_result"
    },
    {
     "data": {
      "image/png": "[encoded data removed]",
      "text/plain": [
       "<Figure size 640x480 with 1 Axes>"
      ]
     },
     "metadata": {},
     "output_type": "display_data"
    }
   ],
   "source": [
    "plt.plot(np.arange(1,epochs+1), np.array(lr_output))"
   ]
  }
 ],
 "metadata": {
  "colab": {
   "collapsed_sections": [],
   "name": "RMSProp from scratch.ipynb",
   "provenance": []
  },
  "kernelspec": {
   "display_name": "Python 3 (ipykernel)",
   "language": "python",
   "name": "python3"
  },
  "language_info": {
   "codemirror_mode": {
    "name": "ipython",
    "version": 3
   },
   "file_extension": ".py",
   "mimetype": "text/x-python",
   "name": "python",
   "nbconvert_exporter": "python",
   "pygments_lexer": "ipython3",
   "version": "3.12.2"
  }
 },
 "nbformat": 4,
 "nbformat_minor": 4
}
