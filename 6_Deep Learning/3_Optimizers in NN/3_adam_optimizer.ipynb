{
 "cells": [
  {
   "cell_type": "markdown",
   "metadata": {},
   "source": [
    "# Adam\n",
    "\n",
    "Adam can be looked at as a combination of RMSprop and Stochastic Gradient Descent with momentum. It uses the squared gradients to scale the learning rate like RMSprop and it takes advantage of momentum by using moving average of the gradient instead of gradient itself like SGD with momentum. Some key advantages of Adam optimization include the following:\n",
    "- **Faster convergence:** By adapting the learning rate during training, Adam converges much more quickly than SGD.\n",
    "- **Easy to implement:** Only requiring first-order gradients, Adam is straightforward to implement and combine with deep neural networks.\n",
    "- **Robust algorithm:** Adam performs well across various model architectures.\n",
    "- **Little memory requirements:** Adam requires storing just the first and second moments of the gradients, keeping memory needs low.\n",
    "- **Wide community adoption:** Adam is used extensively by deep learning practitioners and has become a default, go-to optimizer.\n",
    "\n",
    "For more information related to the mathematics behind the Adam optimizer, you can refer the article: [Adam — latest trends in deep learning optimization](https://towardsdatascience.com/the-math-behind-adam-optimizer-c41407efe59b).\n",
    "\n",
    "## Import libraries"
   ]
  },
  {
   "cell_type": "code",
   "execution_count": 1,
   "metadata": {
    "colab": {},
    "colab_type": "code",
    "id": "livgDl2UpTO9"
   },
   "outputs": [
    {
     "name": "stdout",
     "output_type": "stream",
     "text": [
      "Version of pandas: 2.1.1\n",
      "Version of numpy: 1.26.1\n"
     ]
    }
   ],
   "source": [
    "# importing the required libraries\n",
    "import pandas as pd\n",
    "import numpy as np\n",
    "import sklearn\n",
    "\n",
    "from sklearn.model_selection import train_test_split\n",
    "from sklearn.metrics import accuracy_score\n",
    "\n",
    "import matplotlib.pyplot as plt\n",
    "%matplotlib inline\n",
    "\n",
    "import warnings\n",
    "warnings.filterwarnings('ignore')\n",
    "\n",
    "# check version on pandas\n",
    "print('Version of pandas:', pd.__version__)\n",
    "print('Version of numpy:', np.__version__)"
   ]
  },
  {
   "cell_type": "code",
   "execution_count": 2,
   "metadata": {
    "colab": {
     "base_uri": "https://localhost:8080/",
     "height": 156
    },
    "colab_type": "code",
    "id": "b5DI7_tvpZD1",
    "outputId": "505f9d50-332c-4a80-fae3-3c0ee0d67f9f"
   },
   "outputs": [
    {
     "name": "stdout",
     "output_type": "stream",
     "text": [
      "Input:\n",
      " [[1 1 0]\n",
      " [0 0 1]\n",
      " [1 1 0]\n",
      " [0 1 1]]\n",
      "Shape: (4, 3)\n"
     ]
    }
   ],
   "source": [
    "# creating the input array\n",
    "X = np.array([[1, 0, 1, 0], [1, 0, 1, 1], [0, 1, 0, 1]])\n",
    "\n",
    "# converting the input in matrix form\n",
    "X = X.T\n",
    "print('Input:\\n', X)\n",
    "\n",
    "# shape of input array\n",
    "print('Shape:', X.shape)"
   ]
  },
  {
   "cell_type": "code",
   "execution_count": 3,
   "metadata": {
    "colab": {
     "base_uri": "https://localhost:8080/",
     "height": 104
    },
    "colab_type": "code",
    "id": "YlYVoFXHpaGi",
    "outputId": "7dddec44-5c57-46dc-f98a-b1780c1258ee"
   },
   "outputs": [
    {
     "name": "stdout",
     "output_type": "stream",
     "text": [
      "Actual output:\n",
      " [[1 1 0]]\n",
      "Shape: (1, 3)\n"
     ]
    }
   ],
   "source": [
    "# creating the output array\n",
    "y = np.array([[1], [1], [0]])\n",
    "\n",
    "# output in matrix form\n",
    "y = y.T\n",
    "\n",
    "print('Actual output:\\n', y)\n",
    "\n",
    "# shape of output array\n",
    "print('Shape:', y.shape)"
   ]
  },
  {
   "cell_type": "code",
   "execution_count": 4,
   "metadata": {
    "colab": {},
    "colab_type": "code",
    "id": "Vu-Y8bMUpbPt"
   },
   "outputs": [],
   "source": [
    "# defining the Sigmoid Function\n",
    "def sigmoid (x):\n",
    "    return 1/(1 + np.exp(-x))\n",
    "\n",
    "# defining the hyperparameters of the model\n",
    "lr = 0.01 # learning rate\n",
    "inputlayer_neurons = X.shape[0] # number of features in data set\n",
    "hiddenlayer_neurons = 3 # number of hidden layers neurons\n",
    "output_neurons = 1 # number of neurons at output layer\n",
    "epochs = 10000 # number of epochs\n",
    "\n",
    "# initializing weight\n",
    "w_ih = np.random.uniform(size=(inputlayer_neurons, hiddenlayer_neurons))\n",
    "w_ho = np.random.uniform(size=(hiddenlayer_neurons, output_neurons))\n",
    "\n",
    "# parameters for Adam\n",
    "beta_1 = 0.9\n",
    "beta_2 = 0.9\n",
    "u_ih = 0\n",
    "u_ho = 0\n",
    "v_ih = 0\n",
    "v_ho = 0"
   ]
  },
  {
   "cell_type": "code",
   "execution_count": 5,
   "metadata": {
    "colab": {},
    "colab_type": "code",
    "id": "-x0rQv8hphCD"
   },
   "outputs": [
    {
     "name": "stdout",
     "output_type": "stream",
     "text": [
      "[0.11643771541734908, 0.11631161064106434, 0.11613826731397718, 0.11593199328591249, 0.11570062835698088, 0.11544940780021408, 0.11518218057770498, 0.11490194256502599, 0.11461111518222333, 0.11431170853395378]\n"
     ]
    }
   ],
   "source": [
    "error_adam = []\n",
    "\n",
    "for i in range(epochs):\n",
    "    \n",
    "    # Forward Propogation\n",
    "    # hidden layer activations\n",
    "    hidden_layer_input = np.dot(w_ih.T,X)\n",
    "    hiddenlayer_activations = sigmoid(hidden_layer_input)  \n",
    "    \n",
    "    # calculating the output\n",
    "    output_layer_input = np.dot(w_ho.T, hiddenlayer_activations)\n",
    "    output = sigmoid(output_layer_input)\n",
    "    \n",
    "    # Backward Propagation\n",
    "    # calculating error\n",
    "    error = np.square(y - output)/2\n",
    "    error_wrt_output = -(y - output)\n",
    "    \n",
    "    output_wrt_Z2 = np.multiply(output,(1-output))\n",
    "    Z2_wrt_who = hiddenlayer_activations\n",
    "    \n",
    "    # rate of change of error w.r.t weight between output and hidden layer\n",
    "    error_wrt_who = np.dot(Z2_wrt_who, (error_wrt_output * output_wrt_Z2).T)\n",
    "    \n",
    "    Z2_wrt_h1 = w_ho\n",
    "    h1_wrt_Z1 = np.multiply(hiddenlayer_activations,(1-hiddenlayer_activations))\n",
    "    Z1_wrt_wih = X\n",
    "    \n",
    "    # rate of change of error w.r.t weights between input and hidden layer\n",
    "    error_wrt_wih = np.dot(Z1_wrt_wih,(h1_wrt_Z1 * np.dot(Z2_wrt_h1, (error_wrt_output * output_wrt_Z2))).T)\n",
    "    \n",
    "    # weighted squared gradients\n",
    "    u_ho = beta_1 * u_ho + (1-beta_1) * np.square(error_wrt_who)\n",
    "    u_ih = beta_1 * u_ih + (1-beta_1) * np.square(error_wrt_wih)\n",
    "    \n",
    "    # weighted gradients\n",
    "    v_ho = beta_2 * v_ho + (1-beta_2)*error_wrt_who\n",
    "    v_ih = beta_2 * v_ih + (1-beta_2)*error_wrt_wih\n",
    "    \n",
    "    # updating the learning rate\n",
    "    new_lr_o = lr / np.sqrt(u_ho.sum())\n",
    "    new_lr_h = lr / np.sqrt(u_ih.sum())\n",
    "\n",
    "    # updating the weights\n",
    "    w_ho = w_ho - new_lr_o * v_ho\n",
    "    w_ih = w_ih - new_lr_h * v_ih\n",
    "    error_adam.append(np.average(error))\n",
    "\n",
    "print(error_adam[:10])"
   ]
  },
  {
   "cell_type": "code",
   "execution_count": 6,
   "metadata": {
    "colab": {
     "base_uri": "https://localhost:8080/",
     "height": 284
    },
    "colab_type": "code",
    "id": "aprbf3G9piYz",
    "outputId": "b8dd39fa-238c-4d6f-be12-5a6ff44443a0"
   },
   "outputs": [
    {
     "data": {
      "text/plain": [
       "[<matplotlib.lines.Line2D at 0x1fb871f9280>]"
      ]
     },
     "execution_count": 6,
     "metadata": {},
     "output_type": "execute_result"
    },
    {
     "data": {
      "image/png": "[encoded data removed]",
      "text/plain": [
       "<Figure size 640x480 with 1 Axes>"
      ]
     },
     "metadata": {},
     "output_type": "display_data"
    }
   ],
   "source": [
    "# visualizing the error after each epoch\n",
    "plt.plot(np.arange(1,epochs+1), np.array(error_adam))"
   ]
  }
 ],
 "metadata": {
  "colab": {
   "collapsed_sections": [],
   "name": "Adam from scratch.ipynb",
   "provenance": []
  },
  "kernelspec": {
   "display_name": "Python 3 (ipykernel)",
   "language": "python",
   "name": "python3"
  },
  "language_info": {
   "codemirror_mode": {
    "name": "ipython",
    "version": 3
   },
   "file_extension": ".py",
   "mimetype": "text/x-python",
   "name": "python",
   "nbconvert_exporter": "python",
   "pygments_lexer": "ipython3",
   "version": "3.12.2"
  }
 },
 "nbformat": 4,
 "nbformat_minor": 4
}
