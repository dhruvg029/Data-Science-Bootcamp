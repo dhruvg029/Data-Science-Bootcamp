{
 "cells": [
  {
   "cell_type": "markdown",
   "id": "32ee0f0c-31cb-4f51-ba35-4f55683377db",
   "metadata": {},
   "source": [
    "# Introduction to Pytorch\n",
    "\n",
    "PyTorch is a Python-based scientific computing package serving two broad purposes:\n",
    "- A replacement for NumPy to use the power of GPUs and other accelerators.\n",
    "- An automatic differentiation library that is useful to implement neural networks.\n",
    "\n",
    "## Installing and importing pytorch\n",
    "\n",
    "Use **`!pip install torch`** to install pytorch on your system."
   ]
  },
  {
   "cell_type": "code",
   "execution_count": 2,
   "id": "bb902b8a-b8be-4a58-8b56-5f4fcef35ef7",
   "metadata": {},
   "outputs": [
    {
     "name": "stdout",
     "output_type": "stream",
     "text": [
      "Requirement already satisfied: torch in c:\\users\\dhruv\\appdata\\local\\programs\\python\\python312\\lib\\site-packages (2.3.1)\n",
      "Requirement already satisfied: filelock in c:\\users\\dhruv\\appdata\\local\\programs\\python\\python312\\lib\\site-packages (from torch) (3.15.4)\n",
      "Requirement already satisfied: typing-extensions>=4.8.0 in c:\\users\\dhruv\\appdata\\local\\programs\\python\\python312\\lib\\site-packages (from torch) (4.12.2)\n",
      "Requirement already satisfied: sympy in c:\\users\\dhruv\\appdata\\local\\programs\\python\\python312\\lib\\site-packages (from torch) (1.13.0)\n",
      "Requirement already satisfied: networkx in c:\\users\\dhruv\\appdata\\local\\programs\\python\\python312\\lib\\site-packages (from torch) (3.3)\n",
      "Requirement already satisfied: jinja2 in c:\\users\\dhruv\\appdata\\local\\programs\\python\\python312\\lib\\site-packages (from torch) (3.1.4)\n",
      "Requirement already satisfied: fsspec in c:\\users\\dhruv\\appdata\\local\\programs\\python\\python312\\lib\\site-packages (from torch) (2024.6.1)\n",
      "Requirement already satisfied: mkl<=2021.4.0,>=2021.1.1 in c:\\users\\dhruv\\appdata\\local\\programs\\python\\python312\\lib\\site-packages (from torch) (2021.4.0)\n",
      "Requirement already satisfied: intel-openmp==2021.* in c:\\users\\dhruv\\appdata\\local\\programs\\python\\python312\\lib\\site-packages (from mkl<=2021.4.0,>=2021.1.1->torch) (2021.4.0)\n",
      "Requirement already satisfied: tbb==2021.* in c:\\users\\dhruv\\appdata\\local\\programs\\python\\python312\\lib\\site-packages (from mkl<=2021.4.0,>=2021.1.1->torch) (2021.13.0)\n",
      "Requirement already satisfied: MarkupSafe>=2.0 in c:\\users\\dhruv\\appdata\\local\\programs\\python\\python312\\lib\\site-packages (from jinja2->torch) (2.1.5)\n",
      "Requirement already satisfied: mpmath<1.4,>=1.1.0 in c:\\users\\dhruv\\appdata\\local\\programs\\python\\python312\\lib\\site-packages (from sympy->torch) (1.3.0)\n"
     ]
    }
   ],
   "source": [
    "# Install pytorch\n",
    "!pip install torch"
   ]
  },
  {
   "cell_type": "code",
   "execution_count": 2,
   "id": "208d9fc6-adbb-41ff-9cad-6b941e8e3688",
   "metadata": {},
   "outputs": [],
   "source": [
    "# Import pytorch and numpy\n",
    "import torch\n",
    "import numpy as np"
   ]
  },
  {
   "cell_type": "markdown",
   "id": "0e1b0669-1324-40fa-b590-c6e7c82981f1",
   "metadata": {},
   "source": [
    "## Basics of pytorch\n",
    "\n",
    "### Tensors\n",
    "Tensors are a specialized data structure that are very similar to arrays and matrices. In PyTorch, we use tensors to encode the inputs and outputs of a model, as well as the model’s parameters. Tensors are similar to NumPy’s ndarrays, except that tensors can run on GPUs or other hardware accelerators. "
   ]
  },
  {
   "cell_type": "code",
   "execution_count": 3,
   "id": "76513144-af71-49c7-8039-c177eaed2e5b",
   "metadata": {},
   "outputs": [
    {
     "name": "stdout",
     "output_type": "stream",
     "text": [
      "tensor([[1, 2],\n",
      "        [3, 4]])\n"
     ]
    }
   ],
   "source": [
    "# Example of a tensor\n",
    "data = [[1, 2], [3, 4]]\n",
    "\n",
    "x_data = torch.tensor(data)\n",
    "print(x_data)"
   ]
  },
  {
   "cell_type": "code",
   "execution_count": 4,
   "id": "03f9ac72-9184-4cc1-a800-2cd622b53517",
   "metadata": {},
   "outputs": [
    {
     "name": "stdout",
     "output_type": "stream",
     "text": [
      "tensor([[1, 2],\n",
      "        [3, 4]], dtype=torch.int32)\n"
     ]
    }
   ],
   "source": [
    "# Converting a tensor from numpy array\n",
    "np_array = np.array(data)\n",
    "x_np = torch.from_numpy(np_array)\n",
    "\n",
    "print(x_np)"
   ]
  },
  {
   "cell_type": "code",
   "execution_count": 5,
   "id": "0550f23b-a1e7-4d74-8401-3e5f3544a784",
   "metadata": {},
   "outputs": [
    {
     "name": "stdout",
     "output_type": "stream",
     "text": [
      "tensor([[1, 1],\n",
      "        [1, 1]])\n",
      "tensor([[0.6033, 0.1902],\n",
      "        [0.4158, 0.3065]])\n"
     ]
    }
   ],
   "source": [
    "# The new tensor retains the properties of the argument tensor, unless explicitly overridden.\n",
    "x_ones = torch.ones_like(x_data) # retains the properties of x_data and prints a tensor of 1s\n",
    "print(x_ones)\n",
    "\n",
    "x_rand = torch.rand_like(x_data, dtype = torch.float) # overrides the datatype of x_data\n",
    "print(x_rand)"
   ]
  },
  {
   "cell_type": "code",
   "execution_count": 9,
   "id": "dc7c96c7-d6ca-469a-aaf9-c67d60396dd1",
   "metadata": {},
   "outputs": [
    {
     "name": "stdout",
     "output_type": "stream",
     "text": [
      "Random Tensor:\n",
      " tensor([[0.3945, 0.9494, 0.7761],\n",
      "        [0.1430, 0.5545, 0.4171]])\n",
      "Ones tensor:\n",
      " tensor([[1., 1., 1.],\n",
      "        [1., 1., 1.]])\n",
      "Zeros tensor:\n",
      " tensor([[0., 0., 0.],\n",
      "        [0., 0., 0.]])\n"
     ]
    }
   ],
   "source": [
    "# shape is a tuple of tensor dimensions.\n",
    "shape = (2,3,)\n",
    "\n",
    "# Generates a random tensor\n",
    "print('Random Tensor:\\n', torch.rand(shape), end = '\\n')\n",
    "\n",
    "# Generates a 1s tensor\n",
    "print('Ones tensor:\\n', torch.ones(shape), end = '\\n')\n",
    "\n",
    "# Generates a 0s tensor\n",
    "print('Zeros tensor:\\n', torch.zeros(shape), end = '\\n')"
   ]
  },
  {
   "cell_type": "markdown",
   "id": "bb761dbf-3b5b-459a-9379-8a60ecec844b",
   "metadata": {},
   "source": [
    "#### Attributes of a Tensor\n",
    "\n",
    "Tensor attributes describe their shape, datatype, and the device on which they are stored."
   ]
  },
  {
   "cell_type": "code",
   "execution_count": 14,
   "id": "bd54910c-dfd0-46ae-9a12-d84be9115737",
   "metadata": {},
   "outputs": [
    {
     "name": "stdout",
     "output_type": "stream",
     "text": [
      "tensor([[0.0989, 0.3990, 0.0591, 0.9137],\n",
      "        [0.2104, 0.9316, 0.5641, 0.0670],\n",
      "        [0.9706, 0.0558, 0.1472, 0.9215]])\n",
      "Shape of tensor: torch.Size([3, 4])\n",
      "Datatype of tensor: torch.float32\n",
      "Device tensor is stored on: cpu\n"
     ]
    }
   ],
   "source": [
    "tensor = torch.rand(3,4)\n",
    "print(tensor)\n",
    "\n",
    "# Prints the shape of the tensor\n",
    "print('Shape of tensor:', tensor.shape)\n",
    "\n",
    "# Prints the datatype of the tensor\n",
    "print('Datatype of tensor:', tensor.dtype)\n",
    "\n",
    "# Prints the storage on which the tensor is stored; cpu or gpu\n",
    "print('Device tensor is stored on:', tensor.device)"
   ]
  },
  {
   "cell_type": "markdown",
   "id": "0678dc48-e52a-4e4a-b97f-1963d8d2f282",
   "metadata": {},
   "source": [
    "#### Operations on a tensor\n",
    "\n",
    "By default, tensors are created on the CPU. We need to explicitly move tensors to the GPU using `.to` method (after checking for GPU availability)."
   ]
  },
  {
   "cell_type": "code",
   "execution_count": 15,
   "id": "3ef4bbf5-7127-40f2-94ec-1e562cc20d73",
   "metadata": {},
   "outputs": [],
   "source": [
    "# We move our tensor to the GPU if available\n",
    "if torch.cuda.is_available():\n",
    "    tensor = tensor.to('cuda')"
   ]
  },
  {
   "cell_type": "markdown",
   "id": "545a02ad-514c-4b70-8666-376f5df9f8a1",
   "metadata": {},
   "source": [
    "##### Indexing and Slicing"
   ]
  },
  {
   "cell_type": "code",
   "execution_count": 18,
   "id": "916d830e-fef2-466d-8472-0f8a3d93305d",
   "metadata": {},
   "outputs": [
    {
     "name": "stdout",
     "output_type": "stream",
     "text": [
      "tensor([[8.0727e-02, 4.0366e-01, 1.1625e-01, 6.8079e-01],\n",
      "        [5.7560e-01, 7.3348e-01, 2.0385e-05, 1.2446e-01],\n",
      "        [9.7190e-01, 4.3251e-01, 6.0153e-01, 9.1177e-01]])\n",
      "First row: tensor([0.0807, 0.4037, 0.1163, 0.6808])\n",
      "First column: tensor([0.0807, 0.5756, 0.9719])\n",
      "Last column: tensor([0.6808, 0.1245, 0.9118])\n",
      "Changed Tensor:\n",
      " tensor([[8.0727e-02, 0.0000e+00, 1.1625e-01, 6.8079e-01],\n",
      "        [5.7560e-01, 0.0000e+00, 2.0385e-05, 1.2446e-01],\n",
      "        [9.7190e-01, 0.0000e+00, 6.0153e-01, 9.1177e-01]])\n"
     ]
    }
   ],
   "source": [
    "# Generate a random tensor\n",
    "tensor = torch.rand(3,4)\n",
    "print(tensor)\n",
    "\n",
    "# Indexing and Slicing\n",
    "# Print the first row\n",
    "print('First row:', tensor[0])\n",
    "\n",
    "# Print the first column\n",
    "print('First column:', tensor[:, 0])\n",
    "\n",
    "# Print the last column\n",
    "print('Last column:', tensor[..., -1])\n",
    "\n",
    "# Replace the values\n",
    "tensor[:, 1] = 0\n",
    "\n",
    "print('Changed Tensor:\\n', tensor)"
   ]
  },
  {
   "cell_type": "markdown",
   "id": "d4db8899-d98c-4b69-87b9-8780f819b004",
   "metadata": {},
   "source": [
    "##### Joining Tensors"
   ]
  },
  {
   "cell_type": "code",
   "execution_count": 19,
   "id": "a9cca199-34f8-4122-a7cc-92af178db3e3",
   "metadata": {},
   "outputs": [
    {
     "name": "stdout",
     "output_type": "stream",
     "text": [
      "tensor([[8.0727e-02, 0.0000e+00, 1.1625e-01, 6.8079e-01, 8.0727e-02, 0.0000e+00,\n",
      "         1.1625e-01, 6.8079e-01, 8.0727e-02, 0.0000e+00, 1.1625e-01, 6.8079e-01],\n",
      "        [5.7560e-01, 0.0000e+00, 2.0385e-05, 1.2446e-01, 5.7560e-01, 0.0000e+00,\n",
      "         2.0385e-05, 1.2446e-01, 5.7560e-01, 0.0000e+00, 2.0385e-05, 1.2446e-01],\n",
      "        [9.7190e-01, 0.0000e+00, 6.0153e-01, 9.1177e-01, 9.7190e-01, 0.0000e+00,\n",
      "         6.0153e-01, 9.1177e-01, 9.7190e-01, 0.0000e+00, 6.0153e-01, 9.1177e-01]])\n"
     ]
    }
   ],
   "source": [
    "# Use the .cat function to conctenate tensors\n",
    "t1 = torch.cat([tensor, tensor, tensor], dim = 1)\n",
    "print(t1)"
   ]
  },
  {
   "cell_type": "markdown",
   "id": "5e938d34-db0c-43f3-84fc-93fc3e50fbb6",
   "metadata": {},
   "source": [
    "##### Arithmetic Operations"
   ]
  },
  {
   "cell_type": "code",
   "execution_count": 23,
   "id": "dba1a1b7-ce52-4ae1-8381-e79f16a6bec7",
   "metadata": {},
   "outputs": [
    {
     "name": "stdout",
     "output_type": "stream",
     "text": [
      "tensor([[0.4835, 0.1312, 0.7691],\n",
      "        [0.1312, 0.3468, 0.6729],\n",
      "        [0.7691, 0.6729, 2.1377]])\n",
      "tensor([[0.4835, 0.1312, 0.7691],\n",
      "        [0.1312, 0.3468, 0.6729],\n",
      "        [0.7691, 0.6729, 2.1377]])\n",
      "tensor([[0.4835, 0.1312, 0.7691],\n",
      "        [0.1312, 0.3468, 0.6729],\n",
      "        [0.7691, 0.6729, 2.1377]])\n"
     ]
    }
   ],
   "source": [
    "# tensor.T returns the transpose of a tensor\n",
    "# Multiplication between the tensor and its transpose\n",
    "result_1 = tensor @ tensor.T\n",
    "print(result_1)\n",
    "\n",
    "# Use the .matmul operator for multiplication\n",
    "result_2 = tensor.matmul(tensor.T)\n",
    "print(result_2)\n",
    "\n",
    "# Use the .matmul from the torch library\n",
    "result_3 = torch.rand_like(y1)\n",
    "torch.matmul(tensor, tensor.T, out = result_3)\n",
    "print(result_3)"
   ]
  },
  {
   "cell_type": "markdown",
   "id": "efd05298-918c-4976-a607-0c6746112907",
   "metadata": {},
   "source": [
    "##### Single element tensors"
   ]
  },
  {
   "cell_type": "code",
   "execution_count": 24,
   "id": "79327be5-b130-46c1-b2ec-1dcd40cd6455",
   "metadata": {},
   "outputs": [
    {
     "name": "stdout",
     "output_type": "stream",
     "text": [
      "tensor(4.0630)\n",
      "4.063040256500244\n",
      "4.063040256500244 <class 'float'>\n"
     ]
    }
   ],
   "source": [
    "# Get the sum of the tensor\n",
    "agg = tensor.sum()\n",
    "print(agg)\n",
    "\n",
    "# Convert it to a python numerical value using item()\n",
    "agg_item = agg.item()\n",
    "\n",
    "# Check the value\n",
    "print(agg_item, type(agg_item))"
   ]
  },
  {
   "cell_type": "markdown",
   "id": "e3697e89-51d0-4da6-a147-f1bfd041c520",
   "metadata": {},
   "source": [
    "##### In-place operations\n",
    "\n",
    "Operations that store the result into the operand are called in-place. They are denoted by a **_** suffix. For example: **`x.copy_(y), x.t_()`**, will change x."
   ]
  },
  {
   "cell_type": "code",
   "execution_count": 25,
   "id": "69967dc7-1967-4546-948a-7f99ae4335e1",
   "metadata": {},
   "outputs": [
    {
     "name": "stdout",
     "output_type": "stream",
     "text": [
      "tensor([[8.0727e-02, 0.0000e+00, 1.1625e-01, 6.8079e-01],\n",
      "        [5.7560e-01, 0.0000e+00, 2.0385e-05, 1.2446e-01],\n",
      "        [9.7190e-01, 0.0000e+00, 6.0153e-01, 9.1177e-01]]) \n",
      "\n",
      "tensor([[5.0807, 5.0000, 5.1163, 5.6808],\n",
      "        [5.5756, 5.0000, 5.0000, 5.1245],\n",
      "        [5.9719, 5.0000, 5.6015, 5.9118]])\n"
     ]
    }
   ],
   "source": [
    "print(tensor)\n",
    "\n",
    "# Add 5 to the matrix in-place\n",
    "tensor.add_(5)\n",
    "\n",
    "# Print the updated tensor\n",
    "print(tensor)"
   ]
  },
  {
   "cell_type": "markdown",
   "id": "c4a19511-2873-4fdd-a3a8-df854790fc6f",
   "metadata": {},
   "source": [
    "#### Relation with Numpy"
   ]
  },
  {
   "cell_type": "code",
   "execution_count": 28,
   "id": "518fc1d9-c113-46a9-97c4-f30fa2fb1205",
   "metadata": {},
   "outputs": [
    {
     "name": "stdout",
     "output_type": "stream",
     "text": [
      "tensor([[5.0807, 5.0000, 5.1163, 5.6808],\n",
      "        [5.5756, 5.0000, 5.0000, 5.1245],\n",
      "        [5.9719, 5.0000, 5.6015, 5.9118]])\n",
      "[[5.080727  5.        5.1162515 5.680785 ]\n",
      " [5.5755997 5.        5.0000205 5.124462 ]\n",
      " [5.971895  5.        5.601529  5.91177  ]]\n"
     ]
    }
   ],
   "source": [
    "# Print the tensor\n",
    "print(tensor)\n",
    "\n",
    "# Convert to numpy\n",
    "n = tensor.numpy()\n",
    "\n",
    "# Numpy array\n",
    "print(n) "
   ]
  },
  {
   "cell_type": "code",
   "execution_count": 29,
   "id": "eea918b6-8d77-4c55-ba61-adef89b20dd4",
   "metadata": {},
   "outputs": [
    {
     "name": "stdout",
     "output_type": "stream",
     "text": [
      "tensor([[6.0807, 6.0000, 6.1163, 6.6808],\n",
      "        [6.5756, 6.0000, 6.0000, 6.1245],\n",
      "        [6.9719, 6.0000, 6.6015, 6.9118]])\n",
      "[[6.080727  6.        6.1162515 6.680785 ]\n",
      " [6.5755997 6.        6.0000205 6.124462 ]\n",
      " [6.971895  6.        6.601529  6.91177  ]]\n"
     ]
    }
   ],
   "source": [
    "# Convert numpy array to tensor\n",
    "t = torch.from_numpy(n)\n",
    "\n",
    "# Add the numpy array, changes will be reflected in the tensor too\n",
    "np.add(n, 1, out = n)\n",
    "\n",
    "print(t)\n",
    "print(n)"
   ]
  },
  {
   "cell_type": "markdown",
   "id": "376e30e4-b35f-46bf-8c20-71a3c17d2f72",
   "metadata": {},
   "source": [
    "### Gradients\n",
    "\n",
    "The gradient is used to find the derivatives of the function. In mathematical terms, derivatives mean differentiation of a function partially and finding the value."
   ]
  },
  {
   "cell_type": "code",
   "execution_count": 30,
   "id": "b75b20ed-4e31-467d-bf55-2374acb629ee",
   "metadata": {},
   "outputs": [
    {
     "name": "stdout",
     "output_type": "stream",
     "text": [
      "tensor(3.) tensor(4., requires_grad=True) tensor(5., requires_grad=True)\n"
     ]
    }
   ],
   "source": [
    "# Create tensors with requires_grad = True\n",
    "x = torch.tensor(3.)\n",
    "w = torch.tensor(4., requires_grad=True)\n",
    "b = torch.tensor(5., requires_grad=True)\n",
    "\n",
    "print(x, w, b)"
   ]
  },
  {
   "cell_type": "code",
   "execution_count": 31,
   "id": "ee74b45f-e6df-42ed-8568-b38e4b935736",
   "metadata": {},
   "outputs": [
    {
     "name": "stdout",
     "output_type": "stream",
     "text": [
      "tensor(17., grad_fn=<AddBackward0>)\n"
     ]
    }
   ],
   "source": [
    "# Arithmetic operations\n",
    "y = w * x + b\n",
    "print(y)"
   ]
  },
  {
   "cell_type": "markdown",
   "id": "06a67aa8-70f1-4d8a-a3d0-22e30520d26a",
   "metadata": {},
   "source": [
    "To compute the derivatives, we can call the **`.backward()`** method on our result y"
   ]
  },
  {
   "cell_type": "code",
   "execution_count": 32,
   "id": "efd0c31d-5acd-4739-acb5-125a531c55ba",
   "metadata": {},
   "outputs": [
    {
     "name": "stdout",
     "output_type": "stream",
     "text": [
      "dy/dx: None\n",
      "dy/dw: tensor(3.)\n",
      "dy/db: tensor(1.)\n"
     ]
    }
   ],
   "source": [
    "# Compute derivatives\n",
    "y.backward()\n",
    "\n",
    "# Display gradients\n",
    "print('dy/dx:', x.grad)\n",
    "print('dy/dw:', w.grad)\n",
    "print('dy/db:', b.grad)"
   ]
  },
  {
   "cell_type": "markdown",
   "id": "8a8af92a-315e-4299-8c03-74e921721ae1",
   "metadata": {},
   "source": [
    "**dy/dw** has the same value as x i.e. 3, and **dy/db** has the value 1. x.grad is **None**, because x doesn't have **requires_grad set to True**."
   ]
  }
 ],
 "metadata": {
  "kernelspec": {
   "display_name": "Python 3 (ipykernel)",
   "language": "python",
   "name": "python3"
  },
  "language_info": {
   "codemirror_mode": {
    "name": "ipython",
    "version": 3
   },
   "file_extension": ".py",
   "mimetype": "text/x-python",
   "name": "python",
   "nbconvert_exporter": "python",
   "pygments_lexer": "ipython3",
   "version": "3.12.2"
  }
 },
 "nbformat": 4,
 "nbformat_minor": 5
}
