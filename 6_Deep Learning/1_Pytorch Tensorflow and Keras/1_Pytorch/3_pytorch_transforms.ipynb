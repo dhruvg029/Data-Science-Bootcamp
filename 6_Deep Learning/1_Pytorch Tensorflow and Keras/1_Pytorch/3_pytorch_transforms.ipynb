{
 "cells": [
  {
   "cell_type": "markdown",
   "metadata": {},
   "source": [
    "# Transforms in Pytorch\n",
    "\n",
    "Data does not always come in its final processed form that is required for training machine learning algorithms. We use **transforms** to perform some manipulation of the data and make it suitable for training. All TorchVision datasets have two parameters: **`transform`** to modify the features and **`target_transform`** to modify the labels - that accept callables containing the transformation logic. The **`torchvision.transforms`** module offers several commonly-used transforms out of the box.\n",
    "\n",
    "The FashionMNIST features are in PIL Image format, and the labels are integers. For training, we need the features as normalized tensors, and\n",
    "the labels as one-hot encoded tensors. To make these transformations, we use **`ToTensor`** and **`Lambda`**.\n",
    "\n",
    "## Importing and loading data"
   ]
  },
  {
   "cell_type": "code",
   "execution_count": 1,
   "metadata": {
    "collapsed": false,
    "jupyter": {
     "outputs_hidden": false
    }
   },
   "outputs": [],
   "source": [
    "# Import necessary libraries\n",
    "import torch\n",
    "from torchvision import datasets\n",
    "from torchvision.transforms import ToTensor, Lambda"
   ]
  },
  {
   "cell_type": "markdown",
   "metadata": {},
   "source": [
    "## ToTensor() and Lambda transforms\n",
    "\n",
    "- **`ToTensor`** converts a PIL image or NumPy `ndarray` into a **`FloatTensor`**. and scales the image\\'s pixel intensity values in the range \\[0., 1.\\]\n",
    "- **`Lambda`** transforms apply any user-defined lambda function. Here, we define a function to turn the integer into a one-hot encoded tensor. It\n",
    "first creates a zero tensor of size 10 (the number of labels in our dataset) and calls **`scatter`** which assigns a `value = 1` on the index as given by the label `y`."
   ]
  },
  {
   "cell_type": "code",
   "execution_count": 4,
   "metadata": {},
   "outputs": [
    {
     "name": "stdout",
     "output_type": "stream",
     "text": [
      "Dataset FashionMNIST\n",
      "    Number of datapoints: 60000\n",
      "    Root location: data\n",
      "    Split: Train\n",
      "    StandardTransform\n",
      "Transform: ToTensor()\n",
      "Target transform: Lambda()\n"
     ]
    }
   ],
   "source": [
    "# Load the training data\n",
    "ds = datasets.FashionMNIST(root='data', train=True, download=True, transform = ToTensor(), \n",
    "                           target_transform = Lambda(lambda y: torch.zeros(10, dtype=torch.float).scatter_(0, torch.tensor(y), value=1)))\n",
    "\n",
    "print(ds)"
   ]
  },
  {
   "cell_type": "code",
   "execution_count": 6,
   "metadata": {
    "collapsed": false,
    "jupyter": {
     "outputs_hidden": false
    }
   },
   "outputs": [
    {
     "name": "stdout",
     "output_type": "stream",
     "text": [
      "Lambda()\n"
     ]
    }
   ],
   "source": [
    "# Get the target transform\n",
    "target_transform = Lambda(lambda y: torch.zeros(10, dtype=torch.float).scatter_(dim=0, index=torch.tensor(y), value=1))\n",
    "\n",
    "print(target_transform)"
   ]
  }
 ],
 "metadata": {
  "kernelspec": {
   "display_name": "Python 3 (ipykernel)",
   "language": "python",
   "name": "python3"
  },
  "language_info": {
   "codemirror_mode": {
    "name": "ipython",
    "version": 3
   },
   "file_extension": ".py",
   "mimetype": "text/x-python",
   "name": "python",
   "nbconvert_exporter": "python",
   "pygments_lexer": "ipython3",
   "version": "3.12.2"
  }
 },
 "nbformat": 4,
 "nbformat_minor": 4
}
