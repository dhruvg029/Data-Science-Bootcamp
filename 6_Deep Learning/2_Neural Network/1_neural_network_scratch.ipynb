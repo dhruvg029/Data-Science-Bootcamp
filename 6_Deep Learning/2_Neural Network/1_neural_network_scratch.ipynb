{
 "cells": [
  {
   "cell_type": "markdown",
   "metadata": {
    "colab_type": "text",
    "id": "cEG1dhnuNFRk"
   },
   "source": [
    "# Neural Network from Scratch\n",
    "\n",
    "In machine learning, a neural network is a model inspired by the structure and function of biological neural networks in animal brains. An ANN consists of connected units or nodes called artificial neurons, which loosely model the neurons in a brain. These are connected by edges, which model the synapses in a brain."
   ]
  },
  {
   "cell_type": "markdown",
   "metadata": {
    "colab_type": "text",
    "id": "sbgj7HfHNFRr"
   },
   "source": [
    "## Importing and loading data"
   ]
  },
  {
   "cell_type": "code",
   "execution_count": 1,
   "metadata": {
    "colab": {},
    "colab_type": "code",
    "id": "E5S9HgBzNFRw"
   },
   "outputs": [
    {
     "name": "stdout",
     "output_type": "stream",
     "text": [
      "Version of numpy: 1.26.1\n",
      "Version of pandas: 2.1.3\n"
     ]
    }
   ],
   "source": [
    "# Importing required libraries\n",
    "import numpy as np\n",
    "import pandas as pd\n",
    "\n",
    "# Plotting graphs\n",
    "import matplotlib.pyplot as plt\n",
    "%matplotlib inline\n",
    "\n",
    "import warnings\n",
    "warnings.filterwarnings('ignore')\n",
    "\n",
    "# Version of NumPy and Pandas library\n",
    "print('Version of numpy:', np.__version__)\n",
    "print('Version of pandas:', pd.__version__)"
   ]
  },
  {
   "cell_type": "code",
   "execution_count": 2,
   "metadata": {
    "colab": {
     "base_uri": "https://localhost:8080/",
     "height": 139
    },
    "colab_type": "code",
    "id": "H_h7HoPONFR_",
    "outputId": "552026b7-f129-41e9-c8f4-22a4c9d80e6e"
   },
   "outputs": [
    {
     "name": "stdout",
     "output_type": "stream",
     "text": [
      "Input:\n",
      " [[1 0 1 0]\n",
      " [1 0 1 1]\n",
      " [0 1 0 1]]\n",
      "\n",
      " Shape of Input: (3, 4)\n"
     ]
    }
   ],
   "source": [
    "# Creating the input array\n",
    "X = np.array([[1, 0, 1, 0], [1, 0, 1, 1], [0, 1, 0, 1]])\n",
    "print('Input:\\n', X)\n",
    "\n",
    "# shape of input array\n",
    "print('\\n Shape of Input:', X.shape)"
   ]
  },
  {
   "cell_type": "code",
   "execution_count": 3,
   "metadata": {
    "colab": {
     "base_uri": "https://localhost:8080/",
     "height": 156
    },
    "colab_type": "code",
    "id": "LVvQz5g39wo3",
    "outputId": "e0f22a43-1caa-4ca0-bfdd-0168c8853d6b"
   },
   "outputs": [
    {
     "name": "stdout",
     "output_type": "stream",
     "text": [
      "Input in matrix form:\n",
      " [[1 1 0]\n",
      " [0 0 1]\n",
      " [1 1 0]\n",
      " [0 1 1]]\n",
      "\n",
      "Shape of Input Matrix: (4, 3)\n"
     ]
    }
   ],
   "source": [
    "# Converting the input in matrix form\n",
    "X = X.T\n",
    "print('Input in matrix form:\\n', X)\n",
    "\n",
    "# Shape of input matrix\n",
    "print('\\nShape of Input Matrix:', X.shape)  "
   ]
  },
  {
   "cell_type": "code",
   "execution_count": 4,
   "metadata": {
    "colab": {
     "base_uri": "https://localhost:8080/",
     "height": 191
    },
    "colab_type": "code",
    "id": "IRe8JE0xNFSL",
    "outputId": "bd0f8cc4-140c-4788-fe12-0967af4b0f0f"
   },
   "outputs": [
    {
     "name": "stdout",
     "output_type": "stream",
     "text": [
      "Actual Output:\n",
      " [[1]\n",
      " [1]\n",
      " [0]]\n",
      "\n",
      "Output in matrix form:\n",
      " [[1 1 0]]\n",
      "\n",
      "Shape of Output: (1, 3)\n"
     ]
    }
   ],
   "source": [
    "# Creating the output array\n",
    "y = np.array([[1], [1], [0]])\n",
    "print('Actual Output:\\n', y)\n",
    "\n",
    "# Output in matrix form\n",
    "y = y.T\n",
    "\n",
    "print('\\nOutput in matrix form:\\n', y)\n",
    "\n",
    "# Shape of input array\n",
    "print('\\nShape of Output:', y.shape)"
   ]
  },
  {
   "cell_type": "markdown",
   "metadata": {
    "colab_type": "text",
    "id": "tKf4Ji1-NFSV"
   },
   "source": [
    "## Architecture of the model "
   ]
  },
  {
   "cell_type": "code",
   "execution_count": 5,
   "metadata": {
    "colab": {},
    "colab_type": "code",
    "id": "vlhBW0NNNFSg"
   },
   "outputs": [],
   "source": [
    "# Number of features in data set\n",
    "inputlayer_neurons = X.shape[0] \n",
    "\n",
    "# number of hidden layers neurons\n",
    "hiddenlayer_neurons = 3\n",
    "\n",
    "# number of neurons at output layer\n",
    "output_neurons = 1 "
   ]
  },
  {
   "cell_type": "markdown",
   "metadata": {
    "colab_type": "text",
    "id": "_Nmwj8RfNFSr"
   },
   "source": [
    "## Initializing the weights for all the layers"
   ]
  },
  {
   "cell_type": "code",
   "execution_count": 6,
   "metadata": {
    "colab": {},
    "colab_type": "code",
    "id": "1T1IG-W8NFSu"
   },
   "outputs": [
    {
     "name": "stdout",
     "output_type": "stream",
     "text": [
      "(4, 3) (3, 1)\n"
     ]
    }
   ],
   "source": [
    "# Shape of w_ih should number of neurons at input layer X number of neurons at hidden layer\n",
    "w_ih = np.random.uniform(size = (inputlayer_neurons, hiddenlayer_neurons))\n",
    "\n",
    "# Shape of w_ho should number of neurons at hidden layer X number of neurons at output layer\n",
    "w_ho = np.random.uniform(size = (hiddenlayer_neurons, output_neurons))\n",
    "\n",
    "# Shape of weight matrix\n",
    "print(w_ih.shape, w_ho.shape)"
   ]
  },
  {
   "cell_type": "markdown",
   "metadata": {
    "colab_type": "text",
    "id": "srrDW1MNNFS-"
   },
   "source": [
    "## Forward propagation\n",
    "\n",
    "Forward propagation is essential for making predictions in neural networks. It calculates the output of the network for a given input based on the current values of the weights and biases. The output is then compared to the actual target value to calculate the loss, which is used to update the weights and biases during the training process."
   ]
  },
  {
   "cell_type": "code",
   "execution_count": 7,
   "metadata": {
    "colab": {},
    "colab_type": "code",
    "id": "sOcBji4iNFTE"
   },
   "outputs": [],
   "source": [
    "# We are using sigmoid as an activation function so defining the sigmoid function here: \n",
    "def sigmoid(x):\n",
    "    return 1/(1 + np.exp(-x))"
   ]
  },
  {
   "cell_type": "code",
   "execution_count": 8,
   "metadata": {
    "colab": {},
    "colab_type": "code",
    "id": "DO6AYHtGNFTM"
   },
   "outputs": [
    {
     "name": "stdout",
     "output_type": "stream",
     "text": [
      "Hidden Layer Activations:\n",
      " [[0.67596794 0.83339883 0.74630387]\n",
      " [0.6449728  0.77117692 0.73595771]\n",
      " [0.69544153 0.8149884  0.72185534]]\n",
      "Output:\n",
      " [[0.58177877 0.59803949 0.59123982]]\n"
     ]
    }
   ],
   "source": [
    "# hidden layer activations\n",
    "hidden_layer_input = np.dot(w_ih.T, X)\n",
    "hidden_layer_activations = sigmoid(hidden_layer_input)\n",
    "\n",
    "# The hidden layer activations\n",
    "print('Hidden Layer Activations:\\n', hidden_layer_activations)\n",
    "\n",
    "# Calculating the output\n",
    "output_layer_input = np.dot(w_ho.T, hidden_layer_activations)\n",
    "output = sigmoid(output_layer_input)\n",
    "\n",
    "print('Output:\\n', output)"
   ]
  },
  {
   "cell_type": "markdown",
   "metadata": {
    "colab_type": "text",
    "id": "mdFKMYyzNFTm"
   },
   "source": [
    "## Backward propagation\n",
    "\n",
    "Backpropagation is an iterative algorithm, that helps to minimize the cost function by determining which weights and biases should be adjusted. During every epoch, the model learns by adapting the weights and biases to minimize the loss by moving down toward the gradient of the error. Thus, it involves the two most popular optimization algorithms, such as gradient descent or stochastic gradient descent.\n",
    "\n",
    "### Rate of change of error w.r.t weight between output and hidden layer"
   ]
  },
  {
   "cell_type": "code",
   "execution_count": 9,
   "metadata": {
    "colab": {},
    "colab_type": "code",
    "id": "IvUAAhlcNFTp"
   },
   "outputs": [
    {
     "name": "stdout",
     "output_type": "stream",
     "text": [
      "Error: [[0.0874545  0.08078612 0.17478226]]\n",
      "Rate of change of error wrt output: [[-0.41822123 -0.40196051  0.59123982]]\n",
      "Rate of change of output wrt Z2: [[0.24331223 0.24038826 0.2416753 ]]\n",
      "Rate of change of Z2 wrt hidden weights:\n",
      " [[0.67596794 0.83339883 0.74630387]\n",
      " [0.6449728  0.77117692 0.73595771]\n",
      " [0.69544153 0.8149884  0.72185534]]\n"
     ]
    }
   ],
   "source": [
    "# Calculating error\n",
    "error = np.square(y - output)/2\n",
    "\n",
    "# Checking the error\n",
    "print('Error:', error)\n",
    "\n",
    "# rate of change of error w.r.t. output\n",
    "error_wrt_output = -(y - output)\n",
    "print('Rate of change of error wrt output:', error_wrt_output)\n",
    "\n",
    "# rate of change of output w.r.t. Z2\n",
    "output_wrt_Z2 = np.multiply(output, (1 - output))\n",
    "print('Rate of change of output wrt Z2:', output_wrt_Z2)\n",
    "\n",
    "# rate of change of Z2 w.r.t. weights between hidden and output layer\n",
    "Z2_wrt_who = hidden_layer_activations\n",
    "print('Rate of change of Z2 wrt hidden weights:\\n', Z2_wrt_who)"
   ]
  },
  {
   "cell_type": "code",
   "execution_count": 10,
   "metadata": {
    "colab": {
     "base_uri": "https://localhost:8080/",
     "height": 34
    },
    "colab_type": "code",
    "id": "UXXifY9QNFUI",
    "outputId": "869382cd-4440-47f1-c249-db25f9073338"
   },
   "outputs": [
    {
     "name": "stdout",
     "output_type": "stream",
     "text": [
      "(1, 3) (1, 3) (3, 3)\n",
      "(3, 1)\n"
     ]
    }
   ],
   "source": [
    "# checking the shapes of partial derivatives\n",
    "print(error_wrt_output.shape, output_wrt_Z2.shape, Z2_wrt_who.shape)\n",
    "\n",
    "# shape of weights of output layer\n",
    "print(w_ho.shape)"
   ]
  },
  {
   "cell_type": "code",
   "execution_count": 13,
   "metadata": {
    "colab": {},
    "colab_type": "code",
    "id": "l3HNVYGONFUr"
   },
   "outputs": [
    {
     "name": "stdout",
     "output_type": "stream",
     "text": [
      "[[-0.04267595]\n",
      " [-0.03498799]\n",
      " [-0.04637201]]\n",
      "Shape: (3, 1)\n"
     ]
    }
   ],
   "source": [
    "# rate of change of error w.r.t weight between hidden and output layer\n",
    "error_wrt_who = np.dot(Z2_wrt_who, (error_wrt_output * output_wrt_Z2).T)\n",
    "print(error_wrt_who)\n",
    "\n",
    "print('Shape:', error_wrt_who.shape)"
   ]
  },
  {
   "cell_type": "markdown",
   "metadata": {
    "colab_type": "text",
    "id": "sDFPg2SHNFU2"
   },
   "source": [
    "### Rate of change of error w.r.t weight between input and hidden layer"
   ]
  },
  {
   "cell_type": "code",
   "execution_count": 16,
   "metadata": {
    "colab": {},
    "colab_type": "code",
    "id": "Sb7Ezxw9NFU6"
   },
   "outputs": [
    {
     "name": "stdout",
     "output_type": "stream",
     "text": [
      "Error: [[-0.41822123 -0.40196051  0.59123982]]\n",
      "Rate of change of output w.r.t. Z2: [[0.24331223 0.24038826 0.2416753 ]]\n",
      "Rate of change of Z2 w.r.t. hidden layer activations:\n",
      " [[0.14148845]\n",
      " [0.30317324]\n",
      " [0.05593508]]\n",
      "Rate of change of hidden layer activations w.r.t. Z1:\n",
      " [[0.21903529 0.13884522 0.1893344 ]\n",
      " [0.22898289 0.17646308 0.19432396]\n",
      " [0.21180261 0.15078231 0.20078021]]\n",
      "Rate of change of Z1 w.r.t. weights between input and hidden layer:\n",
      " [[0.21903529 0.13884522 0.1893344 ]\n",
      " [0.22898289 0.17646308 0.19432396]\n",
      " [0.21180261 0.15078231 0.20078021]]\n"
     ]
    }
   ],
   "source": [
    "# Rate of change of error w.r.t. output\n",
    "error_wrt_output = -(y - output)\n",
    "\n",
    "# Checking the error\n",
    "print('Error:', error_wrt_output)\n",
    "\n",
    "# rate of change of output w.r.t. Z2\n",
    "output_wrt_Z2 = np.multiply(output, (1 - output))\n",
    "print('Rate of change of output w.r.t. Z2:', output_wrt_Z2)\n",
    "\n",
    "# rate of change of Z2 w.r.t. hidden layer activations\n",
    "Z2_wrt_h1 = w_ho\n",
    "print('Rate of change of Z2 w.r.t. hidden layer activations:\\n', Z2_wrt_h1)\n",
    "\n",
    "# rate of change of hidden layer activations w.r.t. Z1\n",
    "h1_wrt_Z1 = np.multiply(hidden_layer_activations, (1 - hidden_layer_activations))\n",
    "print('Rate of change of hidden layer activations w.r.t. Z1:\\n', h1_wrt_Z1)\n",
    "\n",
    "# rate of change of Z1 w.r.t. weights between input and hidden layer\n",
    "Z1_wrt_wih = X\n",
    "print('Rate of change of Z1 w.r.t. weights between input and hidden layer:\\n', h1_wrt_Z1)"
   ]
  },
  {
   "cell_type": "code",
   "execution_count": 17,
   "metadata": {
    "colab": {},
    "colab_type": "code",
    "id": "3-SGbNaoNFVA"
   },
   "outputs": [
    {
     "name": "stdout",
     "output_type": "stream",
     "text": [
      "(1, 3) (1, 3) (3, 1) (3, 3) (4, 3)\n",
      "(4, 3)\n"
     ]
    }
   ],
   "source": [
    "# checking the shapes of partial derivatives\n",
    "print(error_wrt_output.shape, output_wrt_Z2.shape, Z2_wrt_h1.shape, h1_wrt_Z1.shape, Z1_wrt_wih.shape)\n",
    "\n",
    "# shape of weights of hidden layer\n",
    "print(w_ih.shape)"
   ]
  },
  {
   "cell_type": "code",
   "execution_count": 19,
   "metadata": {
    "colab": {},
    "colab_type": "code",
    "id": "amuoR7h6NFVF"
   },
   "outputs": [
    {
     "name": "stdout",
     "output_type": "stream",
     "text": [
      "[[-0.00505182 -0.01223363 -0.0020205 ]\n",
      " [ 0.00382778  0.00841808  0.00160473]\n",
      " [-0.00505182 -0.01223363 -0.0020205 ]\n",
      " [ 0.00192955  0.00324867  0.00078978]]\n",
      "Error: (4, 3)\n"
     ]
    }
   ],
   "source": [
    "# rate of change of error w.r.t weights between input and hidden layer\n",
    "error_wrt_wih = np.dot(Z1_wrt_wih,(h1_wrt_Z1*np.dot(Z2_wrt_h1,(output_wrt_Z2 * error_wrt_output))).T)\n",
    "print(error_wrt_wih)\n",
    "\n",
    "print('Error:', error_wrt_wih.shape)"
   ]
  },
  {
   "cell_type": "markdown",
   "metadata": {
    "colab_type": "text",
    "id": "W2bu4H5-NFVz"
   },
   "source": [
    "### Update the parameters"
   ]
  },
  {
   "cell_type": "code",
   "execution_count": 21,
   "metadata": {
    "colab": {},
    "colab_type": "code",
    "id": "_r59xEpINFV2"
   },
   "outputs": [
    {
     "name": "stdout",
     "output_type": "stream",
     "text": [
      "[[0.14148845]\n",
      " [0.30317324]\n",
      " [0.05593508]]\n",
      "----\n",
      "[[0.47552428 0.56207301 0.20016827]\n",
      " [0.20438924 0.40710839 0.29661196]\n",
      " [0.25977889 0.03494073 0.6255156 ]\n",
      " [0.87460639 0.61795497 0.65707147]]\n"
     ]
    }
   ],
   "source": [
    "# defining the learning rate\n",
    "lr = 0.01\n",
    "\n",
    "# initial w_ho and w_ih\n",
    "print(w_ho)\n",
    "print('----')\n",
    "print(w_ih)"
   ]
  },
  {
   "cell_type": "code",
   "execution_count": 22,
   "metadata": {
    "colab": {},
    "colab_type": "code",
    "id": "D_Va2xywNFWF"
   },
   "outputs": [
    {
     "name": "stdout",
     "output_type": "stream",
     "text": [
      "[[0.14191521]\n",
      " [0.30352312]\n",
      " [0.0563988 ]]\n",
      "----\n",
      "[[0.4755748  0.56219535 0.20018848]\n",
      " [0.20435097 0.40702421 0.29659591]\n",
      " [0.2598294  0.03506306 0.6255358 ]\n",
      " [0.8745871  0.61792248 0.65706357]]\n"
     ]
    }
   ],
   "source": [
    "# updating the weights of output layer\n",
    "w_ho = w_ho - lr * error_wrt_who\n",
    "\n",
    "# updating the weights of hidden layer\n",
    "w_ih = w_ih - lr * error_wrt_wih\n",
    "\n",
    "# updated w_ho and w_ih\n",
    "print(w_ho)\n",
    "print('----')\n",
    "print(w_ih)"
   ]
  },
  {
   "cell_type": "markdown",
   "metadata": {
    "colab_type": "text",
    "id": "SxLy6DZlNFWY"
   },
   "source": [
    "## Modeling training for n epochs"
   ]
  },
  {
   "cell_type": "code",
   "execution_count": 23,
   "metadata": {
    "colab": {},
    "colab_type": "code",
    "id": "8HKS9vIyNFWZ"
   },
   "outputs": [],
   "source": [
    "# defining the model architecture\n",
    "\n",
    "# number of features in data set\n",
    "inputlayer_neurons = X.shape[0] \n",
    "\n",
    "# number of hidden layers neurons\n",
    "hiddenlayer_neurons = 3 \n",
    "\n",
    "# number of neurons at output layer\n",
    "output_neurons = 1 \n",
    "\n",
    "# initializing weight\n",
    "w_ih = np.random.uniform(size = (inputlayer_neurons, hiddenlayer_neurons))\n",
    "w_ho = np.random.uniform(size = (hiddenlayer_neurons, output_neurons))\n",
    "\n",
    "# defining the parameters\n",
    "lr = 0.01\n",
    "epochs = 10000"
   ]
  },
  {
   "cell_type": "code",
   "execution_count": 29,
   "metadata": {
    "colab": {},
    "colab_type": "code",
    "id": "_yVAcyW_NFWk"
   },
   "outputs": [],
   "source": [
    "error_epoch = []\n",
    "\n",
    "for i in range(epochs):\n",
    "    '''\n",
    "    This loop contains forward and backward propogation algorithms. \n",
    "    - First forward propogation for the output with the help of sigmoid function.\n",
    "    - Then backward propogation for updating the weights and biases.\n",
    "    '''\n",
    "    \n",
    "    # Forward Propogation\n",
    "    # hidden layer activations\n",
    "    hidden_layer_input=np.dot(w_ih.T,X)\n",
    "    hiddenlayer_activations = sigmoid(hidden_layer_input)   \n",
    "    \n",
    "    # calculating the output\n",
    "    output_layer_input = np.dot(w_ho.T, hiddenlayer_activations)\n",
    "    output = sigmoid(output_layer_input)\n",
    "\n",
    "    # Backward Propagation\n",
    "    # calculating error\n",
    "    error = np.square(y - output)/2\n",
    "    error_wrt_output = -(y - output)\n",
    "    \n",
    "    output_wrt_Z2 = np.multiply(output,(1-output))\n",
    "    Z2_wrt_who = hiddenlayer_activations\n",
    "    \n",
    "    # rate of change of error w.r.t weight between hidden and output layer\n",
    "    error_wrt_who = np.dot(Z2_wrt_who,(error_wrt_output*output_wrt_Z2).T)\n",
    "    Z2_wrt_h1 = w_ho\n",
    "    \n",
    "    h1_wrt_Z1 = np.multiply(hiddenlayer_activations,(1-hiddenlayer_activations))\n",
    "    Z1_wrt_wih = X\n",
    "    \n",
    "    # rate of change of error w.r.t weights between input and hidden layer\n",
    "    error_wrt_wih = np.dot(Z1_wrt_wih,(h1_wrt_Z1*np.dot(Z2_wrt_h1,(error_wrt_output*output_wrt_Z2))).T)\n",
    "\n",
    "    # updating the weights between hidden and output layer\n",
    "    w_ho = w_ho - lr * error_wrt_who\n",
    "    # updating the weights between input and hidden layer\n",
    "    w_ih = w_ih - lr * error_wrt_wih\n",
    "    \n",
    "    # appending the error of each epoch\n",
    "    error_epoch.append(np.average(error))"
   ]
  },
  {
   "cell_type": "code",
   "execution_count": 30,
   "metadata": {
    "colab": {
     "base_uri": "https://localhost:8080/",
     "height": 86
    },
    "colab_type": "code",
    "id": "Ra5mTgwUNFWo",
    "outputId": "20de9dc0-62b7-4f07-fd3d-cf290542ac8f"
   },
   "outputs": [
    {
     "name": "stdout",
     "output_type": "stream",
     "text": [
      "[[-2.91408987]\n",
      " [ 2.78145624]\n",
      " [ 2.53968308]]\n",
      "----\n",
      "[[-0.5929205   1.65727815  1.51785818]\n",
      " [ 1.27414124 -1.62331903 -1.3846342 ]\n",
      " [ 0.06744633  1.49663003  1.55615245]\n",
      " [ 1.29505667 -0.92580974 -1.02260686]]\n"
     ]
    }
   ],
   "source": [
    "# updated w_ho and w_ih\n",
    "print(w_ho)\n",
    "print('----')\n",
    "print(w_ih)"
   ]
  },
  {
   "cell_type": "code",
   "execution_count": 31,
   "metadata": {
    "colab": {
     "base_uri": "https://localhost:8080/",
     "height": 283
    },
    "colab_type": "code",
    "id": "WeN2dcc0NFW8",
    "outputId": "59ab0369-88ea-4f52-87b4-99da23925bb9"
   },
   "outputs": [
    {
     "data": {
      "text/plain": [
       "[<matplotlib.lines.Line2D at 0x2e057fab0b0>]"
      ]
     },
     "execution_count": 31,
     "metadata": {},
     "output_type": "execute_result"
    },
    {
     "data": {
      "image/png": "[encoded data removed]",
      "text/plain": [
       "<Figure size 640x480 with 1 Axes>"
      ]
     },
     "metadata": {},
     "output_type": "display_data"
    }
   ],
   "source": [
    "# visualizing the error after each epoch\n",
    "plt.plot(np.arange(1,epochs+1), np.array(error_epoch))"
   ]
  },
  {
   "cell_type": "code",
   "execution_count": 32,
   "metadata": {
    "colab": {
     "base_uri": "https://localhost:8080/",
     "height": 34
    },
    "colab_type": "code",
    "id": "bJlcGoeUNFXA",
    "outputId": "052f7ac8-c10e-49e4-df8e-69bff60d4381"
   },
   "outputs": [
    {
     "name": "stdout",
     "output_type": "stream",
     "text": [
      "Final out of the model: [[0.98222757 0.94101632 0.09151605]]\n",
      "Actual output: [[1 1 0]]\n"
     ]
    }
   ],
   "source": [
    "# Final output from the model\n",
    "print('Final out of the model:', output)\n",
    "print('Actual output:', y)"
   ]
  },
  {
   "cell_type": "code",
   "execution_count": 33,
   "metadata": {
    "colab": {
     "base_uri": "https://localhost:8080/",
     "height": 34
    },
    "colab_type": "code",
    "id": "ARNn3MiKNFXF",
    "outputId": "eb1606ed-53da-48f8-c5a0-f4c459e71fdc"
   },
   "outputs": [
    {
     "name": "stdout",
     "output_type": "stream",
     "text": [
      "Error at the last epoch: [[0.00015793 0.00173954 0.00418759]]\n"
     ]
    }
   ],
   "source": [
    "# Error at the last epoch\n",
    "print('Error at the last epoch:', error)"
   ]
  }
 ],
 "metadata": {
  "accelerator": "GPU",
  "colab": {
   "collapsed_sections": [],
   "name": "Neural Network from scratch using NumPy.ipynb",
   "provenance": []
  },
  "kernelspec": {
   "display_name": "Python 3 (ipykernel)",
   "language": "python",
   "name": "python3"
  },
  "language_info": {
   "codemirror_mode": {
    "name": "ipython",
    "version": 3
   },
   "file_extension": ".py",
   "mimetype": "text/x-python",
   "name": "python",
   "nbconvert_exporter": "python",
   "pygments_lexer": "ipython3",
   "version": "3.12.1"
  }
 },
 "nbformat": 4,
 "nbformat_minor": 4
}
