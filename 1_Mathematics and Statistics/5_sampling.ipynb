{
 "cells": [
  {
   "cell_type": "markdown",
   "metadata": {},
   "source": [
    "# Sampling\n",
    "\n",
    "## Key Terms: \n",
    "- A ***population*** is the group of all items of interest. Ex: All the students on university campus.\n",
    "- A ***sample*** is a set of data drawn from the studied population. Ex: 500 students from the campus\n",
    "- Few sampling techniques are:\n",
    "    - ***Random Sampling***: Probability of each record being selected into your sample will be equal. If there are n records, probability of choosing any one record is 1/n.\n",
    "    - ***Stratified Sampling***: Involves dividing the entire population into homogeneous groups called strata."
   ]
  },
  {
   "cell_type": "markdown",
   "metadata": {},
   "source": [
    "## Working on real data\n",
    "\n",
    "### Importing data and libraries"
   ]
  },
  {
   "cell_type": "code",
   "execution_count": 1,
   "metadata": {},
   "outputs": [],
   "source": [
    "# importing libraries\n",
    "import pandas as pd\n",
    "import numpy as np\n",
    "import os, sys"
   ]
  },
  {
   "cell_type": "code",
   "execution_count": 2,
   "metadata": {},
   "outputs": [
    {
     "data": {
      "text/html": [
       "<div>\n",
       "<style scoped>\n",
       "    .dataframe tbody tr th:only-of-type {\n",
       "        vertical-align: middle;\n",
       "    }\n",
       "\n",
       "    .dataframe tbody tr th {\n",
       "        vertical-align: top;\n",
       "    }\n",
       "\n",
       "    .dataframe thead th {\n",
       "        text-align: right;\n",
       "    }\n",
       "</style>\n",
       "<table border=\"1\" class=\"dataframe\">\n",
       "  <thead>\n",
       "    <tr style=\"text-align: right;\">\n",
       "      <th></th>\n",
       "      <th>Card_ID</th>\n",
       "      <th>Campaign_Responce</th>\n",
       "      <th>Registration_Date</th>\n",
       "      <th>Gender</th>\n",
       "      <th>Birth_Date</th>\n",
       "    </tr>\n",
       "  </thead>\n",
       "  <tbody>\n",
       "    <tr>\n",
       "      <th>0</th>\n",
       "      <td>100005950</td>\n",
       "      <td>False</td>\n",
       "      <td>1998-11-18</td>\n",
       "      <td>M</td>\n",
       "      <td>1984-02-06</td>\n",
       "    </tr>\n",
       "    <tr>\n",
       "      <th>1</th>\n",
       "      <td>100022191</td>\n",
       "      <td>True</td>\n",
       "      <td>1999-09-15</td>\n",
       "      <td>F</td>\n",
       "      <td>1959-09-11</td>\n",
       "    </tr>\n",
       "    <tr>\n",
       "      <th>2</th>\n",
       "      <td>100025442</td>\n",
       "      <td>False</td>\n",
       "      <td>1998-05-12</td>\n",
       "      <td>M</td>\n",
       "      <td>1970-08-25</td>\n",
       "    </tr>\n",
       "    <tr>\n",
       "      <th>3</th>\n",
       "      <td>100026513</td>\n",
       "      <td>False</td>\n",
       "      <td>1999-02-12</td>\n",
       "      <td>M</td>\n",
       "      <td>1951-03-12</td>\n",
       "    </tr>\n",
       "    <tr>\n",
       "      <th>4</th>\n",
       "      <td>100039145</td>\n",
       "      <td>False</td>\n",
       "      <td>2000-08-12</td>\n",
       "      <td>M</td>\n",
       "      <td>1949-06-08</td>\n",
       "    </tr>\n",
       "  </tbody>\n",
       "</table>\n",
       "</div>"
      ],
      "text/plain": [
       "     Card_ID  Campaign_Responce Registration_Date Gender Birth_Date\n",
       "0  100005950              False        1998-11-18      M 1984-02-06\n",
       "1  100022191               True        1999-09-15      F 1959-09-11\n",
       "2  100025442              False        1998-05-12      M 1970-08-25\n",
       "3  100026513              False        1999-02-12      M 1951-03-12\n",
       "4  100039145              False        2000-08-12      M 1949-06-08"
      ]
     },
     "execution_count": 2,
     "metadata": {},
     "output_type": "execute_result"
    }
   ],
   "source": [
    "# Loading data\n",
    "data = pd.read_excel('datasets/CreditCardData.xlsx')\n",
    "data.head()"
   ]
  },
  {
   "cell_type": "code",
   "execution_count": 3,
   "metadata": {},
   "outputs": [
    {
     "name": "stdout",
     "output_type": "stream",
     "text": [
      "Shape: (297, 5)\n"
     ]
    }
   ],
   "source": [
    "# Shape of the data\n",
    "print('Shape:', data.shape)"
   ]
  },
  {
   "cell_type": "code",
   "execution_count": 4,
   "metadata": {},
   "outputs": [
    {
     "name": "stdout",
     "output_type": "stream",
     "text": [
      "Card_ID                       int64\n",
      "Campaign_Responce              bool\n",
      "Registration_Date    datetime64[ns]\n",
      "Gender                       object\n",
      "Birth_Date           datetime64[ns]\n",
      "dtype: object\n"
     ]
    }
   ],
   "source": [
    "# Checking the data types\n",
    "print(data.dtypes)"
   ]
  },
  {
   "cell_type": "markdown",
   "metadata": {},
   "source": [
    "### Simple Random Sampling\n",
    "\n",
    "- Random sampling without replacement: Repetition of samples are not allowed.\n",
    "- Random sampling with replacement: Repetition of samples are allowed."
   ]
  },
  {
   "cell_type": "code",
   "execution_count": 6,
   "metadata": {},
   "outputs": [
    {
     "data": {
      "text/html": [
       "<div>\n",
       "<style scoped>\n",
       "    .dataframe tbody tr th:only-of-type {\n",
       "        vertical-align: middle;\n",
       "    }\n",
       "\n",
       "    .dataframe tbody tr th {\n",
       "        vertical-align: top;\n",
       "    }\n",
       "\n",
       "    .dataframe thead th {\n",
       "        text-align: right;\n",
       "    }\n",
       "</style>\n",
       "<table border=\"1\" class=\"dataframe\">\n",
       "  <thead>\n",
       "    <tr style=\"text-align: right;\">\n",
       "      <th></th>\n",
       "      <th>Card_ID</th>\n",
       "      <th>Campaign_Responce</th>\n",
       "      <th>Registration_Date</th>\n",
       "      <th>Gender</th>\n",
       "      <th>Birth_Date</th>\n",
       "    </tr>\n",
       "  </thead>\n",
       "  <tbody>\n",
       "    <tr>\n",
       "      <th>43</th>\n",
       "      <td>100867201</td>\n",
       "      <td>True</td>\n",
       "      <td>1999-12-17</td>\n",
       "      <td>F</td>\n",
       "      <td>1957-05-10</td>\n",
       "    </tr>\n",
       "    <tr>\n",
       "      <th>166</th>\n",
       "      <td>103584288</td>\n",
       "      <td>False</td>\n",
       "      <td>2001-11-26</td>\n",
       "      <td>M</td>\n",
       "      <td>1970-11-28</td>\n",
       "    </tr>\n",
       "    <tr>\n",
       "      <th>18</th>\n",
       "      <td>100215710</td>\n",
       "      <td>True</td>\n",
       "      <td>2001-09-22</td>\n",
       "      <td>M</td>\n",
       "      <td>1969-05-03</td>\n",
       "    </tr>\n",
       "    <tr>\n",
       "      <th>103</th>\n",
       "      <td>102464771</td>\n",
       "      <td>False</td>\n",
       "      <td>1999-12-10</td>\n",
       "      <td>F</td>\n",
       "      <td>1967-03-10</td>\n",
       "    </tr>\n",
       "    <tr>\n",
       "      <th>252</th>\n",
       "      <td>105607063</td>\n",
       "      <td>False</td>\n",
       "      <td>1998-05-27</td>\n",
       "      <td>F</td>\n",
       "      <td>1940-03-21</td>\n",
       "    </tr>\n",
       "  </tbody>\n",
       "</table>\n",
       "</div>"
      ],
      "text/plain": [
       "       Card_ID  Campaign_Responce Registration_Date Gender Birth_Date\n",
       "43   100867201               True        1999-12-17      F 1957-05-10\n",
       "166  103584288              False        2001-11-26      M 1970-11-28\n",
       "18   100215710               True        2001-09-22      M 1969-05-03\n",
       "103  102464771              False        1999-12-10      F 1967-03-10\n",
       "252  105607063              False        1998-05-27      F 1940-03-21"
      ]
     },
     "execution_count": 6,
     "metadata": {},
     "output_type": "execute_result"
    }
   ],
   "source": [
    "# Select 5 records randomly from the dataset \n",
    "df1 = data.sample(n = 5, random_state = 40)\n",
    "df1.head()"
   ]
  },
  {
   "cell_type": "code",
   "execution_count": 7,
   "metadata": {},
   "outputs": [
    {
     "data": {
      "text/plain": [
       "Index([43, 166, 18, 103, 252], dtype='int64')"
      ]
     },
     "execution_count": 7,
     "metadata": {},
     "output_type": "execute_result"
    }
   ],
   "source": [
    "# Check the indexes of the selected sample\n",
    "df1.index"
   ]
  },
  {
   "cell_type": "code",
   "execution_count": 8,
   "metadata": {},
   "outputs": [
    {
     "data": {
      "text/plain": [
       "Campaign_Responce\n",
       "False    3\n",
       "True     2\n",
       "Name: count, dtype: int64"
      ]
     },
     "execution_count": 8,
     "metadata": {},
     "output_type": "execute_result"
    }
   ],
   "source": [
    "# Check the counts of campaign response\n",
    "df1['Campaign_Responce'].value_counts()"
   ]
  },
  {
   "cell_type": "code",
   "execution_count": 7,
   "metadata": {},
   "outputs": [
    {
     "data": {
      "text/plain": [
       "Campaign_Responce\n",
       "False    0.8\n",
       "True     0.2\n",
       "Name: proportion, dtype: float64"
      ]
     },
     "execution_count": 7,
     "metadata": {},
     "output_type": "execute_result"
    }
   ],
   "source": [
    "# Check the counts of campaign response\n",
    "df1['Campaign_Responce'].value_counts(normalize= True)"
   ]
  },
  {
   "cell_type": "code",
   "execution_count": 8,
   "metadata": {},
   "outputs": [
    {
     "data": {
      "text/plain": [
       "Campaign_Responce\n",
       "False    0.835017\n",
       "True     0.164983\n",
       "Name: proportion, dtype: float64"
      ]
     },
     "execution_count": 8,
     "metadata": {},
     "output_type": "execute_result"
    }
   ],
   "source": [
    "data['Campaign_Responce'].value_counts(normalize= True)"
   ]
  },
  {
   "cell_type": "code",
   "execution_count": 9,
   "metadata": {},
   "outputs": [
    {
     "data": {
      "text/html": [
       "<div>\n",
       "<style scoped>\n",
       "    .dataframe tbody tr th:only-of-type {\n",
       "        vertical-align: middle;\n",
       "    }\n",
       "\n",
       "    .dataframe tbody tr th {\n",
       "        vertical-align: top;\n",
       "    }\n",
       "\n",
       "    .dataframe thead th {\n",
       "        text-align: right;\n",
       "    }\n",
       "</style>\n",
       "<table border=\"1\" class=\"dataframe\">\n",
       "  <thead>\n",
       "    <tr style=\"text-align: right;\">\n",
       "      <th></th>\n",
       "      <th>Card_ID</th>\n",
       "      <th>Campaign_Responce</th>\n",
       "      <th>Registration_Date</th>\n",
       "      <th>Gender</th>\n",
       "      <th>Birth_Date</th>\n",
       "    </tr>\n",
       "  </thead>\n",
       "  <tbody>\n",
       "    <tr>\n",
       "      <th>252</th>\n",
       "      <td>105607063</td>\n",
       "      <td>False</td>\n",
       "      <td>1998-05-27</td>\n",
       "      <td>F</td>\n",
       "      <td>1940-03-21</td>\n",
       "    </tr>\n",
       "    <tr>\n",
       "      <th>175</th>\n",
       "      <td>103828605</td>\n",
       "      <td>False</td>\n",
       "      <td>1998-05-29</td>\n",
       "      <td>M</td>\n",
       "      <td>1966-04-26</td>\n",
       "    </tr>\n",
       "    <tr>\n",
       "      <th>192</th>\n",
       "      <td>104235958</td>\n",
       "      <td>False</td>\n",
       "      <td>1998-01-27</td>\n",
       "      <td>F</td>\n",
       "      <td>1951-04-25</td>\n",
       "    </tr>\n",
       "    <tr>\n",
       "      <th>43</th>\n",
       "      <td>100867201</td>\n",
       "      <td>True</td>\n",
       "      <td>1999-12-17</td>\n",
       "      <td>F</td>\n",
       "      <td>1957-05-10</td>\n",
       "    </tr>\n",
       "    <tr>\n",
       "      <th>28</th>\n",
       "      <td>100614020</td>\n",
       "      <td>True</td>\n",
       "      <td>1998-07-21</td>\n",
       "      <td>M</td>\n",
       "      <td>1958-11-19</td>\n",
       "    </tr>\n",
       "  </tbody>\n",
       "</table>\n",
       "</div>"
      ],
      "text/plain": [
       "       Card_ID  Campaign_Responce Registration_Date Gender Birth_Date\n",
       "252  105607063              False        1998-05-27      F 1940-03-21\n",
       "175  103828605              False        1998-05-29      M 1966-04-26\n",
       "192  104235958              False        1998-01-27      F 1951-04-25\n",
       "43   100867201               True        1999-12-17      F 1957-05-10\n",
       "28   100614020               True        1998-07-21      M 1958-11-19"
      ]
     },
     "execution_count": 9,
     "metadata": {},
     "output_type": "execute_result"
    }
   ],
   "source": [
    "df1 = data.sample(n = 100, random_state= 44)\n",
    "df1.head()"
   ]
  },
  {
   "cell_type": "code",
   "execution_count": 10,
   "metadata": {},
   "outputs": [
    {
     "data": {
      "text/plain": [
       "Campaign_Responce\n",
       "False    0.86\n",
       "True     0.14\n",
       "Name: proportion, dtype: float64"
      ]
     },
     "execution_count": 10,
     "metadata": {},
     "output_type": "execute_result"
    }
   ],
   "source": [
    "df1['Campaign_Responce'].value_counts(normalize= True)"
   ]
  },
  {
   "cell_type": "code",
   "execution_count": 11,
   "metadata": {},
   "outputs": [
    {
     "data": {
      "text/plain": [
       "(30, 5)"
      ]
     },
     "execution_count": 11,
     "metadata": {},
     "output_type": "execute_result"
    }
   ],
   "source": [
    "# Select 10% of records randomly, and create a dataframe df2\n",
    "df2 = data.sample(frac = 0.1, random_state= 44)\n",
    "df2.shape"
   ]
  },
  {
   "cell_type": "code",
   "execution_count": 12,
   "metadata": {},
   "outputs": [
    {
     "data": {
      "text/plain": [
       "Index([252, 175, 192,  43,  28,  33,  12, 134, 185, 278,  20, 287, 179, 148,\n",
       "       201,  46, 294,  95, 110, 107, 174, 211, 226,  36,  65, 135, 277,   7,\n",
       "       229,  88],\n",
       "      dtype='int64')"
      ]
     },
     "execution_count": 12,
     "metadata": {},
     "output_type": "execute_result"
    }
   ],
   "source": [
    "# Check indexes\n",
    "df2.index"
   ]
  },
  {
   "cell_type": "code",
   "execution_count": 13,
   "metadata": {},
   "outputs": [
    {
     "data": {
      "text/plain": [
       "Campaign_Responce\n",
       "False    0.8\n",
       "True     0.2\n",
       "Name: proportion, dtype: float64"
      ]
     },
     "execution_count": 13,
     "metadata": {},
     "output_type": "execute_result"
    }
   ],
   "source": [
    "# Check the counts of campaign response\n",
    "df2['Campaign_Responce'].value_counts(normalize= True)"
   ]
  },
  {
   "cell_type": "code",
   "execution_count": 14,
   "metadata": {},
   "outputs": [
    {
     "data": {
      "text/plain": [
       "(35, 5)"
      ]
     },
     "execution_count": 14,
     "metadata": {},
     "output_type": "execute_result"
    }
   ],
   "source": [
    "# Select 35 records with replacement. Create a dataframe df3\n",
    "df3 = data.sample(n = 35, random_state= 44, replace= True)\n",
    "df3.shape"
   ]
  },
  {
   "cell_type": "code",
   "execution_count": 15,
   "metadata": {},
   "outputs": [
    {
     "data": {
      "text/plain": [
       "Index([276, 241, 173,  59,  96,  84, 239, 120, 151, 195, 199,  67, 227, 109,\n",
       "       245, 100,  57, 257,  14, 120, 213,  96, 287,  72, 189,  72,  86, 242,\n",
       "       144, 116,  50,  18,  92, 285,   1],\n",
       "      dtype='int64')"
      ]
     },
     "execution_count": 15,
     "metadata": {},
     "output_type": "execute_result"
    }
   ],
   "source": [
    "# Check indexes\n",
    "df3.index"
   ]
  },
  {
   "cell_type": "code",
   "execution_count": 16,
   "metadata": {},
   "outputs": [
    {
     "data": {
      "text/plain": [
       "3"
      ]
     },
     "execution_count": 16,
     "metadata": {},
     "output_type": "execute_result"
    }
   ],
   "source": [
    "# Check for duplicates\n",
    "sum(df3.index.duplicated())"
   ]
  },
  {
   "cell_type": "markdown",
   "metadata": {},
   "source": [
    "## Stratified Sampling"
   ]
  },
  {
   "cell_type": "code",
   "execution_count": 17,
   "metadata": {},
   "outputs": [
    {
     "data": {
      "text/plain": [
       "Gender\n",
       "M    0.572391\n",
       "F    0.427609\n",
       "Name: proportion, dtype: float64"
      ]
     },
     "execution_count": 17,
     "metadata": {},
     "output_type": "execute_result"
    }
   ],
   "source": [
    "#Original dat: Find out what is the % distribution by Gneder\n",
    "data['Gender'].value_counts(normalize=True)"
   ]
  },
  {
   "cell_type": "code",
   "execution_count": 17,
   "metadata": {},
   "outputs": [
    {
     "data": {
      "text/plain": [
       "((207, 5), (90, 5))"
      ]
     },
     "execution_count": 17,
     "metadata": {},
     "output_type": "execute_result"
    }
   ],
   "source": [
    "# Select 30% of records stratified according to Gender Create sample - df1 and df2\n",
    "from sklearn.model_selection import train_test_split\n",
    "\n",
    "df1, df2 = train_test_split(data, test_size = 0.3, stratify = data['Gender'],  random_state = 44)\n",
    "df1.shape, df2.shape"
   ]
  },
  {
   "cell_type": "code",
   "execution_count": 18,
   "metadata": {},
   "outputs": [
    {
     "data": {
      "text/plain": [
       "Gender\n",
       "M    0.577778\n",
       "F    0.422222\n",
       "Name: proportion, dtype: float64"
      ]
     },
     "execution_count": 18,
     "metadata": {},
     "output_type": "execute_result"
    }
   ],
   "source": [
    "# Counting for df2\n",
    "df2['Gender'].value_counts(normalize= True)"
   ]
  },
  {
   "cell_type": "code",
   "execution_count": 19,
   "metadata": {},
   "outputs": [
    {
     "data": {
      "text/plain": [
       "Gender\n",
       "M    0.570048\n",
       "F    0.429952\n",
       "Name: proportion, dtype: float64"
      ]
     },
     "execution_count": 19,
     "metadata": {},
     "output_type": "execute_result"
    }
   ],
   "source": [
    "# Counting for df1\n",
    "df1['Gender'].value_counts(normalize= True)"
   ]
  },
  {
   "cell_type": "code",
   "execution_count": 20,
   "metadata": {},
   "outputs": [
    {
     "data": {
      "text/plain": [
       "((222, 5), (75, 5))"
      ]
     },
     "execution_count": 20,
     "metadata": {},
     "output_type": "execute_result"
    }
   ],
   "source": [
    "# Select 25% of records from 'data' stratified based on 'Campaign_Responce' variable.\n",
    "df3, df4 = train_test_split(data, test_size = 0.25, stratify = data['Campaign_Responce'],  random_state = 44)\n",
    "df3.shape, df4.shape"
   ]
  },
  {
   "cell_type": "code",
   "execution_count": 21,
   "metadata": {},
   "outputs": [
    {
     "data": {
      "text/plain": [
       "Campaign_Responce\n",
       "False    0.833333\n",
       "True     0.166667\n",
       "Name: proportion, dtype: float64"
      ]
     },
     "execution_count": 21,
     "metadata": {},
     "output_type": "execute_result"
    }
   ],
   "source": [
    "# Counting values for df3\n",
    "df3['Campaign_Responce'].value_counts(normalize= True)"
   ]
  },
  {
   "cell_type": "code",
   "execution_count": 22,
   "metadata": {},
   "outputs": [
    {
     "data": {
      "text/plain": [
       "Campaign_Responce\n",
       "False    0.84\n",
       "True     0.16\n",
       "Name: proportion, dtype: float64"
      ]
     },
     "execution_count": 22,
     "metadata": {},
     "output_type": "execute_result"
    }
   ],
   "source": [
    "# Counting values for df4\n",
    "df4['Campaign_Responce'].value_counts(normalize= True)"
   ]
  }
 ],
 "metadata": {
  "kernelspec": {
   "display_name": "Python 3 (ipykernel)",
   "language": "python",
   "name": "python3"
  },
  "language_info": {
   "codemirror_mode": {
    "name": "ipython",
    "version": 3
   },
   "file_extension": ".py",
   "mimetype": "text/x-python",
   "name": "python",
   "nbconvert_exporter": "python",
   "pygments_lexer": "ipython3",
   "version": "3.12.2"
  }
 },
 "nbformat": 4,
 "nbformat_minor": 4
}
