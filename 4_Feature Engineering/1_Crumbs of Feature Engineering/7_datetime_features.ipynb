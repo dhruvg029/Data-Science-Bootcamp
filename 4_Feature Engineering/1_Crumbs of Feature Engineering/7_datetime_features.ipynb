{
 "cells": [
  {
   "cell_type": "markdown",
   "metadata": {},
   "source": [
    "# Features related to date and time\n",
    "\n",
    "## Importing and loading data"
   ]
  },
  {
   "cell_type": "code",
   "execution_count": 1,
   "metadata": {},
   "outputs": [
    {
     "name": "stdout",
     "output_type": "stream",
     "text": [
      "2.1.3\n",
      "1.26.1\n"
     ]
    }
   ],
   "source": [
    "# Importing necessary libraries\n",
    "import pandas as pd\n",
    "import numpy as np\n",
    "\n",
    "import warnings\n",
    "warnings.filterwarnings('ignore')\n",
    "\n",
    "import matplotlib.pyplot as plt\n",
    "%matplotlib inline\n",
    "\n",
    "print(pd.__version__)\n",
    "print(np.__version__)"
   ]
  },
  {
   "cell_type": "code",
   "execution_count": 2,
   "metadata": {},
   "outputs": [
    {
     "data": {
      "text/html": [
       "<div>\n",
       "<style scoped>\n",
       "    .dataframe tbody tr th:only-of-type {\n",
       "        vertical-align: middle;\n",
       "    }\n",
       "\n",
       "    .dataframe tbody tr th {\n",
       "        vertical-align: top;\n",
       "    }\n",
       "\n",
       "    .dataframe thead th {\n",
       "        text-align: right;\n",
       "    }\n",
       "</style>\n",
       "<table border=\"1\" class=\"dataframe\">\n",
       "  <thead>\n",
       "    <tr style=\"text-align: right;\">\n",
       "      <th></th>\n",
       "      <th>Date_Time</th>\n",
       "      <th>NO2(GT)</th>\n",
       "    </tr>\n",
       "  </thead>\n",
       "  <tbody>\n",
       "    <tr>\n",
       "      <th>0</th>\n",
       "      <td>10/03/2004 18.00.00</td>\n",
       "      <td>166</td>\n",
       "    </tr>\n",
       "    <tr>\n",
       "      <th>1</th>\n",
       "      <td>10/03/2004 19.00.00</td>\n",
       "      <td>1174</td>\n",
       "    </tr>\n",
       "    <tr>\n",
       "      <th>2</th>\n",
       "      <td>10/03/2004 20.00.00</td>\n",
       "      <td>131</td>\n",
       "    </tr>\n",
       "    <tr>\n",
       "      <th>3</th>\n",
       "      <td>10/03/2004 21.00.00</td>\n",
       "      <td>172</td>\n",
       "    </tr>\n",
       "    <tr>\n",
       "      <th>4</th>\n",
       "      <td>10/03/2004 22.00.00</td>\n",
       "      <td>131</td>\n",
       "    </tr>\n",
       "  </tbody>\n",
       "</table>\n",
       "</div>"
      ],
      "text/plain": [
       "             Date_Time  NO2(GT)\n",
       "0  10/03/2004 18.00.00      166\n",
       "1  10/03/2004 19.00.00     1174\n",
       "2  10/03/2004 20.00.00      131\n",
       "3  10/03/2004 21.00.00      172\n",
       "4  10/03/2004 22.00.00      131"
      ]
     },
     "execution_count": 2,
     "metadata": {},
     "output_type": "execute_result"
    }
   ],
   "source": [
    "# Loading the data\n",
    "data = pd.read_csv('datasets/No2 dataset.csv')\n",
    "\n",
    "# Check the data\n",
    "data.head()"
   ]
  },
  {
   "cell_type": "code",
   "execution_count": 4,
   "metadata": {},
   "outputs": [
    {
     "name": "stdout",
     "output_type": "stream",
     "text": [
      "Max Date and Time: 31/08/2004 23.00.00\n",
      "Min Date and Time: 01/04/2004 00.00.00\n"
     ]
    }
   ],
   "source": [
    "# Check the max and min date and time\n",
    "print('Max Date and Time:', data['Date_Time'].max())\n",
    "print('Min Date and Time:', data['Date_Time'].min())"
   ]
  },
  {
   "cell_type": "code",
   "execution_count": 5,
   "metadata": {},
   "outputs": [
    {
     "name": "stdout",
     "output_type": "stream",
     "text": [
      "Date_Time    object\n",
      "NO2(GT)       int64\n",
      "dtype: object\n"
     ]
    }
   ],
   "source": [
    "# Printing the data types\n",
    "print(data.dtypes)"
   ]
  },
  {
   "cell_type": "markdown",
   "metadata": {},
   "source": [
    "## Convert to datetime"
   ]
  },
  {
   "cell_type": "code",
   "execution_count": 6,
   "metadata": {},
   "outputs": [
    {
     "name": "stdout",
     "output_type": "stream",
     "text": [
      "Date_Time    datetime64[ns]\n",
      "NO2(GT)               int64\n",
      "dtype: object\n"
     ]
    }
   ],
   "source": [
    "data['Date_Time'] = pd.to_datetime(data['Date_Time'], format= '%d/%m/%Y %H.%M.%S')\n",
    "\n",
    "print(data.dtypes)"
   ]
  },
  {
   "cell_type": "markdown",
   "metadata": {},
   "source": [
    "The format depends on your data.\n",
    "\n",
    "1. **1/12/2001**: %d/%m/%Y\n",
    "2. **2001/12/1**: %Y/%m/%d\n",
    "3. **2001-12-01**: %Y-%m-%d\n",
    "4. **2001-12-01 09:00**: %Y-%m-%d %H:%M"
   ]
  },
  {
   "cell_type": "code",
   "execution_count": 7,
   "metadata": {},
   "outputs": [
    {
     "name": "stdout",
     "output_type": "stream",
     "text": [
      "Max Date and Time: 2004-09-24 02:00:00\n",
      "Min Date and Time: 2004-03-10 18:00:00\n"
     ]
    }
   ],
   "source": [
    "# Check the max and min date and time\n",
    "print('Max Date and Time:', data['Date_Time'].max())\n",
    "print('Min Date and Time:', data['Date_Time'].min())"
   ]
  },
  {
   "cell_type": "markdown",
   "metadata": {},
   "source": [
    "## Extract hours and minutes"
   ]
  },
  {
   "cell_type": "code",
   "execution_count": 8,
   "metadata": {},
   "outputs": [
    {
     "data": {
      "text/plain": [
       "0    18\n",
       "1    19\n",
       "2    20\n",
       "3    21\n",
       "4    22\n",
       "Name: Date_Time, dtype: int32"
      ]
     },
     "execution_count": 8,
     "metadata": {},
     "output_type": "execute_result"
    }
   ],
   "source": [
    "# Extract the hours\n",
    "data['Date_Time'].dt.hour.head()"
   ]
  },
  {
   "cell_type": "code",
   "execution_count": 9,
   "metadata": {},
   "outputs": [
    {
     "data": {
      "text/plain": [
       "0    0\n",
       "1    0\n",
       "2    0\n",
       "3    0\n",
       "4    0\n",
       "Name: Date_Time, dtype: int32"
      ]
     },
     "execution_count": 9,
     "metadata": {},
     "output_type": "execute_result"
    }
   ],
   "source": [
    "# Extract the minutes\n",
    "data['Date_Time'].dt.minute.head()"
   ]
  },
  {
   "cell_type": "markdown",
   "metadata": {},
   "source": [
    "## Extract the day of the work and month"
   ]
  },
  {
   "cell_type": "code",
   "execution_count": 11,
   "metadata": {},
   "outputs": [
    {
     "data": {
      "text/plain": [
       "0    2\n",
       "1    2\n",
       "2    2\n",
       "3    2\n",
       "4    2\n",
       "Name: Date_Time, dtype: int32"
      ]
     },
     "execution_count": 11,
     "metadata": {},
     "output_type": "execute_result"
    }
   ],
   "source": [
    "# Monday (0) to Sunday (6)\n",
    "data['Date_Time'].dt.dayofweek.head() "
   ]
  },
  {
   "cell_type": "code",
   "execution_count": 15,
   "metadata": {},
   "outputs": [
    {
     "data": {
      "text/plain": [
       "0    Wednesday\n",
       "1    Wednesday\n",
       "2    Wednesday\n",
       "3    Wednesday\n",
       "4    Wednesday\n",
       "Name: Date_Time, dtype: object"
      ]
     },
     "execution_count": 15,
     "metadata": {},
     "output_type": "execute_result"
    }
   ],
   "source": [
    "# The name of the day\n",
    "data['Date_Time'].dt.day_name().head()"
   ]
  },
  {
   "cell_type": "code",
   "execution_count": 16,
   "metadata": {},
   "outputs": [
    {
     "data": {
      "text/plain": [
       "0    3\n",
       "1    3\n",
       "2    3\n",
       "3    3\n",
       "4    3\n",
       "Name: Date_Time, dtype: int32"
      ]
     },
     "execution_count": 16,
     "metadata": {},
     "output_type": "execute_result"
    }
   ],
   "source": [
    "# The month number\n",
    "data['Date_Time'].dt.month.head()"
   ]
  },
  {
   "cell_type": "code",
   "execution_count": 18,
   "metadata": {},
   "outputs": [
    {
     "data": {
      "text/plain": [
       "0    False\n",
       "1    False\n",
       "2    False\n",
       "3    False\n",
       "4    False\n",
       "Name: Date_Time, dtype: bool"
      ]
     },
     "execution_count": 18,
     "metadata": {},
     "output_type": "execute_result"
    }
   ],
   "source": [
    "# Check if the month is the end month\n",
    "data['Date_Time'].dt.is_month_end.head()"
   ]
  },
  {
   "cell_type": "markdown",
   "metadata": {},
   "source": [
    "## Combine everything together"
   ]
  },
  {
   "cell_type": "code",
   "execution_count": 21,
   "metadata": {},
   "outputs": [
    {
     "data": {
      "text/html": [
       "<div>\n",
       "<style scoped>\n",
       "    .dataframe tbody tr th:only-of-type {\n",
       "        vertical-align: middle;\n",
       "    }\n",
       "\n",
       "    .dataframe tbody tr th {\n",
       "        vertical-align: top;\n",
       "    }\n",
       "\n",
       "    .dataframe thead th {\n",
       "        text-align: right;\n",
       "    }\n",
       "</style>\n",
       "<table border=\"1\" class=\"dataframe\">\n",
       "  <thead>\n",
       "    <tr style=\"text-align: right;\">\n",
       "      <th></th>\n",
       "      <th>year</th>\n",
       "      <th>month</th>\n",
       "      <th>day</th>\n",
       "      <th>hour</th>\n",
       "      <th>dayofyear</th>\n",
       "      <th>week</th>\n",
       "      <th>dayofweek</th>\n",
       "      <th>dayofweekname</th>\n",
       "      <th>quarter</th>\n",
       "    </tr>\n",
       "  </thead>\n",
       "  <tbody>\n",
       "    <tr>\n",
       "      <th>0</th>\n",
       "      <td>2004</td>\n",
       "      <td>3</td>\n",
       "      <td>10</td>\n",
       "      <td>18</td>\n",
       "      <td>70</td>\n",
       "      <td>11</td>\n",
       "      <td>2</td>\n",
       "      <td>Wednesday</td>\n",
       "      <td>1</td>\n",
       "    </tr>\n",
       "    <tr>\n",
       "      <th>1</th>\n",
       "      <td>2004</td>\n",
       "      <td>3</td>\n",
       "      <td>10</td>\n",
       "      <td>19</td>\n",
       "      <td>70</td>\n",
       "      <td>11</td>\n",
       "      <td>2</td>\n",
       "      <td>Wednesday</td>\n",
       "      <td>1</td>\n",
       "    </tr>\n",
       "    <tr>\n",
       "      <th>2</th>\n",
       "      <td>2004</td>\n",
       "      <td>3</td>\n",
       "      <td>10</td>\n",
       "      <td>20</td>\n",
       "      <td>70</td>\n",
       "      <td>11</td>\n",
       "      <td>2</td>\n",
       "      <td>Wednesday</td>\n",
       "      <td>1</td>\n",
       "    </tr>\n",
       "    <tr>\n",
       "      <th>3</th>\n",
       "      <td>2004</td>\n",
       "      <td>3</td>\n",
       "      <td>10</td>\n",
       "      <td>21</td>\n",
       "      <td>70</td>\n",
       "      <td>11</td>\n",
       "      <td>2</td>\n",
       "      <td>Wednesday</td>\n",
       "      <td>1</td>\n",
       "    </tr>\n",
       "    <tr>\n",
       "      <th>4</th>\n",
       "      <td>2004</td>\n",
       "      <td>3</td>\n",
       "      <td>10</td>\n",
       "      <td>22</td>\n",
       "      <td>70</td>\n",
       "      <td>11</td>\n",
       "      <td>2</td>\n",
       "      <td>Wednesday</td>\n",
       "      <td>1</td>\n",
       "    </tr>\n",
       "  </tbody>\n",
       "</table>\n",
       "</div>"
      ],
      "text/plain": [
       "   year  month  day  hour  dayofyear  week  dayofweek dayofweekname  quarter\n",
       "0  2004      3   10    18         70    11          2     Wednesday        1\n",
       "1  2004      3   10    19         70    11          2     Wednesday        1\n",
       "2  2004      3   10    20         70    11          2     Wednesday        1\n",
       "3  2004      3   10    21         70    11          2     Wednesday        1\n",
       "4  2004      3   10    22         70    11          2     Wednesday        1"
      ]
     },
     "execution_count": 21,
     "metadata": {},
     "output_type": "execute_result"
    }
   ],
   "source": [
    "# Create a new dataframe named as the datetime_data\n",
    "datetime_data = pd.DataFrame({\n",
    "    'year': data['Date_Time'].dt.year, 'month': data['Date_Time'].dt.month, 'day': data['Date_Time'].dt.day,\n",
    "    'hour': data['Date_Time'].dt.hour, 'dayofyear': data['Date_Time'].dt.dayofyear, \n",
    "    'week': data['Date_Time'].dt.isocalendar().week, 'dayofweek': data['Date_Time'].dt.dayofweek, \n",
    "    'dayofweekname': data['Date_Time'].dt.day_name(), 'quarter': data['Date_Time'].dt.quarter,\n",
    "})\n",
    "\n",
    "# Checking the data\n",
    "datetime_data.head()"
   ]
  },
  {
   "cell_type": "code",
   "execution_count": 23,
   "metadata": {},
   "outputs": [
    {
     "data": {
      "text/html": [
       "<div>\n",
       "<style scoped>\n",
       "    .dataframe tbody tr th:only-of-type {\n",
       "        vertical-align: middle;\n",
       "    }\n",
       "\n",
       "    .dataframe tbody tr th {\n",
       "        vertical-align: top;\n",
       "    }\n",
       "\n",
       "    .dataframe thead th {\n",
       "        text-align: right;\n",
       "    }\n",
       "</style>\n",
       "<table border=\"1\" class=\"dataframe\">\n",
       "  <thead>\n",
       "    <tr style=\"text-align: right;\">\n",
       "      <th></th>\n",
       "      <th>Date_Time</th>\n",
       "      <th>NO2(GT)</th>\n",
       "      <th>year</th>\n",
       "      <th>month</th>\n",
       "      <th>day</th>\n",
       "      <th>hour</th>\n",
       "      <th>dayofyear</th>\n",
       "      <th>week</th>\n",
       "      <th>dayofweek</th>\n",
       "      <th>dayofweekname</th>\n",
       "      <th>quarter</th>\n",
       "    </tr>\n",
       "  </thead>\n",
       "  <tbody>\n",
       "    <tr>\n",
       "      <th>0</th>\n",
       "      <td>2004-03-10 18:00:00</td>\n",
       "      <td>166</td>\n",
       "      <td>2004</td>\n",
       "      <td>3</td>\n",
       "      <td>10</td>\n",
       "      <td>18</td>\n",
       "      <td>70</td>\n",
       "      <td>11</td>\n",
       "      <td>2</td>\n",
       "      <td>Wednesday</td>\n",
       "      <td>1</td>\n",
       "    </tr>\n",
       "    <tr>\n",
       "      <th>1</th>\n",
       "      <td>2004-03-10 19:00:00</td>\n",
       "      <td>1174</td>\n",
       "      <td>2004</td>\n",
       "      <td>3</td>\n",
       "      <td>10</td>\n",
       "      <td>19</td>\n",
       "      <td>70</td>\n",
       "      <td>11</td>\n",
       "      <td>2</td>\n",
       "      <td>Wednesday</td>\n",
       "      <td>1</td>\n",
       "    </tr>\n",
       "    <tr>\n",
       "      <th>2</th>\n",
       "      <td>2004-03-10 20:00:00</td>\n",
       "      <td>131</td>\n",
       "      <td>2004</td>\n",
       "      <td>3</td>\n",
       "      <td>10</td>\n",
       "      <td>20</td>\n",
       "      <td>70</td>\n",
       "      <td>11</td>\n",
       "      <td>2</td>\n",
       "      <td>Wednesday</td>\n",
       "      <td>1</td>\n",
       "    </tr>\n",
       "    <tr>\n",
       "      <th>3</th>\n",
       "      <td>2004-03-10 21:00:00</td>\n",
       "      <td>172</td>\n",
       "      <td>2004</td>\n",
       "      <td>3</td>\n",
       "      <td>10</td>\n",
       "      <td>21</td>\n",
       "      <td>70</td>\n",
       "      <td>11</td>\n",
       "      <td>2</td>\n",
       "      <td>Wednesday</td>\n",
       "      <td>1</td>\n",
       "    </tr>\n",
       "    <tr>\n",
       "      <th>4</th>\n",
       "      <td>2004-03-10 22:00:00</td>\n",
       "      <td>131</td>\n",
       "      <td>2004</td>\n",
       "      <td>3</td>\n",
       "      <td>10</td>\n",
       "      <td>22</td>\n",
       "      <td>70</td>\n",
       "      <td>11</td>\n",
       "      <td>2</td>\n",
       "      <td>Wednesday</td>\n",
       "      <td>1</td>\n",
       "    </tr>\n",
       "  </tbody>\n",
       "</table>\n",
       "</div>"
      ],
      "text/plain": [
       "            Date_Time  NO2(GT)  year  month  day  hour  dayofyear  week  \\\n",
       "0 2004-03-10 18:00:00      166  2004      3   10    18         70    11   \n",
       "1 2004-03-10 19:00:00     1174  2004      3   10    19         70    11   \n",
       "2 2004-03-10 20:00:00      131  2004      3   10    20         70    11   \n",
       "3 2004-03-10 21:00:00      172  2004      3   10    21         70    11   \n",
       "4 2004-03-10 22:00:00      131  2004      3   10    22         70    11   \n",
       "\n",
       "   dayofweek dayofweekname  quarter  \n",
       "0          2     Wednesday        1  \n",
       "1          2     Wednesday        1  \n",
       "2          2     Wednesday        1  \n",
       "3          2     Wednesday        1  \n",
       "4          2     Wednesday        1  "
      ]
     },
     "execution_count": 23,
     "metadata": {},
     "output_type": "execute_result"
    }
   ],
   "source": [
    "# Concatenating the data\n",
    "new_data = pd.concat([data, datetime_data], axis=1)\n",
    "\n",
    "# Check the data\n",
    "new_data.head()"
   ]
  },
  {
   "cell_type": "markdown",
   "metadata": {},
   "source": [
    "## is_weekday to check if the day is a weekday or not"
   ]
  },
  {
   "cell_type": "code",
   "execution_count": 24,
   "metadata": {},
   "outputs": [],
   "source": [
    "new_data['is_weekday'] = 0 \n",
    "\n",
    "for i in range(0, len(new_data)):\n",
    "    # If the day is saturday (5) or sunday (6), then 0, else 1\n",
    "    if ((new_data['dayofweek'][i] == 5) | (new_data['dayofweek'][i] == 6)):\n",
    "        new_data['is_weekday'][i] = 0\n",
    "    else: \n",
    "        new_data['is_weekday'][i] = 1"
   ]
  },
  {
   "cell_type": "code",
   "execution_count": 25,
   "metadata": {},
   "outputs": [
    {
     "data": {
      "text/html": [
       "<div>\n",
       "<style scoped>\n",
       "    .dataframe tbody tr th:only-of-type {\n",
       "        vertical-align: middle;\n",
       "    }\n",
       "\n",
       "    .dataframe tbody tr th {\n",
       "        vertical-align: top;\n",
       "    }\n",
       "\n",
       "    .dataframe thead th {\n",
       "        text-align: right;\n",
       "    }\n",
       "</style>\n",
       "<table border=\"1\" class=\"dataframe\">\n",
       "  <thead>\n",
       "    <tr style=\"text-align: right;\">\n",
       "      <th></th>\n",
       "      <th>dayofweek</th>\n",
       "      <th>is_weekday</th>\n",
       "    </tr>\n",
       "  </thead>\n",
       "  <tbody>\n",
       "    <tr>\n",
       "      <th>0</th>\n",
       "      <td>2</td>\n",
       "      <td>1</td>\n",
       "    </tr>\n",
       "    <tr>\n",
       "      <th>1</th>\n",
       "      <td>2</td>\n",
       "      <td>1</td>\n",
       "    </tr>\n",
       "    <tr>\n",
       "      <th>2</th>\n",
       "      <td>2</td>\n",
       "      <td>1</td>\n",
       "    </tr>\n",
       "    <tr>\n",
       "      <th>3</th>\n",
       "      <td>2</td>\n",
       "      <td>1</td>\n",
       "    </tr>\n",
       "    <tr>\n",
       "      <th>4</th>\n",
       "      <td>2</td>\n",
       "      <td>1</td>\n",
       "    </tr>\n",
       "  </tbody>\n",
       "</table>\n",
       "</div>"
      ],
      "text/plain": [
       "   dayofweek  is_weekday\n",
       "0          2           1\n",
       "1          2           1\n",
       "2          2           1\n",
       "3          2           1\n",
       "4          2           1"
      ]
     },
     "execution_count": 25,
     "metadata": {},
     "output_type": "execute_result"
    }
   ],
   "source": [
    "# Checking the data\n",
    "new_data[['dayofweek', 'is_weekday']].head()"
   ]
  },
  {
   "cell_type": "markdown",
   "metadata": {
    "collapsed": true,
    "jupyter": {
     "outputs_hidden": true
    }
   },
   "source": [
    "## Difference Between Dates"
   ]
  },
  {
   "cell_type": "code",
   "execution_count": 27,
   "metadata": {},
   "outputs": [
    {
     "data": {
      "text/html": [
       "<div>\n",
       "<style scoped>\n",
       "    .dataframe tbody tr th:only-of-type {\n",
       "        vertical-align: middle;\n",
       "    }\n",
       "\n",
       "    .dataframe tbody tr th {\n",
       "        vertical-align: top;\n",
       "    }\n",
       "\n",
       "    .dataframe thead th {\n",
       "        text-align: right;\n",
       "    }\n",
       "</style>\n",
       "<table border=\"1\" class=\"dataframe\">\n",
       "  <thead>\n",
       "    <tr style=\"text-align: right;\">\n",
       "      <th></th>\n",
       "      <th>ID</th>\n",
       "      <th>Office_PIN</th>\n",
       "      <th>Application_Receipt_Date</th>\n",
       "      <th>Applicant_City_PIN</th>\n",
       "      <th>Applicant_Gender</th>\n",
       "      <th>Applicant_BirthDate</th>\n",
       "      <th>Applicant_Marital_Status</th>\n",
       "      <th>Applicant_Occupation</th>\n",
       "      <th>Applicant_Qualification</th>\n",
       "      <th>Manager_DOJ</th>\n",
       "      <th>...</th>\n",
       "      <th>Manager_Status</th>\n",
       "      <th>Manager_Gender</th>\n",
       "      <th>Manager_DoB</th>\n",
       "      <th>Manager_Num_Application</th>\n",
       "      <th>Manager_Num_Coded</th>\n",
       "      <th>Manager_Business</th>\n",
       "      <th>Manager_Num_Products</th>\n",
       "      <th>Manager_Business2</th>\n",
       "      <th>Manager_Num_Products2</th>\n",
       "      <th>Business_Sourced</th>\n",
       "    </tr>\n",
       "  </thead>\n",
       "  <tbody>\n",
       "    <tr>\n",
       "      <th>0</th>\n",
       "      <td>FIN1000001</td>\n",
       "      <td>842001</td>\n",
       "      <td>4/16/2007</td>\n",
       "      <td>844120.0</td>\n",
       "      <td>M</td>\n",
       "      <td>12/19/1971</td>\n",
       "      <td>M</td>\n",
       "      <td>Others</td>\n",
       "      <td>Graduate</td>\n",
       "      <td>11/10/2005</td>\n",
       "      <td>...</td>\n",
       "      <td>Confirmation</td>\n",
       "      <td>M</td>\n",
       "      <td>2/17/1978</td>\n",
       "      <td>2.0</td>\n",
       "      <td>1.0</td>\n",
       "      <td>335249.0</td>\n",
       "      <td>28.0</td>\n",
       "      <td>335249.0</td>\n",
       "      <td>28.0</td>\n",
       "      <td>0</td>\n",
       "    </tr>\n",
       "    <tr>\n",
       "      <th>1</th>\n",
       "      <td>FIN1000002</td>\n",
       "      <td>842001</td>\n",
       "      <td>4/16/2007</td>\n",
       "      <td>844111.0</td>\n",
       "      <td>M</td>\n",
       "      <td>2/17/1983</td>\n",
       "      <td>S</td>\n",
       "      <td>Others</td>\n",
       "      <td>Class XII</td>\n",
       "      <td>11/10/2005</td>\n",
       "      <td>...</td>\n",
       "      <td>Confirmation</td>\n",
       "      <td>M</td>\n",
       "      <td>2/17/1978</td>\n",
       "      <td>2.0</td>\n",
       "      <td>1.0</td>\n",
       "      <td>335249.0</td>\n",
       "      <td>28.0</td>\n",
       "      <td>335249.0</td>\n",
       "      <td>28.0</td>\n",
       "      <td>1</td>\n",
       "    </tr>\n",
       "    <tr>\n",
       "      <th>2</th>\n",
       "      <td>FIN1000003</td>\n",
       "      <td>800001</td>\n",
       "      <td>4/16/2007</td>\n",
       "      <td>844101.0</td>\n",
       "      <td>M</td>\n",
       "      <td>1/16/1966</td>\n",
       "      <td>M</td>\n",
       "      <td>Business</td>\n",
       "      <td>Class XII</td>\n",
       "      <td>5/27/2006</td>\n",
       "      <td>...</td>\n",
       "      <td>Confirmation</td>\n",
       "      <td>M</td>\n",
       "      <td>3/3/1969</td>\n",
       "      <td>0.0</td>\n",
       "      <td>0.0</td>\n",
       "      <td>357184.0</td>\n",
       "      <td>24.0</td>\n",
       "      <td>357184.0</td>\n",
       "      <td>24.0</td>\n",
       "      <td>0</td>\n",
       "    </tr>\n",
       "    <tr>\n",
       "      <th>3</th>\n",
       "      <td>FIN1000004</td>\n",
       "      <td>814112</td>\n",
       "      <td>4/16/2007</td>\n",
       "      <td>814112.0</td>\n",
       "      <td>M</td>\n",
       "      <td>2/3/1988</td>\n",
       "      <td>S</td>\n",
       "      <td>Salaried</td>\n",
       "      <td>Class XII</td>\n",
       "      <td>8/21/2003</td>\n",
       "      <td>...</td>\n",
       "      <td>Confirmation</td>\n",
       "      <td>F</td>\n",
       "      <td>8/14/1978</td>\n",
       "      <td>0.0</td>\n",
       "      <td>0.0</td>\n",
       "      <td>318356.0</td>\n",
       "      <td>22.0</td>\n",
       "      <td>318356.0</td>\n",
       "      <td>22.0</td>\n",
       "      <td>0</td>\n",
       "    </tr>\n",
       "    <tr>\n",
       "      <th>4</th>\n",
       "      <td>FIN1000005</td>\n",
       "      <td>814112</td>\n",
       "      <td>4/16/2007</td>\n",
       "      <td>815351.0</td>\n",
       "      <td>M</td>\n",
       "      <td>7/4/1985</td>\n",
       "      <td>M</td>\n",
       "      <td>Others</td>\n",
       "      <td>Class XII</td>\n",
       "      <td>5/8/2006</td>\n",
       "      <td>...</td>\n",
       "      <td>Confirmation</td>\n",
       "      <td>M</td>\n",
       "      <td>2/7/1971</td>\n",
       "      <td>2.0</td>\n",
       "      <td>1.0</td>\n",
       "      <td>230402.0</td>\n",
       "      <td>17.0</td>\n",
       "      <td>230402.0</td>\n",
       "      <td>17.0</td>\n",
       "      <td>0</td>\n",
       "    </tr>\n",
       "  </tbody>\n",
       "</table>\n",
       "<p>5 rows × 23 columns</p>\n",
       "</div>"
      ],
      "text/plain": [
       "           ID  Office_PIN Application_Receipt_Date  Applicant_City_PIN  \\\n",
       "0  FIN1000001      842001                4/16/2007            844120.0   \n",
       "1  FIN1000002      842001                4/16/2007            844111.0   \n",
       "2  FIN1000003      800001                4/16/2007            844101.0   \n",
       "3  FIN1000004      814112                4/16/2007            814112.0   \n",
       "4  FIN1000005      814112                4/16/2007            815351.0   \n",
       "\n",
       "  Applicant_Gender Applicant_BirthDate Applicant_Marital_Status  \\\n",
       "0                M          12/19/1971                        M   \n",
       "1                M           2/17/1983                        S   \n",
       "2                M           1/16/1966                        M   \n",
       "3                M            2/3/1988                        S   \n",
       "4                M            7/4/1985                        M   \n",
       "\n",
       "  Applicant_Occupation Applicant_Qualification Manager_DOJ  ...  \\\n",
       "0               Others                Graduate  11/10/2005  ...   \n",
       "1               Others               Class XII  11/10/2005  ...   \n",
       "2             Business               Class XII   5/27/2006  ...   \n",
       "3             Salaried               Class XII   8/21/2003  ...   \n",
       "4               Others               Class XII    5/8/2006  ...   \n",
       "\n",
       "  Manager_Status Manager_Gender  Manager_DoB Manager_Num_Application  \\\n",
       "0   Confirmation              M    2/17/1978                     2.0   \n",
       "1   Confirmation              M    2/17/1978                     2.0   \n",
       "2   Confirmation              M     3/3/1969                     0.0   \n",
       "3   Confirmation              F    8/14/1978                     0.0   \n",
       "4   Confirmation              M     2/7/1971                     2.0   \n",
       "\n",
       "  Manager_Num_Coded Manager_Business  Manager_Num_Products  Manager_Business2  \\\n",
       "0               1.0         335249.0                  28.0           335249.0   \n",
       "1               1.0         335249.0                  28.0           335249.0   \n",
       "2               0.0         357184.0                  24.0           357184.0   \n",
       "3               0.0         318356.0                  22.0           318356.0   \n",
       "4               1.0         230402.0                  17.0           230402.0   \n",
       "\n",
       "   Manager_Num_Products2  Business_Sourced  \n",
       "0                   28.0                 0  \n",
       "1                   28.0                 1  \n",
       "2                   24.0                 0  \n",
       "3                   22.0                 0  \n",
       "4                   17.0                 0  \n",
       "\n",
       "[5 rows x 23 columns]"
      ]
     },
     "execution_count": 27,
     "metadata": {},
     "output_type": "execute_result"
    }
   ],
   "source": [
    "# Import new data\n",
    "agent_data = pd.read_csv('datasets/agent_classification.csv')\n",
    "\n",
    "# Check the data\n",
    "agent_data.head()"
   ]
  },
  {
   "cell_type": "code",
   "execution_count": 28,
   "metadata": {},
   "outputs": [
    {
     "data": {
      "text/html": [
       "<div>\n",
       "<style scoped>\n",
       "    .dataframe tbody tr th:only-of-type {\n",
       "        vertical-align: middle;\n",
       "    }\n",
       "\n",
       "    .dataframe tbody tr th {\n",
       "        vertical-align: top;\n",
       "    }\n",
       "\n",
       "    .dataframe thead th {\n",
       "        text-align: right;\n",
       "    }\n",
       "</style>\n",
       "<table border=\"1\" class=\"dataframe\">\n",
       "  <thead>\n",
       "    <tr style=\"text-align: right;\">\n",
       "      <th></th>\n",
       "      <th>Application_Receipt_Date</th>\n",
       "      <th>Applicant_BirthDate</th>\n",
       "    </tr>\n",
       "  </thead>\n",
       "  <tbody>\n",
       "    <tr>\n",
       "      <th>0</th>\n",
       "      <td>4/16/2007</td>\n",
       "      <td>12/19/1971</td>\n",
       "    </tr>\n",
       "    <tr>\n",
       "      <th>1</th>\n",
       "      <td>4/16/2007</td>\n",
       "      <td>2/17/1983</td>\n",
       "    </tr>\n",
       "    <tr>\n",
       "      <th>2</th>\n",
       "      <td>4/16/2007</td>\n",
       "      <td>1/16/1966</td>\n",
       "    </tr>\n",
       "    <tr>\n",
       "      <th>3</th>\n",
       "      <td>4/16/2007</td>\n",
       "      <td>2/3/1988</td>\n",
       "    </tr>\n",
       "    <tr>\n",
       "      <th>4</th>\n",
       "      <td>4/16/2007</td>\n",
       "      <td>7/4/1985</td>\n",
       "    </tr>\n",
       "  </tbody>\n",
       "</table>\n",
       "</div>"
      ],
      "text/plain": [
       "  Application_Receipt_Date Applicant_BirthDate\n",
       "0                4/16/2007          12/19/1971\n",
       "1                4/16/2007           2/17/1983\n",
       "2                4/16/2007           1/16/1966\n",
       "3                4/16/2007            2/3/1988\n",
       "4                4/16/2007            7/4/1985"
      ]
     },
     "execution_count": 28,
     "metadata": {},
     "output_type": "execute_result"
    }
   ],
   "source": [
    "# Print specific columns of the data\n",
    "agent_data[['Application_Receipt_Date','Applicant_BirthDate']].head()"
   ]
  },
  {
   "cell_type": "markdown",
   "metadata": {},
   "source": [
    "### Calculate the difference of the dates"
   ]
  },
  {
   "cell_type": "code",
   "execution_count": 29,
   "metadata": {},
   "outputs": [
    {
     "data": {
      "text/html": [
       "<div>\n",
       "<style scoped>\n",
       "    .dataframe tbody tr th:only-of-type {\n",
       "        vertical-align: middle;\n",
       "    }\n",
       "\n",
       "    .dataframe tbody tr th {\n",
       "        vertical-align: top;\n",
       "    }\n",
       "\n",
       "    .dataframe thead th {\n",
       "        text-align: right;\n",
       "    }\n",
       "</style>\n",
       "<table border=\"1\" class=\"dataframe\">\n",
       "  <thead>\n",
       "    <tr style=\"text-align: right;\">\n",
       "      <th></th>\n",
       "      <th>Application_Receipt_Date</th>\n",
       "      <th>Applicant_BirthDate</th>\n",
       "    </tr>\n",
       "  </thead>\n",
       "  <tbody>\n",
       "    <tr>\n",
       "      <th>0</th>\n",
       "      <td>2007-04-16</td>\n",
       "      <td>1971-12-19</td>\n",
       "    </tr>\n",
       "    <tr>\n",
       "      <th>1</th>\n",
       "      <td>2007-04-16</td>\n",
       "      <td>1983-02-17</td>\n",
       "    </tr>\n",
       "    <tr>\n",
       "      <th>2</th>\n",
       "      <td>2007-04-16</td>\n",
       "      <td>1966-01-16</td>\n",
       "    </tr>\n",
       "    <tr>\n",
       "      <th>3</th>\n",
       "      <td>2007-04-16</td>\n",
       "      <td>1988-02-03</td>\n",
       "    </tr>\n",
       "    <tr>\n",
       "      <th>4</th>\n",
       "      <td>2007-04-16</td>\n",
       "      <td>1985-07-04</td>\n",
       "    </tr>\n",
       "  </tbody>\n",
       "</table>\n",
       "</div>"
      ],
      "text/plain": [
       "  Application_Receipt_Date Applicant_BirthDate\n",
       "0               2007-04-16          1971-12-19\n",
       "1               2007-04-16          1983-02-17\n",
       "2               2007-04-16          1966-01-16\n",
       "3               2007-04-16          1988-02-03\n",
       "4               2007-04-16          1985-07-04"
      ]
     },
     "execution_count": 29,
     "metadata": {},
     "output_type": "execute_result"
    }
   ],
   "source": [
    "# Converting to datetime feature\n",
    "agent_data['Application_Receipt_Date'] = pd.to_datetime(agent_data['Application_Receipt_Date'], format = '%m/%d/%Y')\n",
    "agent_data['Applicant_BirthDate'] = pd.to_datetime(agent_data['Applicant_BirthDate'], format = '%m/%d/%Y')\n",
    "\n",
    "# Print specific columns of the data\n",
    "agent_data[['Application_Receipt_Date','Applicant_BirthDate']].head()"
   ]
  },
  {
   "cell_type": "code",
   "execution_count": 35,
   "metadata": {},
   "outputs": [
    {
     "name": "stdout",
     "output_type": "stream",
     "text": [
      "35\n"
     ]
    }
   ],
   "source": [
    "# Print the age in years\n",
    "from datetime import date\n",
    "from dateutil.relativedelta import relativedelta\n",
    "\n",
    "print(relativedelta(agent_data['Application_Receipt_Date'][0], agent_data['Applicant_BirthDate'][0]).years)"
   ]
  },
  {
   "cell_type": "code",
   "execution_count": 39,
   "metadata": {},
   "outputs": [
    {
     "data": {
      "text/html": [
       "<div>\n",
       "<style scoped>\n",
       "    .dataframe tbody tr th:only-of-type {\n",
       "        vertical-align: middle;\n",
       "    }\n",
       "\n",
       "    .dataframe tbody tr th {\n",
       "        vertical-align: top;\n",
       "    }\n",
       "\n",
       "    .dataframe thead th {\n",
       "        text-align: right;\n",
       "    }\n",
       "</style>\n",
       "<table border=\"1\" class=\"dataframe\">\n",
       "  <thead>\n",
       "    <tr style=\"text-align: right;\">\n",
       "      <th></th>\n",
       "      <th>ID</th>\n",
       "      <th>Office_PIN</th>\n",
       "      <th>Application_Receipt_Date</th>\n",
       "      <th>Applicant_City_PIN</th>\n",
       "      <th>Applicant_Gender</th>\n",
       "      <th>Applicant_BirthDate</th>\n",
       "      <th>Applicant_Marital_Status</th>\n",
       "      <th>Applicant_Occupation</th>\n",
       "      <th>Applicant_Qualification</th>\n",
       "      <th>Manager_DOJ</th>\n",
       "      <th>...</th>\n",
       "      <th>Manager_Gender</th>\n",
       "      <th>Manager_DoB</th>\n",
       "      <th>Manager_Num_Application</th>\n",
       "      <th>Manager_Num_Coded</th>\n",
       "      <th>Manager_Business</th>\n",
       "      <th>Manager_Num_Products</th>\n",
       "      <th>Manager_Business2</th>\n",
       "      <th>Manager_Num_Products2</th>\n",
       "      <th>Business_Sourced</th>\n",
       "      <th>Applicant_age</th>\n",
       "    </tr>\n",
       "  </thead>\n",
       "  <tbody>\n",
       "    <tr>\n",
       "      <th>0</th>\n",
       "      <td>FIN1000001</td>\n",
       "      <td>842001</td>\n",
       "      <td>2007-04-16</td>\n",
       "      <td>844120.0</td>\n",
       "      <td>M</td>\n",
       "      <td>1971-12-19</td>\n",
       "      <td>M</td>\n",
       "      <td>Others</td>\n",
       "      <td>Graduate</td>\n",
       "      <td>11/10/2005</td>\n",
       "      <td>...</td>\n",
       "      <td>M</td>\n",
       "      <td>2/17/1978</td>\n",
       "      <td>2.0</td>\n",
       "      <td>1.0</td>\n",
       "      <td>335249.0</td>\n",
       "      <td>28.0</td>\n",
       "      <td>335249.0</td>\n",
       "      <td>28.0</td>\n",
       "      <td>0</td>\n",
       "      <td>12902.0</td>\n",
       "    </tr>\n",
       "    <tr>\n",
       "      <th>1</th>\n",
       "      <td>FIN1000002</td>\n",
       "      <td>842001</td>\n",
       "      <td>2007-04-16</td>\n",
       "      <td>844111.0</td>\n",
       "      <td>M</td>\n",
       "      <td>1983-02-17</td>\n",
       "      <td>S</td>\n",
       "      <td>Others</td>\n",
       "      <td>Class XII</td>\n",
       "      <td>11/10/2005</td>\n",
       "      <td>...</td>\n",
       "      <td>M</td>\n",
       "      <td>2/17/1978</td>\n",
       "      <td>2.0</td>\n",
       "      <td>1.0</td>\n",
       "      <td>335249.0</td>\n",
       "      <td>28.0</td>\n",
       "      <td>335249.0</td>\n",
       "      <td>28.0</td>\n",
       "      <td>1</td>\n",
       "      <td>8824.0</td>\n",
       "    </tr>\n",
       "    <tr>\n",
       "      <th>2</th>\n",
       "      <td>FIN1000003</td>\n",
       "      <td>800001</td>\n",
       "      <td>2007-04-16</td>\n",
       "      <td>844101.0</td>\n",
       "      <td>M</td>\n",
       "      <td>1966-01-16</td>\n",
       "      <td>M</td>\n",
       "      <td>Business</td>\n",
       "      <td>Class XII</td>\n",
       "      <td>5/27/2006</td>\n",
       "      <td>...</td>\n",
       "      <td>M</td>\n",
       "      <td>3/3/1969</td>\n",
       "      <td>0.0</td>\n",
       "      <td>0.0</td>\n",
       "      <td>357184.0</td>\n",
       "      <td>24.0</td>\n",
       "      <td>357184.0</td>\n",
       "      <td>24.0</td>\n",
       "      <td>0</td>\n",
       "      <td>15065.0</td>\n",
       "    </tr>\n",
       "    <tr>\n",
       "      <th>3</th>\n",
       "      <td>FIN1000004</td>\n",
       "      <td>814112</td>\n",
       "      <td>2007-04-16</td>\n",
       "      <td>814112.0</td>\n",
       "      <td>M</td>\n",
       "      <td>1988-02-03</td>\n",
       "      <td>S</td>\n",
       "      <td>Salaried</td>\n",
       "      <td>Class XII</td>\n",
       "      <td>8/21/2003</td>\n",
       "      <td>...</td>\n",
       "      <td>F</td>\n",
       "      <td>8/14/1978</td>\n",
       "      <td>0.0</td>\n",
       "      <td>0.0</td>\n",
       "      <td>318356.0</td>\n",
       "      <td>22.0</td>\n",
       "      <td>318356.0</td>\n",
       "      <td>22.0</td>\n",
       "      <td>0</td>\n",
       "      <td>7012.0</td>\n",
       "    </tr>\n",
       "    <tr>\n",
       "      <th>4</th>\n",
       "      <td>FIN1000005</td>\n",
       "      <td>814112</td>\n",
       "      <td>2007-04-16</td>\n",
       "      <td>815351.0</td>\n",
       "      <td>M</td>\n",
       "      <td>1985-07-04</td>\n",
       "      <td>M</td>\n",
       "      <td>Others</td>\n",
       "      <td>Class XII</td>\n",
       "      <td>5/8/2006</td>\n",
       "      <td>...</td>\n",
       "      <td>M</td>\n",
       "      <td>2/7/1971</td>\n",
       "      <td>2.0</td>\n",
       "      <td>1.0</td>\n",
       "      <td>230402.0</td>\n",
       "      <td>17.0</td>\n",
       "      <td>230402.0</td>\n",
       "      <td>17.0</td>\n",
       "      <td>0</td>\n",
       "      <td>7956.0</td>\n",
       "    </tr>\n",
       "  </tbody>\n",
       "</table>\n",
       "<p>5 rows × 24 columns</p>\n",
       "</div>"
      ],
      "text/plain": [
       "           ID  Office_PIN Application_Receipt_Date  Applicant_City_PIN  \\\n",
       "0  FIN1000001      842001               2007-04-16            844120.0   \n",
       "1  FIN1000002      842001               2007-04-16            844111.0   \n",
       "2  FIN1000003      800001               2007-04-16            844101.0   \n",
       "3  FIN1000004      814112               2007-04-16            814112.0   \n",
       "4  FIN1000005      814112               2007-04-16            815351.0   \n",
       "\n",
       "  Applicant_Gender Applicant_BirthDate Applicant_Marital_Status  \\\n",
       "0                M          1971-12-19                        M   \n",
       "1                M          1983-02-17                        S   \n",
       "2                M          1966-01-16                        M   \n",
       "3                M          1988-02-03                        S   \n",
       "4                M          1985-07-04                        M   \n",
       "\n",
       "  Applicant_Occupation Applicant_Qualification Manager_DOJ  ...  \\\n",
       "0               Others                Graduate  11/10/2005  ...   \n",
       "1               Others               Class XII  11/10/2005  ...   \n",
       "2             Business               Class XII   5/27/2006  ...   \n",
       "3             Salaried               Class XII   8/21/2003  ...   \n",
       "4               Others               Class XII    5/8/2006  ...   \n",
       "\n",
       "  Manager_Gender Manager_DoB  Manager_Num_Application Manager_Num_Coded  \\\n",
       "0              M   2/17/1978                      2.0               1.0   \n",
       "1              M   2/17/1978                      2.0               1.0   \n",
       "2              M    3/3/1969                      0.0               0.0   \n",
       "3              F   8/14/1978                      0.0               0.0   \n",
       "4              M    2/7/1971                      2.0               1.0   \n",
       "\n",
       "  Manager_Business Manager_Num_Products  Manager_Business2  \\\n",
       "0         335249.0                 28.0           335249.0   \n",
       "1         335249.0                 28.0           335249.0   \n",
       "2         357184.0                 24.0           357184.0   \n",
       "3         318356.0                 22.0           318356.0   \n",
       "4         230402.0                 17.0           230402.0   \n",
       "\n",
       "   Manager_Num_Products2  Business_Sourced  Applicant_age  \n",
       "0                   28.0                 0        12902.0  \n",
       "1                   28.0                 1         8824.0  \n",
       "2                   24.0                 0        15065.0  \n",
       "3                   22.0                 0         7012.0  \n",
       "4                   17.0                 0         7956.0  \n",
       "\n",
       "[5 rows x 24 columns]"
      ]
     },
     "execution_count": 39,
     "metadata": {},
     "output_type": "execute_result"
    }
   ],
   "source": [
    "# Deduce the applicant age\n",
    "agent_data['Applicant_age'] = agent_data.apply(lambda x: (x['Application_Receipt_Date'] - x['Applicant_BirthDate']).days, axis=1)\n",
    "\n",
    "# Checking the data\n",
    "agent_data.head()"
   ]
  }
 ],
 "metadata": {
  "kernelspec": {
   "display_name": "Python 3 (ipykernel)",
   "language": "python",
   "name": "python3"
  },
  "language_info": {
   "codemirror_mode": {
    "name": "ipython",
    "version": 3
   },
   "file_extension": ".py",
   "mimetype": "text/x-python",
   "name": "python",
   "nbconvert_exporter": "python",
   "pygments_lexer": "ipython3",
   "version": "3.12.1"
  }
 },
 "nbformat": 4,
 "nbformat_minor": 4
}
