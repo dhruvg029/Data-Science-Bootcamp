{
 "cells": [
  {
   "cell_type": "markdown",
   "metadata": {
    "colab_type": "text",
    "id": "Zf0s_g8kcGwX"
   },
   "source": [
    "# Regular Expressions\n",
    "\n",
    "A regular expression is a sequence of characters that forms a search pattern. When you search for data in a text, you can use this search pattern to describe what you are searching for. A regular expression can be a single character, or a more complicated pattern. They can be used to perform all types of text search and text replace operations.\n",
    "\n",
    "## Importing libraries"
   ]
  },
  {
   "cell_type": "code",
   "execution_count": 1,
   "metadata": {},
   "outputs": [
    {
     "name": "stdout",
     "output_type": "stream",
     "text": [
      "2.1.3\n",
      "1.26.1\n"
     ]
    }
   ],
   "source": [
    "# Importing necessary libraries\n",
    "import pandas as pd\n",
    "import numpy as np\n",
    "import re\n",
    "\n",
    "import warnings\n",
    "warnings.filterwarnings('ignore')\n",
    "\n",
    "import matplotlib.pyplot as plt\n",
    "%matplotlib inline\n",
    "\n",
    "print(pd.__version__)\n",
    "print(np.__version__)"
   ]
  },
  {
   "cell_type": "markdown",
   "metadata": {},
   "source": [
    "## Basics of Regular Expressions\n",
    "\n",
    "### 'r' expression\n",
    "**r** expression is used to create a raw string. Python raw string treats backslash (\\\\) as a literal character."
   ]
  },
  {
   "cell_type": "code",
   "execution_count": 2,
   "metadata": {
    "colab": {
     "base_uri": "https://localhost:8080/",
     "height": 69
    },
    "colab_type": "code",
    "id": "ysDOlmTieBoD",
    "outputId": "994a3681-a956-4c4f-b3c4-e625cca8001c"
   },
   "outputs": [
    {
     "name": "stdout",
     "output_type": "stream",
     "text": [
      "String: C:\\Users\\Dhruv\n"
     ]
    }
   ],
   "source": [
    "# Normal string vs Raw string\n",
    "path = \"C:\\\\Users\\\\Dhruv\"  #string\n",
    "print('String:',path)"
   ]
  },
  {
   "cell_type": "code",
   "execution_count": 3,
   "metadata": {},
   "outputs": [
    {
     "name": "stdout",
     "output_type": "stream",
     "text": [
      "Raw String: C:\\Users\\Dhruv\n"
     ]
    }
   ],
   "source": [
    "path= r\"C:\\Users\\Dhruv\"  #raw string\n",
    "print('Raw String:', path)"
   ]
  },
  {
   "cell_type": "markdown",
   "metadata": {
    "colab_type": "text",
    "id": "BzgUXp2t5t__"
   },
   "source": [
    "### Methods of re module\n",
    "\n",
    "It is always recommended to use raw strings while dealing with regular expressions.\n",
    "\n",
    "#### re.match()\n",
    "\n",
    "The match() function returns a match object on success and none on failure. "
   ]
  },
  {
   "cell_type": "code",
   "execution_count": 4,
   "metadata": {
    "colab": {
     "base_uri": "https://localhost:8080/",
     "height": 52
    },
    "colab_type": "code",
    "id": "LiXEkNiFsuyl",
    "outputId": "fabb06b0-d45b-4730-ccf8-77ab0ac5a9c2"
   },
   "outputs": [
    {
     "name": "stdout",
     "output_type": "stream",
     "text": [
      "Result 1: <re.Match object; span=(0, 5), match='Dhruv'>\n",
      "Result 2: None\n"
     ]
    }
   ],
   "source": [
    "# Match a word at the beginning of a string\n",
    "result_1 = re.match('Dhruv', r'Dhruv Gupta is studying from Delhi Technological University!') \n",
    "print('Result 1:', result_1)\n",
    "\n",
    "result_2 = re.match('Delhi', r'Dhruv Gupta is studying from Delhi Technological University!') \n",
    "print('Result 2:', result_2)"
   ]
  },
  {
   "cell_type": "code",
   "execution_count": 5,
   "metadata": {
    "colab": {
     "base_uri": "https://localhost:8080/",
     "height": 34
    },
    "colab_type": "code",
    "id": "UH1qzis2ebvp",
    "outputId": "8f61d1ce-cd38-41aa-cc0a-58e28cde7fb7"
   },
   "outputs": [
    {
     "name": "stdout",
     "output_type": "stream",
     "text": [
      "Dhruv\n"
     ]
    }
   ],
   "source": [
    "# Use the group() function to get the matched expression.\n",
    "print(result_1.group())  # returns the total matches"
   ]
  },
  {
   "cell_type": "markdown",
   "metadata": {
    "colab_type": "text",
    "id": "kamRye8242ZW"
   },
   "source": [
    "#### re.search()\n",
    "\n",
    "Matches the first occurence of a pattern in the entire string."
   ]
  },
  {
   "cell_type": "code",
   "execution_count": 6,
   "metadata": {
    "colab": {
     "base_uri": "https://localhost:8080/",
     "height": 35
    },
    "colab_type": "code",
    "id": "tPWpkEMT15yo",
    "outputId": "46d61b97-fd53-4afe-b26b-e758878c1831"
   },
   "outputs": [
    {
     "name": "stdout",
     "output_type": "stream",
     "text": [
      "is\n"
     ]
    }
   ],
   "source": [
    "# search for the pattern \"is\" in a given string\n",
    "result = re.search('is', r'Dhruv Gupta is studying from Delhi Technological University! Dhruv is 23 years old!')\n",
    "print(result.group())"
   ]
  },
  {
   "cell_type": "markdown",
   "metadata": {
    "colab_type": "text",
    "id": "C3rEa5tA-p1v"
   },
   "source": [
    "#### re.findall()\n",
    "\n",
    "It will return all the occurrences of the pattern from the string. It can work like both **`re.search()`** and **`re.match()`**."
   ]
  },
  {
   "cell_type": "code",
   "execution_count": 7,
   "metadata": {
    "colab": {
     "base_uri": "https://localhost:8080/",
     "height": 34
    },
    "colab_type": "code",
    "id": "FnX7nhmm15wv",
    "outputId": "3b711ff4-0abc-4018-ec57-476f574f6f8c"
   },
   "outputs": [
    {
     "name": "stdout",
     "output_type": "stream",
     "text": [
      "['is', 'is']\n"
     ]
    }
   ],
   "source": [
    "# Search for all the occurences for the pattern 'is' in a given string\n",
    "result = re.findall('is', r'Dhruv Gupta is studying from Delhi Technological University! Dhruv is 23 years old!') \n",
    "print(result)"
   ]
  },
  {
   "cell_type": "markdown",
   "metadata": {
    "colab_type": "text",
    "id": "xQmyJ3li_FA4"
   },
   "source": [
    "### Special sequences\n",
    "\n",
    "#### '\\A'\tsequence\n",
    "\n",
    "Returns a match if the specified pattern is at the beginning of the string. This is useful in cases where you have multiple strings of text, and you have to extract the first word only, given that first word is 'Analytics'. If you would try to find some other word, then it will return an empty list."
   ]
  },
  {
   "cell_type": "code",
   "execution_count": 8,
   "metadata": {
    "colab": {
     "base_uri": "https://localhost:8080/",
     "height": 34
    },
    "colab_type": "code",
    "id": "h-sfPEgn-QY5",
    "outputId": "5062ca03-b54f-47da-ada2-99c7dd8ea410"
   },
   "outputs": [
    {
     "name": "stdout",
     "output_type": "stream",
     "text": [
      "Result 1: ['Dhruv']\n",
      "Result 2: []\n"
     ]
    }
   ],
   "source": [
    "# Match the pattern in a given string\n",
    "result_1 = re.findall('\\ADhruv', r'Dhruv Gupta is studying from Delhi Technological University!') \n",
    "print('Result 1:', result_1)\n",
    "\n",
    "result_2 = re.findall('\\ADelhi', r'Dhruv Gupta is studying from Delhi Technological University!') \n",
    "print('Result 2:', result_2)"
   ]
  },
  {
   "cell_type": "markdown",
   "metadata": {
    "colab_type": "text",
    "id": "9cuV3PLx_0QN"
   },
   "source": [
    "#### \\b sequence \n",
    "\n",
    "Returns a match where the specified pattern is at the beginning or at the end of a word."
   ]
  },
  {
   "cell_type": "code",
   "execution_count": 9,
   "metadata": {
    "colab": {
     "base_uri": "https://localhost:8080/",
     "height": 35
    },
    "colab_type": "code",
    "id": "WHo26_h_-QcB",
    "outputId": "e8d25f02-07e9-4366-f8f5-f6eba0f77b9c"
   },
   "outputs": [
    {
     "name": "stdout",
     "output_type": "stream",
     "text": [
      "['ity', 'ity']\n"
     ]
    }
   ],
   "source": [
    "# Check if there is any word that ends with \"ity\"\n",
    "result = re.findall(r'ity\\b', r'Dhruv Gupta is studying from Delhi Technological University! This University is the best!')\n",
    "print(result)"
   ]
  },
  {
   "cell_type": "markdown",
   "metadata": {
    "colab_type": "text",
    "id": "t8rjV3vrBKRz"
   },
   "source": [
    "#### \\B sequence\t\n",
    "\n",
    "Returns a match where the specified pattern is present, but NOT at the beginning (or at the end) of a word."
   ]
  },
  {
   "cell_type": "code",
   "execution_count": 10,
   "metadata": {
    "colab": {
     "base_uri": "https://localhost:8080/",
     "height": 34
    },
    "colab_type": "code",
    "id": "ZQv4iybYsus6",
    "outputId": "95bb6666-9f22-4772-b359-f5b03d8e1715"
   },
   "outputs": [
    {
     "name": "stdout",
     "output_type": "stream",
     "text": [
      "['i', 'i', 'i', 'i', 'i']\n"
     ]
    }
   ],
   "source": [
    "# Check if there is any 'i' present in the given string\n",
    "result = re.findall(r'\\Bi', r'Dhruv Gupta is studying from Delhi Technological University!')\n",
    "print(result)"
   ]
  },
  {
   "cell_type": "markdown",
   "metadata": {
    "colab_type": "text",
    "id": "I5dAw37yBkKb"
   },
   "source": [
    "#### \\d and \\d+ sequences\n",
    "\n",
    "Returns a match where the string contains digits (numbers from 0-9)."
   ]
  },
  {
   "cell_type": "code",
   "execution_count": 11,
   "metadata": {
    "colab": {
     "base_uri": "https://localhost:8080/",
     "height": 54
    },
    "colab_type": "code",
    "id": "bJfck2AgsRYO",
    "outputId": "bb2281b3-ffd5-4cb6-c79f-a6f2f74116d4"
   },
   "outputs": [
    {
     "name": "stdout",
     "output_type": "stream",
     "text": [
      "['2', '1', '2', '0', '2', '0']\n",
      "['21', '2020']\n",
      "Numbers are there!\n"
     ]
    }
   ],
   "source": [
    "# Check if the string contains any digits (numbers from 0-9)\n",
    "string = r'21 million cases occurred in 2020'\n",
    "\n",
    "result_1 = re.findall('\\d', string)\n",
    "\n",
    "# adding '+' after '\\d' will continue to extract digits till encounters a space\n",
    "result_2 = re.findall('\\d+', string)\n",
    "\n",
    "print(result_1)\n",
    "print(result_2, end = '\\n')\n",
    "\n",
    "if (result_1 and result_2):\n",
    "    print('Numbers are there!')\n",
    "else:\n",
    "    print('No numbers!')"
   ]
  },
  {
   "cell_type": "markdown",
   "metadata": {
    "colab_type": "text",
    "id": "CLmRsnBDB5xm"
   },
   "source": [
    "#### \\D and \\D+ sequences \n",
    "\n",
    "Returns a match where the string does not contain any digit."
   ]
  },
  {
   "cell_type": "code",
   "execution_count": 12,
   "metadata": {
    "colab": {
     "base_uri": "https://localhost:8080/",
     "height": 54
    },
    "colab_type": "code",
    "id": "YvbdEkeIBaWJ",
    "outputId": "74cbbede-d223-4402-cc27-edcf11c579db"
   },
   "outputs": [
    {
     "name": "stdout",
     "output_type": "stream",
     "text": [
      "[' ', 'm', 'i', 'l', 'l', 'i', 'o', 'n', ' ', 'c', 'a', 's', 'e', 's', ' ', 'o', 'c', 'c', 'u', 'r', 'r', 'e', 'd', ' ', 'i', 'n', ' ']\n",
      "[' million cases occurred in ']\n",
      "Numbers are not there!\n"
     ]
    }
   ],
   "source": [
    "string = r'21 million cases occurred in 2020'\n",
    "\n",
    "result_1 = re.findall('\\D', string)\n",
    "\n",
    "# adding '+' after '\\D' will continue to extract characters till encounters a space\n",
    "result_2 = re.findall('\\D+', string)\n",
    "\n",
    "print(result_1)\n",
    "print(result_2, end = '\\n')\n",
    "\n",
    "if (result_1 and result_2):\n",
    "    print('Numbers are not there!')\n",
    "else:\n",
    "    print('Numbers are there!')"
   ]
  },
  {
   "cell_type": "markdown",
   "metadata": {
    "colab_type": "text",
    "id": "m4IXrubzCSKD"
   },
   "source": [
    "#### \\w and \\w+ sequences \n",
    "\n",
    "Helps in extraction of alphanumeric characters only (characters from a to Z, digits from 0-9, and the underscore _ character)."
   ]
  },
  {
   "cell_type": "code",
   "execution_count": 13,
   "metadata": {
    "colab": {
     "base_uri": "https://localhost:8080/",
     "height": 54
    },
    "colab_type": "code",
    "id": "27BWx3NwBaZQ",
    "outputId": "208f7b35-dbcb-44e7-89a0-43ae9ac5cfe8"
   },
   "outputs": [
    {
     "name": "stdout",
     "output_type": "stream",
     "text": [
      "['2', '1', 'm', 'i', 'l', 'l', 'i', 'o', 'n', 'c', 'a', 's', 'e', 's', 'o', 'c', 'c', 'u', 'r', 'r', 'e', 'd', 'i', 'n', '2', '0', '2', '0']\n",
      "['21', 'million', 'cases', 'occurred', 'in', '2020']\n"
     ]
    }
   ],
   "source": [
    "string = r'21 million cases occurred in 2020'\n",
    "\n",
    "result_1 = re.findall('\\w', string)\n",
    "\n",
    "# adding '+' after '\\D' will continue to extract characters till encounters a space\n",
    "result_2 = re.findall('\\w+', string)\n",
    "\n",
    "print(result_1)\n",
    "print(result_2, end = '\\n')"
   ]
  },
  {
   "cell_type": "markdown",
   "metadata": {
    "colab_type": "text",
    "id": "nk_D9U6yh6GN"
   },
   "source": [
    "#### \\W sequence \n",
    "\n",
    "Returns match at every non alphanumeric character."
   ]
  },
  {
   "cell_type": "code",
   "execution_count": 14,
   "metadata": {
    "colab": {
     "base_uri": "https://localhost:8080/",
     "height": 52
    },
    "colab_type": "code",
    "id": "BdeL-GATCRlT",
    "outputId": "6adb4e1f-80f9-4e64-fb53-fc3b80d1bb08"
   },
   "outputs": [
    {
     "name": "stdout",
     "output_type": "stream",
     "text": [
      "[' ', ' ', ' ', ' ', ' ', '!', '!']\n"
     ]
    }
   ],
   "source": [
    "string = r'21 million cases occurred in 2020!!'\n",
    "\n",
    "# Returns a match at every non word character (characters not between a and Z. Like \"!\", \"?\" white-space etc.)\n",
    "result = re.findall('\\W', string)\n",
    "print(result)"
   ]
  },
  {
   "cell_type": "markdown",
   "metadata": {
    "colab_type": "text",
    "id": "UIaXDjPYDT1S"
   },
   "source": [
    "### Metacharacters\n",
    "\n",
    "Metacharacters are characters with a special meaning.\n",
    "\n",
    "#### 1. (.) character\n",
    "\n",
    "Matches any character (except newline character)."
   ]
  },
  {
   "cell_type": "code",
   "execution_count": 15,
   "metadata": {
    "colab": {
     "base_uri": "https://localhost:8080/",
     "height": 52
    },
    "colab_type": "code",
    "id": "hFZuFqBdDS3l",
    "outputId": "2bcbb8db-927f-4a06-8f57-14e4c1be5765"
   },
   "outputs": [
    {
     "name": "stdout",
     "output_type": "stream",
     "text": [
      "['Univ']\n",
      "['Univers']\n"
     ]
    }
   ],
   "source": [
    "string = r'Dhruv Gupta is studying from Delhi Technological University!' \n",
    "\n",
    "# Search for a string that starts with \"uni\", followed by three (any) characters\n",
    "result_1 = re.findall('Uni.', string)\n",
    "result_2 = re.findall('Univ...', string)\n",
    "\n",
    "print(result_1)\n",
    "print(result_2, end = '\\n')"
   ]
  },
  {
   "cell_type": "markdown",
   "metadata": {
    "colab_type": "text",
    "id": "zI7dJWYpDl3G"
   },
   "source": [
    "#### 2. (^) character \n",
    "\n",
    "Starts with a pattern."
   ]
  },
  {
   "cell_type": "code",
   "execution_count": 16,
   "metadata": {
    "colab": {
     "base_uri": "https://localhost:8080/",
     "height": 52
    },
    "colab_type": "code",
    "id": "_3uPdcQPDlR0",
    "outputId": "cc06c976-a0a3-469a-ba55-0503bda9504d"
   },
   "outputs": [
    {
     "name": "stdout",
     "output_type": "stream",
     "text": [
      "['Dhruv']\n",
      "[]\n"
     ]
    }
   ],
   "source": [
    "string = r'Dhruv Gupta is studying from Delhi Technological University!'\n",
    "\n",
    "# Check if the string starts with 'Dhruv'\n",
    "result_1 = re.findall('^Dhruv', string)\n",
    "\n",
    "# Check if the string starts with 'Gupta'\n",
    "result_2 = re.findall('^Gupta', string)\n",
    "\n",
    "print(result_1)\n",
    "print(result_2, end = '\\n')"
   ]
  },
  {
   "cell_type": "markdown",
   "metadata": {
    "colab_type": "text",
    "id": "8uPoaY_ID0LW"
   },
   "source": [
    "#### ($) character\n",
    "\n",
    "Ends with a pattern."
   ]
  },
  {
   "cell_type": "code",
   "execution_count": 17,
   "metadata": {
    "colab": {
     "base_uri": "https://localhost:8080/",
     "height": 52
    },
    "colab_type": "code",
    "id": "IK_XYDpmC9f_",
    "outputId": "ced47b00-2868-4d5e-f79e-dcf06adcce89"
   },
   "outputs": [
    {
     "name": "stdout",
     "output_type": "stream",
     "text": [
      "['University!']\n",
      "[]\n"
     ]
    }
   ],
   "source": [
    "string = r'Dhruv Gupta is studying from Delhi Technological University!'\n",
    "\n",
    "# Check if the string ends with 'University!'\n",
    "result_1 = re.findall('University!$', string)\n",
    "\n",
    "# Check if the string ends with 'University'\n",
    "result_2 = re.findall('University$', string)\n",
    "\n",
    "print(result_1)\n",
    "print(result_2, end = '\\n')"
   ]
  },
  {
   "cell_type": "markdown",
   "metadata": {
    "colab_type": "text",
    "id": "Fz089xrhD-HP"
   },
   "source": [
    "#### (*) character \n",
    "\n",
    "Matches for zero or more occurences of the pattern to the left of it."
   ]
  },
  {
   "cell_type": "code",
   "execution_count": 18,
   "metadata": {
    "colab": {
     "base_uri": "https://localhost:8080/",
     "height": 52
    },
    "colab_type": "code",
    "id": "5vXhYm30CRi4",
    "outputId": "2fd5763b-9d58-4642-ac9c-ee62bf26130d"
   },
   "outputs": [
    {
     "name": "stdout",
     "output_type": "stream",
     "text": [
      "['easy', 'easssy', 'eay']\n"
     ]
    }
   ],
   "source": [
    "string = 'easy easssy eay ey'\n",
    "\n",
    "# Check if the string contains 'ea' followed by 0 or more 's' characters and ending with y\n",
    "result = re.findall('eas*y', string)\n",
    "\n",
    "print(result)"
   ]
  },
  {
   "cell_type": "markdown",
   "metadata": {
    "colab_type": "text",
    "id": "O7zkTLHqY3wa"
   },
   "source": [
    "#### (+) character \n",
    "\n",
    "Matches one or more occurences of the pattern to the left of it."
   ]
  },
  {
   "cell_type": "code",
   "execution_count": 19,
   "metadata": {
    "colab": {
     "base_uri": "https://localhost:8080/",
     "height": 52
    },
    "colab_type": "code",
    "id": "20iFZpA2CRgo",
    "outputId": "115859ad-fe83-4638-e937-26f21a0fcd19"
   },
   "outputs": [
    {
     "name": "stdout",
     "output_type": "stream",
     "text": [
      "['easy', 'easssy']\n"
     ]
    }
   ],
   "source": [
    "string = 'easy easssy eay ey'\n",
    "\n",
    "# Check if the string contains 'ea' followed by 1 or more 's' characters and ending with y\n",
    "result = re.findall('eas+y', string)\n",
    "\n",
    "print(result)"
   ]
  },
  {
   "cell_type": "markdown",
   "metadata": {
    "colab_type": "text",
    "id": "F7V5GysyXEip"
   },
   "source": [
    "#### (?) character \n",
    "\n",
    "Matches zero or one occurrence of the pattern left to it."
   ]
  },
  {
   "cell_type": "code",
   "execution_count": 20,
   "metadata": {
    "colab": {
     "base_uri": "https://localhost:8080/",
     "height": 52
    },
    "colab_type": "code",
    "id": "RAOJuCOLXCli",
    "outputId": "f9184025-9edf-48ea-a213-61d9edb1f04b"
   },
   "outputs": [
    {
     "name": "stdout",
     "output_type": "stream",
     "text": [
      "['easy', 'eay']\n"
     ]
    }
   ],
   "source": [
    "string = 'easy easssy eay ey'\n",
    "\n",
    "# Check if the string contains 'ea' followed by 0 or 1 character and ending with y\n",
    "result = re.findall('eas?y', string)\n",
    "\n",
    "print(result)"
   ]
  },
  {
   "cell_type": "markdown",
   "metadata": {
    "colab_type": "text",
    "id": "jwH40pYTu-tX"
   },
   "source": [
    "#### (|) character \n",
    "\n",
    "Check of either 1 pattern or another in a given string."
   ]
  },
  {
   "cell_type": "code",
   "execution_count": 21,
   "metadata": {
    "colab": {
     "base_uri": "https://localhost:8080/",
     "height": 54
    },
    "colab_type": "code",
    "id": "dyMYGwnoCRfJ",
    "outputId": "f42cb57a-a345-45f9-f62f-1cfc1d30177c"
   },
   "outputs": [
    {
     "name": "stdout",
     "output_type": "stream",
     "text": [
      "['Dhruv ']\n",
      "['is '] "
     ]
    }
   ],
   "source": [
    "string = r'Dhruv Gupta is studying from Delhi Technological University!'\n",
    "\n",
    "# Check if the string contains either 'Dhruv' or 'Gupta'.\n",
    "result_1 = re.findall('Dhruv | Gupta', string)\n",
    "result_2 = re.findall('is | New', string)\n",
    "\n",
    "print(result_1)\n",
    "print(result_2, end = ' ')"
   ]
  },
  {
   "cell_type": "markdown",
   "metadata": {
    "colab_type": "text",
    "id": "Bvc01ip_E_la"
   },
   "source": [
    "### Set operations for regular expressions\n",
    "\n",
    "A set is a bunch of characters inside a pair of square brackets [ ] with a special meaning."
   ]
  },
  {
   "cell_type": "code",
   "execution_count": 23,
   "metadata": {
    "colab": {
     "base_uri": "https://localhost:8080/",
     "height": 54
    },
    "colab_type": "code",
    "id": "qvUXj2t6EgqK",
    "outputId": "cf487ee4-c408-4c6b-9f36-e881fad60f5b"
   },
   "outputs": [
    {
     "name": "stdout",
     "output_type": "stream",
     "text": [
      "Result 1: ['u', 'G', 'u', 'u', 'o', 'o', 'o']\n",
      "Result 2: ['D', 'G', 'D', 'T', 'U']\n"
     ]
    }
   ],
   "source": [
    "string = r'Dhruv Gupta is studying from Delhi Technological University!'\n",
    "\n",
    "# Check for the characters u, G, or o, in the above string\n",
    "result_1 = re.findall('[uGo]', string)\n",
    "\n",
    "# Check for the characters between A and Z, in the above string\n",
    "result_2 = re.findall('[A-Z]', string)\n",
    "\n",
    "print('Result 1:', result_1)\n",
    "print('Result 2:', result_2)"
   ]
  },
  {
   "cell_type": "code",
   "execution_count": 24,
   "metadata": {},
   "outputs": [
    {
     "name": "stdout",
     "output_type": "stream",
     "text": [
      "['2019', '23']\n"
     ]
    }
   ],
   "source": [
    "string = r'Dhruv Gupta is studying from Delhi Technological University since 2019. He is 23 years old now and doing a job!'\n",
    "\n",
    "# Extract the numbers starting with 0 to 4 from in the above string\n",
    "result = re.findall(r'\\b[0-4]\\d+', string)\n",
    "\n",
    "print(result)"
   ]
  },
  {
   "cell_type": "markdown",
   "metadata": {
    "colab_type": "text",
    "id": "F9fLACdByqG4"
   },
   "source": [
    "**[^]:** Checks whether string has other characters mentioned after ^."
   ]
  },
  {
   "cell_type": "code",
   "execution_count": 26,
   "metadata": {
    "colab": {
     "base_uri": "https://localhost:8080/",
     "height": 72
    },
    "colab_type": "code",
    "id": "E-RchTxCFB9Z",
    "outputId": "9331baa0-3c0a-41fb-a2a6-92dc5128c080"
   },
   "outputs": [
    {
     "name": "stdout",
     "output_type": "stream",
     "text": [
      "['D', 'h', 'r', 'v', ' ', 'p', 't', 'a', ' ', 'i', 's', ' ', 's', 't', 'd', 'y', 'i', 'n', 'g', ' ', 'f', 'r', 'm', ' ', 'D', 'e', 'l', 'h', 'i', ' ', 'T', 'e', 'c', 'h', 'n', 'l', 'g', 'i', 'c', 'a', 'l', ' ', 'U', 'n', 'i', 'v', 'e', 'r', 's', 'i', 't', 'y', '!']\n"
     ]
    }
   ],
   "source": [
    "string = r'Dhruv Gupta is studying from Delhi Technological University!'\n",
    "\n",
    "# Check if every word character has characters than y, d, or h\n",
    "result = re.findall('[^uGo]', string)\n",
    "\n",
    "print(result)"
   ]
  },
  {
   "cell_type": "markdown",
   "metadata": {
    "colab_type": "text",
    "id": "fNBEj1LcynpI"
   },
   "source": [
    "**[a-zA-Z0-9]:** Checks whether string has alphanumeric characters"
   ]
  },
  {
   "cell_type": "code",
   "execution_count": 27,
   "metadata": {
    "colab": {
     "base_uri": "https://localhost:8080/",
     "height": 54
    },
    "colab_type": "code",
    "id": "me1WBtD3FCAm",
    "outputId": "e16b2890-2872-4c99-8814-886d78c31b10"
   },
   "outputs": [
    {
     "name": "stdout",
     "output_type": "stream",
     "text": [
      "['!Dhruv', '@Delhi', '&Technological', '#University']\n"
     ]
    }
   ],
   "source": [
    "string = r'!!Dhruv Gupta is studying from @Delhi &&Technological %#University!'\n",
    "\n",
    "# Extract words that start with a special character\n",
    "result = re.findall(\"[^a-zA-Z0-9 ]\\w+\", string)\n",
    "\n",
    "print(result)"
   ]
  },
  {
   "cell_type": "markdown",
   "metadata": {
    "colab_type": "text",
    "id": "58EH37MJ3b2t"
   },
   "source": [
    "### Extracting Email IDs\n",
    "\n"
   ]
  },
  {
   "cell_type": "code",
   "execution_count": 30,
   "metadata": {
    "colab": {
     "base_uri": "https://localhost:8080/",
     "height": 34
    },
    "colab_type": "code",
    "id": "lWfrRxAD177J",
    "outputId": "198f03cc-f1a5-4df2-c144-48c2dd9bcdb5"
   },
   "outputs": [
    {
     "name": "stdout",
     "output_type": "stream",
     "text": [
      "['dhruvg029@gmail.com', 'dhruvgupta948@gmail.com']\n"
     ]
    }
   ],
   "source": [
    "string = 'Send a mail to dhruvg029@gmail.com with dhruvgupta948@gmail.com as cc.'\n",
    "  \n",
    "# \\w matches any alpha numeric character, + for repeats a character one or more times\n",
    "# [a-zA-Z0-9._-] is for selecting any character before @\n",
    "result = re.findall('[a-zA-Z0-9._-]+@\\w+\\.com', string)     \n",
    "\n",
    "print(result) "
   ]
  },
  {
   "cell_type": "markdown",
   "metadata": {
    "colab_type": "text",
    "id": "7ay1r2VtudqM"
   },
   "source": [
    "### Extracting Dates"
   ]
  },
  {
   "cell_type": "code",
   "execution_count": 33,
   "metadata": {
    "colab": {
     "base_uri": "https://localhost:8080/",
     "height": 34
    },
    "colab_type": "code",
    "id": "9OQgTr944Cb1",
    "outputId": "3d77fb7c-ac08-4d71-adbf-52cfe1c76f1e"
   },
   "outputs": [
    {
     "name": "stdout",
     "output_type": "stream",
     "text": [
      "['09-07-2024', '06-07-2001']\n"
     ]
    }
   ],
   "source": [
    "string = 'Today is 09-07-2024 and I was born on 06-07-2001. So that is a huge difference.'\n",
    "\n",
    "# '\\d{4}' repeats '\\d' 4 times\n",
    "result = re.findall('\\d{2}.\\d{2}.\\d{4}', string)\n",
    "\n",
    "print(result)"
   ]
  },
  {
   "cell_type": "code",
   "execution_count": 34,
   "metadata": {
    "colab": {
     "base_uri": "https://localhost:8080/",
     "height": 34
    },
    "colab_type": "code",
    "id": "HF81uLVQ7FgR",
    "outputId": "ab7d0053-936c-447a-d193-09ba084d360b"
   },
   "outputs": [
    {
     "name": "stdout",
     "output_type": "stream",
     "text": [
      "['09 July 2024', '06 July 2001']\n"
     ]
    }
   ],
   "source": [
    "string = 'Today is 09 July 2024 and I was born on 06 July 2001. So that is a huge difference.'\n",
    "\n",
    "# '\\w{4} means '\\w' repeating 4 times\n",
    "result = re.findall('\\d{2}.\\w{4}.\\d{4}', string)\n",
    "\n",
    "print(result)"
   ]
  },
  {
   "cell_type": "code",
   "execution_count": 35,
   "metadata": {
    "colab": {
     "base_uri": "https://localhost:8080/",
     "height": 34
    },
    "colab_type": "code",
    "id": "8Z8akvWP7FZg",
    "outputId": "741ffecd-b2a0-431b-9a2d-b6a76e8a1f82"
   },
   "outputs": [
    {
     "name": "stdout",
     "output_type": "stream",
     "text": [
      "['26 July 2024', '11 August 2024']\n"
     ]
    }
   ],
   "source": [
    "# Extract dates with varying lengths\n",
    "string = 'Paris Olympics will happen from 26 July 2024 to 11 August 2024.'\n",
    "\n",
    "# '\\w {3,10}' repeats '\\w' 3 to 10 times\n",
    "result = re.findall('\\d{2}.\\w{3,10}.\\d{4}', string)\n",
    "\n",
    "print(result)"
   ]
  },
  {
   "cell_type": "markdown",
   "metadata": {
    "colab_type": "text",
    "id": "iEL6f3Sh43ES"
   },
   "source": [
    "## Example of Regex in a real world dataset"
   ]
  },
  {
   "cell_type": "code",
   "execution_count": 36,
   "metadata": {
    "colab": {},
    "colab_type": "code",
    "id": "aGBisMqj17-u"
   },
   "outputs": [
    {
     "data": {
      "text/html": [
       "<div>\n",
       "<style scoped>\n",
       "    .dataframe tbody tr th:only-of-type {\n",
       "        vertical-align: middle;\n",
       "    }\n",
       "\n",
       "    .dataframe tbody tr th {\n",
       "        vertical-align: top;\n",
       "    }\n",
       "\n",
       "    .dataframe thead th {\n",
       "        text-align: right;\n",
       "    }\n",
       "</style>\n",
       "<table border=\"1\" class=\"dataframe\">\n",
       "  <thead>\n",
       "    <tr style=\"text-align: right;\">\n",
       "      <th></th>\n",
       "      <th>PassengerId</th>\n",
       "      <th>Survived</th>\n",
       "      <th>Pclass</th>\n",
       "      <th>Name</th>\n",
       "      <th>Sex</th>\n",
       "      <th>Age</th>\n",
       "      <th>SibSp</th>\n",
       "      <th>Parch</th>\n",
       "      <th>Ticket</th>\n",
       "      <th>Fare</th>\n",
       "      <th>Cabin</th>\n",
       "      <th>Embarked</th>\n",
       "    </tr>\n",
       "  </thead>\n",
       "  <tbody>\n",
       "    <tr>\n",
       "      <th>0</th>\n",
       "      <td>1</td>\n",
       "      <td>0</td>\n",
       "      <td>3</td>\n",
       "      <td>Braund, Mr. Owen Harris</td>\n",
       "      <td>male</td>\n",
       "      <td>22.0</td>\n",
       "      <td>1</td>\n",
       "      <td>0</td>\n",
       "      <td>A/5 21171</td>\n",
       "      <td>7.2500</td>\n",
       "      <td>NaN</td>\n",
       "      <td>S</td>\n",
       "    </tr>\n",
       "    <tr>\n",
       "      <th>1</th>\n",
       "      <td>2</td>\n",
       "      <td>1</td>\n",
       "      <td>1</td>\n",
       "      <td>Cumings, Mrs. John Bradley (Florence Briggs Th...</td>\n",
       "      <td>female</td>\n",
       "      <td>38.0</td>\n",
       "      <td>1</td>\n",
       "      <td>0</td>\n",
       "      <td>PC 17599</td>\n",
       "      <td>71.2833</td>\n",
       "      <td>C85</td>\n",
       "      <td>C</td>\n",
       "    </tr>\n",
       "    <tr>\n",
       "      <th>2</th>\n",
       "      <td>3</td>\n",
       "      <td>1</td>\n",
       "      <td>3</td>\n",
       "      <td>Heikkinen, Miss. Laina</td>\n",
       "      <td>female</td>\n",
       "      <td>26.0</td>\n",
       "      <td>0</td>\n",
       "      <td>0</td>\n",
       "      <td>STON/O2. 3101282</td>\n",
       "      <td>7.9250</td>\n",
       "      <td>NaN</td>\n",
       "      <td>S</td>\n",
       "    </tr>\n",
       "    <tr>\n",
       "      <th>3</th>\n",
       "      <td>4</td>\n",
       "      <td>1</td>\n",
       "      <td>1</td>\n",
       "      <td>Futrelle, Mrs. Jacques Heath (Lily May Peel)</td>\n",
       "      <td>female</td>\n",
       "      <td>35.0</td>\n",
       "      <td>1</td>\n",
       "      <td>0</td>\n",
       "      <td>113803</td>\n",
       "      <td>53.1000</td>\n",
       "      <td>C123</td>\n",
       "      <td>S</td>\n",
       "    </tr>\n",
       "    <tr>\n",
       "      <th>4</th>\n",
       "      <td>5</td>\n",
       "      <td>0</td>\n",
       "      <td>3</td>\n",
       "      <td>Allen, Mr. William Henry</td>\n",
       "      <td>male</td>\n",
       "      <td>35.0</td>\n",
       "      <td>0</td>\n",
       "      <td>0</td>\n",
       "      <td>373450</td>\n",
       "      <td>8.0500</td>\n",
       "      <td>NaN</td>\n",
       "      <td>S</td>\n",
       "    </tr>\n",
       "  </tbody>\n",
       "</table>\n",
       "</div>"
      ],
      "text/plain": [
       "   PassengerId  Survived  Pclass  \\\n",
       "0            1         0       3   \n",
       "1            2         1       1   \n",
       "2            3         1       3   \n",
       "3            4         1       1   \n",
       "4            5         0       3   \n",
       "\n",
       "                                                Name     Sex   Age  SibSp  \\\n",
       "0                            Braund, Mr. Owen Harris    male  22.0      1   \n",
       "1  Cumings, Mrs. John Bradley (Florence Briggs Th...  female  38.0      1   \n",
       "2                             Heikkinen, Miss. Laina  female  26.0      0   \n",
       "3       Futrelle, Mrs. Jacques Heath (Lily May Peel)  female  35.0      1   \n",
       "4                           Allen, Mr. William Henry    male  35.0      0   \n",
       "\n",
       "   Parch            Ticket     Fare Cabin Embarked  \n",
       "0      0         A/5 21171   7.2500   NaN        S  \n",
       "1      0          PC 17599  71.2833   C85        C  \n",
       "2      0  STON/O2. 3101282   7.9250   NaN        S  \n",
       "3      0            113803  53.1000  C123        S  \n",
       "4      0            373450   8.0500   NaN        S  "
      ]
     },
     "execution_count": 36,
     "metadata": {},
     "output_type": "execute_result"
    }
   ],
   "source": [
    "# load dataset\n",
    "data = pd.read_csv('datasets/titanic.csv')\n",
    "\n",
    "# Check the data\n",
    "data.head()"
   ]
  },
  {
   "cell_type": "code",
   "execution_count": 37,
   "metadata": {
    "colab": {
     "base_uri": "https://localhost:8080/",
     "height": 217
    },
    "colab_type": "code",
    "id": "dOGNZ1ZZsblF",
    "outputId": "6e4ddf6a-0a90-4c6a-a151-819c3aec5c95"
   },
   "outputs": [
    {
     "data": {
      "text/plain": [
       "0                              Braund, Mr. Owen Harris\n",
       "1    Cumings, Mrs. John Bradley (Florence Briggs Th...\n",
       "2                               Heikkinen, Miss. Laina\n",
       "3         Futrelle, Mrs. Jacques Heath (Lily May Peel)\n",
       "4                             Allen, Mr. William Henry\n",
       "Name: Name, dtype: object"
      ]
     },
     "execution_count": 37,
     "metadata": {},
     "output_type": "execute_result"
    }
   ],
   "source": [
    "# Print a few passenger names\n",
    "data['Name'].head()"
   ]
  },
  {
   "cell_type": "markdown",
   "metadata": {
    "colab_type": "text",
    "id": "JnKqBitc4-lY"
   },
   "source": [
    "### Extract the title from the names \n",
    "\n",
    "#### Method 1: Use split on the pandas dataframe and extract the title"
   ]
  },
  {
   "cell_type": "code",
   "execution_count": 38,
   "metadata": {},
   "outputs": [
    {
     "name": "stdout",
     "output_type": "stream",
     "text": [
      "['Allen, Mr', ' William Henry']\n"
     ]
    }
   ],
   "source": [
    "name = 'Allen, Mr. William Henry'\n",
    "split_name = name.split('.')\n",
    "\n",
    "print(split_name)"
   ]
  },
  {
   "cell_type": "code",
   "execution_count": 39,
   "metadata": {},
   "outputs": [
    {
     "name": "stdout",
     "output_type": "stream",
     "text": [
      "['Allen', ' Mr']\n"
     ]
    }
   ],
   "source": [
    "# Split the first value with ','\n",
    "print(split_name[0].split(','))"
   ]
  },
  {
   "cell_type": "code",
   "execution_count": 43,
   "metadata": {
    "colab": {
     "base_uri": "https://localhost:8080/",
     "height": 345
    },
    "colab_type": "code",
    "id": "1mwxei9VEgwY",
    "outputId": "7255baab-b3dc-4e62-cef2-542e7067afa3"
   },
   "outputs": [
    {
     "data": {
      "text/plain": [
       "0       Mr\n",
       "1      Mrs\n",
       "2     Miss\n",
       "3      Mrs\n",
       "4       Mr\n",
       "Name: Name, dtype: object"
      ]
     },
     "execution_count": 43,
     "metadata": {},
     "output_type": "execute_result"
    }
   ],
   "source": [
    "# Applying the method\n",
    "titles = data['Name'].apply(lambda x: x.split('.')[0].split(',')[1])\n",
    "\n",
    "# Check the data\n",
    "titles.head()"
   ]
  },
  {
   "cell_type": "markdown",
   "metadata": {},
   "source": [
    "#### Method 2: Use Regex to extract titles"
   ]
  },
  {
   "cell_type": "code",
   "execution_count": 46,
   "metadata": {
    "colab": {},
    "colab_type": "code",
    "id": "WZdKNY7NyaiF"
   },
   "outputs": [
    {
     "data": {
      "text/plain": [
       "0      Mr.\n",
       "1     Mrs.\n",
       "2    Miss.\n",
       "3     Mrs.\n",
       "4      Mr.\n",
       "Name: Name, dtype: object"
      ]
     },
     "execution_count": 46,
     "metadata": {},
     "output_type": "execute_result"
    }
   ],
   "source": [
    "def title(name):\n",
    "    # Title is followed by '.' since we are searching for a pattern that includes '.'\n",
    "    return re.findall('\\w+\\.', name)[0]\n",
    "\n",
    "titles = data['Name'].apply(lambda x: title(x))\n",
    "titles.head()"
   ]
  }
 ],
 "metadata": {
  "colab": {
   "collapsed_sections": [],
   "name": "Learn to use Regular Expressions.ipynb",
   "provenance": [],
   "version": "0.3.2"
  },
  "kernelspec": {
   "display_name": "Python 3 (ipykernel)",
   "language": "python",
   "name": "python3"
  },
  "language_info": {
   "codemirror_mode": {
    "name": "ipython",
    "version": 3
   },
   "file_extension": ".py",
   "mimetype": "text/x-python",
   "name": "python",
   "nbconvert_exporter": "python",
   "pygments_lexer": "ipython3",
   "version": "3.12.1"
  }
 },
 "nbformat": 4,
 "nbformat_minor": 4
}
